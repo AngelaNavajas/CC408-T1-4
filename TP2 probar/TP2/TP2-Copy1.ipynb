{
 "cells": [
  {
   "cell_type": "markdown",
   "metadata": {},
   "source": [
    "# Ciencia de datos (CC408) - Primavera 2024\n",
    "\n",
    "## Trabajo Práctico 1 - Parte 2"
   ]
  },
  {
   "cell_type": "markdown",
   "metadata": {},
   "source": [
    "### Reglas de formato y presentation\n",
    "- El trabajo debe tener una extensión máxima de 8 páginas (no se permite Apéndice). Se espera una buena redacción en la resolución del práctico.\n",
    "- El informe debe ser entregado en formato PDF, con los gráficos e imágenes en este mismo archivo.\n",
    "- Entregar el código con los comandos utilizados, identificando claramente a qué inciso corresponde cada comando."
   ]
  },
  {
   "cell_type": "markdown",
   "metadata": {
    "id": "ZEjGaa4U-c9g"
   },
   "source": [
    "### Fecha de entrega:\n",
    "Miércoles 2 de octubre a las 23:59 hs."
   ]
  },
  {
   "cell_type": "markdown",
   "metadata": {
    "id": "N9TU2y7E-c9h"
   },
   "source": [
    "### Modalidad de entrega\n",
    "- Al finalizar el trabajo práctico deben hacer un último <i>commit</i> en su repositorio de GitHub llamado “Entrega final del tp”. \n",
    "- Asegurense de haber creado una carpeta llamada TP1. Este Jupyter Notebook y el correspondiente al TP1 - Parte 2 deben estar dentro de esa carpeta.\n",
    "- También deben enviar el link de su repositorio -para que pueda ser clonado y corregido- al siguiente email: ispiousas@udesa.edu.ar\n",
    "- La última versión en el repositorio es la que será evaluada. Por lo que es importante que: \n",
    "    - No envien el correo hasta no haber terminado y estar seguros de que han hecho el <i>commit y push</i> a la versión final que quieren entregar. Debido a que se pueden tomar hasta 3 días de extensión a lo largo del curso, no se corregirán sus tareas hasta no recibir el correo.\n",
    "    - No hagan nuevos <i>push</i> despues de haber entregado su versión final. Esto generaría confusión acerca de que versión es la que quieren que se les corrija. "
   ]
  },
  {
   "cell_type": "markdown",
   "metadata": {},
   "source": [
    "### Parte I: Limpieza de la base"
   ]
  },
  {
   "cell_type": "markdown",
   "metadata": {
    "id": "ZXbrPraa-c9i"
   },
   "source": [
    "#### Ejercicio 1\n",
    "La base de datos provista contiene información sobre oferentes de Airbnb en la ciudad de Nueva York. Realicen una limpieza de la base.\n",
    "- Tengan en cuenta si hay valores duplicados y eliminénlos.\n",
    "- Eliminen las columnas que no tienen información de interés.\n",
    "- (Opcional) Luego de leer el artículo __[Missing-data imputation](https://bookdown.org/mike/data_analysis/imputation-missing-data.html##imputation-missing-data)__ (__[Missing-data imputation articulo alternativo](http://www.stat.columbia.edu/~gelman/arm/missing.pdf)__), decidan qué hacer con los missing values e implementen su decision. Justifiquen su eleccion. Pueden usar informacion del paper mencionado o de otras fuentes (citenlas si las usan) para explicar los problemas que pueden surgir por su estrategia elegida.\n",
    "- Si hay observaciones con *outliers* o valores que no tienen sentido, tomen una decision. Expliquen las decisiones tomadas.\n",
    "- Transformen las variables **‘neighbourhood_group’** y **‘room_type’** a variables numericas.\n",
    "- Con la ayuda de los comandos <code>groupby</code> y <code>join</code> o <code>merge</code>, creen una columna que tenga la cantidad de oferentes por “Neighbourhood group”. Llamen a esa nueva columna <code>offer group</code>"
   ]
  },
  {
   "cell_type": "code",
   "execution_count": 1,
   "metadata": {},
   "outputs": [],
   "source": [
    "# Resolver acá\n",
    "import pandas as pd\n",
    "import matplotlib.pyplot as plt\n",
    "from sklearn.linear_model import LinearRegression"
   ]
  },
  {
   "cell_type": "code",
   "execution_count": 2,
   "metadata": {
    "collapsed": true,
    "jupyter": {
     "outputs_hidden": true
    },
    "scrolled": true
   },
   "outputs": [
    {
     "name": "stdout",
     "output_type": "stream",
     "text": [
      "             id                                               name   host_id  \\\n",
      "0          2539                 Clean & quiet apt home by the park      2787   \n",
      "1          2595                              Skylit Midtown Castle      2845   \n",
      "2          3647                THE VILLAGE OF HARLEM....NEW YORK !      4632   \n",
      "3          3831                    Cozy Entire Floor of Brownstone      4869   \n",
      "4          5022   Entire Apt: Spacious Studio/Loft by central park      7192   \n",
      "...         ...                                                ...       ...   \n",
      "48900  19454344  Perfect ap in Manhattan! Walking to Central Park!  11670284   \n",
      "48901  36224876                   Upper East Side Apt By The Water  46232598   \n",
      "48902  21869051                        Comfy Apt in NYC Brownstone  97243693   \n",
      "48903   3004563                                           The spot  15303460   \n",
      "48904  19712687               Sunny, spacious, homey Brooklyn loft  11989253   \n",
      "\n",
      "         host_name neighbourhood_group              neighbourhood  latitude  \\\n",
      "0             John            Brooklyn                 Kensington  40.64749   \n",
      "1         Jennifer           Manhattan                    Midtown  40.75362   \n",
      "2        Elisabeth           Manhattan                     Harlem  40.80902   \n",
      "3      LisaRoxanne            Brooklyn               Clinton Hill  40.68514   \n",
      "4            Laura           Manhattan                East Harlem  40.79851   \n",
      "...            ...                 ...                        ...       ...   \n",
      "48900          Val           Manhattan            Upper East Side  40.76811   \n",
      "48901      Caitlin           Manhattan            Upper East Side  40.77001   \n",
      "48902        Joyce           Manhattan                Murray Hill  40.74812   \n",
      "48903         Emma            Brooklyn  Prospect-Lefferts Gardens  40.65595   \n",
      "48904         Hiji            Brooklyn                   Bushwick  40.70113   \n",
      "\n",
      "       longitude        room_type  price  minimum_nights  number_of_reviews  \\\n",
      "0      -73.97237     Private room  149.0               1                  9   \n",
      "1      -73.98377  Entire home/apt  225.0               1                 45   \n",
      "2      -73.94190     Private room  150.0               3                  0   \n",
      "3      -73.95976  Entire home/apt   89.0               1                270   \n",
      "4      -73.94399  Entire home/apt   80.0              10                  9   \n",
      "...          ...              ...    ...             ...                ...   \n",
      "48900  -73.95194  Entire home/apt  150.0               3                 10   \n",
      "48901  -73.94915  Entire home/apt  150.0               1                  1   \n",
      "48902  -73.97663  Entire home/apt  150.0               3                 57   \n",
      "48903  -73.95412     Private room   50.0               7                  1   \n",
      "48904  -73.92299     Private room   60.0               3                  0   \n",
      "\n",
      "      last_review  reviews_per_month  calculated_host_listings_count  \\\n",
      "0      2018-10-19               0.21                               6   \n",
      "1      2019-05-21               0.38                               2   \n",
      "2             NaN                NaN                               1   \n",
      "3      2019-07-05               4.64                               1   \n",
      "4      2018-11-19               0.10                               1   \n",
      "...           ...                ...                             ...   \n",
      "48900  2019-05-02               0.54                               2   \n",
      "48901  2019-07-01               1.00                               1   \n",
      "48902  2019-07-01               3.07                               2   \n",
      "48903  2019-06-08               0.94                               1   \n",
      "48904         NaN                NaN                               1   \n",
      "\n",
      "       availability_365  \n",
      "0                   365  \n",
      "1                   355  \n",
      "2                   365  \n",
      "3                   194  \n",
      "4                     0  \n",
      "...                 ...  \n",
      "48900                89  \n",
      "48901               130  \n",
      "48902                49  \n",
      "48903               125  \n",
      "48904                 0  \n",
      "\n",
      "[48905 rows x 16 columns]\n"
     ]
    }
   ],
   "source": [
    "# base tizi\n",
    "primera_base_airbnb = pd.read_csv(r\"C:\\Users\\tizip\\OneDrive\\Documentos\\Tizi UdeSA\\8- Ciencia de datos\\CC408-T1-4\\TP2 probar\\TP2\\Base Airbnb NY.csv\")\n",
    "\n",
    "# base angie\n",
    "# primera_base_airbnb = pd.read_csv(r'/Users/angelanavajas/Desktop/Ciencia de datos/TP1/CC408-T1-4/TP2 probar/TP2/Base Airbnb NY.csv')\n",
    "\n",
    "print(primera_base_airbnb)"
   ]
  },
  {
   "cell_type": "code",
   "execution_count": 3,
   "metadata": {
    "collapsed": true,
    "jupyter": {
     "outputs_hidden": true
    },
    "scrolled": true
   },
   "outputs": [
    {
     "name": "stdout",
     "output_type": "stream",
     "text": [
      "             id                                              name    host_id  \\\n",
      "0          2539                Clean & quiet apt home by the park       2787   \n",
      "1          2595                             Skylit Midtown Castle       2845   \n",
      "3          3831                   Cozy Entire Floor of Brownstone       4869   \n",
      "4          5022  Entire Apt: Spacious Studio/Loft by central park       7192   \n",
      "5          5099         Large Cozy 1 BR Apartment In Midtown East       7322   \n",
      "...         ...                                               ...        ...   \n",
      "48782  36425863        Lovely Privet Bedroom with Privet Restroom   83554966   \n",
      "48790  36427429                          No.2 with queen size bed  257683179   \n",
      "48799  36438336                                   Seas The Moment  211644523   \n",
      "48805  36442252                     1B-1B apartment near by Metro  273841667   \n",
      "48852  36455809           Cozy Private Room in Bushwick, Brooklyn   74162901   \n",
      "\n",
      "         host_name neighbourhood_group    neighbourhood  latitude  longitude  \\\n",
      "0             John            Brooklyn       Kensington  40.64749  -73.97237   \n",
      "1         Jennifer           Manhattan          Midtown  40.75362  -73.98377   \n",
      "3      LisaRoxanne            Brooklyn     Clinton Hill  40.68514  -73.95976   \n",
      "4            Laura           Manhattan      East Harlem  40.79851  -73.94399   \n",
      "5            Chris           Manhattan      Murray Hill  40.74767  -73.97500   \n",
      "...            ...                 ...              ...       ...        ...   \n",
      "48782        Rusaa           Manhattan  Upper East Side  40.78099  -73.95366   \n",
      "48790         H Ai              Queens         Flushing  40.75104  -73.81459   \n",
      "48799          Ben       Staten Island      Great Kills  40.54179  -74.14275   \n",
      "48805       Blaine               Bronx       Mott Haven  40.80787  -73.92400   \n",
      "48852    Christine            Brooklyn         Bushwick  40.69805  -73.92801   \n",
      "\n",
      "             room_type  price  minimum_nights  number_of_reviews last_review  \\\n",
      "0         Private room  149.0               1                  9  2018-10-19   \n",
      "1      Entire home/apt  225.0               1                 45  2019-05-21   \n",
      "3      Entire home/apt   89.0               1                270  2019-07-05   \n",
      "4      Entire home/apt   80.0              10                  9  2018-11-19   \n",
      "5      Entire home/apt  200.0               3                 74  2019-06-22   \n",
      "...                ...    ...             ...                ...         ...   \n",
      "48782     Private room  129.0               1                  1  2019-07-07   \n",
      "48790     Private room   45.0               1                  1  2019-07-07   \n",
      "48799     Private room  235.0               1                  1  2019-07-07   \n",
      "48805  Entire home/apt  100.0               1                  2  2019-07-07   \n",
      "48852     Private room   30.0               1                  1  2019-07-08   \n",
      "\n",
      "       reviews_per_month  calculated_host_listings_count  availability_365  \n",
      "0                   0.21                               6               365  \n",
      "1                   0.38                               2               355  \n",
      "3                   4.64                               1               194  \n",
      "4                   0.10                               1                 0  \n",
      "5                   0.59                               1               129  \n",
      "...                  ...                             ...               ...  \n",
      "48782               1.00                               1               147  \n",
      "48790               1.00                               6               339  \n",
      "48799               1.00                               1                87  \n",
      "48805               2.00                               1                40  \n",
      "48852               1.00                               1                 1  \n",
      "\n",
      "[38809 rows x 16 columns]\n"
     ]
    }
   ],
   "source": [
    "#elimino datos \n",
    "base_airbnb_completa = primera_base_airbnb.dropna()\n",
    "\n",
    "#elimino datos duplicados\n",
    "base_airbnb_limpia = base_airbnb_completa.drop_duplicates()\n",
    "print(base_airbnb_limpia)"
   ]
  },
  {
   "cell_type": "code",
   "execution_count": 4,
   "metadata": {
    "collapsed": true,
    "jupyter": {
     "outputs_hidden": true
    },
    "scrolled": true
   },
   "outputs": [
    {
     "name": "stdout",
     "output_type": "stream",
     "text": [
      "      neighbourhood_group    neighbourhood  latitude  longitude  \\\n",
      "0                Brooklyn       Kensington  40.64749  -73.97237   \n",
      "1               Manhattan          Midtown  40.75362  -73.98377   \n",
      "3                Brooklyn     Clinton Hill  40.68514  -73.95976   \n",
      "4               Manhattan      East Harlem  40.79851  -73.94399   \n",
      "5               Manhattan      Murray Hill  40.74767  -73.97500   \n",
      "...                   ...              ...       ...        ...   \n",
      "48782           Manhattan  Upper East Side  40.78099  -73.95366   \n",
      "48790              Queens         Flushing  40.75104  -73.81459   \n",
      "48799       Staten Island      Great Kills  40.54179  -74.14275   \n",
      "48805               Bronx       Mott Haven  40.80787  -73.92400   \n",
      "48852            Brooklyn         Bushwick  40.69805  -73.92801   \n",
      "\n",
      "             room_type  price  minimum_nights  number_of_reviews last_review  \\\n",
      "0         Private room  149.0               1                  9  2018-10-19   \n",
      "1      Entire home/apt  225.0               1                 45  2019-05-21   \n",
      "3      Entire home/apt   89.0               1                270  2019-07-05   \n",
      "4      Entire home/apt   80.0              10                  9  2018-11-19   \n",
      "5      Entire home/apt  200.0               3                 74  2019-06-22   \n",
      "...                ...    ...             ...                ...         ...   \n",
      "48782     Private room  129.0               1                  1  2019-07-07   \n",
      "48790     Private room   45.0               1                  1  2019-07-07   \n",
      "48799     Private room  235.0               1                  1  2019-07-07   \n",
      "48805  Entire home/apt  100.0               1                  2  2019-07-07   \n",
      "48852     Private room   30.0               1                  1  2019-07-08   \n",
      "\n",
      "       reviews_per_month  calculated_host_listings_count  availability_365  \n",
      "0                   0.21                               6               365  \n",
      "1                   0.38                               2               355  \n",
      "3                   4.64                               1               194  \n",
      "4                   0.10                               1                 0  \n",
      "5                   0.59                               1               129  \n",
      "...                  ...                             ...               ...  \n",
      "48782               1.00                               1               147  \n",
      "48790               1.00                               6               339  \n",
      "48799               1.00                               1                87  \n",
      "48805               2.00                               1                40  \n",
      "48852               1.00                               1                 1  \n",
      "\n",
      "[38809 rows x 12 columns]\n"
     ]
    }
   ],
   "source": [
    "#Elimino columnas que no nos interesan\n",
    "# Los nombres del host ni del lugar, como los id, no nos interesan ya que no nos son relevantes a la hora de hacer predicciones \n",
    "base_airbnb_columnas = base_airbnb_limpia.drop(columns=['id','name','host_name','host_id'])\n",
    "print(base_airbnb_columnas)"
   ]
  },
  {
   "cell_type": "code",
   "execution_count": 5,
   "metadata": {},
   "outputs": [],
   "source": [
    "# la opcional"
   ]
  },
  {
   "cell_type": "code",
   "execution_count": 6,
   "metadata": {
    "collapsed": true,
    "jupyter": {
     "outputs_hidden": true,
     "source_hidden": true
    },
    "scrolled": true
   },
   "outputs": [
    {
     "data": {
      "image/png": "[encoded data removed]",
      "text/plain": [
       "<Figure size 640x480 with 1 Axes>"
      ]
     },
     "metadata": {},
     "output_type": "display_data"
    }
   ],
   "source": [
    "#vemos la distribucion de los precios por barrio\n",
    "x = base_airbnb_columnas['neighbourhood_group']\n",
    "y = base_airbnb_columnas[\"price\"]\n",
    "plt.scatter (x, y)\n",
    "plt.title(\"Histograma de precio por barrios\") \n",
    "plt.xlabel (\"Barrio de NY\")\n",
    "plt.ylabel (\"Precio\")\n",
    "plt. show()"
   ]
  },
  {
   "cell_type": "code",
   "execution_count": 7,
   "metadata": {
    "collapsed": true,
    "jupyter": {
     "outputs_hidden": true
    },
    "scrolled": true
   },
   "outputs": [
    {
     "name": "stdout",
     "output_type": "stream",
     "text": [
      "      neighbourhood_group    neighbourhood  latitude  longitude  \\\n",
      "0                Brooklyn       Kensington  40.64749  -73.97237   \n",
      "1               Manhattan          Midtown  40.75362  -73.98377   \n",
      "2                Brooklyn     Clinton Hill  40.68514  -73.95976   \n",
      "3               Manhattan      East Harlem  40.79851  -73.94399   \n",
      "4               Manhattan      Murray Hill  40.74767  -73.97500   \n",
      "...                   ...              ...       ...        ...   \n",
      "38802           Manhattan  Lower East Side  40.71825  -73.99019   \n",
      "38804           Manhattan  Upper East Side  40.78099  -73.95366   \n",
      "38805              Queens         Flushing  40.75104  -73.81459   \n",
      "38807               Bronx       Mott Haven  40.80787  -73.92400   \n",
      "38808            Brooklyn         Bushwick  40.69805  -73.92801   \n",
      "\n",
      "             room_type  price  minimum_nights  number_of_reviews last_review  \\\n",
      "0         Private room  149.0               1                  9  2018-10-19   \n",
      "1      Entire home/apt  225.0               1                 45  2019-05-21   \n",
      "2      Entire home/apt   89.0               1                270  2019-07-05   \n",
      "3      Entire home/apt   80.0              10                  9  2018-11-19   \n",
      "4      Entire home/apt  200.0               3                 74  2019-06-22   \n",
      "...                ...    ...             ...                ...         ...   \n",
      "38802  Entire home/apt  150.0               4                  1  2019-07-06   \n",
      "38804     Private room  129.0               1                  1  2019-07-07   \n",
      "38805     Private room   45.0               1                  1  2019-07-07   \n",
      "38807  Entire home/apt  100.0               1                  2  2019-07-07   \n",
      "38808     Private room   30.0               1                  1  2019-07-08   \n",
      "\n",
      "       reviews_per_month  calculated_host_listings_count  availability_365  \\\n",
      "0                   0.21                               6               365   \n",
      "1                   0.38                               2               355   \n",
      "2                   4.64                               1               194   \n",
      "3                   0.10                               1                 0   \n",
      "4                   0.59                               1               129   \n",
      "...                  ...                             ...               ...   \n",
      "38802               1.00                               1                13   \n",
      "38804               1.00                               1               147   \n",
      "38805               1.00                               6               339   \n",
      "38807               2.00                               1                40   \n",
      "38808               1.00                               1                 1   \n",
      "\n",
      "       lower  upper  \n",
      "0      -75.0  285.0  \n",
      "1      -75.0  365.0  \n",
      "2      -75.0  285.0  \n",
      "3      -75.0  365.0  \n",
      "4      -75.0  365.0  \n",
      "...      ...    ...  \n",
      "38802  -75.0  365.0  \n",
      "38804  -75.0  365.0  \n",
      "38805  -38.5  197.5  \n",
      "38807  -30.0  170.0  \n",
      "38808  -75.0  285.0  \n",
      "\n",
      "[36571 rows x 14 columns]\n"
     ]
    }
   ],
   "source": [
    "# OUTLIERS DE PRECIO POR BARRIO\n",
    "\n",
    "# Outliers por quantiles ya que los datos no tienen una distribucion normal \n",
    "Q1 = base_airbnb_columnas.groupby('neighbourhood_group')['price'].quantile(0.25)\n",
    "Q3 = base_airbnb_columnas.groupby('neighbourhood_group')['price'].quantile(0.75)\n",
    "IQR = Q3 - Q1\n",
    "lower = Q1 - 1.5 * IQR\n",
    "upper = Q3 + 1.5 * IQR\n",
    "\n",
    "# Crear un DataFrame con los límites\n",
    "limits = pd.DataFrame({'lower': lower, 'upper': upper}).reset_index()\n",
    "# Unir los límites al DataFrame original\n",
    "base_airbnb_columnas = base_airbnb_columnas.merge(limits, on='neighbourhood_group')\n",
    "\n",
    "# LO QUE NO ME FUNCIONA\n",
    "base_airbnb_outliers = base_airbnb_columnas[\n",
    "    (base_airbnb_columnas['price'] >= base_airbnb_columnas['lower']) & \n",
    "    (base_airbnb_columnas['price'] <= base_airbnb_columnas['upper'])]\n",
    "\n",
    "print(base_airbnb_outliers)"
   ]
  },
  {
   "cell_type": "code",
   "execution_count": 8,
   "metadata": {
    "collapsed": true,
    "jupyter": {
     "outputs_hidden": true
    },
    "scrolled": true
   },
   "outputs": [
    {
     "name": "stdout",
     "output_type": "stream",
     "text": [
      "      neighbourhood_group    neighbourhood  latitude  longitude  \\\n",
      "0                Brooklyn       Kensington  40.64749  -73.97237   \n",
      "1               Manhattan          Midtown  40.75362  -73.98377   \n",
      "2                Brooklyn     Clinton Hill  40.68514  -73.95976   \n",
      "3               Manhattan      East Harlem  40.79851  -73.94399   \n",
      "4               Manhattan      Murray Hill  40.74767  -73.97500   \n",
      "...                   ...              ...       ...        ...   \n",
      "38802           Manhattan  Lower East Side  40.71825  -73.99019   \n",
      "38804           Manhattan  Upper East Side  40.78099  -73.95366   \n",
      "38805              Queens         Flushing  40.75104  -73.81459   \n",
      "38807               Bronx       Mott Haven  40.80787  -73.92400   \n",
      "38808            Brooklyn         Bushwick  40.69805  -73.92801   \n",
      "\n",
      "             room_type  price  minimum_nights  number_of_reviews last_review  \\\n",
      "0         Private room  149.0               1                  9  2018-10-19   \n",
      "1      Entire home/apt  225.0               1                 45  2019-05-21   \n",
      "2      Entire home/apt   89.0               1                270  2019-07-05   \n",
      "3      Entire home/apt   80.0              10                  9  2018-11-19   \n",
      "4      Entire home/apt  200.0               3                 74  2019-06-22   \n",
      "...                ...    ...             ...                ...         ...   \n",
      "38802  Entire home/apt  150.0               4                  1  2019-07-06   \n",
      "38804     Private room  129.0               1                  1  2019-07-07   \n",
      "38805     Private room   45.0               1                  1  2019-07-07   \n",
      "38807  Entire home/apt  100.0               1                  2  2019-07-07   \n",
      "38808     Private room   30.0               1                  1  2019-07-08   \n",
      "\n",
      "       reviews_per_month  ...  lower  upper  neighbourhood_group_Bronx  \\\n",
      "0                   0.21  ...  -75.0  285.0                          0   \n",
      "1                   0.38  ...  -75.0  365.0                          0   \n",
      "2                   4.64  ...  -75.0  285.0                          0   \n",
      "3                   0.10  ...  -75.0  365.0                          0   \n",
      "4                   0.59  ...  -75.0  365.0                          0   \n",
      "...                  ...  ...    ...    ...                        ...   \n",
      "38802               1.00  ...  -75.0  365.0                          0   \n",
      "38804               1.00  ...  -75.0  365.0                          0   \n",
      "38805               1.00  ...  -38.5  197.5                          0   \n",
      "38807               2.00  ...  -30.0  170.0                          1   \n",
      "38808               1.00  ...  -75.0  285.0                          0   \n",
      "\n",
      "       neighbourhood_group_Brooklyn neighbourhood_group_Manhattan  \\\n",
      "0                                 1                             0   \n",
      "1                                 0                             1   \n",
      "2                                 1                             0   \n",
      "3                                 0                             1   \n",
      "4                                 0                             1   \n",
      "...                             ...                           ...   \n",
      "38802                             0                             1   \n",
      "38804                             0                             1   \n",
      "38805                             0                             0   \n",
      "38807                             0                             0   \n",
      "38808                             1                             0   \n",
      "\n",
      "       neighbourhood_group_Queens  neighbourhood_group_Staten Island  \\\n",
      "0                               0                                  0   \n",
      "1                               0                                  0   \n",
      "2                               0                                  0   \n",
      "3                               0                                  0   \n",
      "4                               0                                  0   \n",
      "...                           ...                                ...   \n",
      "38802                           0                                  0   \n",
      "38804                           0                                  0   \n",
      "38805                           1                                  0   \n",
      "38807                           0                                  0   \n",
      "38808                           0                                  0   \n",
      "\n",
      "       room_type_Entire home/apt  room_type_Private room  \\\n",
      "0                              0                       1   \n",
      "1                              1                       0   \n",
      "2                              1                       0   \n",
      "3                              1                       0   \n",
      "4                              1                       0   \n",
      "...                          ...                     ...   \n",
      "38802                          1                       0   \n",
      "38804                          0                       1   \n",
      "38805                          0                       1   \n",
      "38807                          1                       0   \n",
      "38808                          0                       1   \n",
      "\n",
      "       room_type_Shared room  \n",
      "0                          0  \n",
      "1                          0  \n",
      "2                          0  \n",
      "3                          0  \n",
      "4                          0  \n",
      "...                      ...  \n",
      "38802                      0  \n",
      "38804                      0  \n",
      "38805                      0  \n",
      "38807                      0  \n",
      "38808                      0  \n",
      "\n",
      "[36571 rows x 34 columns]\n"
     ]
    }
   ],
   "source": [
    "# Para transformar las variables categoricas neighbourhood_group y room_type en variables numericas aplico One-Hot Encoding \n",
    "\n",
    "# separa las categorias de la variable en distintas columnas y le pone valor True si cumple la categoria o False si no\n",
    "dummies = pd.get_dummies(base_airbnb_outliers, columns = ['neighbourhood_group', 'room_type'], drop_first = False)\n",
    "# concateno las variables transformadas a la base limpia\n",
    "base_airbnb_transformadas = pd.concat([base_airbnb_outliers, dummies], axis = 1) \n",
    "\n",
    "# columnas a las que me interesa cambiarle los valores de True/False a 0 y 1\n",
    "columnas = [\n",
    "    'neighbourhood_group_Brooklyn', \n",
    "    'neighbourhood_group_Manhattan', \n",
    "    'neighbourhood_group_Queens', \n",
    "    'neighbourhood_group_Staten Island', \n",
    "    'neighbourhood_group_Bronx',\n",
    "    'room_type_Private room', \n",
    "    'room_type_Shared room',\n",
    "    'room_type_Entire home/apt']\n",
    "\n",
    "#le cambio el valor de True/False en 0 y 1\n",
    "for col in columnas:\n",
    "    if col in base_airbnb_transformadas.columns:\n",
    "        base_airbnb_transformadas[col] = base_airbnb_transformadas[col].astype(int)\n",
    "\n",
    "print(base_airbnb_transformadas)"
   ]
  },
  {
   "cell_type": "code",
   "execution_count": 9,
   "metadata": {
    "collapsed": true,
    "jupyter": {
     "outputs_hidden": true
    }
   },
   "outputs": [
    {
     "data": {
      "image/png": "[encoded data removed]",
      "text/plain": [
       "<Figure size 640x480 with 1 Axes>"
      ]
     },
     "metadata": {},
     "output_type": "display_data"
    }
   ],
   "source": [
    "x_2 = base_airbnb_outliers['neighbourhood_group']\n",
    "y_2 = base_airbnb_outliers[\"price\"]\n",
    "plt.scatter (x_2, y_2)\n",
    "plt.title(\"Histograma de precio por barrios\") \n",
    "plt.xlabel (\"Barrio de NY\")\n",
    "plt.ylabel (\"Precio\")\n",
    "plt. show()"
   ]
  },
  {
   "cell_type": "code",
   "execution_count": 10,
   "metadata": {},
   "outputs": [
    {
     "name": "stdout",
     "output_type": "stream",
     "text": [
      "Número de filas antes de eliminar outliers: 38809\n",
      "Número de filas después de eliminar outliers: 36571\n"
     ]
    }
   ],
   "source": [
    "print(f\"Número de filas antes de eliminar outliers: {base_airbnb_columnas.shape[0]}\")\n",
    "print(f\"Número de filas después de eliminar outliers: {base_airbnb_outliers.shape[0]}\")"
   ]
  },
  {
   "cell_type": "code",
   "execution_count": 12,
   "metadata": {},
   "outputs": [],
   "source": [
    "#Creo la nueva variable que cuenta la cantidiad de oferta por barrio\n",
    "oferta = base_airbnb_transformadas.groupby('neighbourhood_group').size().reset_index(name='offer group')\n",
    "base_airbnb = base_airbnb_transformadas.merge(oferta, on='neighbourhood_group', how='left')"
   ]
  },
  {
   "cell_type": "markdown",
   "metadata": {},
   "source": [
    "### Parte II: Graficos y visualizaciones"
   ]
  },
  {
   "cell_type": "markdown",
   "metadata": {},
   "source": []
  },
  {
   "cell_type": "markdown",
   "metadata": {},
   "source": [
    "#### Ejercicio 2\n",
    "Una vez hecha la limpieza, realicen una matriz de correlación con las siguientes variables:**‘neighbourhood group’, ‘latitude’, ‘longitude’, ‘room type’,‘price’, ‘minimum nights’, ‘number of reviews’, ‘reviews per month’,‘calculated host listings count’, ‘availability 365’.** Comenten los resultados. Utilicen alguno de los comandos disponibles en este link para graficar la matriz de correlacion.\n",
    "\n",
    "*Nota:* consideren cómo es conveniente incluir las variables que originalmente eran categóricas para poder interpretar mejor la matriz de correlación."
   ]
  },
  {
   "cell_type": "code",
   "execution_count": null,
   "metadata": {},
   "outputs": [],
   "source": [
    "# Resolver acá\n"
   ]
  },
  {
   "cell_type": "markdown",
   "metadata": {},
   "source": [
    "#### Ejercicio 3\n",
    "Respondan las siguientes preguntas: ¿Cuál es la proporción de oferentes por “Neighbourhood group”? ¿Y por tipo de habitación? Además, realicen gráficos para mostrar estas composiciones y comenten los resultados."
   ]
  },
  {
   "cell_type": "code",
   "execution_count": null,
   "metadata": {},
   "outputs": [],
   "source": [
    "# Resolver acá\n"
   ]
  },
  {
   "cell_type": "markdown",
   "metadata": {},
   "source": [
    "#### Ejercicio 4\n",
    "Realicen un histograma de los precios de los alojamientos. Comenten el gráfico obtenido. Además, respondan las siguientes preguntas: ¿cuál es el precio mínimo, máximo y promedio? ¿Cuál es la media de precio por “Neighbourhood group” y por tipo de habitación? "
   ]
  },
  {
   "cell_type": "code",
   "execution_count": null,
   "metadata": {},
   "outputs": [],
   "source": [
    "# Resolver acá\n"
   ]
  },
  {
   "cell_type": "markdown",
   "metadata": {},
   "source": [
    "#### Ejercicio 5\n",
    "Realicen dos scatter plots con dos variables de interés en cada uno. Comenten."
   ]
  },
  {
   "cell_type": "code",
   "execution_count": null,
   "metadata": {},
   "outputs": [],
   "source": [
    "# Resolver acá\n"
   ]
  },
  {
   "cell_type": "markdown",
   "metadata": {},
   "source": [
    "#### Ejercicio 6\n",
    "Utilicen el análisis de componentes principales para graficar las variables en dos dimensiones. Comenten los resultados obtenidos (qué porcentaje de la varianza se logra explicar con dos componentes, cómo son los *loadings*, si ven algún patrón en el gráfico)."
   ]
  },
  {
   "cell_type": "code",
   "execution_count": null,
   "metadata": {},
   "outputs": [],
   "source": [
    "# Resolver acá\n"
   ]
  },
  {
   "cell_type": "markdown",
   "metadata": {},
   "source": [
    "### Parte III: Predicción"
   ]
  },
  {
   "cell_type": "markdown",
   "metadata": {},
   "source": [
    "El objetivo de esta parte del trabajo es intentar predecir los precios de los alojamientos."
   ]
  },
  {
   "cell_type": "markdown",
   "metadata": {},
   "source": [
    "#### Ejercicio 7\n",
    "Eliminen de la base todas las variables relacionadas al precio"
   ]
  },
  {
   "cell_type": "code",
   "execution_count": null,
   "metadata": {},
   "outputs": [],
   "source": [
    "# Resolver acá\n"
   ]
  },
  {
   "cell_type": "markdown",
   "metadata": {},
   "source": [
    "#### Ejercicio 8\n",
    "Partan la base en una base de prueba (test) y una de entrenamiento (train) utilizando el comando <code>train_test_split</code>. La base de entrenamiento debe comprender el 70% de los datos, y la semilla a utilizar (*random state instance*) debe ser 201. Establezca a price como su variable dependiente en la base de entrenamiento (vector y). El resto de las variables ser´an las variables independientes (matriz X). Recuerden agregar la columna de unos (1)."
   ]
  },
  {
   "cell_type": "code",
   "execution_count": null,
   "metadata": {},
   "outputs": [],
   "source": [
    "# Resolver acá\n"
   ]
  },
  {
   "cell_type": "markdown",
   "metadata": {},
   "source": [
    "#### Ejercicio 9\n",
    "Implementen una regresión lineal y comenten los resultados obtenidos."
   ]
  },
  {
   "cell_type": "code",
   "execution_count": null,
   "metadata": {},
   "outputs": [],
   "source": [
    "# Resolver acá\n"
   ]
  }
 ],
 "metadata": {
  "anaconda-cloud": {},
  "colab": {
   "name": "TP1 - Parte 1.ipynb",
   "provenance": []
  },
  "kernelspec": {
   "display_name": "Python 3 (ipykernel)",
   "language": "python",
   "name": "python3"
  },
  "language_info": {
   "codemirror_mode": {
    "name": "ipython",
    "version": 3
   },
   "file_extension": ".py",
   "mimetype": "text/x-python",
   "name": "python",
   "nbconvert_exporter": "python",
   "pygments_lexer": "ipython3",
   "version": "3.12.4"
  }
 },
 "nbformat": 4,
 "nbformat_minor": 4
}
