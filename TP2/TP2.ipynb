{
 "cells": [
  {
   "cell_type": "markdown",
   "metadata": {},
   "source": [
    "# Ciencia de datos (CC408) - Primavera 2024\n",
    "\n",
    "## Trabajo Práctico 1 - Parte 2"
   ]
  },
  {
   "cell_type": "markdown",
   "metadata": {},
   "source": [
    "### Reglas de formato y presentation\n",
    "- El trabajo debe tener una extensión máxima de 8 páginas (no se permite Apéndice). Se espera una buena redacción en la resolución del práctico.\n",
    "- El informe debe ser entregado en formato PDF, con los gráficos e imágenes en este mismo archivo.\n",
    "- Entregar el código con los comandos utilizados, identificando claramente a qué inciso corresponde cada comando."
   ]
  },
  {
   "cell_type": "markdown",
   "metadata": {
    "id": "ZEjGaa4U-c9g"
   },
   "source": [
    "### Fecha de entrega:\n",
    "Miércoles 2 de octubre a las 23:59 hs."
   ]
  },
  {
   "cell_type": "markdown",
   "metadata": {
    "id": "N9TU2y7E-c9h"
   },
   "source": [
    "### Modalidad de entrega\n",
    "- Al finalizar el trabajo práctico deben hacer un último <i>commit</i> en su repositorio de GitHub llamado “Entrega final del tp”. \n",
    "- Asegurense de haber creado una carpeta llamada TP1. Este Jupyter Notebook y el correspondiente al TP1 - Parte 2 deben estar dentro de esa carpeta.\n",
    "- También deben enviar el link de su repositorio -para que pueda ser clonado y corregido- al siguiente email: ispiousas@udesa.edu.ar\n",
    "- La última versión en el repositorio es la que será evaluada. Por lo que es importante que: \n",
    "    - No envien el correo hasta no haber terminado y estar seguros de que han hecho el <i>commit y push</i> a la versión final que quieren entregar. Debido a que se pueden tomar hasta 3 días de extensión a lo largo del curso, no se corregirán sus tareas hasta no recibir el correo.\n",
    "    - No hagan nuevos <i>push</i> despues de haber entregado su versión final. Esto generaría confusión acerca de que versión es la que quieren que se les corrija. "
   ]
  },
  {
   "cell_type": "markdown",
   "metadata": {},
   "source": [
    "### Parte I: Limpieza de la base"
   ]
  },
  {
   "cell_type": "markdown",
   "metadata": {
    "id": "ZXbrPraa-c9i"
   },
   "source": [
    "#### Ejercicio 1\n",
    "La base de datos provista contiene información sobre oferentes de Airbnb en la ciudad de Nueva York. Realicen una limpieza de la base.\n",
    "- Tengan en cuenta si hay valores duplicados y eliminénlos.\n",
    "- Eliminen las columnas que no tienen información de interés.\n",
    "- (Opcional) Luego de leer el artículo __[Missing-data imputation](https://bookdown.org/mike/data_analysis/imputation-missing-data.html##imputation-missing-data)__ (__[Missing-data imputation articulo alternativo](http://www.stat.columbia.edu/~gelman/arm/missing.pdf)__), decidan qué hacer con los missing values e implementen su decision. Justifiquen su eleccion. Pueden usar informacion del paper mencionado o de otras fuentes (citenlas si las usan) para explicar los problemas que pueden surgir por su estrategia elegida.\n",
    "- Si hay observaciones con *outliers* o valores que no tienen sentido, tomen una decision. Expliquen las decisiones tomadas.\n",
    "- Transformen las variables **‘neighbourhood_group’** y **‘room_type’** a variables numericas.\n",
    "- Con la ayuda de los comandos <code>groupby</code> y <code>join</code> o <code>merge</code>, creen una columna que tenga la cantidad de oferentes por “Neighbourhood group”. Llamen a esa nueva columna <code>offer group</code>"
   ]
  },
  {
   "cell_type": "code",
<<<<<<< HEAD
   "execution_count": 19,
=======
   "execution_count": 21,
>>>>>>> f890815e4115b59ffb8db100173f16a0ab2dd4a4
   "metadata": {},
   "outputs": [
    {
     "name": "stdout",
     "output_type": "stream",
     "text": [
      "48905\n",
      "48895\n"
     ]
    }
   ],
   "source": [
    "# Resolver acá\n",
    "import pandas as pd\n",
<<<<<<< HEAD
    "import matplotlib.pyplot as plt\n"
=======
    "oferta_airbnb = pd.read_csv(\"/Users/angelanavajas/Desktop/Ciencia de datos/TP1/CC408-T1-4/TP2/Base Airbnb NY.csv\")\n",
    "cantidad1=oferta_airbnb['id'].count()\n",
    "print(cantidad1)\n",
    "limpio_oferta_airbnb = oferta_airbnb[\"id\"].unique()\n",
    "\n",
    "cantidad=len(limpio_oferta_airbnb)\n",
    "print(cantidad)\n",
    "\n"
>>>>>>> f890815e4115b59ffb8db100173f16a0ab2dd4a4
   ]
  },
  {
   "cell_type": "code",
<<<<<<< HEAD
   "execution_count": 11,
   "metadata": {
    "scrolled": true
   },
=======
   "execution_count": 19,
   "metadata": {},
>>>>>>> f890815e4115b59ffb8db100173f16a0ab2dd4a4
   "outputs": [
    {
     "name": "stdout",
     "output_type": "stream",
     "text": [
<<<<<<< HEAD
      "             id                                               name   host_id  \\\n",
      "0          2539                 Clean & quiet apt home by the park      2787   \n",
      "1          2595                              Skylit Midtown Castle      2845   \n",
      "2          3647                THE VILLAGE OF HARLEM....NEW YORK !      4632   \n",
      "3          3831                    Cozy Entire Floor of Brownstone      4869   \n",
      "4          5022   Entire Apt: Spacious Studio/Loft by central park      7192   \n",
      "...         ...                                                ...       ...   \n",
      "48900  19454344  Perfect ap in Manhattan! Walking to Central Park!  11670284   \n",
      "48901  36224876                   Upper East Side Apt By The Water  46232598   \n",
      "48902  21869051                        Comfy Apt in NYC Brownstone  97243693   \n",
      "48903   3004563                                           The spot  15303460   \n",
      "48904  19712687               Sunny, spacious, homey Brooklyn loft  11989253   \n",
      "\n",
      "         host_name neighbourhood_group              neighbourhood  latitude  \\\n",
      "0             John            Brooklyn                 Kensington  40.64749   \n",
      "1         Jennifer           Manhattan                    Midtown  40.75362   \n",
      "2        Elisabeth           Manhattan                     Harlem  40.80902   \n",
      "3      LisaRoxanne            Brooklyn               Clinton Hill  40.68514   \n",
      "4            Laura           Manhattan                East Harlem  40.79851   \n",
      "...            ...                 ...                        ...       ...   \n",
      "48900          Val           Manhattan            Upper East Side  40.76811   \n",
      "48901      Caitlin           Manhattan            Upper East Side  40.77001   \n",
      "48902        Joyce           Manhattan                Murray Hill  40.74812   \n",
      "48903         Emma            Brooklyn  Prospect-Lefferts Gardens  40.65595   \n",
      "48904         Hiji            Brooklyn                   Bushwick  40.70113   \n",
      "\n",
      "       longitude        room_type  price  minimum_nights  number_of_reviews  \\\n",
      "0      -73.97237     Private room  149.0               1                  9   \n",
      "1      -73.98377  Entire home/apt  225.0               1                 45   \n",
      "2      -73.94190     Private room  150.0               3                  0   \n",
      "3      -73.95976  Entire home/apt   89.0               1                270   \n",
      "4      -73.94399  Entire home/apt   80.0              10                  9   \n",
      "...          ...              ...    ...             ...                ...   \n",
      "48900  -73.95194  Entire home/apt  150.0               3                 10   \n",
      "48901  -73.94915  Entire home/apt  150.0               1                  1   \n",
      "48902  -73.97663  Entire home/apt  150.0               3                 57   \n",
      "48903  -73.95412     Private room   50.0               7                  1   \n",
      "48904  -73.92299     Private room   60.0               3                  0   \n",
      "\n",
      "      last_review  reviews_per_month  calculated_host_listings_count  \\\n",
      "0      2018-10-19               0.21                               6   \n",
      "1      2019-05-21               0.38                               2   \n",
      "2             NaN                NaN                               1   \n",
      "3      2019-07-05               4.64                               1   \n",
      "4      2018-11-19               0.10                               1   \n",
      "...           ...                ...                             ...   \n",
      "48900  2019-05-02               0.54                               2   \n",
      "48901  2019-07-01               1.00                               1   \n",
      "48902  2019-07-01               3.07                               2   \n",
      "48903  2019-06-08               0.94                               1   \n",
      "48904         NaN                NaN                               1   \n",
      "\n",
      "       availability_365  \n",
      "0                   365  \n",
      "1                   355  \n",
      "2                   365  \n",
      "3                   194  \n",
      "4                     0  \n",
      "...                 ...  \n",
      "48900                89  \n",
      "48901               130  \n",
      "48902                49  \n",
      "48903               125  \n",
      "48904                 0  \n",
      "\n",
      "[48905 rows x 16 columns]\n"
=======
      "[    2539     2595     3647 ... 36485431 36485609 36487245]\n"
>>>>>>> f890815e4115b59ffb8db100173f16a0ab2dd4a4
     ]
    }
   ],
   "source": [
<<<<<<< HEAD
    "# Cargar el archivo CSV\n",
    "base_airbnb = pd.read_csv(r'C:\\Users\\tizip\\OneDrive\\Documentos\\Tizi UdeSA\\8- Ciencia de datos\\CC408-T1-4\\TP2\\Base Airbnb NY.csv')\n",
    "print(base_airbnb)"
   ]
  },
  {
   "cell_type": "code",
   "execution_count": null,
   "metadata": {},
   "outputs": [],
   "source": [
    "# elimino datos vacios y duplicados\n",
    "base_airbnb_completa = base_airbnb.dropna()\n",
    "base_airbnb_limpia = base_airbnb_completa.drop_duplicates()\n",
    "print(base_airbnb_limpia)"
   ]
  },
  {
   "cell_type": "code",
   "execution_count": null,
   "metadata": {},
   "outputs": [],
   "source": [
    "# el opcional"
   ]
  },
  {
   "cell_type": "code",
   "execution_count": 27,
   "metadata": {},
   "outputs": [
    {
     "data": {
      "image/png": "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",
      "text/plain": [
       "<Figure size 640x480 with 1 Axes>"
      ]
     },
     "metadata": {},
     "output_type": "display_data"
    }
   ],
   "source": [
    "# vemos la distribucion de los datos por columna\n",
    "\n",
    "plt.hist(base_airbnb_limpia['neighbourhood_group'], color='blue')\n",
    "plt.title('Histograma de la cantidad de oferta por barrios')\n",
    "plt.xlabel('Barrio de NY')\n",
    "plt.ylabel('Cantidad de oferta')\n",
    "plt.show()\n",
    "\n",
    "# para ver los outliers usamos scatterplot / regresiones\n",
    "# veo el precio en base al barrio\n",
    "\n",
    "# el precio en base a el tipo de cuarto\n",
    "\n",
    "# el precio segun barrio y tipo de cuarto\n"
=======
    "\n"
>>>>>>> f890815e4115b59ffb8db100173f16a0ab2dd4a4
   ]
  },
  {
   "cell_type": "markdown",
   "metadata": {},
   "source": [
    "### Parte II: Graficos y visualizaciones"
   ]
  },
  {
   "cell_type": "markdown",
   "metadata": {},
   "source": [
    "#### Ejercicio 2\n",
    "Una vez hecha la limpieza, realicen una matriz de correlación con las siguientes variables:**‘neighbourhood group’, ‘latitude’, ‘longitude’, ‘room type’,‘price’, ‘minimum nights’, ‘number of reviews’, ‘reviews per month’,‘calculated host listings count’, ‘availability 365’.** Comenten los resultados. Utilicen alguno de los comandos disponibles en este link para graficar la matriz de correlacion.\n",
    "\n",
    "*Nota:* consideren cómo es conveniente incluir las variables que originalmente eran categóricas para poder interpretar mejor la matriz de correlación."
   ]
  },
  {
   "cell_type": "code",
   "execution_count": null,
   "metadata": {},
   "outputs": [],
   "source": [
    "# Resolver acá\n"
   ]
  },
  {
   "cell_type": "markdown",
   "metadata": {},
   "source": [
    "#### Ejercicio 3\n",
    "Respondan las siguientes preguntas: ¿Cuál es la proporción de oferentes por “Neighbourhood group”? ¿Y por tipo de habitación? Además, realicen gráficos para mostrar estas composiciones y comenten los resultados."
   ]
  },
  {
   "cell_type": "code",
   "execution_count": null,
   "metadata": {},
   "outputs": [],
   "source": [
    "# Resolver acá\n"
   ]
  },
  {
   "cell_type": "markdown",
   "metadata": {},
   "source": [
    "#### Ejercicio 4\n",
    "Realicen un histograma de los precios de los alojamientos. Comenten el gráfico obtenido. Además, respondan las siguientes preguntas: ¿cuál es el precio mínimo, máximo y promedio? ¿Cuál es la media de precio por “Neighbourhood group” y por tipo de habitación? "
   ]
  },
  {
   "cell_type": "code",
   "execution_count": null,
   "metadata": {},
   "outputs": [],
   "source": [
    "# Resolver acá\n"
   ]
  },
  {
   "cell_type": "markdown",
   "metadata": {},
   "source": [
    "#### Ejercicio 5\n",
    "Realicen dos scatter plots con dos variables de interés en cada uno. Comenten."
   ]
  },
  {
   "cell_type": "code",
   "execution_count": 1,
   "metadata": {},
   "outputs": [],
   "source": [
    "# Resolver acá\n"
   ]
  },
  {
   "cell_type": "markdown",
   "metadata": {},
   "source": [
    "#### Ejercicio 6\n",
    "Utilicen el análisis de componentes principales para graficar las variables en dos dimensiones. Comenten los resultados obtenidos (qué porcentaje de la varianza se logra explicar con dos componentes, cómo son los *loadings*, si ven algún patrón en el gráfico)."
   ]
  },
  {
   "cell_type": "code",
   "execution_count": 1,
   "metadata": {},
   "outputs": [],
   "source": [
    "# Resolver acá\n"
   ]
  },
  {
   "cell_type": "markdown",
   "metadata": {},
   "source": [
    "### Parte III: Predicción"
   ]
  },
  {
   "cell_type": "markdown",
   "metadata": {},
   "source": [
    "El objetivo de esta parte del trabajo es intentar predecir los precios de los alojamientos."
   ]
  },
  {
   "cell_type": "markdown",
   "metadata": {},
   "source": [
    "#### Ejercicio 7\n",
    "Eliminen de la base todas las variables relacionadas al precio"
   ]
  },
  {
   "cell_type": "code",
   "execution_count": null,
   "metadata": {},
   "outputs": [],
   "source": [
    "# Resolver acá\n"
   ]
  },
  {
   "cell_type": "markdown",
   "metadata": {},
   "source": [
    "#### Ejercicio 8\n",
    "Partan la base en una base de prueba (test) y una de entrenamiento (train) utilizando el comando <code>train_test_split</code>. La base de entrenamiento debe comprender el 70% de los datos, y la semilla a utilizar (*random state instance*) debe ser 201. Establezca a price como su variable dependiente en la base de entrenamiento (vector y). El resto de las variables ser´an las variables independientes (matriz X). Recuerden agregar la columna de unos (1)."
   ]
  },
  {
   "cell_type": "code",
   "execution_count": null,
   "metadata": {},
   "outputs": [],
   "source": [
    "# Resolver acá\n"
   ]
  },
  {
   "cell_type": "markdown",
   "metadata": {},
   "source": [
    "#### Ejercicio 9\n",
    "Implementen una regresión lineal y comenten los resultados obtenidos."
   ]
  },
  {
   "cell_type": "code",
   "execution_count": null,
   "metadata": {},
   "outputs": [],
   "source": [
    "# Resolver acá\n"
   ]
  }
 ],
 "metadata": {
  "anaconda-cloud": {},
  "colab": {
   "name": "TP1 - Parte 1.ipynb",
   "provenance": []
  },
  "kernelspec": {
   "display_name": "Python 3 (ipykernel)",
   "language": "python",
   "name": "python3"
  },
  "language_info": {
   "codemirror_mode": {
    "name": "ipython",
    "version": 3
   },
   "file_extension": ".py",
   "mimetype": "text/x-python",
   "name": "python",
   "nbconvert_exporter": "python",
   "pygments_lexer": "ipython3",
<<<<<<< HEAD
   "version": "3.12.4"
=======
   "version": "3.9.19"
>>>>>>> f890815e4115b59ffb8db100173f16a0ab2dd4a4
  }
 },
 "nbformat": 4,
 "nbformat_minor": 4
}
