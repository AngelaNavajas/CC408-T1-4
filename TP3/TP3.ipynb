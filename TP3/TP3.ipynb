{
 "cells": [
  {
   "cell_type": "code",
   "execution_count": 2,
   "id": "fa902ca5-3ffb-4261-8029-012d0d98bde1",
   "metadata": {},
   "outputs": [],
   "source": [
    "# estamos"
   ]
  },
  {
   "cell_type": "markdown",
   "id": "fa8697d4",
   "metadata": {},
   "source": [
    "**PARTE I: ANALIZANDO LA BASE**"
   ]
  },
  {
   "cell_type": "code",
   "execution_count": 3,
   "id": "41adacdf",
   "metadata": {},
   "outputs": [],
   "source": [
    "import pandas as pd\n",
    "import matplotlib.pyplot as plt\n",
    "from sklearn.linear_model import LinearRegression\n",
    "import seaborn as sns\n",
    "from sklearn.model_selection import train_test_split"
   ]
  },
  {
   "cell_type": "code",
   "execution_count": 4,
   "id": "ac2492ac",
   "metadata": {},
   "outputs": [],
   "source": [
    "#Bases Tizi\n",
    "#base_04_sucia = pd.read_stata(r\"C:\\Users\\tizip\\OneDrive\\Documentos\\Tizi UdeSA\\8- Ciencia de datos\\CC408-T1-4\\TP3\\Individual_t104.dta\")\n",
    "#base_24_sucia = pd.read_excel(r\"C:\\Users\\tizip\\OneDrive\\Documentos\\Tizi UdeSA\\8- Ciencia de datos\\CC408-T1-4\\TP3\\usu_individual_T124.xlsx\")\n",
    "\n",
    "# Base Angie\n",
    "base_04_sucia = pd.read_stata(r'/Users/angelanavajas/Desktop/Ciencia de datos/CC408-T1-4/TP3/Individual_t104.dta')\n",
    "base_24_sucia = pd.read_excel(r'/Users/angelanavajas/Desktop/Ciencia de datos/CC408-T1-4/TP3/usu_individual_T124.xlsx')\n"
   ]
  },
  {
   "cell_type": "code",
   "execution_count": 5,
   "id": "61db4546",
   "metadata": {},
   "outputs": [
    {
     "name": "stdout",
     "output_type": "stream",
     "text": [
      "         CODUSU  nro_hogar componente  h15    ano4       trimestre  \\\n",
      "0      125098          1.0        1.0   Sí  2004.0  1er. Trimestre   \n",
      "1      125397          1.0        1.0   Sí  2004.0  1er. Trimestre   \n",
      "2      125515          1.0        1.0   Sí  2004.0  1er. Trimestre   \n",
      "3      125558          1.0        1.0   Sí  2004.0  1er. Trimestre   \n",
      "4      125558          1.0        2.0   Sí  2004.0  1er. Trimestre   \n",
      "...         ...        ...        ...  ...     ...             ...   \n",
      "45284  285733          1.0        1.0   Sí  2004.0  1er. Trimestre   \n",
      "45285  285733          1.0        2.0   Sí  2004.0  1er. Trimestre   \n",
      "45286  285733          1.0        3.0   Sí  2004.0  1er. Trimestre   \n",
      "45287  285733          1.0        4.0  0.0  2004.0  1er. Trimestre   \n",
      "45288  285733          1.0        5.0  0.0  2004.0  1er. Trimestre   \n",
      "\n",
      "                  region mas_500              aglomerado  pondera  ... deccfr  \\\n",
      "0      Gran Buenos Aires       S  Ciudad de Buenos Aires   1299.0  ...     07   \n",
      "1      Gran Buenos Aires       S  Ciudad de Buenos Aires   2018.0  ...     00   \n",
      "2      Gran Buenos Aires       S  Ciudad de Buenos Aires   1486.0  ...     07   \n",
      "3      Gran Buenos Aires       S  Ciudad de Buenos Aires   1674.0  ...     08   \n",
      "4      Gran Buenos Aires       S  Ciudad de Buenos Aires   1674.0  ...     08   \n",
      "...                  ...     ...                     ...      ...  ...    ...   \n",
      "45284         Patagónica       N    Ushuaia - Río Grande    123.0  ...     09   \n",
      "45285         Patagónica       N    Ushuaia - Río Grande    123.0  ...     09   \n",
      "45286         Patagónica       N    Ushuaia - Río Grande    123.0  ...     09   \n",
      "45287         Patagónica       N    Ushuaia - Río Grande    123.0  ...     09   \n",
      "45288         Patagónica       N    Ushuaia - Río Grande    123.0  ...     09   \n",
      "\n",
      "      ideccfr rdeccfr gdeccfr pdeccfr adeccfr pj1_1 pj2_1 pj3_1 idimpp  \n",
      "0                  06      06              04   0.0   0.0   0.0  00000  \n",
      "1                  00      00              00   0.0   0.0   0.0  00000  \n",
      "2                  07      07              05   0.0   0.0   0.0  00020  \n",
      "3                  08      08              06   0.0   0.0   0.0  00000  \n",
      "4                  08      08              06   0.0   0.0   0.0  00000  \n",
      "...       ...     ...     ...     ...     ...   ...   ...   ...    ...  \n",
      "45284      09      08              09      07   0.0   0.0   0.0  00000  \n",
      "45285      09      08              09      07   0.0   0.0   0.0  00000  \n",
      "45286      09      08              09      07   0.0   0.0   0.0  00000  \n",
      "45287      09      08              09      07   0.0   0.0   0.0  00000  \n",
      "45288      09      08              09      07   0.0   0.0   0.0  00000  \n",
      "\n",
      "[45289 rows x 176 columns]\n"
     ]
    }
   ],
   "source": [
    "print(base_04_sucia)"
   ]
  },
  {
   "cell_type": "code",
   "execution_count": 6,
   "id": "50cb5e04",
   "metadata": {},
   "outputs": [],
   "source": [
    "base_04_filtrada = base_04_sucia.loc[base_04_sucia['aglomerado'].isin(['Ciudad de Buenos Aires', 'Partidos del GBA'])]\n",
    "base_24_filtrada = base_24_sucia.loc[base_24_sucia['AGLOMERADO'].isin([32, 33])]"
   ]
  },
  {
   "cell_type": "code",
   "execution_count": 7,
   "id": "f9360246",
   "metadata": {},
   "outputs": [
    {
     "name": "stdout",
     "output_type": "stream",
     "text": [
      "                              CODUSU  ANO4  TRIMESTRE  NRO_HOGAR  COMPONENTE  \\\n",
      "245    TQRMNOSUWHLKMUCDEIJAH00855260  2024          1          1           1   \n",
      "246    TQRMNOSUWHLKMUCDEIJAH00855260  2024          1          1           2   \n",
      "247    TQRMNOSUWHLKMUCDEIJAH00855260  2024          1          1           3   \n",
      "255    TQSMNORWVHLLKQCDEIJAH00856914  2024          1          1           1   \n",
      "256    TQRMNOPQQHLOLRCDEIJAH00855133  2024          1          1           1   \n",
      "...                              ...   ...        ...        ...         ...   \n",
      "46045  TQRMNOPUQHKMKNCDEIJAH00861661  2024          1          1           1   \n",
      "46046  TQRMNOPUQHKMKNCDEIJAH00861661  2024          1          1           2   \n",
      "46047  TQRMNOPUQHKMKNCDEIJAH00861661  2024          1          1           3   \n",
      "46048  TQRMNOPUQHKMKNCDEIJAH00861661  2024          1          1           4   \n",
      "46049  TQRMNOPUQHKMKNCDEIJAH00861661  2024          1          1           5   \n",
      "\n",
      "       H15  REGION MAS_500  AGLOMERADO  PONDERA  ...  PDECIFR  ADECIFR  \\\n",
      "245      1       1       S          33     1810  ...      NaN       12   \n",
      "246      1       1       S          33     1810  ...      NaN       12   \n",
      "247      1       1       S          33     1810  ...      NaN       12   \n",
      "255      1       1       S          33     2368  ...      NaN        6   \n",
      "256      1       1       S          33     1223  ...      NaN       12   \n",
      "...    ...     ...     ...         ...      ...  ...      ...      ...   \n",
      "46045    1       1       S          33     3410  ...      NaN       12   \n",
      "46046    2       1       S          33     3410  ...      NaN       12   \n",
      "46047    2       1       S          33     3410  ...      NaN       12   \n",
      "46048    2       1       S          33     3410  ...      NaN       12   \n",
      "46049    2       1       S          33     3410  ...      NaN       12   \n",
      "\n",
      "           IPCF  DECCFR  IDECCFR  RDECCFR  GDECCFR  PDECCFR  ADECCFR  PONDIH  \n",
      "245         0.0      12      NaN       12     12.0      NaN       12       0  \n",
      "246         0.0      12      NaN       12     12.0      NaN       12       0  \n",
      "247         0.0      12      NaN       12     12.0      NaN       12       0  \n",
      "255    500000.0       9      NaN        9      9.0      NaN        9    3324  \n",
      "256         0.0      12      NaN       12     12.0      NaN       12       0  \n",
      "...         ...     ...      ...      ...      ...      ...      ...     ...  \n",
      "46045       0.0      12      NaN       12     12.0      NaN       12       0  \n",
      "46046       0.0      12      NaN       12     12.0      NaN       12       0  \n",
      "46047       0.0      12      NaN       12     12.0      NaN       12       0  \n",
      "46048       0.0      12      NaN       12     12.0      NaN       12       0  \n",
      "46049       0.0      12      NaN       12     12.0      NaN       12       0  \n",
      "\n",
      "[7051 rows x 177 columns]\n"
     ]
    }
   ],
   "source": [
    "print(base_24_filtrada)"
   ]
  },
  {
   "cell_type": "code",
   "execution_count": 8,
   "id": "b8869ff6",
   "metadata": {},
   "outputs": [
    {
     "name": "stdout",
     "output_type": "stream",
     "text": [
      "        CODUSU  nro_hogar componente  h15    ano4       trimestre  \\\n",
      "0     125098          1.0        1.0   Sí  2004.0  1er. Trimestre   \n",
      "1     125397          1.0        1.0   Sí  2004.0  1er. Trimestre   \n",
      "2     125515          1.0        1.0   Sí  2004.0  1er. Trimestre   \n",
      "3     125558          1.0        1.0   Sí  2004.0  1er. Trimestre   \n",
      "4     125558          1.0        2.0   Sí  2004.0  1er. Trimestre   \n",
      "...        ...        ...        ...  ...     ...             ...   \n",
      "7642  288171          1.0        3.0  0.0  2004.0  1er. Trimestre   \n",
      "7643  288405          1.0        1.0   Sí  2004.0  1er. Trimestre   \n",
      "7644  288405          1.0        2.0   Sí  2004.0  1er. Trimestre   \n",
      "7645  288405          1.0        3.0   Sí  2004.0  1er. Trimestre   \n",
      "7646  288405          1.0        4.0   Sí  2004.0  1er. Trimestre   \n",
      "\n",
      "                 region mas_500              aglomerado  pondera  ... deccfr  \\\n",
      "0     Gran Buenos Aires       S  Ciudad de Buenos Aires   1299.0  ...     07   \n",
      "1     Gran Buenos Aires       S  Ciudad de Buenos Aires   2018.0  ...     00   \n",
      "2     Gran Buenos Aires       S  Ciudad de Buenos Aires   1486.0  ...     07   \n",
      "3     Gran Buenos Aires       S  Ciudad de Buenos Aires   1674.0  ...     08   \n",
      "4     Gran Buenos Aires       S  Ciudad de Buenos Aires   1674.0  ...     08   \n",
      "...                 ...     ...                     ...      ...  ...    ...   \n",
      "7642  Gran Buenos Aires       S        Partidos del GBA   1454.0  ...     08   \n",
      "7643  Gran Buenos Aires       S        Partidos del GBA   1673.0  ...     02   \n",
      "7644  Gran Buenos Aires       S        Partidos del GBA   1673.0  ...     02   \n",
      "7645  Gran Buenos Aires       S        Partidos del GBA   1673.0  ...     02   \n",
      "7646  Gran Buenos Aires       S        Partidos del GBA   1673.0  ...     02   \n",
      "\n",
      "     ideccfr rdeccfr gdeccfr pdeccfr adeccfr pj1_1 pj2_1 pj3_1 idimpp  \n",
      "0                 06      06              04   0.0   0.0   0.0  00000  \n",
      "1                 00      00              00   0.0   0.0   0.0  00000  \n",
      "2                 07      07              05   0.0   0.0   0.0  00020  \n",
      "3                 08      08              06   0.0   0.0   0.0  00000  \n",
      "4                 08      08              06   0.0   0.0   0.0  00000  \n",
      "...      ...     ...     ...     ...     ...   ...   ...   ...    ...  \n",
      "7642              08      08              09   0.0   0.0   0.0  00000  \n",
      "7643              02      02              02   0.0   0.0   0.0  00000  \n",
      "7644              02      02              02   0.0   0.0   0.0  00000  \n",
      "7645              02      02              02   0.0   0.0   0.0  00000  \n",
      "7646              02      02              02   0.0   0.0   0.0  00000  \n",
      "\n",
      "[7647 rows x 176 columns]\n"
     ]
    }
   ],
   "source": [
    "print(base_04_filtrada)"
   ]
  },
  {
   "cell_type": "code",
   "execution_count": 9,
   "id": "85bed69b",
   "metadata": {},
   "outputs": [
    {
     "name": "stdout",
     "output_type": "stream",
     "text": [
      "['CODUSU', 'nro_hogar', 'componente', 'h15', 'ano4', 'trimestre', 'region', 'mas_500', 'aglomerado', 'pondera', 'ch03', 'ch04', 'ch06', 'ch07', 'ch08', 'ch09', 'ch10', 'ch11', 'ch12', 'ch13', 'ch14', 'ch15', 'ch15_cod', 'ch16', 'ch16_cod', 'nivel_ed', 'estado', 'cat_ocup', 'cat_inac', 'pp02c1', 'pp02c2', 'pp02c3', 'pp02c4', 'pp02c5', 'pp02c6', 'pp02c7', 'pp02c8', 'pp02e', 'pp02h', 'pp02i', 'pp03c', 'pp03d', 'pp3e_tot', 'pp3f_tot', 'pp03g', 'pp03h', 'pp03i', 'pp03j', 'intensi', 'pp04a', 'pp04b_cod', 'pp04b1', 'pp04b2', 'pp04b3_mes', 'pp04b3_ano', 'pp04b3_dia', 'pp04c', 'pp04c99', 'pp04d_cod', 'pp04g', 'pp05b2_mes', 'pp05b2_ano', 'pp05b2_dia', 'pp05c_1', 'pp05c_2', 'pp05c_3', 'pp05e', 'pp05f', 'pp05h', 'pp06a', 'pp06c', 'pp06d', 'pp06e', 'pp06h', 'pp07a', 'pp07c', 'pp07d', 'pp07e', 'pp07f1', 'pp07f2', 'pp07f3', 'pp07f4', 'pp07f5', 'pp07g1', 'pp07g2', 'pp07g3', 'pp07g4', 'pp07g_59', 'pp07h', 'pp07i', 'pp07j', 'pp07k', 'pp08d1', 'pp08d4', 'pp08f1', 'pp08f2', 'pp08j1', 'pp08j2', 'pp08j3', 'pp09a', 'pp09a_esp', 'pp09b', 'pp09c', 'pp09c_esp', 'pp10a', 'pp10c', 'pp10d', 'pp10e', 'pp11a', 'pp11b_cod', 'pp11b1', 'pp11b2_mes', 'pp11b2_ano', 'pp11b2_dia', 'pp11c', 'pp11c99', 'pp11d_cod', 'pp11g_ano', 'pp11g_mes', 'pp11g_dia', 'pp11l', 'pp11l1', 'pp11m', 'pp11n', 'pp11o', 'pp11p', 'pp11q', 'pp11r', 'pp11s', 'pp11t', 'p21', 'decocur', 'idecocur', 'rdecocur', 'gdecocur', 'pdecocur', 'adecocur', 'tot_p12', 'p47t', 'decindr', 'idecindr', 'rdecindr', 'gdecindr', 'pdecindr', 'adecindr', 'v2_m', 'v3_m', 'v4_m', 'v5_m', 'v8_m', 'v9_m', 'v10_m', 'v11_m', 'v12_m', 'v18_m', 'v19_am', 'v21_m', 't_vi', 'itf', 'decifr', 'idecifr', 'rdecifr', 'gdecifr', 'pdecifr', 'adecifr', 'ipcf', 'deccfr', 'ideccfr', 'rdeccfr', 'gdeccfr', 'pdeccfr', 'adeccfr', 'pj1_1', 'pj2_1', 'pj3_1', 'idimpp']\n"
     ]
    }
   ],
   "source": [
    "# Obtener los nombres de las variables\n",
    "nombres_variables04 = base_04_sucia.columns.tolist()\n",
    "\n",
    "# Mostrar los nombres de las variables\n",
    "print(nombres_variables04)"
   ]
  },
  {
   "cell_type": "code",
   "execution_count": 10,
   "id": "18b611ef",
   "metadata": {},
   "outputs": [
    {
     "name": "stdout",
     "output_type": "stream",
     "text": [
      "['CODUSU', 'ANO4', 'TRIMESTRE', 'NRO_HOGAR', 'COMPONENTE', 'H15', 'REGION', 'MAS_500', 'AGLOMERADO', 'PONDERA', 'CH03', 'CH04', 'CH05', 'CH06', 'CH07', 'CH08', 'CH09', 'CH10', 'CH11', 'CH12', 'CH13', 'CH14', 'CH15', 'CH15_COD', 'CH16', 'CH16_COD', 'NIVEL_ED', 'ESTADO', 'CAT_OCUP', 'CAT_INAC', 'IMPUTA', 'PP02C1', 'PP02C2', 'PP02C3', 'PP02C4', 'PP02C5', 'PP02C6', 'PP02C7', 'PP02C8', 'PP02E', 'PP02H', 'PP02I', 'PP03C', 'PP03D', 'PP3E_TOT', 'PP3F_TOT', 'PP03G', 'PP03H', 'PP03I', 'PP03J', 'INTENSI', 'PP04A', 'PP04B_COD', 'PP04B1', 'PP04B2', 'PP04B3_MES', 'PP04B3_ANO', 'PP04B3_DIA', 'PP04C', 'PP04C99', 'PP04D_COD', 'PP04G', 'PP05B2_MES', 'PP05B2_ANO', 'PP05B2_DIA', 'PP05C_1', 'PP05C_2', 'PP05C_3', 'PP05E', 'PP05F', 'PP05H', 'PP06A', 'PP06C', 'PP06D', 'PP06E', 'PP06H', 'PP07A', 'PP07C', 'PP07D', 'PP07E', 'PP07F1', 'PP07F2', 'PP07F3', 'PP07F4', 'PP07F5', 'PP07G1', 'PP07G2', 'PP07G3', 'PP07G4', 'PP07G_59', 'PP07H', 'PP07I', 'PP07J', 'PP07K', 'PP08D1', 'PP08D4', 'PP08F1', 'PP08F2', 'PP08J1', 'PP08J2', 'PP08J3', 'PP09A', 'PP09A_ESP', 'PP09B', 'PP09C', 'PP09C_ESP', 'PP10A', 'PP10C', 'PP10D', 'PP10E', 'PP11A', 'PP11B_COD', 'PP11B1', 'PP11B2_MES', 'PP11B2_ANO', 'PP11B2_DIA', 'PP11C', 'PP11C99', 'PP11D_COD', 'PP11G_ANO', 'PP11G_MES', 'PP11G_DIA', 'PP11L', 'PP11L1', 'PP11M', 'PP11N', 'PP11O', 'PP11P', 'PP11Q', 'PP11R', 'PP11S', 'PP11T', 'P21', 'DECOCUR', 'IDECOCUR', 'RDECOCUR', 'GDECOCUR', 'PDECOCUR', 'ADECOCUR', 'PONDIIO', 'TOT_P12', 'P47T', 'DECINDR', 'IDECINDR', 'RDECINDR', 'GDECINDR', 'PDECINDR', 'ADECINDR', 'PONDII', 'V2_M', 'V3_M', 'V4_M', 'V5_M', 'V8_M', 'V9_M', 'V10_M', 'V11_M', 'V12_M', 'V18_M', 'V19_AM', 'V21_M', 'T_VI', 'ITF', 'DECIFR', 'IDECIFR', 'RDECIFR', 'GDECIFR', 'PDECIFR', 'ADECIFR', 'IPCF', 'DECCFR', 'IDECCFR', 'RDECCFR', 'GDECCFR', 'PDECCFR', 'ADECCFR', 'PONDIH']\n"
     ]
    }
   ],
   "source": [
    "# Obtener los nombres de las variables\n",
    "nombres_variables24 = base_24_filtrada.columns.tolist()\n",
    "\n",
    "# Mostrar los nombres de las variables\n",
    "print(nombres_variables24)"
   ]
  },
  {
   "cell_type": "code",
   "execution_count": 11,
   "id": "c9572671",
   "metadata": {},
   "outputs": [],
   "source": [
    "#Para poder unir sin problema, me aseguro que als variables esten en el mismo formato\n",
    "base_04_filtrada.columns = base_04_filtrada.columns.str.lower()\n",
    "base_24_filtrada.columns = base_24_filtrada.columns.str.lower()"
   ]
  },
  {
   "cell_type": "code",
   "execution_count": 12,
   "id": "a7e7579a",
   "metadata": {},
   "outputs": [
    {
     "name": "stdout",
     "output_type": "stream",
     "text": [
      "['codusu', 'ano4', 'trimestre', 'nro_hogar', 'componente', 'h15', 'region', 'mas_500', 'aglomerado', 'pondera', 'ch03', 'ch04', 'ch05', 'ch06', 'ch07', 'ch08', 'ch09', 'ch10', 'ch11', 'ch12', 'ch13', 'ch14', 'ch15', 'ch15_cod', 'ch16', 'ch16_cod', 'nivel_ed', 'estado', 'cat_ocup', 'cat_inac', 'imputa', 'pp02c1', 'pp02c2', 'pp02c3', 'pp02c4', 'pp02c5', 'pp02c6', 'pp02c7', 'pp02c8', 'pp02e', 'pp02h', 'pp02i', 'pp03c', 'pp03d', 'pp3e_tot', 'pp3f_tot', 'pp03g', 'pp03h', 'pp03i', 'pp03j', 'intensi', 'pp04a', 'pp04b_cod', 'pp04b1', 'pp04b2', 'pp04b3_mes', 'pp04b3_ano', 'pp04b3_dia', 'pp04c', 'pp04c99', 'pp04d_cod', 'pp04g', 'pp05b2_mes', 'pp05b2_ano', 'pp05b2_dia', 'pp05c_1', 'pp05c_2', 'pp05c_3', 'pp05e', 'pp05f', 'pp05h', 'pp06a', 'pp06c', 'pp06d', 'pp06e', 'pp06h', 'pp07a', 'pp07c', 'pp07d', 'pp07e', 'pp07f1', 'pp07f2', 'pp07f3', 'pp07f4', 'pp07f5', 'pp07g1', 'pp07g2', 'pp07g3', 'pp07g4', 'pp07g_59', 'pp07h', 'pp07i', 'pp07j', 'pp07k', 'pp08d1', 'pp08d4', 'pp08f1', 'pp08f2', 'pp08j1', 'pp08j2', 'pp08j3', 'pp09a', 'pp09a_esp', 'pp09b', 'pp09c', 'pp09c_esp', 'pp10a', 'pp10c', 'pp10d', 'pp10e', 'pp11a', 'pp11b_cod', 'pp11b1', 'pp11b2_mes', 'pp11b2_ano', 'pp11b2_dia', 'pp11c', 'pp11c99', 'pp11d_cod', 'pp11g_ano', 'pp11g_mes', 'pp11g_dia', 'pp11l', 'pp11l1', 'pp11m', 'pp11n', 'pp11o', 'pp11p', 'pp11q', 'pp11r', 'pp11s', 'pp11t', 'p21', 'decocur', 'idecocur', 'rdecocur', 'gdecocur', 'pdecocur', 'adecocur', 'pondiio', 'tot_p12', 'p47t', 'decindr', 'idecindr', 'rdecindr', 'gdecindr', 'pdecindr', 'adecindr', 'pondii', 'v2_m', 'v3_m', 'v4_m', 'v5_m', 'v8_m', 'v9_m', 'v10_m', 'v11_m', 'v12_m', 'v18_m', 'v19_am', 'v21_m', 't_vi', 'itf', 'decifr', 'idecifr', 'rdecifr', 'gdecifr', 'pdecifr', 'adecifr', 'ipcf', 'deccfr', 'ideccfr', 'rdeccfr', 'gdeccfr', 'pdeccfr', 'adeccfr', 'pondih']\n"
     ]
    }
   ],
   "source": [
    "# Obtener los nombres de las variables\n",
    "nombres_variables24 = base_24_filtrada.columns.tolist()\n",
    "\n",
    "# Mostrar los nombres de las variables\n",
    "print(nombres_variables24)"
   ]
  },
  {
   "cell_type": "code",
   "execution_count": 13,
   "id": "be4c2386",
   "metadata": {},
   "outputs": [
    {
     "name": "stdout",
     "output_type": "stream",
     "text": [
      "                             codusu    ano4       trimestre  nro_hogar  \\\n",
      "245   TQRMNOSUWHLKMUCDEIJAH00855260  2024.0               1        1.0   \n",
      "246   TQRMNOSUWHLKMUCDEIJAH00855260  2024.0               1        1.0   \n",
      "247   TQRMNOSUWHLKMUCDEIJAH00855260  2024.0               1        1.0   \n",
      "255   TQSMNORWVHLLKQCDEIJAH00856914  2024.0               1        1.0   \n",
      "256   TQRMNOPQQHLOLRCDEIJAH00855133  2024.0               1        1.0   \n",
      "...                             ...     ...             ...        ...   \n",
      "7642                       288171    2004.0  1er. Trimestre        1.0   \n",
      "7643                       288405    2004.0  1er. Trimestre        1.0   \n",
      "7644                       288405    2004.0  1er. Trimestre        1.0   \n",
      "7645                       288405    2004.0  1er. Trimestre        1.0   \n",
      "7646                       288405    2004.0  1er. Trimestre        1.0   \n",
      "\n",
      "     componente  h15             region mas_500        aglomerado  pondera  \\\n",
      "245           1    1                  1       S                33   1810.0   \n",
      "246           2    1                  1       S                33   1810.0   \n",
      "247           3    1                  1       S                33   1810.0   \n",
      "255           1    1                  1       S                33   2368.0   \n",
      "256           1    1                  1       S                33   1223.0   \n",
      "...         ...  ...                ...     ...               ...      ...   \n",
      "7642        3.0  0.0  Gran Buenos Aires       S  Partidos del GBA   1454.0   \n",
      "7643        1.0   Sí  Gran Buenos Aires       S  Partidos del GBA   1673.0   \n",
      "7644        2.0   Sí  Gran Buenos Aires       S  Partidos del GBA   1673.0   \n",
      "7645        3.0   Sí  Gran Buenos Aires       S  Partidos del GBA   1673.0   \n",
      "7646        4.0   Sí  Gran Buenos Aires       S  Partidos del GBA   1673.0   \n",
      "\n",
      "      ... ideccfr rdeccfr gdeccfr pdeccfr adeccfr  pondih pj1_1 pj2_1 pj3_1  \\\n",
      "245   ...     NaN      12    12.0     NaN      12     0.0   NaN   NaN   NaN   \n",
      "246   ...     NaN      12    12.0     NaN      12     0.0   NaN   NaN   NaN   \n",
      "247   ...     NaN      12    12.0     NaN      12     0.0   NaN   NaN   NaN   \n",
      "255   ...     NaN       9     9.0     NaN       9  3324.0   NaN   NaN   NaN   \n",
      "256   ...     NaN      12    12.0     NaN      12     0.0   NaN   NaN   NaN   \n",
      "...   ...     ...     ...     ...     ...     ...     ...   ...   ...   ...   \n",
      "7642  ...              08      08              09     NaN   0.0   0.0   0.0   \n",
      "7643  ...              02      02              02     NaN   0.0   0.0   0.0   \n",
      "7644  ...              02      02              02     NaN   0.0   0.0   0.0   \n",
      "7645  ...              02      02              02     NaN   0.0   0.0   0.0   \n",
      "7646  ...              02      02              02     NaN   0.0   0.0   0.0   \n",
      "\n",
      "     idimpp  \n",
      "245     NaN  \n",
      "246     NaN  \n",
      "247     NaN  \n",
      "255     NaN  \n",
      "256     NaN  \n",
      "...     ...  \n",
      "7642  00000  \n",
      "7643  00000  \n",
      "7644  00000  \n",
      "7645  00000  \n",
      "7646  00000  \n",
      "\n",
      "[14698 rows x 181 columns]\n"
     ]
    }
   ],
   "source": [
    "base_prelimpieza = pd.concat([base_24_filtrada, base_04_filtrada])\n",
    "print(base_prelimpieza)\n",
    "\n"
   ]
  },
  {
   "cell_type": "code",
   "execution_count": 14,
   "id": "e26f26d8",
   "metadata": {},
   "outputs": [
    {
     "name": "stdout",
     "output_type": "stream",
     "text": [
      "245          0.000000\n",
      "246          0.000000\n",
      "247          0.000000\n",
      "255     500000.000000\n",
      "256          0.000000\n",
      "            ...      \n",
      "7642       533.333333\n",
      "7643       100.000000\n",
      "7644       100.000000\n",
      "7645       100.000000\n",
      "7646       100.000000\n",
      "Name: ipcf, Length: 14698, dtype: float64\n"
     ]
    }
   ],
   "source": [
    "print(base_prelimpieza['ipcf'])\n"
   ]
  },
  {
   "cell_type": "markdown",
   "id": "6975245f",
   "metadata": {},
   "source": [
    "Las variables que vamos a usar son:\n",
    "- CH04: Sexo\n",
    "- CH06: Años\n",
    "- CH07: Estado civil \n",
    "- CH08: Estado cobertura médica\n",
    "- NIVEL_ED: Nivel educativo \n",
    "- ESTADO: Condicion de actividad\n",
    "- CAT_INAC: Categoria de inactividad\n",
    "- IPCF: Monto de ingreso per cápita familiar percibido en el mes de referencia"
   ]
  },
  {
   "cell_type": "code",
   "execution_count": 15,
   "id": "068245b7",
   "metadata": {},
   "outputs": [
    {
     "name": "stdout",
     "output_type": "stream",
     "text": [
      "ano4\n",
      "2004.0    7647\n",
      "2024.0    7051\n",
      "dtype: int64\n"
     ]
    }
   ],
   "source": [
    "#Como las variables de 2004 son categoricas voy a cambiar las variables que nos interesan para que sigan todas las mismas categorias \n",
    "conteo_año = base_prelimpieza.groupby(['ano4']).size()\n",
    "print(conteo_año)\n"
   ]
  },
  {
   "cell_type": "code",
   "execution_count": 16,
   "id": "492e28ec",
   "metadata": {},
   "outputs": [
    {
     "name": "stdout",
     "output_type": "stream",
     "text": [
      "ch06\n",
      "-1                 51\n",
      "1                 180\n",
      "2                 198\n",
      "3                 191\n",
      "4                 199\n",
      "                 ... \n",
      "95                  2\n",
      "96                  4\n",
      "97                  1\n",
      "98 y más años       4\n",
      "Menos de 1 año    131\n",
      "Length: 100, dtype: int64\n"
     ]
    }
   ],
   "source": [
    "# Hago el conteo por edades \n",
    "conteo_edad = base_prelimpieza.groupby(['ch06']).size()\n",
    "print(conteo_edad)\n"
   ]
  },
  {
   "cell_type": "code",
   "execution_count": 17,
   "id": "65971a8e",
   "metadata": {},
   "outputs": [],
   "source": [
    "# Genero una nueva base a partir de la original\n",
    "base_limpieza1 = base_prelimpieza.copy()\n",
    "# Convierto en cadena para no perder los valores numéricos\n",
    "base_limpieza1['ch06'] = base_limpieza1['ch06'].astype(str)\n",
    "# Me aseguro que las variables estén prolijas para que se hagan los cambios que le pido\n",
    "base_limpieza1['ch06'] = base_limpieza1['ch06'].str.strip().str.lower()\n",
    "# Reemplazar los valores de edad que no son numeros\n",
    "base_limpieza1['ch06'] = base_limpieza1['ch06'].replace({\n",
    "    '98 y más años': '98', \n",
    "    'menos de 1 año': '0',\n",
    "})"
   ]
  },
  {
   "cell_type": "code",
   "execution_count": 18,
   "id": "506b9262",
   "metadata": {},
   "outputs": [
    {
     "name": "stdout",
     "output_type": "stream",
     "text": [
      "ch06\n",
      "-1     51\n",
      "0     131\n",
      "1     180\n",
      "10    207\n",
      "11    208\n",
      "     ... \n",
      "94      4\n",
      "95      2\n",
      "96      4\n",
      "97      1\n",
      "98      4\n",
      "Length: 100, dtype: int64\n"
     ]
    }
   ],
   "source": [
    "#Cambio a numeros porque me duplicaba cada categoria\n",
    "base_limpieza1['ch06'] = pd.to_numeric(base_limpieza1['ch06'], errors='coerce')\n",
    "#Lo vuelvo a cambiar a caddena\n",
    "base_limpieza1['ch06'] = base_limpieza1['ch06'].astype(int).astype(str)\n",
    "conteo_edad = base_limpieza1.groupby(['ch06']).size()\n",
    "print(conteo_edad)"
   ]
  },
  {
   "cell_type": "code",
   "execution_count": 19,
   "id": "de0dbc2d",
   "metadata": {},
   "outputs": [],
   "source": [
    "# Filtrar el DataFrame para eliminar las filas donde 'ch06' sea igual a '-1'\n",
    "base_limpieza1 = base_limpieza1[base_limpieza1['ch06'] != '-1']\n"
   ]
  },
  {
   "cell_type": "code",
   "execution_count": 20,
   "id": "1ad5cc8a",
   "metadata": {},
   "outputs": [
    {
     "name": "stdout",
     "output_type": "stream",
     "text": [
      "ch06\n",
      "0     131\n",
      "1     180\n",
      "10    207\n",
      "11    208\n",
      "12    244\n",
      "     ... \n",
      "94      4\n",
      "95      2\n",
      "96      4\n",
      "97      1\n",
      "98      4\n",
      "Length: 99, dtype: int64\n",
      "Cantidad de datos eliminados con valor '-1' en 'ch06': 51\n",
      "Cantidad de datos restantes: 14647\n"
     ]
    }
   ],
   "source": [
    "conteo_edad = base_limpieza1.groupby(['ch06']).size()\n",
    "print(conteo_edad)\n",
    "\n",
    "# Contar la cantidad de datos antes de eliminar\n",
    "cantidad_pre_eliminar = len(base_prelimpieza)\n",
    "# Contar la cantidad de datos después de eliminar\n",
    "cantidad_post_eliminar = len(base_limpieza1)\n",
    "\n",
    "# Calcular y mostrar la cantidad de datos eliminados\n",
    "datos_eliminados = cantidad_pre_eliminar - cantidad_post_eliminar\n",
    "print(f\"Cantidad de datos eliminados con valor '-1' en 'ch06': {datos_eliminados}\")\n",
    "# Contar la cantidad de datos después de eliminar\n",
    "cantidad_post_eliminar = len(base_limpieza1)\n",
    "# Mostrar la cantidad de datos que quedan después de la eliminación\n",
    "print(f\"Cantidad de datos restantes: {cantidad_post_eliminar}\")"
   ]
  },
  {
   "cell_type": "code",
   "execution_count": 21,
   "id": "0f916d0c",
   "metadata": {},
   "outputs": [
    {
     "name": "stdout",
     "output_type": "stream",
     "text": [
      "ch04\n",
      "1        3371\n",
      "2        3680\n",
      "Mujer    4045\n",
      "Varón    3602\n",
      "dtype: int64\n"
     ]
    }
   ],
   "source": [
    "#Genero \n",
    "conteo_genero = base_prelimpieza.groupby(['ch04']).size()\n",
    "print(conteo_genero)"
   ]
  },
  {
   "cell_type": "code",
   "execution_count": 22,
   "id": "bccb9281",
   "metadata": {},
   "outputs": [
    {
     "name": "stdout",
     "output_type": "stream",
     "text": [
      "Resultado del cambio:\n",
      "ch04\n",
      "2    7696\n",
      "1    6951\n",
      "Name: count, dtype: int64\n"
     ]
    }
   ],
   "source": [
    "#Convierto en cadena para no perder los valores numericos\n",
    "base_limpieza1['ch04'] = base_limpieza1['ch04'].astype(str)\n",
    "#Me aseguro que las variables esten prolijas para que se hagan los cambios que le pido\n",
    "base_limpieza1['ch04'] = base_limpieza1['ch04'].str.strip().str.lower()\n",
    "#Siento que aca me podria fijar de hacerlo en una nueva base en vez de ir poniendo todo en las misma piorque si no se encima...\n",
    "# Reemplazar los valores de '1', '2', 'mujer' y 'varón'\n",
    "base_limpieza1['ch04'] = base_limpieza1['ch04'].replace({\n",
    "    '2': '2', \n",
    "    'mujer': '2',\n",
    "    '1': '1',\n",
    "    'varón': '1'\n",
    "})\n",
    "\n",
    "#Reviso que no se me pierdan datos\n",
    "print('Resultado del cambio:')\n",
    "print(base_limpieza1['ch04'].value_counts())\n"
   ]
  },
  {
   "cell_type": "code",
   "execution_count": 23,
   "id": "b6c47573",
   "metadata": {},
   "outputs": [
    {
     "name": "stdout",
     "output_type": "stream",
     "text": [
      "ch07\n",
      "1                        1297\n",
      "2                        1507\n",
      "3                         459\n",
      "4                         400\n",
      "5                        3375\n",
      "9                          13\n",
      "Casado                   2372\n",
      "Separado o divorciado     338\n",
      "Soltero                  3687\n",
      "Unido                     821\n",
      "Viudo                     429\n",
      "dtype: int64\n"
     ]
    }
   ],
   "source": [
    "conteo_estadocivil = base_prelimpieza.groupby(['ch07']).size()\n",
    "print(conteo_estadocivil)"
   ]
  },
  {
   "cell_type": "code",
   "execution_count": 24,
   "id": "c65886c8",
   "metadata": {},
   "outputs": [
    {
     "name": "stdout",
     "output_type": "stream",
     "text": [
      "Resultado del cambio:\n",
      "ch07\n",
      "5    7011\n",
      "2    3879\n",
      "1    2118\n",
      "4     829\n",
      "3     797\n",
      "9      13\n",
      "Name: count, dtype: int64\n"
     ]
    }
   ],
   "source": [
    "#Convierto en cadena para no perder los valores numericos\n",
    "base_limpieza1['ch07'] = base_limpieza1['ch07'].astype(str)\n",
    "#Me aseguro que las variables esten prolijas para que se hagan los cambios que le pido\n",
    "base_limpieza1['ch07'] = base_limpieza1['ch07'].str.strip().str.lower()\n",
    "#Siento que aca me podria fijar de hacerlo en una nueva base en vez de ir poniendo todo en las misma piorque si no se encima...\n",
    "# Reemplazar los valores \n",
    "base_limpieza1['ch07'] = base_limpieza1['ch07'].replace({\n",
    "    'unido': '1', \n",
    "    'casado': '2', \n",
    "    'separado o divorciado': '3', \n",
    "    'viudo': '4', \n",
    "    'soltero': '5'\n",
    "})\n",
    "\n",
    "#Reviso que no se me pierdan datos\n",
    "print('Resultado del cambio:')\n",
    "print(base_limpieza1['ch07'].value_counts())"
   ]
  },
  {
   "cell_type": "code",
   "execution_count": 25,
   "id": "d3dda0dd",
   "metadata": {},
   "outputs": [
    {
     "name": "stdout",
     "output_type": "stream",
     "text": [
      "ch07\n",
      "5    7011\n",
      "2    3879\n",
      "1    2118\n",
      "4     829\n",
      "3     797\n",
      "Name: count, dtype: int64\n"
     ]
    }
   ],
   "source": [
    "# Filtrar el DataFrame para eliminar las filas donde 'ch06' sea igual a '-1'\n",
    "base_limpieza2 = base_limpieza1[base_limpieza1['ch07'] != '9']\n",
    "print(base_limpieza2['ch07'].value_counts())"
   ]
  },
  {
   "cell_type": "code",
   "execution_count": 26,
   "id": "adec852f",
   "metadata": {},
   "outputs": [
    {
     "name": "stdout",
     "output_type": "stream",
     "text": [
      "ch07\n",
      "5    7011\n",
      "2    3879\n",
      "1    2118\n",
      "4     829\n",
      "3     797\n",
      "Name: count, dtype: int64\n",
      "\n",
      "Cantidad total de datos en el DataFrame original: 14647\n",
      "Cantidad de datos después del filtrado: 14634\n"
     ]
    }
   ],
   "source": [
    "# Contar la cantidad total de datos en el DataFrame original\n",
    "total_datos_original = len(base_limpieza1)\n",
    "\n",
    "# Filtrar el DataFrame para eliminar las filas donde 'ch07' sea igual a '9'\n",
    "base_limpieza2 = base_limpieza1[base_limpieza1['ch07'] != '9']\n",
    "\n",
    "# Contar la cantidad de datos después del filtrado\n",
    "total_datos_filtrados = len(base_limpieza2)\n",
    "\n",
    "# Mostrar la cantidad de registros por categoría en 'ch07'\n",
    "print(base_limpieza2['ch07'].value_counts())\n",
    "\n",
    "# Imprimir la cantidad total de datos\n",
    "print(\"\\nCantidad total de datos en el DataFrame original:\", total_datos_original)\n",
    "print(\"Cantidad de datos después del filtrado:\", total_datos_filtrados)\n"
   ]
  },
  {
   "cell_type": "code",
   "execution_count": 27,
   "id": "cb80efd6",
   "metadata": {},
   "outputs": [
    {
     "name": "stdout",
     "output_type": "stream",
     "text": [
      "ch08\n",
      "1                                                               4308\n",
      "2                                                                566\n",
      "3                                                                  2\n",
      "4                                                               2025\n",
      "9                                                                 25\n",
      "12                                                               121\n",
      "13                                                                 3\n",
      "23                                                                 1\n",
      "Mutual/Prepaga/Servicio de emergencia                            610\n",
      "Mutual/prepaga/servicio de emergencia/planes y seguros públi       4\n",
      "No paga ni le descuentan                                        3296\n",
      "Ns./Nr.                                                           11\n",
      "Obra social (incluye PAMI)                                      3568\n",
      "Obra social y mutual/prepaga/servicio de emergencia              111\n",
      "Planes y seguros públicos                                         47\n",
      "dtype: int64\n",
      "\n",
      "Cantidad total: 14698\n"
     ]
    }
   ],
   "source": [
    "conteo_coberturamedica = base_prelimpieza.groupby(['ch08']).size()\n",
    "print(conteo_coberturamedica)\n",
    "total_coberturas = conteo_coberturamedica.sum()\n",
    "print(\"\\nCantidad total:\", total_coberturas)\n"
   ]
  },
  {
   "cell_type": "code",
   "execution_count": 28,
   "id": "f0b8e233",
   "metadata": {},
   "outputs": [
    {
     "name": "stdout",
     "output_type": "stream",
     "text": [
      "Resultado del cambio:\n",
      "ch08\n",
      "1     7857\n",
      "4     5294\n",
      "2     1172\n",
      "12     232\n",
      "3       49\n",
      "9       23\n",
      "23       5\n",
      "13       2\n",
      "Name: count, dtype: int64\n"
     ]
    }
   ],
   "source": [
    "# Crear una copia de la base de datos original\n",
    "base_limpieza2 = base_limpieza2.copy()\n",
    "# Convertir a cadena para no perder los valores numéricos\n",
    "base_limpieza2.loc[:, 'ch08'] = base_limpieza2['ch08'].astype(str)\n",
    "# Asegurarse de que las variables estén prolijas\n",
    "base_limpieza2.loc[:, 'ch08'] = base_limpieza2['ch08'].str.strip().str.lower()\n",
    "\n",
    "# Reemplazar los valores\n",
    "base_limpieza2.loc[:, 'ch08'] = base_limpieza2['ch08'].replace({\n",
    "    'obra social (incluye pami)': '1',  \n",
    "    'mutual/prepaga/servicio de emergencia': '2',  \n",
    "    'planes y seguros públicos': '3',  \n",
    "    'no paga ni le descuentan': '4',  \n",
    "    'ns./nr.': '9',  \n",
    "    'obra social y mutual/prepaga/servicio de emergencia': '12',  \n",
    "    'obra social y planes y seguros públicos': '13',  \n",
    "    'mutual/prepaga/servicio de emergencia/planes y seguros públi': '23',  \n",
    "    'obra social, mutual/prepaga/servicio de emergencia y planes y seguros públicos': '123'\n",
    "})\n",
    "\n",
    "# Revisar que no se pierdan datos\n",
    "print('Resultado del cambio:')\n",
    "print(base_limpieza2['ch08'].value_counts())\n"
   ]
  },
  {
   "cell_type": "code",
   "execution_count": 29,
   "id": "8f98bef9",
   "metadata": {},
   "outputs": [
    {
     "name": "stdout",
     "output_type": "stream",
     "text": [
      "nivel_ed\n",
      "1                                                    867\n",
      "2                                                    746\n",
      "3                                                   1416\n",
      "4                                                   1610\n",
      "5                                                    882\n",
      "6                                                   1108\n",
      "7                                                    422\n",
      "Primaria Completa                                   1628\n",
      "Primaria Incompleta (incluye educación especial)    1406\n",
      "Secundaria Completa                                 1086\n",
      "Secundaria Incompleta                               1374\n",
      "Sin instrucción                                      805\n",
      "Superior Universitaria Completa                      647\n",
      "Superior Universitaria Incompleta                    701\n",
      "dtype: int64\n",
      "\n",
      "Cantidad total: 14698\n"
     ]
    }
   ],
   "source": [
    "conteo_niveleducativo = base_prelimpieza.groupby(['nivel_ed']).size()\n",
    "print(conteo_niveleducativo)\n",
    "total_niveleducativo = conteo_niveleducativo.sum()\n",
    "print(\"\\nCantidad total:\", total_niveleducativo)\n"
   ]
  },
  {
   "cell_type": "code",
   "execution_count": 30,
   "id": "4c3e57fa",
   "metadata": {},
   "outputs": [
    {
     "name": "stdout",
     "output_type": "stream",
     "text": [
      "Resultado del cambio:\n",
      "nivel_ed\n",
      "3    2786\n",
      "4    2693\n",
      "2    2371\n",
      "1    2273\n",
      "6    1755\n",
      "5    1580\n",
      "7    1176\n",
      "Name: count, dtype: int64\n"
     ]
    }
   ],
   "source": [
    "#Convierto en cadena para no perder los valores numericos\n",
    "base_limpieza2['nivel_ed'] = base_limpieza2['nivel_ed'].astype(str)\n",
    "#Me aseguro que las variables esten prolijas para que se hagan los cambios que le pido\n",
    "base_limpieza2['nivel_ed'] = base_limpieza2['nivel_ed'].str.strip().str.lower()\n",
    "#Siento que aca me podria fijar de hacerlo en una nueva base en vez de ir poniendo todo en las misma piorque si no se encima...\n",
    "# Reemplazar los valores de '1', '2', 'mujer' y 'varón'\n",
    "base_limpieza2['nivel_ed'] = base_limpieza2['nivel_ed'].replace({\n",
    "    'primaria incompleta (incluye educación especial)': '1',  \n",
    "    'primaria completa': '2',  \n",
    "    'secundaria incompleta': '3',  \n",
    "    'secundaria completa': '4',  \n",
    "    'superior universitaria incompleta': '5',  \n",
    "    'superior universitaria completa': '6',  \n",
    "    'sin instrucción': '7',  \n",
    "    'ns./nr.': '9'\n",
    "})\n",
    "\n",
    "#Reviso que no se me pierdan datos\n",
    "print('Resultado del cambio:')\n",
    "print(base_limpieza2['nivel_ed'].value_counts())\n"
   ]
  },
  {
   "cell_type": "code",
   "execution_count": 31,
   "id": "89e13881",
   "metadata": {},
   "outputs": [
    {
     "name": "stdout",
     "output_type": "stream",
     "text": [
      "estado\n",
      "0                                                                 41\n",
      "1                                                               3224\n",
      "2                                                                311\n",
      "3                                                               2662\n",
      "4                                                                813\n",
      "Desocupado                                                       528\n",
      "Entrevista individual no realizada (no respuesta al cuestion      10\n",
      "Inactivo                                                        2800\n",
      "Menor de 10 años                                                1230\n",
      "Ocupado                                                         3079\n",
      "dtype: int64\n"
     ]
    }
   ],
   "source": [
    "conte_estado = base_prelimpieza.groupby(['estado']).size()\n",
    "print(conte_estado)"
   ]
  },
  {
   "cell_type": "code",
   "execution_count": 32,
   "id": "762a1810",
   "metadata": {},
   "outputs": [
    {
     "name": "stdout",
     "output_type": "stream",
     "text": [
      "Resultado del cambio:\n",
      "estado\n",
      "1    6303\n",
      "3    5462\n",
      "4    1992\n",
      "2     839\n",
      "0      38\n",
      "Name: count, dtype: int64\n"
     ]
    }
   ],
   "source": [
    "#Convierto en cadena para no perder los valores numericos\n",
    "base_limpieza2['estado'] = base_limpieza2['estado'].astype(str)\n",
    "#Me aseguro que las variables esten prolijas para que se hagan los cambios que le pido\n",
    "base_limpieza2['estado'] = base_limpieza2['estado'].str.strip().str.lower()\n",
    "#Siento que aca me podria fijar de hacerlo en una nueva base en vez de ir poniendo todo en las misma piorque si no se encima...\n",
    "# Reemplazar los valores de '1', '2', 'mujer' y 'varón'\n",
    "base_limpieza2['estado'] = base_limpieza2['estado'].replace({\n",
    "    'ocupado': '1',  \n",
    "    'desocupado': '2',  \n",
    "    'inactivo': '3',  \n",
    "    'menor de 10 años': '4',  \n",
    "    'entrevista individual no realizada (no respuesta al cuestion': '0'\n",
    "})\n",
    "\n",
    "#Reviso que no se me pierdan datos\n",
    "print('Resultado del cambio:')\n",
    "print(base_limpieza2['estado'].value_counts())\n"
   ]
  },
  {
   "cell_type": "code",
   "execution_count": 33,
   "id": "7ad6bc2d",
   "metadata": {},
   "outputs": [
    {
     "name": "stdout",
     "output_type": "stream",
     "text": [
      "cat_inac\n",
      "0                      7193\n",
      "1                       717\n",
      "2                        18\n",
      "3                      1440\n",
      "4                       653\n",
      "5                       402\n",
      "6                        59\n",
      "7                       186\n",
      "Ama de casa             816\n",
      "Discapacitado            41\n",
      "Estudiante             1594\n",
      "Jubilado/pensionado     668\n",
      "Menor de 6 años         763\n",
      "Otros                   134\n",
      "Rentista                 14\n",
      "dtype: int64\n"
     ]
    }
   ],
   "source": [
    "conte_categorainac = base_prelimpieza.groupby(['cat_inac']).size()\n",
    "print(conte_categorainac)\n"
   ]
  },
  {
   "cell_type": "code",
   "execution_count": 34,
   "id": "9e4792ef",
   "metadata": {},
   "outputs": [
    {
     "name": "stdout",
     "output_type": "stream",
     "text": [
      "Resultado del cambio:\n",
      "cat_inac\n",
      "0    7180\n",
      "3    3034\n",
      "4    1469\n",
      "1    1385\n",
      "5    1114\n",
      "7     320\n",
      "6     100\n",
      "2      32\n",
      "Name: count, dtype: int64\n"
     ]
    }
   ],
   "source": [
    "#Convierto en cadena para no perder los valores numericos\n",
    "base_limpieza2['cat_inac'] = base_limpieza2['cat_inac'].astype(str)\n",
    "#Me aseguro que las variables esten prolijas para que se hagan los cambios que le pido\n",
    "base_limpieza2['cat_inac'] = base_limpieza2['cat_inac'].str.strip().str.lower()\n",
    "#Siento que aca me podria fijar de hacerlo en una nueva base en vez de ir poniendo todo en las misma piorque si no se encima...\n",
    "# Reemplazar los valores de '1', '2', 'mujer' y 'varón'\n",
    "base_limpieza2['cat_inac'] = base_limpieza2['cat_inac'].replace({\n",
    "    'jubilado/pensionado': '1',  \n",
    "    'rentista': '2',  \n",
    "    'estudiante': '3',  \n",
    "    'ama de casa': '4',  \n",
    "    'menor de 6 años': '5',  \n",
    "    'discapacitado': '6',  \n",
    "    'otros': '7'\n",
    "})\n",
    "\n",
    "#Cambio a numeros y lo vuelvo a cambiar a cadena porque me duplicaba los 0\n",
    "base_limpieza2['cat_inac'] = pd.to_numeric(base_limpieza2['cat_inac'], errors='coerce')\n",
    "base_limpieza2['cat_inac'] = base_limpieza2['cat_inac'].astype(int).astype(str)\n",
    "\n",
    "#Reviso que este bien\n",
    "print('Resultado del cambio:')\n",
    "print(base_limpieza2['cat_inac'].value_counts())\n"
   ]
  },
  {
   "cell_type": "code",
   "execution_count": 35,
   "id": "5b8e9c93",
   "metadata": {},
   "outputs": [
    {
     "name": "stdout",
     "output_type": "stream",
     "text": [
      "Cantidad de valores negativos en \"ipcf\": 0\n",
      "No se encontraron valores negativos en \"ipcf\".\n"
     ]
    }
   ],
   "source": [
    "valores_negativos = base_limpieza2[base_limpieza2['ipcf'] < 0]\n",
    "cantidad_negativos = len(valores_negativos)\n",
    "# Mostrar resultados\n",
    "print(f'Cantidad de valores negativos en \"ipcf\": {cantidad_negativos}')\n",
    "if cantidad_negativos > 0:\n",
    "    print('Valores negativos encontrados:')\n",
    "    print(valores_negativos['ipcf'])\n",
    "else:\n",
    "    print('No se encontraron valores negativos en \"ipcf\".')"
   ]
  },
  {
   "cell_type": "code",
   "execution_count": 36,
   "id": "51005b46",
   "metadata": {},
   "outputs": [
    {
     "name": "stdout",
     "output_type": "stream",
     "text": [
      "count: 14698\n",
      "mean: 76978.86\n",
      "std: 278296.61\n",
      "min: 0.00\n",
      "max: 11312333.33\n"
     ]
    }
   ],
   "source": [
    "# Calcular  estadísticas del monto de ingreso \n",
    "count_ipcf = base_prelimpieza['ipcf'].count()\n",
    "mean_ipcf = base_prelimpieza['ipcf'].mean()\n",
    "std_ipcf = base_prelimpieza['ipcf'].std()\n",
    "min_ipcf = base_prelimpieza['ipcf'].min()\n",
    "max_ipcf = base_prelimpieza['ipcf'].max()\n",
    "\n",
    "print(f\"count: {count_ipcf}\")\n",
    "print(f\"mean: {mean_ipcf:.2f}\")\n",
    "print(f\"std: {std_ipcf:.2f}\")\n",
    "print(f\"min: {min_ipcf:.2f}\")\n",
    "print(f\"max: {max_ipcf:.2f}\")"
   ]
  },
  {
   "cell_type": "code",
   "execution_count": 37,
   "id": "beaae2cf",
   "metadata": {},
   "outputs": [
    {
     "name": "stdout",
     "output_type": "stream",
     "text": [
      "      h15 ch04 ch06 ch07 ch08 nivel_ed estado cat_inac  ipcf\n",
      "399     2    2   49    2    4        2      0        0   0.0\n",
      "400     2    2   25    5    4        6      0        0   0.0\n",
      "401     2    1   20    5    4        5      0        0   0.0\n",
      "409     2    1   74    5    2        5      0        0   0.0\n",
      "5564    2    1   77    1    1        3      0        0   0.0\n",
      "15241   2    1   45    1    4        4      0        0   0.0\n",
      "17096   2    1   45    2    2        6      0        0   0.0\n",
      "26078   2    1   16    5    1        3      0        0   0.0\n",
      "26079   2    1   16    5    1        3      0        0   0.0\n",
      "26204   2    1   68    2    1        6      0        0   0.0\n",
      "26205   2    2   66    2    1        6      0        0   0.0\n",
      "26206   2    1   24    5    1        6      0        0   0.0\n",
      "27317   2    2   28    5    1        6      0        0   0.0\n",
      "30607   2    1   20    5    4        1      0        0   0.0\n",
      "31470   2    1   36    5    9        4      0        0   0.0\n",
      "34212   2    2   22    5    1        5      0        0   0.0\n",
      "35434   2    2   69    1    2        4      0        0   0.0\n",
      "40946   2    1   63    2    1        3      0        0   0.0\n",
      "40947   2    2   59    2    1        4      0        0   0.0\n",
      "41593   2    1   27    5    4        4      0        0   0.0\n",
      "41594   2    1   27    5    4        4      0        0   0.0\n",
      "43006   2    1   28    1    4        2      0        0   0.0\n",
      "43007   2    2   25    1    4        2      0        0   0.0\n",
      "45571   2    2   29    1    4        3      0        0   0.0\n",
      "46046   2    1   21    5    1        3      0        0   0.0\n",
      "46047   2    1   20    5    1        3      0        0   0.0\n",
      "46048   2    1   11    5    1        3      0        0   0.0\n",
      "46049   2    2   24    5    1        5      0        0   0.0\n",
      "\n",
      "Cantidad respuestas con h15 == 2: 28\n"
     ]
    }
   ],
   "source": [
    "#PREGUNTARLE A TIZI QUE OPINA\n",
    "# Filtrar los registros donde h15 == 2\n",
    "h15_no = base_limpieza2[base_limpieza2['h15'] == 2]\n",
    "\n",
    "# Obtener las respuestas relevantes\n",
    "respuestas = h15_no[['h15', 'ch04', 'ch06', 'ch07', 'ch08', 'nivel_ed', 'estado', 'cat_inac', 'ipcf']]\n",
    "\n",
    "# Imprimir las respuestas\n",
    "print(respuestas)\n",
    "\n",
    "cantidad_h15_no = len(h15_no)\n",
    "print(\"\\nCantidad respuestas con h15 == 2:\", cantidad_h15_no)"
   ]
  },
  {
   "cell_type": "code",
   "execution_count": 38,
   "id": "db3eccb3",
   "metadata": {},
   "outputs": [
    {
     "data": {
      "image/png": "[encoded data removed]",
      "text/plain": [
       "<Figure size 640x480 with 1 Axes>"
      ]
     },
     "metadata": {},
     "output_type": "display_data"
    }
   ],
   "source": [
    "# Contar la cantidad de hombres y mujeres por año\n",
    "composicion = base_prelimpieza.groupby(['ano4', 'ch04']).size().unstack(fill_value=0)\n",
    "composicion.plot(kind='bar', color=['pink', 'lightblue'])\n",
    "\n",
    "# Gráfico\n",
    "plt.title('Composición por Género en 2004 y 2024')\n",
    "plt.xlabel('Año')\n",
    "plt.ylabel('Cantidad')\n",
    "plt.xticks(rotation=0)  # Para tener las etiquetas en horizontal\n",
    "plt.legend(title='Género')\n",
    "plt.tight_layout()  # Ajustar el layout\n",
    "plt.show()\n",
    "\n",
    "#AGREGAR ETIQUETA QUE PONGA QUE 2 ES MUJER"
   ]
  },
  {
   "cell_type": "code",
   "execution_count": 39,
   "id": "ab845066",
   "metadata": {},
   "outputs": [
    {
     "name": "stdout",
     "output_type": "stream",
     "text": [
      "     ch04 ch06 ch07 ch08 nivel_ed estado cat_inac           ipcf\n",
      "245     2   85    4    1        2      1        0       0.000000\n",
      "246     1   59    2    1        6      1        0       0.000000\n",
      "247     2   57    2    1        6      1        0       0.000000\n",
      "255     1   26    5    1        6      1        0  500000.000000\n",
      "256     2   88    4    1        1      3        1       0.000000\n",
      "...   ...  ...  ...  ...      ...    ...      ...            ...\n",
      "7642    2    1    5    2        7      4        5     533.333333\n",
      "7643    1   51    2    1        2      1        0     100.000000\n",
      "7644    2   55    2    1        2      1        0     100.000000\n",
      "7645    2   12    5    1        1      3        3     100.000000\n",
      "7646    1   22    5    1        4      1        0     100.000000\n",
      "\n",
      "[14634 rows x 8 columns]\n"
     ]
    }
   ],
   "source": [
    "variable_matriz = ['ch04', 'ch06', 'ch07', 'ch08', 'nivel_ed', 'estado', 'cat_inac', 'ipcf']\n",
    "base_variables = base_limpieza2[variable_matriz]\n",
    "\n",
    "# Mostrar la nueva base de datos\n",
    "print(base_variables)"
   ]
  },
  {
   "cell_type": "code",
   "execution_count": 40,
   "id": "d71973b9",
   "metadata": {},
   "outputs": [
    {
     "name": "stdout",
     "output_type": "stream",
     "text": [
      "Index(['ch04', 'ch06', 'ch07', 'ch08', 'nivel_ed', 'estado', 'cat_inac'], dtype='object')\n"
     ]
    }
   ],
   "source": [
    "# Filtra las columnas no numéricas\n",
    "non_numeric_cols = base_variables.select_dtypes(include=['object']).columns\n",
    "print(non_numeric_cols)"
   ]
  },
  {
   "cell_type": "code",
   "execution_count": 41,
   "id": "f818c89a",
   "metadata": {},
   "outputs": [
    {
     "data": {
      "image/png": "[encoded data removed]",
      "text/plain": [
       "<Figure size 640x480 with 3 Axes>"
      ]
     },
     "metadata": {},
     "output_type": "display_data"
    }
   ],
   "source": [
    "import numpy as np\n",
    "import pandas as pd\n",
    "import seaborn as sns\n",
    "import matplotlib.pyplot as plt\n",
    "\n",
    "# Definir la paleta de colores\n",
    "palette = sns.diverging_palette(20, 220, n=256)\n",
    "\n",
    "# Definición de la función heatmap\n",
    "def heatmap(x, y, size, color, value_to_color, palette, n_colors, color_min, color_max):\n",
    "    fig, ax = plt.subplots()\n",
    "\n",
    "    # Mapeo de nombres de columnas a coordenadas enteras\n",
    "    x_labels = sorted(x.unique())\n",
    "    y_labels = sorted(y.unique())\n",
    "    x_to_num = {p[1]: p[0] for p in enumerate(x_labels)} \n",
    "    y_to_num = {p[1]: p[0] for p in enumerate(y_labels)} \n",
    "\n",
    "    size_scale = 2000\n",
    "    ax.scatter(\n",
    "        x=x.map(x_to_num),  # Usar mapeo para x\n",
    "        y=y.map(y_to_num),  # Usar mapeo para y\n",
    "        s=size * size_scale,  # Tamaños de los marcadores, proporcionales al parámetro size\n",
    "        c=color.apply(value_to_color),  # Colores de los marcadores, mapeados a la paleta de colores\n",
    "        marker='s'  # Usar cuadrados como marcadores en el gráfico de dispersión\n",
    "    )\n",
    "\n",
    "    # Mostrar etiquetas de columna en los ejes\n",
    "    ax.set_xticks([x_to_num[v] for v in x_labels])\n",
    "    ax.set_xticklabels(x_labels, rotation=45, horizontalalignment='right')\n",
    "    ax.set_yticks([y_to_num[v] for v in y_labels])\n",
    "    ax.set_yticklabels(y_labels)\n",
    "    ax.grid(False, 'major')\n",
    "    ax.grid(True, 'minor')\n",
    "    ax.set_xticks([t + 0.5 for t in ax.get_xticks()], minor=True)\n",
    "    ax.set_yticks([t + 0.5 for t in ax.get_yticks()], minor=True)   \n",
    "    ax.set_xlim([-0.5, max(x_to_num.values()) + 0.5]) \n",
    "    ax.set_ylim([-0.5, max(y_to_num.values()) + 0.5])\n",
    "\n",
    "    # Configurar una cuadrícula 1x15\n",
    "    plot_grid = plt.GridSpec(1, 15, hspace=0.2, wspace=0.1) \n",
    "    ax = plt.subplot(plot_grid[:, :-1])  # Usar las 14 columnas de la cuadrícula para el gráfico principal\n",
    "\n",
    "    # Agregar leyenda de color en el lado derecho del gráfico\n",
    "    ax_color = plt.subplot(plot_grid[:, -1])  # Usar la columna más a la derecha del gráfico\n",
    "    col_x = [0] * len(palette)  # Coordenada x fija para las barras\n",
    "    bar_y = np.linspace(color_min, color_max, n_colors)  # Coordenadas y para cada una de las n_colors barras\n",
    "\n",
    "    bar_height = bar_y[1] - bar_y[0]\n",
    "    ax_color.barh(\n",
    "        y=bar_y,\n",
    "        width=[5] * len(palette),  # Hacer las barras de 5 unidades de ancho\n",
    "        left=col_x,  # Hacer que las barras comiencen en 0\n",
    "        height=bar_height,\n",
    "        color=palette,\n",
    "        linewidth=0\n",
    "    )\n",
    "    \n",
    "    ax_color.set_xlim(1, 2)  # Recortar el gráfico en la mitad\n",
    "    ax_color.grid(False)  # Ocultar la cuadrícula\n",
    "    ax_color.set_facecolor('white')  # Hacer el fondo blanco\n",
    "    ax_color.set_xticks([])  # Eliminar las marcas horizontales\n",
    "    ax_color.set_yticks(np.linspace(min(bar_y), max(bar_y), 3))  # Mostrar marcas verticales para min, medio y max\n",
    "    ax_color.yaxis.tick_right()  # Mostrar marcas verticales a la derecha\n",
    "\n",
    "# Calcular la matriz de correlación\n",
    "matriz = base_variables.corr()\n",
    "matriz = pd.melt(matriz.reset_index(), id_vars='index')  # Deshacer el marco de datos, para obtener pares de arreglos para x e y\n",
    "matriz.columns = ['x', 'y', 'value']  # Renombrar columnas\n",
    "\n",
    "## Definir parámetros para la función heatmap\n",
    "color = matriz['value']  # Usar los valores de correlación como color\n",
    "value_to_color = lambda v: (v - color_min) / (color_max - color_min)  # Normaliza a [0, 1]\n",
    "n_colors = 256  # Número de colores\n",
    "color_min = matriz['value'].min()  # Valor mínimo de color\n",
    "color_max = matriz['value'].max()  # Valor máximo de color\n",
    "\n",
    "# Llamar a la función heatmap con todos los argumentos necesarios\n",
    "heatmap(\n",
    "    x=matriz['x'],\n",
    "    y=matriz['y'],\n",
    "    size=matriz['value'].abs(),\n",
    "    color=color,\n",
    "    value_to_color=value_to_color,\n",
    "    palette=palette,\n",
    "    n_colors=n_colors,\n",
    "    color_min=color_min,\n",
    "    color_max=color_max\n",
    ")\n"
   ]
  },
  {
   "cell_type": "code",
   "execution_count": 42,
   "id": "69c79718",
   "metadata": {},
   "outputs": [
    {
     "data": {
      "text/plain": [
       "<Axes: >"
      ]
     },
     "execution_count": 42,
     "metadata": {},
     "output_type": "execute_result"
    },
    {
     "data": {
      "image/png": "[encoded data removed]",
      "text/plain": [
       "<Figure size 640x480 with 2 Axes>"
      ]
     },
     "metadata": {},
     "output_type": "display_data"
    }
   ],
   "source": [
    "upp_mat = np.triu(base_variables.corr())\n",
    "sns.heatmap(base_variables.corr(), vmin=-1, vmax=+1, annot=True, cmap=\"coolwarm\", mask=upp_mat)"
   ]
  },
  {
   "cell_type": "code",
   "execution_count": 43,
   "id": "7f920e96",
   "metadata": {},
   "outputs": [
    {
     "name": "stdout",
     "output_type": "stream",
     "text": [
      "El total de desocupados y de inactivos es 839 y 5462, respectivamente.\n"
     ]
    }
   ],
   "source": [
    "#2C. ¿Cuántos desocupados hay en la muestra? ¿Cuántos inactivos?\n",
    "cantidad_desocupados = (base_limpieza2['estado'] == '2').sum()\n",
    "cantidad_inactivos = (base_limpieza2['estado'] == '3').sum()\n",
    "\n",
    "print(f\"El total de desocupados y de inactivos es {cantidad_desocupados} y {cantidad_inactivos}, respectivamente.\")"
   ]
  },
  {
   "cell_type": "code",
   "execution_count": 44,
   "id": "3b1dc327",
   "metadata": {},
   "outputs": [
    {
     "name": "stdout",
     "output_type": "stream",
     "text": [
      "Media de IPCF según estado:\n",
      "estado\n",
      "0                 13.82\n",
      "Ocupado       106443.40\n",
      "Desocupado     31655.96\n",
      "Inactivo       63863.08\n",
      "4              40220.54\n",
      "Name: ipcf, dtype: float64\n"
     ]
    }
   ],
   "source": [
    "# Calcular la media de IPCF según el estado\n",
    "media_ipcf_por_estado = base_limpieza2.groupby('estado')['ipcf'].mean().round(2)\n",
    "\n",
    "# Mostrar el resultado con etiquetas descriptivas\n",
    "media_ipcf_por_estado = media_ipcf_por_estado.rename({\n",
    "    '1': 'Ocupado',\n",
    "    '2': 'Desocupado',\n",
    "    '3': 'Inactivo'\n",
    "})\n",
    "\n",
    "print(\"Media de IPCF según estado:\")\n",
    "print(media_ipcf_por_estado)\n",
    "\n"
   ]
  },
  {
   "cell_type": "code",
   "execution_count": 45,
   "id": "3e94e500",
   "metadata": {},
   "outputs": [
    {
     "name": "stdout",
     "output_type": "stream",
     "text": [
      "Media de IPCF según estado, separado por año:\n",
      "     ano4            estado       ipcf\n",
      "0  2004.0      No respuesta      52.53\n",
      "1  2004.0           Ocupado     476.06\n",
      "2  2004.0        Desocupado     224.23\n",
      "3  2004.0          Inactivo     315.89\n",
      "4  2004.0  Menor de 10 años     246.26\n",
      "5  2024.0      No respuesta       0.00\n",
      "6  2024.0           Ocupado  207644.84\n",
      "7  2024.0        Desocupado   85019.15\n",
      "8  2024.0          Inactivo  130704.60\n",
      "9  2024.0  Menor de 10 años  104745.95\n"
     ]
    }
   ],
   "source": [
    "## Calcular la media de IPCF según estado y año, redondeando a 2 decimales\n",
    "base_limpieza2['ano4'] = base_limpieza2['ano4'].astype(str)\n",
    "\n",
    "media_ipcf_por_estado_ano = base_limpieza2.groupby(['ano4','estado'])['ipcf'].mean().round(2).reset_index()\n",
    "\n",
    "# Reemplazar valores numéricos de 'estado' con etiquetas descriptivas\n",
    "estado_labels = {\n",
    "    '1': 'Ocupado',\n",
    "    '2': 'Desocupado',\n",
    "    '3': 'Inactivo',\n",
    "    '4': 'Menor de 10 años',\n",
    "    '0': 'No respuesta'\n",
    "}\n",
    "media_ipcf_por_estado_ano['estado'] = media_ipcf_por_estado_ano['estado'].replace(estado_labels)\n",
    "\n",
    "print(\"Media de IPCF según estado, separado por año:\")\n",
    "print(media_ipcf_por_estado_ano)"
   ]
  },
  {
   "cell_type": "code",
   "execution_count": 47,
   "id": "0bfb0b3c",
   "metadata": {},
   "outputs": [
    {
     "name": "stdout",
     "output_type": "stream",
     "text": [
      "Número de registros con 'No respuesta': 38\n"
     ]
    }
   ],
   "source": [
    "# Contar el número de registros con 'No respuesta' en estado\n",
    "num_no_respuesta = base_limpieza2[base_limpieza2['estado'] == '0'].shape[0]\n",
    "\n",
    "print(\"Número de registros con 'No respondieron':\", num_no_respuesta)\n"
   ]
  },
  {
   "cell_type": "code",
   "execution_count": 46,
   "id": "fa2c9a3e",
   "metadata": {},
   "outputs": [
    {
     "name": "stdout",
     "output_type": "stream",
     "text": [
      "Número de registros con 'No respuesta': 38\n"
     ]
    }
   ],
   "source": [
    "# Contar y mostrar el número de registros con 'No respuesta' en una sola línea\n",
    "print(\"Número de registros con 'No respuesta':\", base_limpieza2[base_limpieza2['estado'] == '0'].shape[0])\n"
   ]
  }
 ],
 "metadata": {
  "kernelspec": {
   "display_name": "Python 3 (ipykernel)",
   "language": "python",
   "name": "python3"
  },
  "language_info": {
   "codemirror_mode": {
    "name": "ipython",
    "version": 3
   },
   "file_extension": ".py",
   "mimetype": "text/x-python",
   "name": "python",
   "nbconvert_exporter": "python",
   "pygments_lexer": "ipython3",
   "version": "3.9.19"
  }
 },
 "nbformat": 4,
 "nbformat_minor": 5
}
