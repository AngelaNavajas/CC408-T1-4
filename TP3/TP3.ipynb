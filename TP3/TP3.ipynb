{
 "cells": [
  {
   "cell_type": "code",
   "execution_count": 1,
   "id": "fa902ca5-3ffb-4261-8029-012d0d98bde1",
   "metadata": {},
   "outputs": [],
   "source": [
    "# estamos"
   ]
  },
  {
   "cell_type": "markdown",
   "id": "fa8697d4",
   "metadata": {},
   "source": [
    "**PARTE I: ANALIZANDO LA BASE**"
   ]
  },
  {
   "cell_type": "code",
   "execution_count": 3,
   "id": "41adacdf",
   "metadata": {},
   "outputs": [],
   "source": [
    "\n",
    "import pandas as pd\n",
    "import matplotlib.pyplot as plt\n",
    "from sklearn.linear_model import LinearRegression\n",
    "import seaborn as sns\n",
    "from sklearn.model_selection import train_test_split"
   ]
  },
  {
   "cell_type": "code",
   "execution_count": 66,
   "id": "ac2492ac",
   "metadata": {},
   "outputs": [],
   "source": [
    "#Bases Tizi\n",
    "#base_04_sucia = pd.read_stata(r\"C:\\Users\\tizip\\OneDrive\\Documentos\\Tizi UdeSA\\8- Ciencia de datos\\CC408-T1-4\\TP2 probar\\TP3\")\n",
    "#base_24_sucia = pd.read_excel(r\"C:\\Users\\tizip\\OneDrive\\Documentos\\Tizi UdeSA\\8- Ciencia de datos\\CC408-T1-4\\TP2 probar\\TP3\")\n",
    "\n",
    "# Base Angie\n",
    "base_04_sucia = pd.read_stata(r'/Users/angelanavajas/Desktop/Ciencia de datos/CC408-T1-4/TP3/Individual_t104.dta')\n",
    "base_24_sucia = pd.read_excel(r'/Users/angelanavajas/Desktop/Ciencia de datos/CC408-T1-4/TP3/usu_individual_T124.xlsx')\n"
   ]
  },
  {
   "cell_type": "code",
   "execution_count": 84,
   "id": "50cb5e04",
   "metadata": {},
   "outputs": [],
   "source": [
    "base_04_filtrada = base_04_sucia.loc[base_04_sucia['aglomerado'].isin([32, 33])]\n",
    "base_24_filtrada = base_24_sucia.loc[base_24_sucia['AGLOMERADO'].isin([32, 33])]"
   ]
  },
  {
   "cell_type": "code",
   "execution_count": 78,
   "id": "85bed69b",
   "metadata": {},
   "outputs": [
    {
     "name": "stdout",
     "output_type": "stream",
     "text": [
      "['CODUSU', 'nro_hogar', 'componente', 'h15', 'ano4', 'trimestre', 'region', 'mas_500', 'aglomerado', 'pondera', 'ch03', 'ch04', 'ch06', 'ch07', 'ch08', 'ch09', 'ch10', 'ch11', 'ch12', 'ch13', 'ch14', 'ch15', 'ch15_cod', 'ch16', 'ch16_cod', 'nivel_ed', 'estado', 'cat_ocup', 'cat_inac', 'pp02c1', 'pp02c2', 'pp02c3', 'pp02c4', 'pp02c5', 'pp02c6', 'pp02c7', 'pp02c8', 'pp02e', 'pp02h', 'pp02i', 'pp03c', 'pp03d', 'pp3e_tot', 'pp3f_tot', 'pp03g', 'pp03h', 'pp03i', 'pp03j', 'intensi', 'pp04a', 'pp04b_cod', 'pp04b1', 'pp04b2', 'pp04b3_mes', 'pp04b3_ano', 'pp04b3_dia', 'pp04c', 'pp04c99', 'pp04d_cod', 'pp04g', 'pp05b2_mes', 'pp05b2_ano', 'pp05b2_dia', 'pp05c_1', 'pp05c_2', 'pp05c_3', 'pp05e', 'pp05f', 'pp05h', 'pp06a', 'pp06c', 'pp06d', 'pp06e', 'pp06h', 'pp07a', 'pp07c', 'pp07d', 'pp07e', 'pp07f1', 'pp07f2', 'pp07f3', 'pp07f4', 'pp07f5', 'pp07g1', 'pp07g2', 'pp07g3', 'pp07g4', 'pp07g_59', 'pp07h', 'pp07i', 'pp07j', 'pp07k', 'pp08d1', 'pp08d4', 'pp08f1', 'pp08f2', 'pp08j1', 'pp08j2', 'pp08j3', 'pp09a', 'pp09a_esp', 'pp09b', 'pp09c', 'pp09c_esp', 'pp10a', 'pp10c', 'pp10d', 'pp10e', 'pp11a', 'pp11b_cod', 'pp11b1', 'pp11b2_mes', 'pp11b2_ano', 'pp11b2_dia', 'pp11c', 'pp11c99', 'pp11d_cod', 'pp11g_ano', 'pp11g_mes', 'pp11g_dia', 'pp11l', 'pp11l1', 'pp11m', 'pp11n', 'pp11o', 'pp11p', 'pp11q', 'pp11r', 'pp11s', 'pp11t', 'p21', 'decocur', 'idecocur', 'rdecocur', 'gdecocur', 'pdecocur', 'adecocur', 'tot_p12', 'p47t', 'decindr', 'idecindr', 'rdecindr', 'gdecindr', 'pdecindr', 'adecindr', 'v2_m', 'v3_m', 'v4_m', 'v5_m', 'v8_m', 'v9_m', 'v10_m', 'v11_m', 'v12_m', 'v18_m', 'v19_am', 'v21_m', 't_vi', 'itf', 'decifr', 'idecifr', 'rdecifr', 'gdecifr', 'pdecifr', 'adecifr', 'ipcf', 'deccfr', 'ideccfr', 'rdeccfr', 'gdeccfr', 'pdeccfr', 'adeccfr', 'pj1_1', 'pj2_1', 'pj3_1', 'idimpp']\n"
     ]
    }
   ],
   "source": [
    "# Obtener los nombres de las variables\n",
    "nombres_variables04 = base_04_sucia.columns.tolist()\n",
    "\n",
    "# Mostrar los nombres de las variables\n",
    "print(nombres_variables04)"
   ]
  },
  {
   "cell_type": "code",
   "execution_count": 7,
   "id": "18b611ef",
   "metadata": {},
   "outputs": [
    {
     "name": "stdout",
     "output_type": "stream",
     "text": [
      "['CODUSU', 'ANO4', 'TRIMESTRE', 'NRO_HOGAR', 'COMPONENTE', 'H15', 'REGION', 'MAS_500', 'AGLOMERADO', 'PONDERA', 'CH03', 'CH04', 'CH05', 'CH06', 'CH07', 'CH08', 'CH09', 'CH10', 'CH11', 'CH12', 'CH13', 'CH14', 'CH15', 'CH15_COD', 'CH16', 'CH16_COD', 'NIVEL_ED', 'ESTADO', 'CAT_OCUP', 'CAT_INAC', 'IMPUTA', 'PP02C1', 'PP02C2', 'PP02C3', 'PP02C4', 'PP02C5', 'PP02C6', 'PP02C7', 'PP02C8', 'PP02E', 'PP02H', 'PP02I', 'PP03C', 'PP03D', 'PP3E_TOT', 'PP3F_TOT', 'PP03G', 'PP03H', 'PP03I', 'PP03J', 'INTENSI', 'PP04A', 'PP04B_COD', 'PP04B1', 'PP04B2', 'PP04B3_MES', 'PP04B3_ANO', 'PP04B3_DIA', 'PP04C', 'PP04C99', 'PP04D_COD', 'PP04G', 'PP05B2_MES', 'PP05B2_ANO', 'PP05B2_DIA', 'PP05C_1', 'PP05C_2', 'PP05C_3', 'PP05E', 'PP05F', 'PP05H', 'PP06A', 'PP06C', 'PP06D', 'PP06E', 'PP06H', 'PP07A', 'PP07C', 'PP07D', 'PP07E', 'PP07F1', 'PP07F2', 'PP07F3', 'PP07F4', 'PP07F5', 'PP07G1', 'PP07G2', 'PP07G3', 'PP07G4', 'PP07G_59', 'PP07H', 'PP07I', 'PP07J', 'PP07K', 'PP08D1', 'PP08D4', 'PP08F1', 'PP08F2', 'PP08J1', 'PP08J2', 'PP08J3', 'PP09A', 'PP09A_ESP', 'PP09B', 'PP09C', 'PP09C_ESP', 'PP10A', 'PP10C', 'PP10D', 'PP10E', 'PP11A', 'PP11B_COD', 'PP11B1', 'PP11B2_MES', 'PP11B2_ANO', 'PP11B2_DIA', 'PP11C', 'PP11C99', 'PP11D_COD', 'PP11G_ANO', 'PP11G_MES', 'PP11G_DIA', 'PP11L', 'PP11L1', 'PP11M', 'PP11N', 'PP11O', 'PP11P', 'PP11Q', 'PP11R', 'PP11S', 'PP11T', 'P21', 'DECOCUR', 'IDECOCUR', 'RDECOCUR', 'GDECOCUR', 'PDECOCUR', 'ADECOCUR', 'PONDIIO', 'TOT_P12', 'P47T', 'DECINDR', 'IDECINDR', 'RDECINDR', 'GDECINDR', 'PDECINDR', 'ADECINDR', 'PONDII', 'V2_M', 'V3_M', 'V4_M', 'V5_M', 'V8_M', 'V9_M', 'V10_M', 'V11_M', 'V12_M', 'V18_M', 'V19_AM', 'V21_M', 'T_VI', 'ITF', 'DECIFR', 'IDECIFR', 'RDECIFR', 'GDECIFR', 'PDECIFR', 'ADECIFR', 'IPCF', 'DECCFR', 'IDECCFR', 'RDECCFR', 'GDECCFR', 'PDECCFR', 'ADECCFR', 'PONDIH']\n"
     ]
    }
   ],
   "source": [
    "# Obtener los nombres de las variables\n",
    "nombres_variables24 = base_24_filtrada.columns.tolist()\n",
    "\n",
    "# Mostrar los nombres de las variables\n",
    "print(nombres_variables24)"
   ]
  },
  {
   "cell_type": "code",
   "execution_count": 85,
   "id": "c9572671",
   "metadata": {},
   "outputs": [],
   "source": [
    "#Para poder unir sin problema, me aseguro que als variables esten en el mismo formato\n",
    "base_04_filtrada.columns = base_04_filtrada.columns.str.lower()\n",
    "base_24_filtrada.columns = base_24_filtrada.columns.str.lower()"
   ]
  },
  {
   "cell_type": "code",
   "execution_count": 13,
   "id": "a7e7579a",
   "metadata": {},
   "outputs": [
    {
     "name": "stdout",
     "output_type": "stream",
     "text": [
      "['codusu', 'ano4', 'trimestre', 'nro_hogar', 'componente', 'h15', 'region', 'mas_500', 'aglomerado', 'pondera', 'ch03', 'ch04', 'ch05', 'ch06', 'ch07', 'ch08', 'ch09', 'ch10', 'ch11', 'ch12', 'ch13', 'ch14', 'ch15', 'ch15_cod', 'ch16', 'ch16_cod', 'nivel_ed', 'estado', 'cat_ocup', 'cat_inac', 'imputa', 'pp02c1', 'pp02c2', 'pp02c3', 'pp02c4', 'pp02c5', 'pp02c6', 'pp02c7', 'pp02c8', 'pp02e', 'pp02h', 'pp02i', 'pp03c', 'pp03d', 'pp3e_tot', 'pp3f_tot', 'pp03g', 'pp03h', 'pp03i', 'pp03j', 'intensi', 'pp04a', 'pp04b_cod', 'pp04b1', 'pp04b2', 'pp04b3_mes', 'pp04b3_ano', 'pp04b3_dia', 'pp04c', 'pp04c99', 'pp04d_cod', 'pp04g', 'pp05b2_mes', 'pp05b2_ano', 'pp05b2_dia', 'pp05c_1', 'pp05c_2', 'pp05c_3', 'pp05e', 'pp05f', 'pp05h', 'pp06a', 'pp06c', 'pp06d', 'pp06e', 'pp06h', 'pp07a', 'pp07c', 'pp07d', 'pp07e', 'pp07f1', 'pp07f2', 'pp07f3', 'pp07f4', 'pp07f5', 'pp07g1', 'pp07g2', 'pp07g3', 'pp07g4', 'pp07g_59', 'pp07h', 'pp07i', 'pp07j', 'pp07k', 'pp08d1', 'pp08d4', 'pp08f1', 'pp08f2', 'pp08j1', 'pp08j2', 'pp08j3', 'pp09a', 'pp09a_esp', 'pp09b', 'pp09c', 'pp09c_esp', 'pp10a', 'pp10c', 'pp10d', 'pp10e', 'pp11a', 'pp11b_cod', 'pp11b1', 'pp11b2_mes', 'pp11b2_ano', 'pp11b2_dia', 'pp11c', 'pp11c99', 'pp11d_cod', 'pp11g_ano', 'pp11g_mes', 'pp11g_dia', 'pp11l', 'pp11l1', 'pp11m', 'pp11n', 'pp11o', 'pp11p', 'pp11q', 'pp11r', 'pp11s', 'pp11t', 'p21', 'decocur', 'idecocur', 'rdecocur', 'gdecocur', 'pdecocur', 'adecocur', 'pondiio', 'tot_p12', 'p47t', 'decindr', 'idecindr', 'rdecindr', 'gdecindr', 'pdecindr', 'adecindr', 'pondii', 'v2_m', 'v3_m', 'v4_m', 'v5_m', 'v8_m', 'v9_m', 'v10_m', 'v11_m', 'v12_m', 'v18_m', 'v19_am', 'v21_m', 't_vi', 'itf', 'decifr', 'idecifr', 'rdecifr', 'gdecifr', 'pdecifr', 'adecifr', 'ipcf', 'deccfr', 'ideccfr', 'rdeccfr', 'gdeccfr', 'pdeccfr', 'adeccfr', 'pondih']\n"
     ]
    }
   ],
   "source": [
    "# Obtener los nombres de las variables\n",
    "nombres_variables24 = base_24_filtrada.columns.tolist()\n",
    "\n",
    "# Mostrar los nombres de las variables\n",
    "print(nombres_variables24)"
   ]
  },
  {
   "cell_type": "code",
   "execution_count": 79,
   "id": "a36bf46f",
   "metadata": {},
   "outputs": [
    {
     "name": "stdout",
     "output_type": "stream",
     "text": [
      "         CODUSU  nro_hogar componente  h15    ano4       trimestre  \\\n",
      "0      125098          1.0        1.0   Sí  2004.0  1er. Trimestre   \n",
      "1      125397          1.0        1.0   Sí  2004.0  1er. Trimestre   \n",
      "2      125515          1.0        1.0   Sí  2004.0  1er. Trimestre   \n",
      "3      125558          1.0        1.0   Sí  2004.0  1er. Trimestre   \n",
      "4      125558          1.0        2.0   Sí  2004.0  1er. Trimestre   \n",
      "...         ...        ...        ...  ...     ...             ...   \n",
      "45284  285733          1.0        1.0   Sí  2004.0  1er. Trimestre   \n",
      "45285  285733          1.0        2.0   Sí  2004.0  1er. Trimestre   \n",
      "45286  285733          1.0        3.0   Sí  2004.0  1er. Trimestre   \n",
      "45287  285733          1.0        4.0  0.0  2004.0  1er. Trimestre   \n",
      "45288  285733          1.0        5.0  0.0  2004.0  1er. Trimestre   \n",
      "\n",
      "                  region mas_500              aglomerado  pondera  ... deccfr  \\\n",
      "0      Gran Buenos Aires       S  Ciudad de Buenos Aires   1299.0  ...     07   \n",
      "1      Gran Buenos Aires       S  Ciudad de Buenos Aires   2018.0  ...     00   \n",
      "2      Gran Buenos Aires       S  Ciudad de Buenos Aires   1486.0  ...     07   \n",
      "3      Gran Buenos Aires       S  Ciudad de Buenos Aires   1674.0  ...     08   \n",
      "4      Gran Buenos Aires       S  Ciudad de Buenos Aires   1674.0  ...     08   \n",
      "...                  ...     ...                     ...      ...  ...    ...   \n",
      "45284         Patagónica       N    Ushuaia - Río Grande    123.0  ...     09   \n",
      "45285         Patagónica       N    Ushuaia - Río Grande    123.0  ...     09   \n",
      "45286         Patagónica       N    Ushuaia - Río Grande    123.0  ...     09   \n",
      "45287         Patagónica       N    Ushuaia - Río Grande    123.0  ...     09   \n",
      "45288         Patagónica       N    Ushuaia - Río Grande    123.0  ...     09   \n",
      "\n",
      "      ideccfr rdeccfr gdeccfr pdeccfr adeccfr pj1_1 pj2_1 pj3_1 idimpp  \n",
      "0                  06      06              04   0.0   0.0   0.0  00000  \n",
      "1                  00      00              00   0.0   0.0   0.0  00000  \n",
      "2                  07      07              05   0.0   0.0   0.0  00020  \n",
      "3                  08      08              06   0.0   0.0   0.0  00000  \n",
      "4                  08      08              06   0.0   0.0   0.0  00000  \n",
      "...       ...     ...     ...     ...     ...   ...   ...   ...    ...  \n",
      "45284      09      08              09      07   0.0   0.0   0.0  00000  \n",
      "45285      09      08              09      07   0.0   0.0   0.0  00000  \n",
      "45286      09      08              09      07   0.0   0.0   0.0  00000  \n",
      "45287      09      08              09      07   0.0   0.0   0.0  00000  \n",
      "45288      09      08              09      07   0.0   0.0   0.0  00000  \n",
      "\n",
      "[45289 rows x 176 columns]\n"
     ]
    }
   ],
   "source": [
    "print(base_04_sucia)"
   ]
  },
  {
   "cell_type": "code",
   "execution_count": null,
   "id": "a659ea63",
   "metadata": {},
   "outputs": [],
   "source": []
  },
  {
   "cell_type": "code",
   "execution_count": 86,
   "id": "be4c2386",
   "metadata": {},
   "outputs": [
    {
     "name": "stdout",
     "output_type": "stream",
     "text": [
      "                              codusu    ano4 trimestre  nro_hogar componente  \\\n",
      "245    TQRMNOSUWHLKMUCDEIJAH00855260  2024.0         1        1.0          1   \n",
      "246    TQRMNOSUWHLKMUCDEIJAH00855260  2024.0         1        1.0          2   \n",
      "247    TQRMNOSUWHLKMUCDEIJAH00855260  2024.0         1        1.0          3   \n",
      "255    TQSMNORWVHLLKQCDEIJAH00856914  2024.0         1        1.0          1   \n",
      "256    TQRMNOPQQHLOLRCDEIJAH00855133  2024.0         1        1.0          1   \n",
      "...                              ...     ...       ...        ...        ...   \n",
      "46045  TQRMNOPUQHKMKNCDEIJAH00861661  2024.0         1        1.0          1   \n",
      "46046  TQRMNOPUQHKMKNCDEIJAH00861661  2024.0         1        1.0          2   \n",
      "46047  TQRMNOPUQHKMKNCDEIJAH00861661  2024.0         1        1.0          3   \n",
      "46048  TQRMNOPUQHKMKNCDEIJAH00861661  2024.0         1        1.0          4   \n",
      "46049  TQRMNOPUQHKMKNCDEIJAH00861661  2024.0         1        1.0          5   \n",
      "\n",
      "      h15 region mas_500 aglomerado  pondera  ... ideccfr rdeccfr gdeccfr  \\\n",
      "245     1      1       S         33   1810.0  ...     NaN      12    12.0   \n",
      "246     1      1       S         33   1810.0  ...     NaN      12    12.0   \n",
      "247     1      1       S         33   1810.0  ...     NaN      12    12.0   \n",
      "255     1      1       S         33   2368.0  ...     NaN       9     9.0   \n",
      "256     1      1       S         33   1223.0  ...     NaN      12    12.0   \n",
      "...    ..    ...     ...        ...      ...  ...     ...     ...     ...   \n",
      "46045   1      1       S         33   3410.0  ...     NaN      12    12.0   \n",
      "46046   2      1       S         33   3410.0  ...     NaN      12    12.0   \n",
      "46047   2      1       S         33   3410.0  ...     NaN      12    12.0   \n",
      "46048   2      1       S         33   3410.0  ...     NaN      12    12.0   \n",
      "46049   2      1       S         33   3410.0  ...     NaN      12    12.0   \n",
      "\n",
      "      pdeccfr adeccfr  pondih pj1_1 pj2_1 pj3_1 idimpp  \n",
      "245       NaN      12     0.0   NaN   NaN   NaN    NaN  \n",
      "246       NaN      12     0.0   NaN   NaN   NaN    NaN  \n",
      "247       NaN      12     0.0   NaN   NaN   NaN    NaN  \n",
      "255       NaN       9  3324.0   NaN   NaN   NaN    NaN  \n",
      "256       NaN      12     0.0   NaN   NaN   NaN    NaN  \n",
      "...       ...     ...     ...   ...   ...   ...    ...  \n",
      "46045     NaN      12     0.0   NaN   NaN   NaN    NaN  \n",
      "46046     NaN      12     0.0   NaN   NaN   NaN    NaN  \n",
      "46047     NaN      12     0.0   NaN   NaN   NaN    NaN  \n",
      "46048     NaN      12     0.0   NaN   NaN   NaN    NaN  \n",
      "46049     NaN      12     0.0   NaN   NaN   NaN    NaN  \n",
      "\n",
      "[7051 rows x 181 columns]\n"
     ]
    },
    {
     "name": "stderr",
     "output_type": "stream",
     "text": [
      "/var/folders/9r/73xgxgj17t7btpfss2pdczcr0000gn/T/ipykernel_2880/3197380078.py:1: FutureWarning: The behavior of DataFrame concatenation with empty or all-NA entries is deprecated. In a future version, this will no longer exclude empty or all-NA columns when determining the result dtypes. To retain the old behavior, exclude the relevant entries before the concat operation.\n",
      "  base_prelimpieza = pd.concat([base_24_filtrada, base_04_filtrada])\n"
     ]
    }
   ],
   "source": [
    "base_prelimpieza = pd.concat([base_24_filtrada, base_04_filtrada])\n",
    "print(base_prelimpieza)"
   ]
  },
  {
   "cell_type": "code",
   "execution_count": 82,
   "id": "f03eee17",
   "metadata": {},
   "outputs": [
    {
     "name": "stdout",
     "output_type": "stream",
     "text": [
      "category\n"
     ]
    }
   ],
   "source": [
    "print(base_prelimpieza['ch06'].dtype)\n"
   ]
  },
  {
   "cell_type": "code",
   "execution_count": 81,
   "id": "15dfe90a",
   "metadata": {},
   "outputs": [
    {
     "ename": "TypeError",
     "evalue": "Invalid comparison between dtype=category and int",
     "output_type": "error",
     "traceback": [
      "\u001b[0;31m---------------------------------------------------------------------------\u001b[0m",
      "\u001b[0;31mTypeError\u001b[0m                                 Traceback (most recent call last)",
      "Cell \u001b[0;32mIn[81], line 6\u001b[0m\n\u001b[1;32m      3\u001b[0m base_prelimpieza\u001b[38;5;241m=\u001b[39mbase_prelimpieza[(base_prelimpieza[ingresos] \u001b[38;5;241m>\u001b[39m\u001b[38;5;241m=\u001b[39m \u001b[38;5;241m0\u001b[39m)\u001b[38;5;241m.\u001b[39mall(axis\u001b[38;5;241m=\u001b[39m\u001b[38;5;241m1\u001b[39m)]\n\u001b[1;32m      5\u001b[0m \u001b[38;5;66;03m#Saco las edades negativas\u001b[39;00m\n\u001b[0;32m----> 6\u001b[0m base_prelimpieza \u001b[38;5;241m=\u001b[39m base_prelimpieza[\u001b[43mbase_prelimpieza\u001b[49m\u001b[43m[\u001b[49m\u001b[38;5;124;43m'\u001b[39;49m\u001b[38;5;124;43mch06\u001b[39;49m\u001b[38;5;124;43m'\u001b[39;49m\u001b[43m]\u001b[49m\u001b[43m \u001b[49m\u001b[38;5;241;43m>\u001b[39;49m\u001b[38;5;241;43m=\u001b[39;49m\u001b[43m \u001b[49m\u001b[38;5;241;43m0\u001b[39;49m]\n",
      "File \u001b[0;32m/opt/anaconda3/envs/datos/lib/python3.9/site-packages/pandas/core/ops/common.py:76\u001b[0m, in \u001b[0;36m_unpack_zerodim_and_defer.<locals>.new_method\u001b[0;34m(self, other)\u001b[0m\n\u001b[1;32m     72\u001b[0m             \u001b[38;5;28;01mreturn\u001b[39;00m \u001b[38;5;28mNotImplemented\u001b[39m\n\u001b[1;32m     74\u001b[0m other \u001b[38;5;241m=\u001b[39m item_from_zerodim(other)\n\u001b[0;32m---> 76\u001b[0m \u001b[38;5;28;01mreturn\u001b[39;00m \u001b[43mmethod\u001b[49m\u001b[43m(\u001b[49m\u001b[38;5;28;43mself\u001b[39;49m\u001b[43m,\u001b[49m\u001b[43m \u001b[49m\u001b[43mother\u001b[49m\u001b[43m)\u001b[49m\n",
      "File \u001b[0;32m/opt/anaconda3/envs/datos/lib/python3.9/site-packages/pandas/core/arraylike.py:60\u001b[0m, in \u001b[0;36mOpsMixin.__ge__\u001b[0;34m(self, other)\u001b[0m\n\u001b[1;32m     58\u001b[0m \u001b[38;5;129m@unpack_zerodim_and_defer\u001b[39m(\u001b[38;5;124m\"\u001b[39m\u001b[38;5;124m__ge__\u001b[39m\u001b[38;5;124m\"\u001b[39m)\n\u001b[1;32m     59\u001b[0m \u001b[38;5;28;01mdef\u001b[39;00m \u001b[38;5;21m__ge__\u001b[39m(\u001b[38;5;28mself\u001b[39m, other):\n\u001b[0;32m---> 60\u001b[0m     \u001b[38;5;28;01mreturn\u001b[39;00m \u001b[38;5;28;43mself\u001b[39;49m\u001b[38;5;241;43m.\u001b[39;49m\u001b[43m_cmp_method\u001b[49m\u001b[43m(\u001b[49m\u001b[43mother\u001b[49m\u001b[43m,\u001b[49m\u001b[43m \u001b[49m\u001b[43moperator\u001b[49m\u001b[38;5;241;43m.\u001b[39;49m\u001b[43mge\u001b[49m\u001b[43m)\u001b[49m\n",
      "File \u001b[0;32m/opt/anaconda3/envs/datos/lib/python3.9/site-packages/pandas/core/series.py:6119\u001b[0m, in \u001b[0;36mSeries._cmp_method\u001b[0;34m(self, other, op)\u001b[0m\n\u001b[1;32m   6116\u001b[0m lvalues \u001b[38;5;241m=\u001b[39m \u001b[38;5;28mself\u001b[39m\u001b[38;5;241m.\u001b[39m_values\n\u001b[1;32m   6117\u001b[0m rvalues \u001b[38;5;241m=\u001b[39m extract_array(other, extract_numpy\u001b[38;5;241m=\u001b[39m\u001b[38;5;28;01mTrue\u001b[39;00m, extract_range\u001b[38;5;241m=\u001b[39m\u001b[38;5;28;01mTrue\u001b[39;00m)\n\u001b[0;32m-> 6119\u001b[0m res_values \u001b[38;5;241m=\u001b[39m \u001b[43mops\u001b[49m\u001b[38;5;241;43m.\u001b[39;49m\u001b[43mcomparison_op\u001b[49m\u001b[43m(\u001b[49m\u001b[43mlvalues\u001b[49m\u001b[43m,\u001b[49m\u001b[43m \u001b[49m\u001b[43mrvalues\u001b[49m\u001b[43m,\u001b[49m\u001b[43m \u001b[49m\u001b[43mop\u001b[49m\u001b[43m)\u001b[49m\n\u001b[1;32m   6121\u001b[0m \u001b[38;5;28;01mreturn\u001b[39;00m \u001b[38;5;28mself\u001b[39m\u001b[38;5;241m.\u001b[39m_construct_result(res_values, name\u001b[38;5;241m=\u001b[39mres_name)\n",
      "File \u001b[0;32m/opt/anaconda3/envs/datos/lib/python3.9/site-packages/pandas/core/ops/array_ops.py:330\u001b[0m, in \u001b[0;36mcomparison_op\u001b[0;34m(left, right, op)\u001b[0m\n\u001b[1;32m    321\u001b[0m         \u001b[38;5;28;01mraise\u001b[39;00m \u001b[38;5;167;01mValueError\u001b[39;00m(\n\u001b[1;32m    322\u001b[0m             \u001b[38;5;124m\"\u001b[39m\u001b[38;5;124mLengths must match to compare\u001b[39m\u001b[38;5;124m\"\u001b[39m, lvalues\u001b[38;5;241m.\u001b[39mshape, rvalues\u001b[38;5;241m.\u001b[39mshape\n\u001b[1;32m    323\u001b[0m         )\n\u001b[1;32m    325\u001b[0m \u001b[38;5;28;01mif\u001b[39;00m should_extension_dispatch(lvalues, rvalues) \u001b[38;5;129;01mor\u001b[39;00m (\n\u001b[1;32m    326\u001b[0m     (\u001b[38;5;28misinstance\u001b[39m(rvalues, (Timedelta, BaseOffset, Timestamp)) \u001b[38;5;129;01mor\u001b[39;00m right \u001b[38;5;129;01mis\u001b[39;00m NaT)\n\u001b[1;32m    327\u001b[0m     \u001b[38;5;129;01mand\u001b[39;00m lvalues\u001b[38;5;241m.\u001b[39mdtype \u001b[38;5;241m!=\u001b[39m \u001b[38;5;28mobject\u001b[39m\n\u001b[1;32m    328\u001b[0m ):\n\u001b[1;32m    329\u001b[0m     \u001b[38;5;66;03m# Call the method on lvalues\u001b[39;00m\n\u001b[0;32m--> 330\u001b[0m     res_values \u001b[38;5;241m=\u001b[39m \u001b[43mop\u001b[49m\u001b[43m(\u001b[49m\u001b[43mlvalues\u001b[49m\u001b[43m,\u001b[49m\u001b[43m \u001b[49m\u001b[43mrvalues\u001b[49m\u001b[43m)\u001b[49m\n\u001b[1;32m    332\u001b[0m \u001b[38;5;28;01melif\u001b[39;00m is_scalar(rvalues) \u001b[38;5;129;01mand\u001b[39;00m isna(rvalues):  \u001b[38;5;66;03m# TODO: but not pd.NA?\u001b[39;00m\n\u001b[1;32m    333\u001b[0m     \u001b[38;5;66;03m# numpy does not like comparisons vs None\u001b[39;00m\n\u001b[1;32m    334\u001b[0m     \u001b[38;5;28;01mif\u001b[39;00m op \u001b[38;5;129;01mis\u001b[39;00m operator\u001b[38;5;241m.\u001b[39mne:\n",
      "File \u001b[0;32m/opt/anaconda3/envs/datos/lib/python3.9/site-packages/pandas/core/ops/common.py:76\u001b[0m, in \u001b[0;36m_unpack_zerodim_and_defer.<locals>.new_method\u001b[0;34m(self, other)\u001b[0m\n\u001b[1;32m     72\u001b[0m             \u001b[38;5;28;01mreturn\u001b[39;00m \u001b[38;5;28mNotImplemented\u001b[39m\n\u001b[1;32m     74\u001b[0m other \u001b[38;5;241m=\u001b[39m item_from_zerodim(other)\n\u001b[0;32m---> 76\u001b[0m \u001b[38;5;28;01mreturn\u001b[39;00m \u001b[43mmethod\u001b[49m\u001b[43m(\u001b[49m\u001b[38;5;28;43mself\u001b[39;49m\u001b[43m,\u001b[49m\u001b[43m \u001b[49m\u001b[43mother\u001b[49m\u001b[43m)\u001b[49m\n",
      "File \u001b[0;32m/opt/anaconda3/envs/datos/lib/python3.9/site-packages/pandas/core/arrays/categorical.py:173\u001b[0m, in \u001b[0;36m_cat_compare_op.<locals>.func\u001b[0;34m(self, other)\u001b[0m\n\u001b[1;32m    171\u001b[0m         \u001b[38;5;28;01mreturn\u001b[39;00m ret\n\u001b[1;32m    172\u001b[0m     \u001b[38;5;28;01melse\u001b[39;00m:\n\u001b[0;32m--> 173\u001b[0m         \u001b[38;5;28;01mreturn\u001b[39;00m \u001b[43mops\u001b[49m\u001b[38;5;241;43m.\u001b[39;49m\u001b[43minvalid_comparison\u001b[49m\u001b[43m(\u001b[49m\u001b[38;5;28;43mself\u001b[39;49m\u001b[43m,\u001b[49m\u001b[43m \u001b[49m\u001b[43mother\u001b[49m\u001b[43m,\u001b[49m\u001b[43m \u001b[49m\u001b[43mop\u001b[49m\u001b[43m)\u001b[49m\n\u001b[1;32m    174\u001b[0m \u001b[38;5;28;01melse\u001b[39;00m:\n\u001b[1;32m    175\u001b[0m     \u001b[38;5;66;03m# allow categorical vs object dtype array comparisons for equality\u001b[39;00m\n\u001b[1;32m    176\u001b[0m     \u001b[38;5;66;03m# these are only positional comparisons\u001b[39;00m\n\u001b[1;32m    177\u001b[0m     \u001b[38;5;28;01mif\u001b[39;00m opname \u001b[38;5;129;01mnot\u001b[39;00m \u001b[38;5;129;01min\u001b[39;00m [\u001b[38;5;124m\"\u001b[39m\u001b[38;5;124m__eq__\u001b[39m\u001b[38;5;124m\"\u001b[39m, \u001b[38;5;124m\"\u001b[39m\u001b[38;5;124m__ne__\u001b[39m\u001b[38;5;124m\"\u001b[39m]:\n",
      "File \u001b[0;32m/opt/anaconda3/envs/datos/lib/python3.9/site-packages/pandas/core/ops/invalid.py:40\u001b[0m, in \u001b[0;36minvalid_comparison\u001b[0;34m(left, right, op)\u001b[0m\n\u001b[1;32m     38\u001b[0m \u001b[38;5;28;01melse\u001b[39;00m:\n\u001b[1;32m     39\u001b[0m     typ \u001b[38;5;241m=\u001b[39m \u001b[38;5;28mtype\u001b[39m(right)\u001b[38;5;241m.\u001b[39m\u001b[38;5;18m__name__\u001b[39m\n\u001b[0;32m---> 40\u001b[0m     \u001b[38;5;28;01mraise\u001b[39;00m \u001b[38;5;167;01mTypeError\u001b[39;00m(\u001b[38;5;124mf\u001b[39m\u001b[38;5;124m\"\u001b[39m\u001b[38;5;124mInvalid comparison between dtype=\u001b[39m\u001b[38;5;132;01m{\u001b[39;00mleft\u001b[38;5;241m.\u001b[39mdtype\u001b[38;5;132;01m}\u001b[39;00m\u001b[38;5;124m and \u001b[39m\u001b[38;5;132;01m{\u001b[39;00mtyp\u001b[38;5;132;01m}\u001b[39;00m\u001b[38;5;124m\"\u001b[39m)\n\u001b[1;32m     41\u001b[0m \u001b[38;5;28;01mreturn\u001b[39;00m res_values\n",
      "\u001b[0;31mTypeError\u001b[0m: Invalid comparison between dtype=category and int"
     ]
    }
   ],
   "source": [
    "#Saco los ingresos negativos\n",
    "ingresos = ['p21', 'tot_p12', 'v2_m', 'v3_m', 'v4_m', 'v5_m', 'v8_m', 'v9_m', 'v10_m', 'v11_m', 'v12_m', 'v18_m', 'v19_am', 'v21_m', 't_vi', 'itf', 'ipcf']\n",
    "base_prelimpieza=base_prelimpieza[(base_prelimpieza[ingresos] >= 0).all(axis=1)]\n",
    "\n",
    "#Saco las edades negativas\n",
    "base_prelimpieza = base_prelimpieza[base_prelimpieza['ch06'] >= 0]"
   ]
  },
  {
   "cell_type": "code",
   "execution_count": 53,
   "id": "ddef17a0",
   "metadata": {},
   "outputs": [
    {
     "name": "stdout",
     "output_type": "stream",
     "text": [
      "      ch06 ch07\n",
      "703     15    4\n",
      "18274   16    1\n",
      "19483   15    9\n",
      "19485   15    9\n",
      "19486   15    9\n"
     ]
    }
   ],
   "source": [
    "# Edad sea menor a 17 y no son solteros \n",
    "filtro_edad = base_prelimpieza['ch06'] < 17\n",
    "filtro_edad_CH07 = base_prelimpieza['ch07'] != 5  \n",
    "registros_edad_CH07 = base_prelimpieza[filtro_edad & filtro_edad_CH07][['ch06', 'ch07']]\n",
    "print(registros_edad_CH07)"
   ]
  },
  {
   "cell_type": "code",
   "execution_count": 51,
   "id": "63e795e1",
   "metadata": {},
   "outputs": [
    {
     "name": "stdout",
     "output_type": "stream",
     "text": [
      "      ch06 ch07\n",
      "410     21    9\n",
      "411     21    9\n",
      "19483   15    9\n",
      "19484   53    9\n",
      "19485   15    9\n",
      "19486   15    9\n",
      "19597   38    9\n",
      "19598   40    9\n",
      "26395   45    9\n",
      "26398   33    9\n",
      "26399   26    9\n",
      "26400   26    9\n",
      "44940   34    9\n"
     ]
    }
   ],
   "source": [
    "# Filtrar los registros donde CH07 no sea 1, 2, 3, 4 o 5\n",
    "filtro_CH07 = ~base_prelimpieza['ch07'].isin([1, 2, 3, 4, 5])\n",
    "registros_ch07 = base_prelimpieza[filtro_CH07][['ch06', 'ch07']]\n",
    "print(registros_ch07)"
   ]
  },
  {
   "cell_type": "code",
   "execution_count": 46,
   "id": "beaae2cf",
   "metadata": {},
   "outputs": [
    {
     "name": "stdout",
     "output_type": "stream",
     "text": [
      "      h15 ch04 ch06 ch07 ch08 nivel_ed estado cat_inac  ipcf\n",
      "399     2    2   49    2    4        2      0        0   0.0\n",
      "400     2    2   25    5    4        6      0        0   0.0\n",
      "401     2    1   20    5    4        5      0        0   0.0\n",
      "409     2    1   74    5    2        5      0        0   0.0\n",
      "410     2    1   21    9    9        5      0        0   0.0\n",
      "411     2    1   21    9    9        5      0        0   0.0\n",
      "15241   2    1   45    1    4        4      0        0   0.0\n",
      "17096   2    1   45    2    2        6      0        0   0.0\n",
      "19483   2    1   15    9    9        3      0        0   0.0\n",
      "19484   2    1   53    9    9        2      0        0   0.0\n",
      "19485   2    1   15    9    9        3      0        0   0.0\n",
      "19486   2    1   15    9    9        3      0        0   0.0\n",
      "19597   2    2   38    9    9        4      0        0   0.0\n",
      "19598   2    1   40    9    9        4      0        0   0.0\n",
      "26078   2    1   16    5    1        3      0        0   0.0\n",
      "26079   2    1   16    5    1        3      0        0   0.0\n",
      "26204   2    1   68    2    1        6      0        0   0.0\n",
      "26205   2    2   66    2    1        6      0        0   0.0\n",
      "26206   2    1   24    5    1        6      0        0   0.0\n",
      "26395   2    2   45    9    9        2      0        0   0.0\n",
      "26398   2    1   33    9    9        2      0        0   0.0\n",
      "26399   2    1   26    9    9        4      0        0   0.0\n",
      "26400   2    1   26    9    9        3      0        0   0.0\n",
      "27317   2    2   28    5    1        6      0        0   0.0\n",
      "30607   2    1   20    5    4        1      0        0   0.0\n",
      "31470   2    1   36    5    9        4      0        0   0.0\n",
      "34212   2    2   22    5    1        5      0        0   0.0\n",
      "35434   2    2   69    1    2        4      0        0   0.0\n",
      "40946   2    1   63    2    1        3      0        0   0.0\n",
      "40947   2    2   59    2    1        4      0        0   0.0\n",
      "41593   2    1   27    5    4        4      0        0   0.0\n",
      "41594   2    1   27    5    4        4      0        0   0.0\n",
      "43006   2    1   28    1    4        2      0        0   0.0\n",
      "43007   2    2   25    1    4        2      0        0   0.0\n",
      "44940   2    1   34    9    4        5      0        0   0.0\n",
      "45571   2    2   29    1    4        3      0        0   0.0\n",
      "46046   2    1   21    5    1        3      0        0   0.0\n",
      "46047   2    1   20    5    1        3      0        0   0.0\n",
      "46048   2    1   11    5    1        3      0        0   0.0\n",
      "46049   2    2   24    5    1        5      0        0   0.0\n"
     ]
    }
   ],
   "source": [
    "# Dice que no se hizo la entrevista (h15 == 2)\n",
    "h15_no = base_prelimpieza[base_prelimpieza['h15'] == 2]\n",
    "respuestas = h15_no[['h15','ch04', 'ch06', 'ch07', 'ch08', 'nivel_ed', 'estado', 'cat_inac', 'ipcf']]\n",
    "print(respuestas)"
   ]
  },
  {
   "cell_type": "code",
   "execution_count": 59,
   "id": "fa003701",
   "metadata": {},
   "outputs": [
    {
     "name": "stderr",
     "output_type": "stream",
     "text": [
      "/var/folders/9r/73xgxgj17t7btpfss2pdczcr0000gn/T/ipykernel_2880/4239930409.py:10: FutureWarning: The behavior of array concatenation with empty entries is deprecated. In a future version, this will no longer exclude empty items when determining the result dtype. To retain the old behavior, exclude the empty entries before the concat operation.\n",
      "  frecuencias_combinadas = pd.DataFrame({\n"
     ]
    }
   ],
   "source": [
    "# Filtrar los datos para los años 2004 y 2024\n",
    "data_2004 = base_prelimpieza[base_prelimpieza['ano4'] == 2004]\n",
    "data_2024 = base_prelimpieza[base_prelimpieza['ano4'] == 2024]\n",
    "\n",
    "# Contar la frecuencia de CH04\n",
    "frecuencia_2004 = data_2004['ch04'].value_counts()\n",
    "frecuencia_2024 = data_2024['ch04'].value_counts()\n",
    "\n",
    "# Crear un DataFrame combinando las frecuencias\n",
    "frecuencias_combinadas = pd.DataFrame({\n",
    "    '2004': frecuencia_2004,\n",
    "    '2024': frecuencia_2024\n",
    "}).fillna(0)  # Reemplazar NaN con 0\n",
    "\n",
    "# Transponer el DataFrame para que los años sean columnas\n",
    "frecuencias_combinadas = frecuencias_combinadas.T"
   ]
  },
  {
   "cell_type": "code",
   "execution_count": 60,
   "id": "6f936c7d",
   "metadata": {},
   "outputs": [
    {
     "data": {
      "image/png": "[encoded data removed]",
      "text/plain": [
       "<Figure size 1000x600 with 1 Axes>"
      ]
     },
     "metadata": {},
     "output_type": "display_data"
    }
   ],
   "source": [
    "# Crear el gráfico de barras\n",
    "frecuencias_combinadas.plot(kind='bar', stacked=True, figsize=(10, 6))\n",
    "\n",
    "# Añadir títulos y etiquetas\n",
    "plt.title('Composición de CH04 para 2004 y 2024')\n",
    "plt.xlabel('Categorías de CH04')\n",
    "plt.ylabel('Frecuencia')\n",
    "plt.xticks(rotation=45)\n",
    "plt.legend(title='Año')\n",
    "plt.grid(axis='y')\n",
    "\n",
    "# Mostrar el gráfico\n",
    "plt.tight_layout()\n",
    "plt.show()"
   ]
  },
  {
   "cell_type": "code",
   "execution_count": 75,
   "id": "8c6ad9a7",
   "metadata": {},
   "outputs": [
    {
     "name": "stdout",
     "output_type": "stream",
     "text": [
      "Series([], dtype: int64)\n"
     ]
    }
   ],
   "source": [
    "# Verificar la cantidad de datos por año y género\n",
    "conteo = base_04_filtrada.groupby(['ano4']).size()\n",
    "print(conteo)"
   ]
  },
  {
   "cell_type": "code",
   "execution_count": 63,
   "id": "0d22e922",
   "metadata": {},
   "outputs": [
    {
     "data": {
      "image/png": "[encoded data removed]",
      "text/plain": [
       "<Figure size 640x480 with 1 Axes>"
      ]
     },
     "metadata": {},
     "output_type": "display_data"
    }
   ],
   "source": [
    "# Contar la cantidad de hombres y mujeres por año\n",
    "composicion = base_prelimpieza.groupby(['ano4', 'ch04']).size().unstack(fill_value=0)\n",
    "\n",
    "# Crear el gráfico de barras\n",
    "composicion.plot(kind='bar', stacked=True)\n",
    "\n",
    "# Personalizar el gráfico\n",
    "plt.title('Composición por Género en 2004 y 2024')\n",
    "plt.xlabel('Año')\n",
    "plt.ylabel('Cantidad')\n",
    "plt.xticks(rotation=0)  # Para tener las etiquetas en horizontal\n",
    "plt.legend(title='Género')\n",
    "plt.tight_layout()  # Ajustar el layout\n",
    "\n",
    "# Mostrar el gráfico\n",
    "plt.show()\n"
   ]
  }
 ],
 "metadata": {
  "kernelspec": {
   "display_name": "Python 3 (ipykernel)",
   "language": "python",
   "name": "python3"
  },
  "language_info": {
   "codemirror_mode": {
    "name": "ipython",
    "version": 3
   },
   "file_extension": ".py",
   "mimetype": "text/x-python",
   "name": "python",
   "nbconvert_exporter": "python",
   "pygments_lexer": "ipython3",
   "version": "3.9.19"
  }
 },
 "nbformat": 4,
 "nbformat_minor": 5
}
