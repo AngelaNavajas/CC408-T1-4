{
 "cells": [
  {
   "cell_type": "code",
   "execution_count": 138,
   "id": "fa902ca5-3ffb-4261-8029-012d0d98bde1",
   "metadata": {},
   "outputs": [],
   "source": [
    "# estamos"
   ]
  },
  {
   "cell_type": "markdown",
   "id": "fa8697d4",
   "metadata": {},
   "source": [
    "**PARTE I: ANALIZANDO LA BASE**"
   ]
  },
  {
   "cell_type": "code",
   "execution_count": 163,
   "id": "41adacdf",
   "metadata": {},
   "outputs": [],
   "source": [
    "import pandas as pd\n",
    "import matplotlib.pyplot as plt\n",
    "from sklearn.linear_model import LinearRegression\n",
    "import seaborn as sns\n",
    "from sklearn.model_selection import train_test_split"
   ]
  },
  {
   "cell_type": "code",
   "execution_count": 164,
   "id": "ac2492ac",
   "metadata": {},
   "outputs": [],
   "source": [
    "#Bases Tizi\n",
    "#base_04_sucia = pd.read_stata(r\"C:\\Users\\tizip\\OneDrive\\Documentos\\Tizi UdeSA\\8- Ciencia de datos\\CC408-T1-4\\TP3\\Individual_t104.dta\")\n",
    "#base_24_sucia = pd.read_excel(r\"C:\\Users\\tizip\\OneDrive\\Documentos\\Tizi UdeSA\\8- Ciencia de datos\\CC408-T1-4\\TP3\\usu_individual_T124.xlsx\")\n",
    "\n",
    "# Base Angie\n",
    "base_04_sucia = pd.read_stata(r'/Users/angelanavajas/Desktop/Ciencia de datos/CC408-T1-4/TP3/Individual_t104.dta')\n",
    "base_24_sucia = pd.read_excel(r'/Users/angelanavajas/Desktop/Ciencia de datos/CC408-T1-4/TP3/usu_individual_T124.xlsx')\n"
   ]
  },
  {
   "cell_type": "code",
   "execution_count": 165,
   "id": "61db4546",
   "metadata": {},
   "outputs": [
    {
     "name": "stdout",
     "output_type": "stream",
     "text": [
      "         CODUSU  nro_hogar componente  h15    ano4       trimestre  \\\n",
      "0      125098          1.0        1.0   Sí  2004.0  1er. Trimestre   \n",
      "1      125397          1.0        1.0   Sí  2004.0  1er. Trimestre   \n",
      "2      125515          1.0        1.0   Sí  2004.0  1er. Trimestre   \n",
      "3      125558          1.0        1.0   Sí  2004.0  1er. Trimestre   \n",
      "4      125558          1.0        2.0   Sí  2004.0  1er. Trimestre   \n",
      "...         ...        ...        ...  ...     ...             ...   \n",
      "45284  285733          1.0        1.0   Sí  2004.0  1er. Trimestre   \n",
      "45285  285733          1.0        2.0   Sí  2004.0  1er. Trimestre   \n",
      "45286  285733          1.0        3.0   Sí  2004.0  1er. Trimestre   \n",
      "45287  285733          1.0        4.0  0.0  2004.0  1er. Trimestre   \n",
      "45288  285733          1.0        5.0  0.0  2004.0  1er. Trimestre   \n",
      "\n",
      "                  region mas_500              aglomerado  pondera  ... deccfr  \\\n",
      "0      Gran Buenos Aires       S  Ciudad de Buenos Aires   1299.0  ...     07   \n",
      "1      Gran Buenos Aires       S  Ciudad de Buenos Aires   2018.0  ...     00   \n",
      "2      Gran Buenos Aires       S  Ciudad de Buenos Aires   1486.0  ...     07   \n",
      "3      Gran Buenos Aires       S  Ciudad de Buenos Aires   1674.0  ...     08   \n",
      "4      Gran Buenos Aires       S  Ciudad de Buenos Aires   1674.0  ...     08   \n",
      "...                  ...     ...                     ...      ...  ...    ...   \n",
      "45284         Patagónica       N    Ushuaia - Río Grande    123.0  ...     09   \n",
      "45285         Patagónica       N    Ushuaia - Río Grande    123.0  ...     09   \n",
      "45286         Patagónica       N    Ushuaia - Río Grande    123.0  ...     09   \n",
      "45287         Patagónica       N    Ushuaia - Río Grande    123.0  ...     09   \n",
      "45288         Patagónica       N    Ushuaia - Río Grande    123.0  ...     09   \n",
      "\n",
      "      ideccfr rdeccfr gdeccfr pdeccfr adeccfr pj1_1 pj2_1 pj3_1 idimpp  \n",
      "0                  06      06              04   0.0   0.0   0.0  00000  \n",
      "1                  00      00              00   0.0   0.0   0.0  00000  \n",
      "2                  07      07              05   0.0   0.0   0.0  00020  \n",
      "3                  08      08              06   0.0   0.0   0.0  00000  \n",
      "4                  08      08              06   0.0   0.0   0.0  00000  \n",
      "...       ...     ...     ...     ...     ...   ...   ...   ...    ...  \n",
      "45284      09      08              09      07   0.0   0.0   0.0  00000  \n",
      "45285      09      08              09      07   0.0   0.0   0.0  00000  \n",
      "45286      09      08              09      07   0.0   0.0   0.0  00000  \n",
      "45287      09      08              09      07   0.0   0.0   0.0  00000  \n",
      "45288      09      08              09      07   0.0   0.0   0.0  00000  \n",
      "\n",
      "[45289 rows x 176 columns]\n"
     ]
    }
   ],
   "source": [
    "print(base_04_sucia)"
   ]
  },
  {
   "cell_type": "code",
   "execution_count": 166,
   "id": "50cb5e04",
   "metadata": {},
   "outputs": [],
   "source": [
    "base_04_filtrada = base_04_sucia.loc[base_04_sucia['aglomerado'].isin(['Ciudad de Buenos Aires', 'Partidos del GBA'])]\n",
    "base_24_filtrada = base_24_sucia.loc[base_24_sucia['AGLOMERADO'].isin([32, 33])]"
   ]
  },
  {
   "cell_type": "code",
   "execution_count": 167,
   "id": "f9360246",
   "metadata": {},
   "outputs": [
    {
     "name": "stdout",
     "output_type": "stream",
     "text": [
      "                              CODUSU  ANO4  TRIMESTRE  NRO_HOGAR  COMPONENTE  \\\n",
      "245    TQRMNOSUWHLKMUCDEIJAH00855260  2024          1          1           1   \n",
      "246    TQRMNOSUWHLKMUCDEIJAH00855260  2024          1          1           2   \n",
      "247    TQRMNOSUWHLKMUCDEIJAH00855260  2024          1          1           3   \n",
      "255    TQSMNORWVHLLKQCDEIJAH00856914  2024          1          1           1   \n",
      "256    TQRMNOPQQHLOLRCDEIJAH00855133  2024          1          1           1   \n",
      "...                              ...   ...        ...        ...         ...   \n",
      "46045  TQRMNOPUQHKMKNCDEIJAH00861661  2024          1          1           1   \n",
      "46046  TQRMNOPUQHKMKNCDEIJAH00861661  2024          1          1           2   \n",
      "46047  TQRMNOPUQHKMKNCDEIJAH00861661  2024          1          1           3   \n",
      "46048  TQRMNOPUQHKMKNCDEIJAH00861661  2024          1          1           4   \n",
      "46049  TQRMNOPUQHKMKNCDEIJAH00861661  2024          1          1           5   \n",
      "\n",
      "       H15  REGION MAS_500  AGLOMERADO  PONDERA  ...  PDECIFR  ADECIFR  \\\n",
      "245      1       1       S          33     1810  ...      NaN       12   \n",
      "246      1       1       S          33     1810  ...      NaN       12   \n",
      "247      1       1       S          33     1810  ...      NaN       12   \n",
      "255      1       1       S          33     2368  ...      NaN        6   \n",
      "256      1       1       S          33     1223  ...      NaN       12   \n",
      "...    ...     ...     ...         ...      ...  ...      ...      ...   \n",
      "46045    1       1       S          33     3410  ...      NaN       12   \n",
      "46046    2       1       S          33     3410  ...      NaN       12   \n",
      "46047    2       1       S          33     3410  ...      NaN       12   \n",
      "46048    2       1       S          33     3410  ...      NaN       12   \n",
      "46049    2       1       S          33     3410  ...      NaN       12   \n",
      "\n",
      "           IPCF  DECCFR  IDECCFR  RDECCFR  GDECCFR  PDECCFR  ADECCFR  PONDIH  \n",
      "245         0.0      12      NaN       12     12.0      NaN       12       0  \n",
      "246         0.0      12      NaN       12     12.0      NaN       12       0  \n",
      "247         0.0      12      NaN       12     12.0      NaN       12       0  \n",
      "255    500000.0       9      NaN        9      9.0      NaN        9    3324  \n",
      "256         0.0      12      NaN       12     12.0      NaN       12       0  \n",
      "...         ...     ...      ...      ...      ...      ...      ...     ...  \n",
      "46045       0.0      12      NaN       12     12.0      NaN       12       0  \n",
      "46046       0.0      12      NaN       12     12.0      NaN       12       0  \n",
      "46047       0.0      12      NaN       12     12.0      NaN       12       0  \n",
      "46048       0.0      12      NaN       12     12.0      NaN       12       0  \n",
      "46049       0.0      12      NaN       12     12.0      NaN       12       0  \n",
      "\n",
      "[7051 rows x 177 columns]\n"
     ]
    }
   ],
   "source": [
    "print(base_24_filtrada)"
   ]
  },
  {
   "cell_type": "code",
   "execution_count": 208,
   "id": "b8869ff6",
   "metadata": {},
   "outputs": [
    {
     "name": "stdout",
     "output_type": "stream",
     "text": [
      "        codusu  nro_hogar componente  h15    ano4       trimestre  \\\n",
      "0     125098          1.0        1.0   Sí  2004.0  1er. Trimestre   \n",
      "1     125397          1.0        1.0   Sí  2004.0  1er. Trimestre   \n",
      "2     125515          1.0        1.0   Sí  2004.0  1er. Trimestre   \n",
      "3     125558          1.0        1.0   Sí  2004.0  1er. Trimestre   \n",
      "4     125558          1.0        2.0   Sí  2004.0  1er. Trimestre   \n",
      "...        ...        ...        ...  ...     ...             ...   \n",
      "7642  288171          1.0        3.0  0.0  2004.0  1er. Trimestre   \n",
      "7643  288405          1.0        1.0   Sí  2004.0  1er. Trimestre   \n",
      "7644  288405          1.0        2.0   Sí  2004.0  1er. Trimestre   \n",
      "7645  288405          1.0        3.0   Sí  2004.0  1er. Trimestre   \n",
      "7646  288405          1.0        4.0   Sí  2004.0  1er. Trimestre   \n",
      "\n",
      "                 region mas_500              aglomerado  pondera  ... deccfr  \\\n",
      "0     Gran Buenos Aires       S  Ciudad de Buenos Aires   1299.0  ...     07   \n",
      "1     Gran Buenos Aires       S  Ciudad de Buenos Aires   2018.0  ...     00   \n",
      "2     Gran Buenos Aires       S  Ciudad de Buenos Aires   1486.0  ...     07   \n",
      "3     Gran Buenos Aires       S  Ciudad de Buenos Aires   1674.0  ...     08   \n",
      "4     Gran Buenos Aires       S  Ciudad de Buenos Aires   1674.0  ...     08   \n",
      "...                 ...     ...                     ...      ...  ...    ...   \n",
      "7642  Gran Buenos Aires       S        Partidos del GBA   1454.0  ...     08   \n",
      "7643  Gran Buenos Aires       S        Partidos del GBA   1673.0  ...     02   \n",
      "7644  Gran Buenos Aires       S        Partidos del GBA   1673.0  ...     02   \n",
      "7645  Gran Buenos Aires       S        Partidos del GBA   1673.0  ...     02   \n",
      "7646  Gran Buenos Aires       S        Partidos del GBA   1673.0  ...     02   \n",
      "\n",
      "     ideccfr rdeccfr gdeccfr pdeccfr adeccfr pj1_1 pj2_1 pj3_1 idimpp  \n",
      "0                 06      06              04   0.0   0.0   0.0  00000  \n",
      "1                 00      00              00   0.0   0.0   0.0  00000  \n",
      "2                 07      07              05   0.0   0.0   0.0  00020  \n",
      "3                 08      08              06   0.0   0.0   0.0  00000  \n",
      "4                 08      08              06   0.0   0.0   0.0  00000  \n",
      "...      ...     ...     ...     ...     ...   ...   ...   ...    ...  \n",
      "7642              08      08              09   0.0   0.0   0.0  00000  \n",
      "7643              02      02              02   0.0   0.0   0.0  00000  \n",
      "7644              02      02              02   0.0   0.0   0.0  00000  \n",
      "7645              02      02              02   0.0   0.0   0.0  00000  \n",
      "7646              02      02              02   0.0   0.0   0.0  00000  \n",
      "\n",
      "[7647 rows x 176 columns]\n"
     ]
    }
   ],
   "source": [
    "print(base_04_filtrada)"
   ]
  },
  {
   "cell_type": "code",
   "execution_count": 169,
   "id": "85bed69b",
   "metadata": {},
   "outputs": [
    {
     "name": "stdout",
     "output_type": "stream",
     "text": [
      "['CODUSU', 'nro_hogar', 'componente', 'h15', 'ano4', 'trimestre', 'region', 'mas_500', 'aglomerado', 'pondera', 'ch03', 'ch04', 'ch06', 'ch07', 'ch08', 'ch09', 'ch10', 'ch11', 'ch12', 'ch13', 'ch14', 'ch15', 'ch15_cod', 'ch16', 'ch16_cod', 'nivel_ed', 'estado', 'cat_ocup', 'cat_inac', 'pp02c1', 'pp02c2', 'pp02c3', 'pp02c4', 'pp02c5', 'pp02c6', 'pp02c7', 'pp02c8', 'pp02e', 'pp02h', 'pp02i', 'pp03c', 'pp03d', 'pp3e_tot', 'pp3f_tot', 'pp03g', 'pp03h', 'pp03i', 'pp03j', 'intensi', 'pp04a', 'pp04b_cod', 'pp04b1', 'pp04b2', 'pp04b3_mes', 'pp04b3_ano', 'pp04b3_dia', 'pp04c', 'pp04c99', 'pp04d_cod', 'pp04g', 'pp05b2_mes', 'pp05b2_ano', 'pp05b2_dia', 'pp05c_1', 'pp05c_2', 'pp05c_3', 'pp05e', 'pp05f', 'pp05h', 'pp06a', 'pp06c', 'pp06d', 'pp06e', 'pp06h', 'pp07a', 'pp07c', 'pp07d', 'pp07e', 'pp07f1', 'pp07f2', 'pp07f3', 'pp07f4', 'pp07f5', 'pp07g1', 'pp07g2', 'pp07g3', 'pp07g4', 'pp07g_59', 'pp07h', 'pp07i', 'pp07j', 'pp07k', 'pp08d1', 'pp08d4', 'pp08f1', 'pp08f2', 'pp08j1', 'pp08j2', 'pp08j3', 'pp09a', 'pp09a_esp', 'pp09b', 'pp09c', 'pp09c_esp', 'pp10a', 'pp10c', 'pp10d', 'pp10e', 'pp11a', 'pp11b_cod', 'pp11b1', 'pp11b2_mes', 'pp11b2_ano', 'pp11b2_dia', 'pp11c', 'pp11c99', 'pp11d_cod', 'pp11g_ano', 'pp11g_mes', 'pp11g_dia', 'pp11l', 'pp11l1', 'pp11m', 'pp11n', 'pp11o', 'pp11p', 'pp11q', 'pp11r', 'pp11s', 'pp11t', 'p21', 'decocur', 'idecocur', 'rdecocur', 'gdecocur', 'pdecocur', 'adecocur', 'tot_p12', 'p47t', 'decindr', 'idecindr', 'rdecindr', 'gdecindr', 'pdecindr', 'adecindr', 'v2_m', 'v3_m', 'v4_m', 'v5_m', 'v8_m', 'v9_m', 'v10_m', 'v11_m', 'v12_m', 'v18_m', 'v19_am', 'v21_m', 't_vi', 'itf', 'decifr', 'idecifr', 'rdecifr', 'gdecifr', 'pdecifr', 'adecifr', 'ipcf', 'deccfr', 'ideccfr', 'rdeccfr', 'gdeccfr', 'pdeccfr', 'adeccfr', 'pj1_1', 'pj2_1', 'pj3_1', 'idimpp']\n"
     ]
    }
   ],
   "source": [
    "# Obtener los nombres de las variables\n",
    "nombres_variables04 = base_04_sucia.columns.tolist()\n",
    "\n",
    "# Mostrar los nombres de las variables\n",
    "print(nombres_variables04)"
   ]
  },
  {
   "cell_type": "code",
   "execution_count": 170,
   "id": "18b611ef",
   "metadata": {},
   "outputs": [
    {
     "name": "stdout",
     "output_type": "stream",
     "text": [
      "['CODUSU', 'ANO4', 'TRIMESTRE', 'NRO_HOGAR', 'COMPONENTE', 'H15', 'REGION', 'MAS_500', 'AGLOMERADO', 'PONDERA', 'CH03', 'CH04', 'CH05', 'CH06', 'CH07', 'CH08', 'CH09', 'CH10', 'CH11', 'CH12', 'CH13', 'CH14', 'CH15', 'CH15_COD', 'CH16', 'CH16_COD', 'NIVEL_ED', 'ESTADO', 'CAT_OCUP', 'CAT_INAC', 'IMPUTA', 'PP02C1', 'PP02C2', 'PP02C3', 'PP02C4', 'PP02C5', 'PP02C6', 'PP02C7', 'PP02C8', 'PP02E', 'PP02H', 'PP02I', 'PP03C', 'PP03D', 'PP3E_TOT', 'PP3F_TOT', 'PP03G', 'PP03H', 'PP03I', 'PP03J', 'INTENSI', 'PP04A', 'PP04B_COD', 'PP04B1', 'PP04B2', 'PP04B3_MES', 'PP04B3_ANO', 'PP04B3_DIA', 'PP04C', 'PP04C99', 'PP04D_COD', 'PP04G', 'PP05B2_MES', 'PP05B2_ANO', 'PP05B2_DIA', 'PP05C_1', 'PP05C_2', 'PP05C_3', 'PP05E', 'PP05F', 'PP05H', 'PP06A', 'PP06C', 'PP06D', 'PP06E', 'PP06H', 'PP07A', 'PP07C', 'PP07D', 'PP07E', 'PP07F1', 'PP07F2', 'PP07F3', 'PP07F4', 'PP07F5', 'PP07G1', 'PP07G2', 'PP07G3', 'PP07G4', 'PP07G_59', 'PP07H', 'PP07I', 'PP07J', 'PP07K', 'PP08D1', 'PP08D4', 'PP08F1', 'PP08F2', 'PP08J1', 'PP08J2', 'PP08J3', 'PP09A', 'PP09A_ESP', 'PP09B', 'PP09C', 'PP09C_ESP', 'PP10A', 'PP10C', 'PP10D', 'PP10E', 'PP11A', 'PP11B_COD', 'PP11B1', 'PP11B2_MES', 'PP11B2_ANO', 'PP11B2_DIA', 'PP11C', 'PP11C99', 'PP11D_COD', 'PP11G_ANO', 'PP11G_MES', 'PP11G_DIA', 'PP11L', 'PP11L1', 'PP11M', 'PP11N', 'PP11O', 'PP11P', 'PP11Q', 'PP11R', 'PP11S', 'PP11T', 'P21', 'DECOCUR', 'IDECOCUR', 'RDECOCUR', 'GDECOCUR', 'PDECOCUR', 'ADECOCUR', 'PONDIIO', 'TOT_P12', 'P47T', 'DECINDR', 'IDECINDR', 'RDECINDR', 'GDECINDR', 'PDECINDR', 'ADECINDR', 'PONDII', 'V2_M', 'V3_M', 'V4_M', 'V5_M', 'V8_M', 'V9_M', 'V10_M', 'V11_M', 'V12_M', 'V18_M', 'V19_AM', 'V21_M', 'T_VI', 'ITF', 'DECIFR', 'IDECIFR', 'RDECIFR', 'GDECIFR', 'PDECIFR', 'ADECIFR', 'IPCF', 'DECCFR', 'IDECCFR', 'RDECCFR', 'GDECCFR', 'PDECCFR', 'ADECCFR', 'PONDIH']\n"
     ]
    }
   ],
   "source": [
    "# Obtener los nombres de las variables\n",
    "nombres_variables24 = base_24_filtrada.columns.tolist()\n",
    "\n",
    "# Mostrar los nombres de las variables\n",
    "print(nombres_variables24)"
   ]
  },
  {
   "cell_type": "code",
   "execution_count": 171,
   "id": "c9572671",
   "metadata": {},
   "outputs": [],
   "source": [
    "#Para poder unir sin problema, me aseguro que als variables esten en el mismo formato\n",
    "base_04_filtrada.columns = base_04_filtrada.columns.str.lower()\n",
    "base_24_filtrada.columns = base_24_filtrada.columns.str.lower()"
   ]
  },
  {
   "cell_type": "code",
   "execution_count": 172,
   "id": "a7e7579a",
   "metadata": {},
   "outputs": [
    {
     "name": "stdout",
     "output_type": "stream",
     "text": [
      "['codusu', 'ano4', 'trimestre', 'nro_hogar', 'componente', 'h15', 'region', 'mas_500', 'aglomerado', 'pondera', 'ch03', 'ch04', 'ch05', 'ch06', 'ch07', 'ch08', 'ch09', 'ch10', 'ch11', 'ch12', 'ch13', 'ch14', 'ch15', 'ch15_cod', 'ch16', 'ch16_cod', 'nivel_ed', 'estado', 'cat_ocup', 'cat_inac', 'imputa', 'pp02c1', 'pp02c2', 'pp02c3', 'pp02c4', 'pp02c5', 'pp02c6', 'pp02c7', 'pp02c8', 'pp02e', 'pp02h', 'pp02i', 'pp03c', 'pp03d', 'pp3e_tot', 'pp3f_tot', 'pp03g', 'pp03h', 'pp03i', 'pp03j', 'intensi', 'pp04a', 'pp04b_cod', 'pp04b1', 'pp04b2', 'pp04b3_mes', 'pp04b3_ano', 'pp04b3_dia', 'pp04c', 'pp04c99', 'pp04d_cod', 'pp04g', 'pp05b2_mes', 'pp05b2_ano', 'pp05b2_dia', 'pp05c_1', 'pp05c_2', 'pp05c_3', 'pp05e', 'pp05f', 'pp05h', 'pp06a', 'pp06c', 'pp06d', 'pp06e', 'pp06h', 'pp07a', 'pp07c', 'pp07d', 'pp07e', 'pp07f1', 'pp07f2', 'pp07f3', 'pp07f4', 'pp07f5', 'pp07g1', 'pp07g2', 'pp07g3', 'pp07g4', 'pp07g_59', 'pp07h', 'pp07i', 'pp07j', 'pp07k', 'pp08d1', 'pp08d4', 'pp08f1', 'pp08f2', 'pp08j1', 'pp08j2', 'pp08j3', 'pp09a', 'pp09a_esp', 'pp09b', 'pp09c', 'pp09c_esp', 'pp10a', 'pp10c', 'pp10d', 'pp10e', 'pp11a', 'pp11b_cod', 'pp11b1', 'pp11b2_mes', 'pp11b2_ano', 'pp11b2_dia', 'pp11c', 'pp11c99', 'pp11d_cod', 'pp11g_ano', 'pp11g_mes', 'pp11g_dia', 'pp11l', 'pp11l1', 'pp11m', 'pp11n', 'pp11o', 'pp11p', 'pp11q', 'pp11r', 'pp11s', 'pp11t', 'p21', 'decocur', 'idecocur', 'rdecocur', 'gdecocur', 'pdecocur', 'adecocur', 'pondiio', 'tot_p12', 'p47t', 'decindr', 'idecindr', 'rdecindr', 'gdecindr', 'pdecindr', 'adecindr', 'pondii', 'v2_m', 'v3_m', 'v4_m', 'v5_m', 'v8_m', 'v9_m', 'v10_m', 'v11_m', 'v12_m', 'v18_m', 'v19_am', 'v21_m', 't_vi', 'itf', 'decifr', 'idecifr', 'rdecifr', 'gdecifr', 'pdecifr', 'adecifr', 'ipcf', 'deccfr', 'ideccfr', 'rdeccfr', 'gdeccfr', 'pdeccfr', 'adeccfr', 'pondih']\n"
     ]
    }
   ],
   "source": [
    "# Obtener los nombres de las variables\n",
    "nombres_variables24 = base_24_filtrada.columns.tolist()\n",
    "\n",
    "# Mostrar los nombres de las variables\n",
    "print(nombres_variables24)"
   ]
  },
  {
   "cell_type": "code",
   "execution_count": 309,
   "id": "be4c2386",
   "metadata": {},
   "outputs": [
    {
     "name": "stdout",
     "output_type": "stream",
     "text": [
      "                             codusu    ano4       trimestre  nro_hogar  \\\n",
      "245   TQRMNOSUWHLKMUCDEIJAH00855260  2024.0               1        1.0   \n",
      "246   TQRMNOSUWHLKMUCDEIJAH00855260  2024.0               1        1.0   \n",
      "247   TQRMNOSUWHLKMUCDEIJAH00855260  2024.0               1        1.0   \n",
      "255   TQSMNORWVHLLKQCDEIJAH00856914  2024.0               1        1.0   \n",
      "256   TQRMNOPQQHLOLRCDEIJAH00855133  2024.0               1        1.0   \n",
      "...                             ...     ...             ...        ...   \n",
      "7642                       288171    2004.0  1er. Trimestre        1.0   \n",
      "7643                       288405    2004.0  1er. Trimestre        1.0   \n",
      "7644                       288405    2004.0  1er. Trimestre        1.0   \n",
      "7645                       288405    2004.0  1er. Trimestre        1.0   \n",
      "7646                       288405    2004.0  1er. Trimestre        1.0   \n",
      "\n",
      "     componente  h15             region mas_500        aglomerado  pondera  \\\n",
      "245           1    1                  1       S                33   1810.0   \n",
      "246           2    1                  1       S                33   1810.0   \n",
      "247           3    1                  1       S                33   1810.0   \n",
      "255           1    1                  1       S                33   2368.0   \n",
      "256           1    1                  1       S                33   1223.0   \n",
      "...         ...  ...                ...     ...               ...      ...   \n",
      "7642        3.0  0.0  Gran Buenos Aires       S  Partidos del GBA   1454.0   \n",
      "7643        1.0   Sí  Gran Buenos Aires       S  Partidos del GBA   1673.0   \n",
      "7644        2.0   Sí  Gran Buenos Aires       S  Partidos del GBA   1673.0   \n",
      "7645        3.0   Sí  Gran Buenos Aires       S  Partidos del GBA   1673.0   \n",
      "7646        4.0   Sí  Gran Buenos Aires       S  Partidos del GBA   1673.0   \n",
      "\n",
      "      ... ideccfr rdeccfr gdeccfr pdeccfr adeccfr  pondih pj1_1 pj2_1 pj3_1  \\\n",
      "245   ...     NaN      12    12.0     NaN      12     0.0   NaN   NaN   NaN   \n",
      "246   ...     NaN      12    12.0     NaN      12     0.0   NaN   NaN   NaN   \n",
      "247   ...     NaN      12    12.0     NaN      12     0.0   NaN   NaN   NaN   \n",
      "255   ...     NaN       9     9.0     NaN       9  3324.0   NaN   NaN   NaN   \n",
      "256   ...     NaN      12    12.0     NaN      12     0.0   NaN   NaN   NaN   \n",
      "...   ...     ...     ...     ...     ...     ...     ...   ...   ...   ...   \n",
      "7642  ...              08      08              09     NaN   0.0   0.0   0.0   \n",
      "7643  ...              02      02              02     NaN   0.0   0.0   0.0   \n",
      "7644  ...              02      02              02     NaN   0.0   0.0   0.0   \n",
      "7645  ...              02      02              02     NaN   0.0   0.0   0.0   \n",
      "7646  ...              02      02              02     NaN   0.0   0.0   0.0   \n",
      "\n",
      "     idimpp  \n",
      "245     NaN  \n",
      "246     NaN  \n",
      "247     NaN  \n",
      "255     NaN  \n",
      "256     NaN  \n",
      "...     ...  \n",
      "7642  00000  \n",
      "7643  00000  \n",
      "7644  00000  \n",
      "7645  00000  \n",
      "7646  00000  \n",
      "\n",
      "[14698 rows x 181 columns]\n"
     ]
    }
   ],
   "source": [
    "base_prelimpieza = pd.concat([base_24_filtrada, base_04_filtrada])\n",
    "print(base_prelimpieza)\n",
    "\n"
   ]
  },
  {
   "cell_type": "code",
   "execution_count": 295,
   "id": "e26f26d8",
   "metadata": {},
   "outputs": [
    {
     "name": "stdout",
     "output_type": "stream",
     "text": [
      "245          0.000000\n",
      "246          0.000000\n",
      "247          0.000000\n",
      "255     500000.000000\n",
      "256          0.000000\n",
      "            ...      \n",
      "7642       533.333333\n",
      "7643       100.000000\n",
      "7644       100.000000\n",
      "7645       100.000000\n",
      "7646       100.000000\n",
      "Name: ipcf, Length: 14698, dtype: float64\n"
     ]
    }
   ],
   "source": [
    "print(base_prelimpieza['ipcf'])\n"
   ]
  },
  {
   "cell_type": "markdown",
   "id": "6975245f",
   "metadata": {},
   "source": [
    "Las variables que vamos a usar son:\n",
    "- CH04: Sexo\n",
    "- CH06: Años\n",
    "- CH07: Estado civil \n",
    "- CH08: Estado cobertura médica\n",
    "- NIVEL_ED: Nivel educativo \n",
    "- ESTADO: Condicion de actividad\n",
    "- CAT_INAC: Categoria de inactividad\n",
    "- IPCF: Monto de ingreso per cápita familiar percibido en el mes de referencia"
   ]
  },
  {
   "cell_type": "code",
   "execution_count": 224,
   "id": "068245b7",
   "metadata": {},
   "outputs": [
    {
     "name": "stdout",
     "output_type": "stream",
     "text": [
      "ano4\n",
      "2004.0    7647\n",
      "2024.0    7051\n",
      "dtype: int64\n"
     ]
    }
   ],
   "source": [
    "#Como las variables de 2004 son categoricas voy a cambiar las variables que nos interesan para que sigan todas las mismas categorias \n",
    "conteo_año = base_prelimpieza.groupby(['ano4']).size()\n",
    "print(conteo_año)\n"
   ]
  },
  {
   "cell_type": "code",
   "execution_count": 225,
   "id": "bccb9281",
   "metadata": {},
   "outputs": [
    {
     "name": "stdout",
     "output_type": "stream",
     "text": [
      "ch04\n",
      "1        3371\n",
      "2        3680\n",
      "Mujer    4045\n",
      "Varón    3602\n",
      "dtype: int64\n",
      "Resultado del cambio:\n",
      "ch04\n",
      "mujer    7725\n",
      "varón    6973\n",
      "Name: count, dtype: int64\n"
     ]
    }
   ],
   "source": [
    "conteo_genero = base_prelimpieza.groupby(['ch04']).size()\n",
    "print(conteo_genero)\n",
    "#Convierto en cadena para no perder los valores numericos\n",
    "base_prelimpieza['ch04'] = base_prelimpieza['ch04'].astype(str)\n",
    "#Me aseguro que las variables esten prolijas para que se hagan los cambios que le pido\n",
    "base_prelimpieza['ch04'] = base_prelimpieza['ch04'].str.strip().str.lower()\n",
    "#Siento que aca me podria fijar de hacerlo en una nueva base en vez de ir poniendo todo en las misma piorque si no se encima...\n",
    "# Reemplazar los valores de '1', '2', 'mujer' y 'varón'\n",
    "base_prelimpieza['ch04'] = base_prelimpieza['ch04'].replace({\n",
    "    '2': 'mujer', \n",
    "    'mujer': 'mujer',\n",
    "    '1': 'varón',\n",
    "    'varón': 'varón'\n",
    "})\n",
    "\n",
    "#Reviso que no se me pierdan datos\n",
    "print('Resultado del cambio:')\n",
    "print(base_prelimpieza['ch04'].value_counts())\n"
   ]
  },
  {
   "cell_type": "code",
   "execution_count": 226,
   "id": "b6c47573",
   "metadata": {},
   "outputs": [
    {
     "name": "stdout",
     "output_type": "stream",
     "text": [
      "ch07\n",
      "1                        1297\n",
      "2                        1507\n",
      "3                         459\n",
      "4                         400\n",
      "5                        3375\n",
      "9                          13\n",
      "Casado                   2372\n",
      "Separado o divorciado     338\n",
      "Soltero                  3687\n",
      "Unido                     821\n",
      "Viudo                     429\n",
      "dtype: int64\n"
     ]
    }
   ],
   "source": [
    "conteo_estadocivil = base_prelimpieza.groupby(['ch07']).size()\n",
    "print(conteo_estadocivil)"
   ]
  },
  {
   "cell_type": "code",
   "execution_count": 250,
   "id": "c65886c8",
   "metadata": {},
   "outputs": [
    {
     "name": "stdout",
     "output_type": "stream",
     "text": [
      "Resultado del cambio:\n",
      "ch07\n",
      "5    7062\n",
      "2    3879\n",
      "1    2118\n",
      "4     829\n",
      "3     797\n",
      "9      13\n",
      "Name: count, dtype: int64\n"
     ]
    }
   ],
   "source": [
    "#Convierto en cadena para no perder los valores numericos\n",
    "base_prelimpieza['ch07'] = base_prelimpieza['ch07'].astype(str)\n",
    "#Me aseguro que las variables esten prolijas para que se hagan los cambios que le pido\n",
    "base_prelimpieza['ch07'] = base_prelimpieza['ch07'].str.strip().str.lower()\n",
    "#Siento que aca me podria fijar de hacerlo en una nueva base en vez de ir poniendo todo en las misma piorque si no se encima...\n",
    "# Reemplazar los valores de '1', '2', 'mujer' y 'varón'\n",
    "base_prelimpieza['ch07'] = base_prelimpieza['ch07'].replace({\n",
    "    'unido': '1', \n",
    "    'casado': '2', \n",
    "    'separado o divorciado': '3', \n",
    "    'viudo': '4', \n",
    "    'soltero': '5'\n",
    "})\n",
    "\n",
    "#Reviso que no se me pierdan datos\n",
    "print('Resultado del cambio:')\n",
    "print(base_prelimpieza['ch07'].value_counts())"
   ]
  },
  {
   "cell_type": "code",
   "execution_count": 252,
   "id": "cb80efd6",
   "metadata": {},
   "outputs": [
    {
     "name": "stdout",
     "output_type": "stream",
     "text": [
      "ch08\n",
      "1                                                               4308\n",
      "12                                                               121\n",
      "13                                                                 3\n",
      "2                                                                566\n",
      "23                                                                 1\n",
      "3                                                                  2\n",
      "4                                                               2025\n",
      "9                                                                 25\n",
      "mutual/prepaga/servicio de emergencia                            610\n",
      "mutual/prepaga/servicio de emergencia/planes y seguros públi       4\n",
      "no paga ni le descuentan                                        3296\n",
      "ns./nr.                                                           11\n",
      "obra social (incluye pami)                                      3568\n",
      "obra social y mutual/prepaga/servicio de emergencia              111\n",
      "planes y seguros públicos                                         47\n",
      "dtype: int64\n",
      "\n",
      "Cantidad total: 14698\n"
     ]
    }
   ],
   "source": [
    "conteo_coberturamedica = base_prelimpieza.groupby(['ch08']).size()\n",
    "print(conteo_coberturamedica)\n",
    "total_coberturas = conteo_coberturamedica.sum()\n",
    "print(\"\\nCantidad total:\", total_coberturas)\n"
   ]
  },
  {
   "cell_type": "code",
   "execution_count": 253,
   "id": "a9625110",
   "metadata": {},
   "outputs": [
    {
     "name": "stdout",
     "output_type": "stream",
     "text": [
      "Resultado del cambio:\n",
      "ch08\n",
      "1     7876\n",
      "4     5321\n",
      "2     1176\n",
      "12     232\n",
      "3       49\n",
      "9       36\n",
      "23       5\n",
      "13       3\n",
      "Name: count, dtype: int64\n",
      "\n",
      "Cantidad total: 14698\n"
     ]
    }
   ],
   "source": [
    "#Convierto en cadena para no perder los valores numericos\n",
    "base_prelimpieza['ch08'] = base_prelimpieza['ch08'].astype(str)\n",
    "#Me aseguro que las variables esten prolijas para que se hagan los cambios que le pido\n",
    "base_prelimpieza['ch08'] = base_prelimpieza['ch08'].str.strip().str.lower()\n",
    "#Siento que aca me podria fijar de hacerlo en una nueva base en vez de ir poniendo todo en las misma piorque si no se encima...\n",
    "# Reemplazar los valores de '1', '2', 'mujer' y 'varón'\n",
    "base_prelimpieza['ch08'] = base_prelimpieza['ch08'].replace({\n",
    "    'obra social (incluye pami)': '1',  \n",
    "    'mutual/prepaga/servicio de emergencia': '2',  \n",
    "    'planes y seguros públicos': '3',  \n",
    "    'no paga ni le descuentan': '4',  \n",
    "    'ns./nr.': '9',  \n",
    "    'obra social y mutual/prepaga/servicio de emergencia': '12',  \n",
    "    'obra social y planes y seguros públicos': '13',  \n",
    "    'mutual/prepaga/servicio de emergencia/planes y seguros públi': '23',  \n",
    "    'obra social, mutual/prepaga/servicio de emergencia y planes y seguros públicos': '123'\n",
    "})\n",
    "\n",
    "#Reviso que no se me pierdan datos\n",
    "print('Resultado del cambio:')\n",
    "print(base_prelimpieza['ch08'].value_counts())\n",
    "total_coberturas = conteo_coberturamedica.sum()\n",
    "print(\"\\nCantidad total:\", total_coberturas)"
   ]
  },
  {
   "cell_type": "code",
   "execution_count": 267,
   "id": "8f98bef9",
   "metadata": {},
   "outputs": [
    {
     "name": "stdout",
     "output_type": "stream",
     "text": [
      "nivel_ed\n",
      "1                                                    867\n",
      "2                                                    746\n",
      "3                                                   1416\n",
      "4                                                   1610\n",
      "5                                                    882\n",
      "6                                                   1108\n",
      "7                                                    422\n",
      "Primaria Completa                                   1628\n",
      "Primaria Incompleta (incluye educación especial)    1406\n",
      "Secundaria Completa                                 1086\n",
      "Secundaria Incompleta                               1374\n",
      "Sin instrucción                                      805\n",
      "Superior Universitaria Completa                      647\n",
      "Superior Universitaria Incompleta                    701\n",
      "dtype: int64\n",
      "\n",
      "Cantidad total: 14698\n"
     ]
    }
   ],
   "source": [
    "conteo_niveleducativo = base_prelimpieza.groupby(['nivel_ed']).size()\n",
    "print(conteo_niveleducativo)\n",
    "total_niveleducativo = conteo_niveleducativo.sum()\n",
    "print(\"\\nCantidad total:\", total_niveleducativo)\n"
   ]
  },
  {
   "cell_type": "code",
   "execution_count": 269,
   "id": "4c3e57fa",
   "metadata": {},
   "outputs": [
    {
     "name": "stdout",
     "output_type": "stream",
     "text": [
      "Resultado del cambio:\n",
      "nivel_ed\n",
      "3    2790\n",
      "4    2696\n",
      "2    2374\n",
      "1    2273\n",
      "6    1755\n",
      "5    1583\n",
      "7    1227\n",
      "Name: count, dtype: int64\n",
      "\n",
      "Cantidad total: 14698\n"
     ]
    }
   ],
   "source": [
    "#Convierto en cadena para no perder los valores numericos\n",
    "base_prelimpieza['nivel_ed'] = base_prelimpieza['nivel_ed'].astype(str)\n",
    "#Me aseguro que las variables esten prolijas para que se hagan los cambios que le pido\n",
    "base_prelimpieza['nivel_ed'] = base_prelimpieza['nivel_ed'].str.strip().str.lower()\n",
    "#Siento que aca me podria fijar de hacerlo en una nueva base en vez de ir poniendo todo en las misma piorque si no se encima...\n",
    "# Reemplazar los valores de '1', '2', 'mujer' y 'varón'\n",
    "base_prelimpieza['nivel_ed'] = base_prelimpieza['nivel_ed'].replace({\n",
    "    'primaria incompleta (incluye educación especial)': '1',  \n",
    "    'primaria completa': '2',  \n",
    "    'secundaria incompleta': '3',  \n",
    "    'secundaria completa': '4',  \n",
    "    'superior universitaria incompleta': '5',  \n",
    "    'superior universitaria completa': '6',  \n",
    "    'sin instrucción': '7',  \n",
    "    'ns./nr.': '9'\n",
    "})\n",
    "\n",
    "#Reviso que no se me pierdan datos\n",
    "print('Resultado del cambio:')\n",
    "print(base_prelimpieza['nivel_ed'].value_counts())\n",
    "total_niveleducativo = conteo_niveleducativo.sum()\n",
    "print(\"\\nCantidad total:\", total_niveleducativo)"
   ]
  },
  {
   "cell_type": "code",
   "execution_count": 270,
   "id": "89e13881",
   "metadata": {},
   "outputs": [
    {
     "name": "stdout",
     "output_type": "stream",
     "text": [
      "estado\n",
      "0                                                                 41\n",
      "1                                                               3224\n",
      "2                                                                311\n",
      "3                                                               2662\n",
      "4                                                                813\n",
      "Desocupado                                                       528\n",
      "Entrevista individual no realizada (no respuesta al cuestion      10\n",
      "Inactivo                                                        2800\n",
      "Menor de 10 años                                                1230\n",
      "Ocupado                                                         3079\n",
      "dtype: int64\n"
     ]
    }
   ],
   "source": [
    "conte_estado = base_prelimpieza.groupby(['estado']).size()\n",
    "print(conte_estado)"
   ]
  },
  {
   "cell_type": "code",
   "execution_count": 273,
   "id": "762a1810",
   "metadata": {},
   "outputs": [
    {
     "name": "stdout",
     "output_type": "stream",
     "text": [
      "Resultado del cambio:\n",
      "estado\n",
      "1    6303\n",
      "3    5462\n",
      "4    2043\n",
      "2     839\n",
      "0      51\n",
      "Name: count, dtype: int64\n",
      "\n",
      "Cantidad total: 14698\n"
     ]
    }
   ],
   "source": [
    "#Convierto en cadena para no perder los valores numericos\n",
    "base_prelimpieza['estado'] = base_prelimpieza['estado'].astype(str)\n",
    "#Me aseguro que las variables esten prolijas para que se hagan los cambios que le pido\n",
    "base_prelimpieza['estado'] = base_prelimpieza['estado'].str.strip().str.lower()\n",
    "#Siento que aca me podria fijar de hacerlo en una nueva base en vez de ir poniendo todo en las misma piorque si no se encima...\n",
    "# Reemplazar los valores de '1', '2', 'mujer' y 'varón'\n",
    "base_prelimpieza['estado'] = base_prelimpieza['estado'].replace({\n",
    "    'ocupado': '1',  \n",
    "    'desocupado': '2',  \n",
    "    'inactivo': '3',  \n",
    "    'menor de 10 años': '4',  \n",
    "    'entrevista individual no realizada (no respuesta al cuestion': '0'\n",
    "})\n",
    "\n",
    "#Reviso que no se me pierdan datos\n",
    "print('Resultado del cambio:')\n",
    "print(base_prelimpieza['estado'].value_counts())\n",
    "total_niveleducativo = conte_estado.sum()\n",
    "print(\"\\nCantidad total:\", total_niveleducativo)\n"
   ]
  },
  {
   "cell_type": "code",
   "execution_count": 274,
   "id": "7ad6bc2d",
   "metadata": {},
   "outputs": [
    {
     "name": "stdout",
     "output_type": "stream",
     "text": [
      "cat_inac\n",
      "0                      7193\n",
      "1                       717\n",
      "2                        18\n",
      "3                      1440\n",
      "4                       653\n",
      "5                       402\n",
      "6                        59\n",
      "7                       186\n",
      "Ama de casa             816\n",
      "Discapacitado            41\n",
      "Estudiante             1594\n",
      "Jubilado/pensionado     668\n",
      "Menor de 6 años         763\n",
      "Otros                   134\n",
      "Rentista                 14\n",
      "dtype: int64\n"
     ]
    }
   ],
   "source": [
    "conte_categorainac = base_prelimpieza.groupby(['cat_inac']).size()\n",
    "print(conte_categorainac)\n"
   ]
  },
  {
   "cell_type": "code",
   "execution_count": 282,
   "id": "9e4792ef",
   "metadata": {},
   "outputs": [
    {
     "name": "stdout",
     "output_type": "stream",
     "text": [
      "Resultado del cambio:\n",
      "cat_inac\n",
      "0.0    3617\n",
      "0      3576\n",
      "3      3034\n",
      "4      1469\n",
      "1      1385\n",
      "5      1165\n",
      "7       320\n",
      "6       100\n",
      "2        32\n",
      "Name: count, dtype: int64\n"
     ]
    }
   ],
   "source": [
    "#Convierto en cadena para no perder los valores numericos\n",
    "base_prelimpieza['cat_inac'] = base_prelimpieza['cat_inac'].astype(str)\n",
    "#Me aseguro que las variables esten prolijas para que se hagan los cambios que le pido\n",
    "base_prelimpieza['cat_inac'] = base_prelimpieza['cat_inac'].str.strip().str.lower()\n",
    "#Siento que aca me podria fijar de hacerlo en una nueva base en vez de ir poniendo todo en las misma piorque si no se encima...\n",
    "# Reemplazar los valores de '1', '2', 'mujer' y 'varón'\n",
    "base_prelimpieza['cat_inac'] = base_prelimpieza['cat_inac'].replace({\n",
    "    'jubilado/pensionado': '1',  \n",
    "    'rentista': '2',  \n",
    "    'estudiante': '3',  \n",
    "    'ama de casa': '4',  \n",
    "    'menor de 6 años': '5',  \n",
    "    'discapacitado': '6',  \n",
    "    'otros': '7'\n",
    "})\n",
    "\n",
    "#Reviso que no se me pierdan datos\n",
    "print('Resultado del cambio:')\n",
    "print(base_prelimpieza['cat_inac'].value_counts())\n"
   ]
  },
  {
   "cell_type": "code",
   "execution_count": null,
   "id": "92c4dc0b",
   "metadata": {},
   "outputs": [],
   "source": [
    "#ACA QUEDO UN MONTON DE RESPUESTA 0 QUE NI PUTA IDEA QUE ES"
   ]
  },
  {
   "cell_type": "code",
   "execution_count": 310,
   "id": "a6234b68",
   "metadata": {},
   "outputs": [],
   "source": [
    "base_prelimpieza['ch06'] = pd.to_numeric(base_prelimpieza['ch06'], errors='coerce')\n",
    "#Saco las edades negativas\n",
    "base_prelimpieza1 = base_prelimpieza[base_prelimpieza['ch06'] >= 0]"
   ]
  },
  {
   "cell_type": "code",
   "execution_count": 316,
   "id": "5b8e9c93",
   "metadata": {},
   "outputs": [
    {
     "name": "stdout",
     "output_type": "stream",
     "text": [
      "Cantidad de valores negativos en \"ipcf\": 0\n",
      "No se encontraron valores negativos en \"ipcf\".\n"
     ]
    }
   ],
   "source": [
    "valores_negativos = base_prelimpieza1[base_prelimpieza1['ipcf'] < 0]\n",
    "cantidad_negativos = len(valores_negativos)\n",
    "# Mostrar resultados\n",
    "print(f'Cantidad de valores negativos en \"ipcf\": {cantidad_negativos}')\n",
    "if cantidad_negativos > 0:\n",
    "    print('Valores negativos encontrados:')\n",
    "    print(valores_negativos['ipcf'])\n",
    "else:\n",
    "    print('No se encontraron valores negativos en \"ipcf\".')"
   ]
  },
  {
   "cell_type": "code",
   "execution_count": 317,
   "id": "e18e43ba",
   "metadata": {},
   "outputs": [
    {
     "data": {
      "text/html": [
       "<div>\n",
       "<style scoped>\n",
       "    .dataframe tbody tr th:only-of-type {\n",
       "        vertical-align: middle;\n",
       "    }\n",
       "\n",
       "    .dataframe tbody tr th {\n",
       "        vertical-align: top;\n",
       "    }\n",
       "\n",
       "    .dataframe thead th {\n",
       "        text-align: right;\n",
       "    }\n",
       "</style>\n",
       "<table border=\"1\" class=\"dataframe\">\n",
       "  <thead>\n",
       "    <tr style=\"text-align: right;\">\n",
       "      <th></th>\n",
       "      <th>ano4</th>\n",
       "      <th>nro_hogar</th>\n",
       "      <th>pondera</th>\n",
       "      <th>ch06</th>\n",
       "      <th>imputa</th>\n",
       "      <th>pp03d</th>\n",
       "      <th>pp3e_tot</th>\n",
       "      <th>pp3f_tot</th>\n",
       "      <th>pp04b2</th>\n",
       "      <th>pp04b3_mes</th>\n",
       "      <th>...</th>\n",
       "      <th>v10_m</th>\n",
       "      <th>v11_m</th>\n",
       "      <th>v12_m</th>\n",
       "      <th>v18_m</th>\n",
       "      <th>v19_am</th>\n",
       "      <th>v21_m</th>\n",
       "      <th>t_vi</th>\n",
       "      <th>itf</th>\n",
       "      <th>ipcf</th>\n",
       "      <th>pondih</th>\n",
       "    </tr>\n",
       "  </thead>\n",
       "  <tbody>\n",
       "    <tr>\n",
       "      <th>count</th>\n",
       "      <td>14512.000000</td>\n",
       "      <td>14512.000000</td>\n",
       "      <td>14512.000000</td>\n",
       "      <td>14512.000000</td>\n",
       "      <td>77.0</td>\n",
       "      <td>10736.000000</td>\n",
       "      <td>10736.000000</td>\n",
       "      <td>10736.000000</td>\n",
       "      <td>10736.000000</td>\n",
       "      <td>10736.000000</td>\n",
       "      <td>...</td>\n",
       "      <td>1.451200e+04</td>\n",
       "      <td>14512.000000</td>\n",
       "      <td>14512.000000</td>\n",
       "      <td>14512.000000</td>\n",
       "      <td>14512.0</td>\n",
       "      <td>1.451200e+04</td>\n",
       "      <td>1.451200e+04</td>\n",
       "      <td>1.451200e+04</td>\n",
       "      <td>1.451200e+04</td>\n",
       "      <td>7000.000000</td>\n",
       "    </tr>\n",
       "    <tr>\n",
       "      <th>mean</th>\n",
       "      <td>2013.647189</td>\n",
       "      <td>1.024738</td>\n",
       "      <td>1931.776599</td>\n",
       "      <td>36.095438</td>\n",
       "      <td>1.0</td>\n",
       "      <td>0.112798</td>\n",
       "      <td>24.619691</td>\n",
       "      <td>1.504937</td>\n",
       "      <td>0.051975</td>\n",
       "      <td>0.132265</td>\n",
       "      <td>...</td>\n",
       "      <td>3.019623e+03</td>\n",
       "      <td>91.327867</td>\n",
       "      <td>1251.127619</td>\n",
       "      <td>76.382787</td>\n",
       "      <td>0.0</td>\n",
       "      <td>2.797703e+03</td>\n",
       "      <td>2.618228e+04</td>\n",
       "      <td>2.193608e+05</td>\n",
       "      <td>7.761704e+04</td>\n",
       "      <td>2260.920000</td>\n",
       "    </tr>\n",
       "    <tr>\n",
       "      <th>std</th>\n",
       "      <td>9.994119</td>\n",
       "      <td>0.602645</td>\n",
       "      <td>900.662897</td>\n",
       "      <td>22.642513</td>\n",
       "      <td>0.0</td>\n",
       "      <td>0.506539</td>\n",
       "      <td>67.444004</td>\n",
       "      <td>29.112489</td>\n",
       "      <td>0.429577</td>\n",
       "      <td>2.913249</td>\n",
       "      <td>...</td>\n",
       "      <td>2.517182e+05</td>\n",
       "      <td>1550.655529</td>\n",
       "      <td>17533.927719</td>\n",
       "      <td>5662.926277</td>\n",
       "      <td>0.0</td>\n",
       "      <td>2.894616e+04</td>\n",
       "      <td>2.778702e+05</td>\n",
       "      <td>7.874061e+05</td>\n",
       "      <td>2.797229e+05</td>\n",
       "      <td>2671.117952</td>\n",
       "    </tr>\n",
       "    <tr>\n",
       "      <th>min</th>\n",
       "      <td>2004.000000</td>\n",
       "      <td>1.000000</td>\n",
       "      <td>42.000000</td>\n",
       "      <td>1.000000</td>\n",
       "      <td>1.0</td>\n",
       "      <td>0.000000</td>\n",
       "      <td>0.000000</td>\n",
       "      <td>0.000000</td>\n",
       "      <td>0.000000</td>\n",
       "      <td>0.000000</td>\n",
       "      <td>...</td>\n",
       "      <td>-9.000000e+00</td>\n",
       "      <td>-9.000000</td>\n",
       "      <td>-9.000000</td>\n",
       "      <td>-9.000000</td>\n",
       "      <td>0.0</td>\n",
       "      <td>-9.000000e+00</td>\n",
       "      <td>-9.000000e+00</td>\n",
       "      <td>0.000000e+00</td>\n",
       "      <td>0.000000e+00</td>\n",
       "      <td>0.000000</td>\n",
       "    </tr>\n",
       "    <tr>\n",
       "      <th>25%</th>\n",
       "      <td>2004.000000</td>\n",
       "      <td>1.000000</td>\n",
       "      <td>1441.000000</td>\n",
       "      <td>17.000000</td>\n",
       "      <td>1.0</td>\n",
       "      <td>0.000000</td>\n",
       "      <td>0.000000</td>\n",
       "      <td>0.000000</td>\n",
       "      <td>0.000000</td>\n",
       "      <td>0.000000</td>\n",
       "      <td>...</td>\n",
       "      <td>0.000000e+00</td>\n",
       "      <td>0.000000</td>\n",
       "      <td>0.000000</td>\n",
       "      <td>0.000000</td>\n",
       "      <td>0.0</td>\n",
       "      <td>0.000000e+00</td>\n",
       "      <td>0.000000e+00</td>\n",
       "      <td>2.500000e+02</td>\n",
       "      <td>5.714286e+01</td>\n",
       "      <td>0.000000</td>\n",
       "    </tr>\n",
       "    <tr>\n",
       "      <th>50%</th>\n",
       "      <td>2004.000000</td>\n",
       "      <td>1.000000</td>\n",
       "      <td>1686.000000</td>\n",
       "      <td>33.000000</td>\n",
       "      <td>1.0</td>\n",
       "      <td>0.000000</td>\n",
       "      <td>9.000000</td>\n",
       "      <td>0.000000</td>\n",
       "      <td>0.000000</td>\n",
       "      <td>0.000000</td>\n",
       "      <td>...</td>\n",
       "      <td>0.000000e+00</td>\n",
       "      <td>0.000000</td>\n",
       "      <td>0.000000</td>\n",
       "      <td>0.000000</td>\n",
       "      <td>0.0</td>\n",
       "      <td>0.000000e+00</td>\n",
       "      <td>0.000000e+00</td>\n",
       "      <td>1.000000e+03</td>\n",
       "      <td>2.666667e+02</td>\n",
       "      <td>1669.000000</td>\n",
       "    </tr>\n",
       "    <tr>\n",
       "      <th>75%</th>\n",
       "      <td>2024.000000</td>\n",
       "      <td>1.000000</td>\n",
       "      <td>2237.000000</td>\n",
       "      <td>53.000000</td>\n",
       "      <td>1.0</td>\n",
       "      <td>0.000000</td>\n",
       "      <td>40.000000</td>\n",
       "      <td>0.000000</td>\n",
       "      <td>0.000000</td>\n",
       "      <td>0.000000</td>\n",
       "      <td>...</td>\n",
       "      <td>0.000000e+00</td>\n",
       "      <td>0.000000</td>\n",
       "      <td>0.000000</td>\n",
       "      <td>0.000000</td>\n",
       "      <td>0.0</td>\n",
       "      <td>0.000000e+00</td>\n",
       "      <td>0.000000e+00</td>\n",
       "      <td>1.810000e+05</td>\n",
       "      <td>5.833333e+04</td>\n",
       "      <td>3894.250000</td>\n",
       "    </tr>\n",
       "    <tr>\n",
       "      <th>max</th>\n",
       "      <td>2024.000000</td>\n",
       "      <td>51.000000</td>\n",
       "      <td>8685.000000</td>\n",
       "      <td>97.000000</td>\n",
       "      <td>1.0</td>\n",
       "      <td>9.000000</td>\n",
       "      <td>999.000000</td>\n",
       "      <td>999.000000</td>\n",
       "      <td>31.000000</td>\n",
       "      <td>99.000000</td>\n",
       "      <td>...</td>\n",
       "      <td>3.000000e+07</td>\n",
       "      <td>80000.000000</td>\n",
       "      <td>800000.000000</td>\n",
       "      <td>540000.000000</td>\n",
       "      <td>0.0</td>\n",
       "      <td>2.000000e+06</td>\n",
       "      <td>3.010000e+07</td>\n",
       "      <td>3.393700e+07</td>\n",
       "      <td>1.131233e+07</td>\n",
       "      <td>21006.000000</td>\n",
       "    </tr>\n",
       "  </tbody>\n",
       "</table>\n",
       "<p>8 rows × 51 columns</p>\n",
       "</div>"
      ],
      "text/plain": [
       "               ano4     nro_hogar       pondera          ch06  imputa  \\\n",
       "count  14512.000000  14512.000000  14512.000000  14512.000000    77.0   \n",
       "mean    2013.647189      1.024738   1931.776599     36.095438     1.0   \n",
       "std        9.994119      0.602645    900.662897     22.642513     0.0   \n",
       "min     2004.000000      1.000000     42.000000      1.000000     1.0   \n",
       "25%     2004.000000      1.000000   1441.000000     17.000000     1.0   \n",
       "50%     2004.000000      1.000000   1686.000000     33.000000     1.0   \n",
       "75%     2024.000000      1.000000   2237.000000     53.000000     1.0   \n",
       "max     2024.000000     51.000000   8685.000000     97.000000     1.0   \n",
       "\n",
       "              pp03d      pp3e_tot      pp3f_tot        pp04b2    pp04b3_mes  \\\n",
       "count  10736.000000  10736.000000  10736.000000  10736.000000  10736.000000   \n",
       "mean       0.112798     24.619691      1.504937      0.051975      0.132265   \n",
       "std        0.506539     67.444004     29.112489      0.429577      2.913249   \n",
       "min        0.000000      0.000000      0.000000      0.000000      0.000000   \n",
       "25%        0.000000      0.000000      0.000000      0.000000      0.000000   \n",
       "50%        0.000000      9.000000      0.000000      0.000000      0.000000   \n",
       "75%        0.000000     40.000000      0.000000      0.000000      0.000000   \n",
       "max        9.000000    999.000000    999.000000     31.000000     99.000000   \n",
       "\n",
       "       ...         v10_m         v11_m          v12_m          v18_m   v19_am  \\\n",
       "count  ...  1.451200e+04  14512.000000   14512.000000   14512.000000  14512.0   \n",
       "mean   ...  3.019623e+03     91.327867    1251.127619      76.382787      0.0   \n",
       "std    ...  2.517182e+05   1550.655529   17533.927719    5662.926277      0.0   \n",
       "min    ... -9.000000e+00     -9.000000      -9.000000      -9.000000      0.0   \n",
       "25%    ...  0.000000e+00      0.000000       0.000000       0.000000      0.0   \n",
       "50%    ...  0.000000e+00      0.000000       0.000000       0.000000      0.0   \n",
       "75%    ...  0.000000e+00      0.000000       0.000000       0.000000      0.0   \n",
       "max    ...  3.000000e+07  80000.000000  800000.000000  540000.000000      0.0   \n",
       "\n",
       "              v21_m          t_vi           itf          ipcf        pondih  \n",
       "count  1.451200e+04  1.451200e+04  1.451200e+04  1.451200e+04   7000.000000  \n",
       "mean   2.797703e+03  2.618228e+04  2.193608e+05  7.761704e+04   2260.920000  \n",
       "std    2.894616e+04  2.778702e+05  7.874061e+05  2.797229e+05   2671.117952  \n",
       "min   -9.000000e+00 -9.000000e+00  0.000000e+00  0.000000e+00      0.000000  \n",
       "25%    0.000000e+00  0.000000e+00  2.500000e+02  5.714286e+01      0.000000  \n",
       "50%    0.000000e+00  0.000000e+00  1.000000e+03  2.666667e+02   1669.000000  \n",
       "75%    0.000000e+00  0.000000e+00  1.810000e+05  5.833333e+04   3894.250000  \n",
       "max    2.000000e+06  3.010000e+07  3.393700e+07  1.131233e+07  21006.000000  \n",
       "\n",
       "[8 rows x 51 columns]"
      ]
     },
     "execution_count": 317,
     "metadata": {},
     "output_type": "execute_result"
    }
   ],
   "source": [
    "base_prelimpieza1.describe()"
   ]
  },
  {
   "cell_type": "code",
   "execution_count": 153,
   "id": "ddef17a0",
   "metadata": {},
   "outputs": [
    {
     "name": "stdout",
     "output_type": "stream",
     "text": [
      "       ch06     ch07\n",
      "703    15.0        4\n",
      "18274  16.0        1\n",
      "19483  15.0        9\n",
      "19485  15.0        9\n",
      "19486  15.0        9\n",
      "...     ...      ...\n",
      "7633    4.0  Soltero\n",
      "7636   13.0  Soltero\n",
      "7639    6.0  Soltero\n",
      "7642    1.0  Soltero\n",
      "7645   12.0  Soltero\n",
      "\n",
      "[2009 rows x 2 columns]\n"
     ]
    }
   ],
   "source": [
    "# Edad sea menor a 17 y no son solteros \n",
    "filtro_edad = base_prelimpieza['ch06'] < 17\n",
    "filtro_edad_CH07 = base_prelimpieza['ch07'] != 5  \n",
    "registros_edad_CH07 = base_prelimpieza[filtro_edad & filtro_edad_CH07][['ch06', 'ch07']]\n",
    "print(registros_edad_CH07)"
   ]
  },
  {
   "cell_type": "code",
   "execution_count": null,
   "id": "f30381e3",
   "metadata": {},
   "outputs": [],
   "source": []
  },
  {
   "cell_type": "code",
   "execution_count": 154,
   "id": "63e795e1",
   "metadata": {},
   "outputs": [
    {
     "name": "stdout",
     "output_type": "stream",
     "text": [
      "       ch06     ch07\n",
      "410    21.0        9\n",
      "411    21.0        9\n",
      "19483  15.0        9\n",
      "19484  53.0        9\n",
      "19485  15.0        9\n",
      "...     ...      ...\n",
      "7642    1.0  Soltero\n",
      "7643   51.0   Casado\n",
      "7644   55.0   Casado\n",
      "7645   12.0  Soltero\n",
      "7646   22.0  Soltero\n",
      "\n",
      "[7525 rows x 2 columns]\n"
     ]
    }
   ],
   "source": [
    "# Filtrar los registros donde CH07 no sea 1, 2, 3, 4 o 5\n",
    "filtro_CH07 = ~base_prelimpieza['ch07'].isin([1, 2, 3, 4, 5])\n",
    "registros_ch07 = base_prelimpieza[filtro_CH07][['ch06', 'ch07']]\n",
    "print(registros_ch07)"
   ]
  },
  {
   "cell_type": "code",
   "execution_count": 155,
   "id": "beaae2cf",
   "metadata": {},
   "outputs": [
    {
     "name": "stdout",
     "output_type": "stream",
     "text": [
      "      h15 ch04  ch06 ch07 ch08 nivel_ed estado cat_inac  ipcf\n",
      "399     2    2  49.0    2    4        2      0        0   0.0\n",
      "400     2    2  25.0    5    4        6      0        0   0.0\n",
      "401     2    1  20.0    5    4        5      0        0   0.0\n",
      "409     2    1  74.0    5    2        5      0        0   0.0\n",
      "410     2    1  21.0    9    9        5      0        0   0.0\n",
      "411     2    1  21.0    9    9        5      0        0   0.0\n",
      "15241   2    1  45.0    1    4        4      0        0   0.0\n",
      "17096   2    1  45.0    2    2        6      0        0   0.0\n",
      "19483   2    1  15.0    9    9        3      0        0   0.0\n",
      "19484   2    1  53.0    9    9        2      0        0   0.0\n",
      "19485   2    1  15.0    9    9        3      0        0   0.0\n",
      "19486   2    1  15.0    9    9        3      0        0   0.0\n",
      "19597   2    2  38.0    9    9        4      0        0   0.0\n",
      "19598   2    1  40.0    9    9        4      0        0   0.0\n",
      "26078   2    1  16.0    5    1        3      0        0   0.0\n",
      "26079   2    1  16.0    5    1        3      0        0   0.0\n",
      "26204   2    1  68.0    2    1        6      0        0   0.0\n",
      "26205   2    2  66.0    2    1        6      0        0   0.0\n",
      "26206   2    1  24.0    5    1        6      0        0   0.0\n",
      "26395   2    2  45.0    9    9        2      0        0   0.0\n",
      "26398   2    1  33.0    9    9        2      0        0   0.0\n",
      "26399   2    1  26.0    9    9        4      0        0   0.0\n",
      "26400   2    1  26.0    9    9        3      0        0   0.0\n",
      "27317   2    2  28.0    5    1        6      0        0   0.0\n",
      "30607   2    1  20.0    5    4        1      0        0   0.0\n",
      "31470   2    1  36.0    5    9        4      0        0   0.0\n",
      "34212   2    2  22.0    5    1        5      0        0   0.0\n",
      "35434   2    2  69.0    1    2        4      0        0   0.0\n",
      "40946   2    1  63.0    2    1        3      0        0   0.0\n",
      "40947   2    2  59.0    2    1        4      0        0   0.0\n",
      "41593   2    1  27.0    5    4        4      0        0   0.0\n",
      "41594   2    1  27.0    5    4        4      0        0   0.0\n",
      "43006   2    1  28.0    1    4        2      0        0   0.0\n",
      "43007   2    2  25.0    1    4        2      0        0   0.0\n",
      "44940   2    1  34.0    9    4        5      0        0   0.0\n",
      "45571   2    2  29.0    1    4        3      0        0   0.0\n",
      "46046   2    1  21.0    5    1        3      0        0   0.0\n",
      "46047   2    1  20.0    5    1        3      0        0   0.0\n",
      "46048   2    1  11.0    5    1        3      0        0   0.0\n",
      "46049   2    2  24.0    5    1        5      0        0   0.0\n"
     ]
    }
   ],
   "source": [
    "# Dice que no se hizo la entrevista (h15 == 2)\n",
    "h15_no = base_prelimpieza[base_prelimpieza['h15'] == 2]\n",
    "respuestas = h15_no[['h15','ch04', 'ch06', 'ch07', 'ch08', 'nivel_ed', 'estado', 'cat_inac', 'ipcf']]\n",
    "print(respuestas)"
   ]
  },
  {
   "cell_type": "code",
   "execution_count": 195,
   "id": "db3eccb3",
   "metadata": {},
   "outputs": [
    {
     "data": {
      "image/png": "[encoded data removed]",
      "text/plain": [
       "<Figure size 640x480 with 1 Axes>"
      ]
     },
     "metadata": {},
     "output_type": "display_data"
    }
   ],
   "source": [
    "# Contar la cantidad de hombres y mujeres por año\n",
    "composicion = base_prelimpieza.groupby(['ano4', 'ch04']).size().unstack(fill_value=0)\n",
    "composicion.plot(kind='bar', color=['pink', 'lightblue'])\n",
    "\n",
    "# Gráfico\n",
    "plt.title('Composición por Género en 2004 y 2024')\n",
    "plt.xlabel('Año')\n",
    "plt.ylabel('Cantidad')\n",
    "plt.xticks(rotation=0)  # Para tener las etiquetas en horizontal\n",
    "plt.legend(title='Género')\n",
    "plt.tight_layout()  # Ajustar el layout\n",
    "plt.show()"
   ]
  },
  {
   "cell_type": "code",
   "execution_count": null,
   "id": "83f2c652",
   "metadata": {},
   "outputs": [],
   "source": [
    "#Verifico que las variables que quiero usar en la matriz de correlacion compartan etiqueta"
   ]
  },
  {
   "cell_type": "markdown",
   "id": "d1681597",
   "metadata": {},
   "source": [
    "Las variables que vamos a usar son:\n",
    "- CH04: Sexo\n",
    "- CH06: Años\n",
    "- CH07: Estado civil \n",
    "- CH08: Estado cobertura médica\n",
    "- NIVEL_ED: Nivel educativo \n",
    "- ESTADO: Condicion de actividad\n",
    "- CAT_INAC: Categoria de inactividad\n",
    "- IPCF: Monto de ingreso per cápita familiar percibido en el mes de referencia"
   ]
  },
  {
   "cell_type": "code",
   "execution_count": 200,
   "id": "7e916e8f",
   "metadata": {},
   "outputs": [
    {
     "name": "stdout",
     "output_type": "stream",
     "text": [
      "ano4\n",
      "2004.0    7647\n",
      "2024.0    7051\n",
      "dtype: int64\n",
      "ch04\n",
      "mujer    7725\n",
      "varón    6973\n",
      "dtype: int64\n",
      "ch07\n",
      "1                        1297\n",
      "2                        1507\n",
      "3                         459\n",
      "4                         400\n",
      "5                        3375\n",
      "9                          13\n",
      "Casado                   2372\n",
      "Separado o divorciado     338\n",
      "Soltero                  3687\n",
      "Unido                     821\n",
      "Viudo                     429\n",
      "dtype: int64\n",
      "ch08\n",
      "1                                                               4308\n",
      "2                                                                566\n",
      "3                                                                  2\n",
      "4                                                               2025\n",
      "9                                                                 25\n",
      "12                                                               121\n",
      "13                                                                 3\n",
      "23                                                                 1\n",
      "Mutual/Prepaga/Servicio de emergencia                            610\n",
      "Mutual/prepaga/servicio de emergencia/planes y seguros públi       4\n",
      "No paga ni le descuentan                                        3296\n",
      "Ns./Nr.                                                           11\n",
      "Obra social (incluye PAMI)                                      3568\n",
      "Obra social y mutual/prepaga/servicio de emergencia              111\n",
      "Planes y seguros públicos                                         47\n",
      "dtype: int64\n"
     ]
    }
   ],
   "source": [
    "conteo_año = base_prelimpieza.groupby(['ano4']).size()\n",
    "print(conteo_año)\n",
    "conteo_genero = base_prelimpieza.groupby(['ch04']).size()\n",
    "print(conteo_genero)\n",
    "conteo_estadocivil = base_prelimpieza.groupby(['ch07']).size()\n",
    "print(conteo_estadocivil)\n",
    "conteo_coberturamedica = base_prelimpieza.groupby(['ch08']).size()\n",
    "print(conteo_coberturamedica)"
   ]
  },
  {
   "cell_type": "code",
   "execution_count": 201,
   "id": "ed463b96",
   "metadata": {},
   "outputs": [
    {
     "name": "stdout",
     "output_type": "stream",
     "text": [
      "nivel_ed\n",
      "1                                                    867\n",
      "2                                                    746\n",
      "3                                                   1416\n",
      "4                                                   1610\n",
      "5                                                    882\n",
      "6                                                   1108\n",
      "7                                                    422\n",
      "Primaria Completa                                   1628\n",
      "Primaria Incompleta (incluye educación especial)    1406\n",
      "Secundaria Completa                                 1086\n",
      "Secundaria Incompleta                               1374\n",
      "Sin instrucción                                      805\n",
      "Superior Universitaria Completa                      647\n",
      "Superior Universitaria Incompleta                    701\n",
      "dtype: int64\n",
      "estado\n",
      "0                                                                 41\n",
      "1                                                               3224\n",
      "2                                                                311\n",
      "3                                                               2662\n",
      "4                                                                813\n",
      "Desocupado                                                       528\n",
      "Entrevista individual no realizada (no respuesta al cuestion      10\n",
      "Inactivo                                                        2800\n",
      "Menor de 10 años                                                1230\n",
      "Ocupado                                                         3079\n",
      "dtype: int64\n",
      "cat_inac\n",
      "0                      7193\n",
      "1                       717\n",
      "2                        18\n",
      "3                      1440\n",
      "4                       653\n",
      "5                       402\n",
      "6                        59\n",
      "7                       186\n",
      "Ama de casa             816\n",
      "Discapacitado            41\n",
      "Estudiante             1594\n",
      "Jubilado/pensionado     668\n",
      "Menor de 6 años         763\n",
      "Otros                   134\n",
      "Rentista                 14\n",
      "dtype: int64\n",
      "ipcf\n",
      "0.000000e+00    3134\n",
      "8.333333e+00       6\n",
      "1.333333e+01       3\n",
      "1.666667e+01       9\n",
      "1.750000e+01       6\n",
      "                ... \n",
      "3.000000e+06       1\n",
      "4.910000e+06       2\n",
      "5.875000e+06       2\n",
      "7.750000e+06       2\n",
      "1.131233e+07       3\n",
      "Length: 1506, dtype: int64\n"
     ]
    }
   ],
   "source": [
    "conte_niveleducativo = base_prelimpieza.groupby(['nivel_ed']).size()\n",
    "print(conte_niveleducativo)\n",
    "conte_estado = base_prelimpieza.groupby(['estado']).size()\n",
    "print(conte_estado)\n",
    "conte_categorainac = base_prelimpieza.groupby(['cat_inac']).size()\n",
    "print(conte_categorainac)\n",
    "conte_ingreso = base_prelimpieza.groupby(['ipcf']).size()\n",
    "print(conte_ingreso)"
   ]
  }
 ],
 "metadata": {
  "kernelspec": {
   "display_name": "Python 3 (ipykernel)",
   "language": "python",
   "name": "python3"
  },
  "language_info": {
   "codemirror_mode": {
    "name": "ipython",
    "version": 3
   },
   "file_extension": ".py",
   "mimetype": "text/x-python",
   "name": "python",
   "nbconvert_exporter": "python",
   "pygments_lexer": "ipython3",
   "version": "3.9.19"
  }
 },
 "nbformat": 4,
 "nbformat_minor": 5
}
