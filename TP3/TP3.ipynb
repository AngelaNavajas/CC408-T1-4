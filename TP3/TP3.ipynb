{
 "cells": [
  {
   "cell_type": "code",
   "execution_count": 1,
   "id": "fa902ca5-3ffb-4261-8029-012d0d98bde1",
   "metadata": {},
   "outputs": [],
   "source": [
    "# estamos"
   ]
  },
  {
   "cell_type": "markdown",
   "id": "fa8697d4",
   "metadata": {},
   "source": [
    "**PARTE I: ANALIZANDO LA BASE**"
   ]
  },
  {
   "cell_type": "code",
   "execution_count": null,
   "id": "41adacdf",
   "metadata": {},
   "outputs": [],
   "source": [
    "!pip install pandas --upgrade\n",
    "!pip install pyreadstat\n",
    "import pandas as pd\n",
    "import matplotlib.pyplot as plt\n",
    "from sklearn.linear_model import LinearRegression\n",
    "import seaborn as sns\n",
    "from sklearn.model_selection import train_test_split"
   ]
  },
  {
   "cell_type": "code",
   "execution_count": null,
   "id": "ac2492ac",
   "metadata": {},
   "outputs": [],
   "source": [
    "#Bases Tizi\n",
    "#base_04_sucia = pd.read_stata(r\"C:\\Users\\tizip\\OneDrive\\Documentos\\Tizi UdeSA\\8- Ciencia de datos\\CC408-T1-4\\TP2 probar\\TP3\")\n",
    "#base_24_sucia = pd.read_excel(r\"C:\\Users\\tizip\\OneDrive\\Documentos\\Tizi UdeSA\\8- Ciencia de datos\\CC408-T1-4\\TP2 probar\\TP3\")\n",
    "\n",
    "# Base Angie\n",
    "base_04_sucia = pd.read_stata(r'/Users/angelanavajas/Desktop/Ciencia de datos/CC408-T1-4/TP3/Individual_t104.dta')\n",
    "base_24_sucia = pd.read_excel(r'/Users/angelanavajas/Desktop/Ciencia de datos/CC408-T1-4/TP3/usu_individual_T124.xlsx')\n"
   ]
  },
  {
   "cell_type": "code",
   "execution_count": null,
   "id": "50cb5e04",
   "metadata": {},
   "outputs": [],
   "source": [
    "base_04_filtrada = base_04_sucia.loc[base_04_sucia['aglomerado'].isin([32, 33])]\n",
    "base_24_filtrada = base_24_sucia.loc[base_24_sucia['AGLOMERADO'].isin([32, 33])]"
   ]
  },
  {
   "cell_type": "code",
   "execution_count": null,
   "id": "85bed69b",
   "metadata": {},
   "outputs": [],
   "source": [
    "# Obtener los nombres de las variables\n",
    "nombres_variables04 = base_04_filtrada.columns.tolist()\n",
    "\n",
    "# Mostrar los nombres de las variables\n",
    "print(nombres_variables04)"
   ]
  },
  {
   "cell_type": "code",
   "execution_count": null,
   "id": "18b611ef",
   "metadata": {},
   "outputs": [],
   "source": [
    "# Obtener los nombres de las variables\n",
    "nombres_variables24 = base_24_filtrada.columns.tolist()\n",
    "\n",
    "# Mostrar los nombres de las variables\n",
    "print(nombres_variables24)"
   ]
  },
  {
   "cell_type": "code",
   "execution_count": null,
   "id": "c9572671",
   "metadata": {},
   "outputs": [],
   "source": [
    "#Para poder unir sin problema, me aseguro que als variables esten en el mismo formato\n",
    "base_04_filtrada.columns = base_04_filtrada.columns.str.lower()\n",
    "base_24_filtrada.columns = base_24_filtrada.columns.str.lower()"
   ]
  },
  {
   "cell_type": "code",
   "execution_count": null,
   "id": "fa1d60a6",
   "metadata": {},
   "outputs": [],
   "source": [
    "base_24_filtrada = base_24_filtrada[base_04_filtrada.columns]\n"
   ]
  }
 ],
 "metadata": {
  "kernelspec": {
   "display_name": "Python 3 (ipykernel)",
   "language": "python",
   "name": "python3"
  },
  "language_info": {
   "codemirror_mode": {
    "name": "ipython",
    "version": 3
   },
   "file_extension": ".py",
   "mimetype": "text/x-python",
   "name": "python",
   "nbconvert_exporter": "python",
   "pygments_lexer": "ipython3",
   "version": "3.12.4"
  }
 },
 "nbformat": 4,
 "nbformat_minor": 5
}
