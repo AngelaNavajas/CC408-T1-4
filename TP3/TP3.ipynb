{
 "cells": [
  {
   "cell_type": "code",
   "execution_count": 3,
   "id": "fa902ca5-3ffb-4261-8029-012d0d98bde1",
   "metadata": {},
   "outputs": [],
   "source": [
    "# estamos"
   ]
  },
  {
   "cell_type": "markdown",
   "id": "fa8697d4",
   "metadata": {},
   "source": [
    "## PARTE 1: ANALIZANDO LA BASE"
   ]
  },
  {
   "cell_type": "code",
   "execution_count": 28,
   "id": "41adacdf",
   "metadata": {},
   "outputs": [],
   "source": [
    "import os  \n",
    "import pandas as pd\n",
    "import numpy as np \n",
    "import matplotlib.pyplot as plt  \n",
    "import statsmodels.api as sm     \n",
    "import seaborn as sns\n",
    "\n",
    "from sklearn import datasets\n",
    "from sklearn.linear_model import LogisticRegression\n",
    "from sklearn.model_selection import train_test_split\n",
    "from sklearn.metrics import confusion_matrix\n",
    "from sklearn.metrics import accuracy_score, recall_score \n",
    "from sklearn.metrics import roc_auc_score\n",
    "#from sklearn.metrics import plot_roc_curve\n",
    "from sklearn.discriminant_analysis import LinearDiscriminantAnalysis\n",
    "from sklearn.neighbors import KNeighborsClassifier\n",
    "from sklearn.metrics import roc_curve, auc, RocCurveDisplay\n"
   ]
  },
  {
   "cell_type": "code",
   "execution_count": 5,
   "id": "b1edd07f-983e-4036-9841-7720910d475c",
   "metadata": {},
   "outputs": [],
   "source": [
    "#Bases Tizi\n",
    "#base_04_sucia = pd.read_stata(r\"C:\\Users\\tizip\\OneDrive\\Documentos\\Tizi UdeSA\\8- Ciencia de datos\\Compu nueva\\CC408-T1-4\\TP3\\Individual_t104.dta\")\n",
    "#base_24_sucia = pd.read_excel(r\"C:\\Users\\tizip\\OneDrive\\Documentos\\Tizi UdeSA\\8- Ciencia de datos\\Compu nueva\\CC408-T1-4\\TP3\\usu_individual_T124.xlsx\")"
   ]
  },
  {
   "cell_type": "code",
   "execution_count": 2,
   "id": "ac2492ac",
   "metadata": {},
   "outputs": [],
   "source": [
    "# Base Angie\n",
    "base_04_sucia = pd.read_stata(r'/Users/angelanavajas/Desktop/Ciencia de datos/CC408-T1-4/TP3/Individual_t104.dta')\n",
    "base_24_sucia = pd.read_excel(r'/Users/angelanavajas/Desktop/Ciencia de datos/CC408-T1-4/TP3/usu_individual_T124.xlsx')"
   ]
  },
  {
   "cell_type": "markdown",
   "id": "45a1a0bb-bcb4-4491-8985-cecada83f942",
   "metadata": {},
   "source": [
    "#### PUNTO 2.A \n",
    "Eliminen todas las observaciones que no corresponden a los aglomerados de Ciudad Autónoma de Buenos Aires o Gran Buenos Aires, y unan ambos trimestres en una sola base."
   ]
  },
  {
   "cell_type": "code",
   "execution_count": 3,
   "id": "50cb5e04",
   "metadata": {},
   "outputs": [],
   "source": [
    "# me quedo solo con los valores de CABA y GBA\n",
    "base_04_filtrada = base_04_sucia.loc[base_04_sucia['aglomerado'].isin(['Ciudad de Buenos Aires', 'Partidos del GBA'])]\n",
    "base_24_filtrada = base_24_sucia.loc[base_24_sucia['AGLOMERADO'].isin([32, 33])]"
   ]
  },
  {
   "cell_type": "code",
   "execution_count": 4,
   "id": "85bed69b",
   "metadata": {},
   "outputs": [
    {
     "name": "stdout",
     "output_type": "stream",
     "text": [
      "['CODUSU', 'nro_hogar', 'componente', 'h15', 'ano4', 'trimestre', 'region', 'mas_500', 'aglomerado', 'pondera', 'ch03', 'ch04', 'ch06', 'ch07', 'ch08', 'ch09', 'ch10', 'ch11', 'ch12', 'ch13', 'ch14', 'ch15', 'ch15_cod', 'ch16', 'ch16_cod', 'nivel_ed', 'estado', 'cat_ocup', 'cat_inac', 'pp02c1', 'pp02c2', 'pp02c3', 'pp02c4', 'pp02c5', 'pp02c6', 'pp02c7', 'pp02c8', 'pp02e', 'pp02h', 'pp02i', 'pp03c', 'pp03d', 'pp3e_tot', 'pp3f_tot', 'pp03g', 'pp03h', 'pp03i', 'pp03j', 'intensi', 'pp04a', 'pp04b_cod', 'pp04b1', 'pp04b2', 'pp04b3_mes', 'pp04b3_ano', 'pp04b3_dia', 'pp04c', 'pp04c99', 'pp04d_cod', 'pp04g', 'pp05b2_mes', 'pp05b2_ano', 'pp05b2_dia', 'pp05c_1', 'pp05c_2', 'pp05c_3', 'pp05e', 'pp05f', 'pp05h', 'pp06a', 'pp06c', 'pp06d', 'pp06e', 'pp06h', 'pp07a', 'pp07c', 'pp07d', 'pp07e', 'pp07f1', 'pp07f2', 'pp07f3', 'pp07f4', 'pp07f5', 'pp07g1', 'pp07g2', 'pp07g3', 'pp07g4', 'pp07g_59', 'pp07h', 'pp07i', 'pp07j', 'pp07k', 'pp08d1', 'pp08d4', 'pp08f1', 'pp08f2', 'pp08j1', 'pp08j2', 'pp08j3', 'pp09a', 'pp09a_esp', 'pp09b', 'pp09c', 'pp09c_esp', 'pp10a', 'pp10c', 'pp10d', 'pp10e', 'pp11a', 'pp11b_cod', 'pp11b1', 'pp11b2_mes', 'pp11b2_ano', 'pp11b2_dia', 'pp11c', 'pp11c99', 'pp11d_cod', 'pp11g_ano', 'pp11g_mes', 'pp11g_dia', 'pp11l', 'pp11l1', 'pp11m', 'pp11n', 'pp11o', 'pp11p', 'pp11q', 'pp11r', 'pp11s', 'pp11t', 'p21', 'decocur', 'idecocur', 'rdecocur', 'gdecocur', 'pdecocur', 'adecocur', 'tot_p12', 'p47t', 'decindr', 'idecindr', 'rdecindr', 'gdecindr', 'pdecindr', 'adecindr', 'v2_m', 'v3_m', 'v4_m', 'v5_m', 'v8_m', 'v9_m', 'v10_m', 'v11_m', 'v12_m', 'v18_m', 'v19_am', 'v21_m', 't_vi', 'itf', 'decifr', 'idecifr', 'rdecifr', 'gdecifr', 'pdecifr', 'adecifr', 'ipcf', 'deccfr', 'ideccfr', 'rdeccfr', 'gdeccfr', 'pdeccfr', 'adeccfr', 'pj1_1', 'pj2_1', 'pj3_1', 'idimpp']\n",
      "['CODUSU', 'ANO4', 'TRIMESTRE', 'NRO_HOGAR', 'COMPONENTE', 'H15', 'REGION', 'MAS_500', 'AGLOMERADO', 'PONDERA', 'CH03', 'CH04', 'CH05', 'CH06', 'CH07', 'CH08', 'CH09', 'CH10', 'CH11', 'CH12', 'CH13', 'CH14', 'CH15', 'CH15_COD', 'CH16', 'CH16_COD', 'NIVEL_ED', 'ESTADO', 'CAT_OCUP', 'CAT_INAC', 'IMPUTA', 'PP02C1', 'PP02C2', 'PP02C3', 'PP02C4', 'PP02C5', 'PP02C6', 'PP02C7', 'PP02C8', 'PP02E', 'PP02H', 'PP02I', 'PP03C', 'PP03D', 'PP3E_TOT', 'PP3F_TOT', 'PP03G', 'PP03H', 'PP03I', 'PP03J', 'INTENSI', 'PP04A', 'PP04B_COD', 'PP04B1', 'PP04B2', 'PP04B3_MES', 'PP04B3_ANO', 'PP04B3_DIA', 'PP04C', 'PP04C99', 'PP04D_COD', 'PP04G', 'PP05B2_MES', 'PP05B2_ANO', 'PP05B2_DIA', 'PP05C_1', 'PP05C_2', 'PP05C_3', 'PP05E', 'PP05F', 'PP05H', 'PP06A', 'PP06C', 'PP06D', 'PP06E', 'PP06H', 'PP07A', 'PP07C', 'PP07D', 'PP07E', 'PP07F1', 'PP07F2', 'PP07F3', 'PP07F4', 'PP07F5', 'PP07G1', 'PP07G2', 'PP07G3', 'PP07G4', 'PP07G_59', 'PP07H', 'PP07I', 'PP07J', 'PP07K', 'PP08D1', 'PP08D4', 'PP08F1', 'PP08F2', 'PP08J1', 'PP08J2', 'PP08J3', 'PP09A', 'PP09A_ESP', 'PP09B', 'PP09C', 'PP09C_ESP', 'PP10A', 'PP10C', 'PP10D', 'PP10E', 'PP11A', 'PP11B_COD', 'PP11B1', 'PP11B2_MES', 'PP11B2_ANO', 'PP11B2_DIA', 'PP11C', 'PP11C99', 'PP11D_COD', 'PP11G_ANO', 'PP11G_MES', 'PP11G_DIA', 'PP11L', 'PP11L1', 'PP11M', 'PP11N', 'PP11O', 'PP11P', 'PP11Q', 'PP11R', 'PP11S', 'PP11T', 'P21', 'DECOCUR', 'IDECOCUR', 'RDECOCUR', 'GDECOCUR', 'PDECOCUR', 'ADECOCUR', 'PONDIIO', 'TOT_P12', 'P47T', 'DECINDR', 'IDECINDR', 'RDECINDR', 'GDECINDR', 'PDECINDR', 'ADECINDR', 'PONDII', 'V2_M', 'V3_M', 'V4_M', 'V5_M', 'V8_M', 'V9_M', 'V10_M', 'V11_M', 'V12_M', 'V18_M', 'V19_AM', 'V21_M', 'T_VI', 'ITF', 'DECIFR', 'IDECIFR', 'RDECIFR', 'GDECIFR', 'PDECIFR', 'ADECIFR', 'IPCF', 'DECCFR', 'IDECCFR', 'RDECCFR', 'GDECCFR', 'PDECCFR', 'ADECCFR', 'PONDIH']\n",
      "['codusu', 'ano4', 'trimestre', 'nro_hogar', 'componente', 'h15', 'region', 'mas_500', 'aglomerado', 'pondera', 'ch03', 'ch04', 'ch05', 'ch06', 'ch07', 'ch08', 'ch09', 'ch10', 'ch11', 'ch12', 'ch13', 'ch14', 'ch15', 'ch15_cod', 'ch16', 'ch16_cod', 'nivel_ed', 'estado', 'cat_ocup', 'cat_inac', 'imputa', 'pp02c1', 'pp02c2', 'pp02c3', 'pp02c4', 'pp02c5', 'pp02c6', 'pp02c7', 'pp02c8', 'pp02e', 'pp02h', 'pp02i', 'pp03c', 'pp03d', 'pp3e_tot', 'pp3f_tot', 'pp03g', 'pp03h', 'pp03i', 'pp03j', 'intensi', 'pp04a', 'pp04b_cod', 'pp04b1', 'pp04b2', 'pp04b3_mes', 'pp04b3_ano', 'pp04b3_dia', 'pp04c', 'pp04c99', 'pp04d_cod', 'pp04g', 'pp05b2_mes', 'pp05b2_ano', 'pp05b2_dia', 'pp05c_1', 'pp05c_2', 'pp05c_3', 'pp05e', 'pp05f', 'pp05h', 'pp06a', 'pp06c', 'pp06d', 'pp06e', 'pp06h', 'pp07a', 'pp07c', 'pp07d', 'pp07e', 'pp07f1', 'pp07f2', 'pp07f3', 'pp07f4', 'pp07f5', 'pp07g1', 'pp07g2', 'pp07g3', 'pp07g4', 'pp07g_59', 'pp07h', 'pp07i', 'pp07j', 'pp07k', 'pp08d1', 'pp08d4', 'pp08f1', 'pp08f2', 'pp08j1', 'pp08j2', 'pp08j3', 'pp09a', 'pp09a_esp', 'pp09b', 'pp09c', 'pp09c_esp', 'pp10a', 'pp10c', 'pp10d', 'pp10e', 'pp11a', 'pp11b_cod', 'pp11b1', 'pp11b2_mes', 'pp11b2_ano', 'pp11b2_dia', 'pp11c', 'pp11c99', 'pp11d_cod', 'pp11g_ano', 'pp11g_mes', 'pp11g_dia', 'pp11l', 'pp11l1', 'pp11m', 'pp11n', 'pp11o', 'pp11p', 'pp11q', 'pp11r', 'pp11s', 'pp11t', 'p21', 'decocur', 'idecocur', 'rdecocur', 'gdecocur', 'pdecocur', 'adecocur', 'pondiio', 'tot_p12', 'p47t', 'decindr', 'idecindr', 'rdecindr', 'gdecindr', 'pdecindr', 'adecindr', 'pondii', 'v2_m', 'v3_m', 'v4_m', 'v5_m', 'v8_m', 'v9_m', 'v10_m', 'v11_m', 'v12_m', 'v18_m', 'v19_am', 'v21_m', 't_vi', 'itf', 'decifr', 'idecifr', 'rdecifr', 'gdecifr', 'pdecifr', 'adecifr', 'ipcf', 'deccfr', 'ideccfr', 'rdeccfr', 'gdeccfr', 'pdeccfr', 'adeccfr', 'pondih']\n"
     ]
    }
   ],
   "source": [
    "# Obtener los nombres de las variables\n",
    "nombres_variables04 = base_04_sucia.columns.tolist()\n",
    "print(nombres_variables04)\n",
    "\n",
    "# Obtener los nombres de las variables\n",
    "nombres_variables24 = base_24_filtrada.columns.tolist()\n",
    "print(nombres_variables24)\n",
    "\n",
    "#Para poder unir sin problema, me aseguro que als variables esten en el mismo formato\n",
    "base_04_filtrada.columns = base_04_filtrada.columns.str.lower()\n",
    "base_24_filtrada.columns = base_24_filtrada.columns.str.lower()\n",
    "\n",
    "# veo si cambio\n",
    "nombres_variables24 = base_24_filtrada.columns.tolist()\n",
    "print(nombres_variables24)"
   ]
  },
  {
   "cell_type": "code",
   "execution_count": 5,
   "id": "be4c2386",
   "metadata": {},
   "outputs": [
    {
     "name": "stdout",
     "output_type": "stream",
     "text": [
      "['codusu', 'ano4', 'trimestre', 'nro_hogar', 'componente', 'h15', 'region', 'mas_500', 'aglomerado', 'pondera', 'ch03', 'ch04', 'ch05', 'ch06', 'ch07', 'ch08', 'ch09', 'ch10', 'ch11', 'ch12', 'ch13', 'ch14', 'ch15', 'ch15_cod', 'ch16', 'ch16_cod', 'nivel_ed', 'estado', 'cat_ocup', 'cat_inac', 'imputa', 'pp02c1', 'pp02c2', 'pp02c3', 'pp02c4', 'pp02c5', 'pp02c6', 'pp02c7', 'pp02c8', 'pp02e', 'pp02h', 'pp02i', 'pp03c', 'pp03d', 'pp3e_tot', 'pp3f_tot', 'pp03g', 'pp03h', 'pp03i', 'pp03j', 'intensi', 'pp04a', 'pp04b_cod', 'pp04b1', 'pp04b2', 'pp04b3_mes', 'pp04b3_ano', 'pp04b3_dia', 'pp04c', 'pp04c99', 'pp04d_cod', 'pp04g', 'pp05b2_mes', 'pp05b2_ano', 'pp05b2_dia', 'pp05c_1', 'pp05c_2', 'pp05c_3', 'pp05e', 'pp05f', 'pp05h', 'pp06a', 'pp06c', 'pp06d', 'pp06e', 'pp06h', 'pp07a', 'pp07c', 'pp07d', 'pp07e', 'pp07f1', 'pp07f2', 'pp07f3', 'pp07f4', 'pp07f5', 'pp07g1', 'pp07g2', 'pp07g3', 'pp07g4', 'pp07g_59', 'pp07h', 'pp07i', 'pp07j', 'pp07k', 'pp08d1', 'pp08d4', 'pp08f1', 'pp08f2', 'pp08j1', 'pp08j2', 'pp08j3', 'pp09a', 'pp09a_esp', 'pp09b', 'pp09c', 'pp09c_esp', 'pp10a', 'pp10c', 'pp10d', 'pp10e', 'pp11a', 'pp11b_cod', 'pp11b1', 'pp11b2_mes', 'pp11b2_ano', 'pp11b2_dia', 'pp11c', 'pp11c99', 'pp11d_cod', 'pp11g_ano', 'pp11g_mes', 'pp11g_dia', 'pp11l', 'pp11l1', 'pp11m', 'pp11n', 'pp11o', 'pp11p', 'pp11q', 'pp11r', 'pp11s', 'pp11t', 'p21', 'decocur', 'idecocur', 'rdecocur', 'gdecocur', 'pdecocur', 'adecocur', 'pondiio', 'tot_p12', 'p47t', 'decindr', 'idecindr', 'rdecindr', 'gdecindr', 'pdecindr', 'adecindr', 'pondii', 'v2_m', 'v3_m', 'v4_m', 'v5_m', 'v8_m', 'v9_m', 'v10_m', 'v11_m', 'v12_m', 'v18_m', 'v19_am', 'v21_m', 't_vi', 'itf', 'decifr', 'idecifr', 'rdecifr', 'gdecifr', 'pdecifr', 'adecifr', 'ipcf', 'deccfr', 'ideccfr', 'rdeccfr', 'gdeccfr', 'pdeccfr', 'adeccfr', 'pondih', 'pj1_1', 'pj2_1', 'pj3_1', 'idimpp']\n"
     ]
    }
   ],
   "source": [
    "# concateno las bases\n",
    "base_prelimpieza = pd.concat([base_24_filtrada, base_04_filtrada])\n",
    "print(base_prelimpieza.columns.tolist())"
   ]
  },
  {
   "cell_type": "markdown",
   "id": "6975245f",
   "metadata": {},
   "source": [
    "Las variables que vamos a usar son:\n",
    "- CH04: Sexo\n",
    "- CH06: Años\n",
    "- CH07: Estado civil \n",
    "- CH08: Estado cobertura médica\n",
    "- NIVEL_ED: Nivel educativo \n",
    "- ESTADO: Condicion de actividad\n",
    "- CAT_INAC: Categoria de inactividad\n",
    "- IPCF: Monto de ingreso per cápita familiar percibido en el mes de referencia"
   ]
  },
  {
   "cell_type": "code",
   "execution_count": 6,
   "id": "a66dd092-82c1-4500-8fbe-ad101a8ac05b",
   "metadata": {},
   "outputs": [
    {
     "name": "stdout",
     "output_type": "stream",
     "text": [
      "\n",
      " La cantidad de datos en la variable ch04 por valor de etiqueta \n",
      " ch04\n",
      "1    6973\n",
      "2    7725\n",
      "dtype: int64\n",
      "\n",
      " La cantidad de datos en la variable ch06 por valor de etiqueta \n",
      " ch06\n",
      "-1      51\n",
      " 0     131\n",
      " 1     180\n",
      " 2     198\n",
      " 3     191\n",
      "      ... \n",
      " 94      4\n",
      " 95      2\n",
      " 96      4\n",
      " 97      1\n",
      " 98      4\n",
      "Length: 100, dtype: int64\n",
      "\n",
      " La cantidad de datos en la variable ch07 por valor de etiqueta \n",
      " ch07\n",
      "1    2118\n",
      "2    3879\n",
      "3     797\n",
      "4     829\n",
      "5    7062\n",
      "9      13\n",
      "dtype: int64\n",
      "\n",
      " La cantidad de datos en la variable ch08 por valor de etiqueta \n",
      " ch08\n",
      "1     7876\n",
      "2     1176\n",
      "3       49\n",
      "4     5321\n",
      "9       36\n",
      "12     232\n",
      "13       3\n",
      "23       5\n",
      "dtype: int64\n",
      "\n",
      " La cantidad de datos en la variable nivel_ed por valor de etiqueta \n",
      " nivel_ed\n",
      "1    2273\n",
      "2    2374\n",
      "3    2790\n",
      "4    2696\n",
      "5    1583\n",
      "6    1755\n",
      "7    1227\n",
      "dtype: int64\n",
      "\n",
      " La cantidad de datos en la variable estado por valor de etiqueta \n",
      " estado\n",
      "0      51\n",
      "1    6303\n",
      "2     839\n",
      "3    5462\n",
      "4    2043\n",
      "dtype: int64\n",
      "\n",
      " La cantidad de datos en la variable cat_inac por valor de etiqueta \n",
      " cat_inac\n",
      "0    7193\n",
      "1    1385\n",
      "2      32\n",
      "3    3034\n",
      "4    1469\n",
      "5    1165\n",
      "6     100\n",
      "7     320\n",
      "dtype: int64\n",
      "\n",
      " La cantidad de datos en la variable componente por valor de etiqueta \n",
      " componente\n",
      "1     4828\n",
      "2     3851\n",
      "3     2602\n",
      "4     1707\n",
      "5      844\n",
      "6      397\n",
      "7      214\n",
      "8      111\n",
      "9       60\n",
      "10      32\n",
      "11      17\n",
      "12      13\n",
      "13       7\n",
      "14       2\n",
      "15       2\n",
      "51      11\n",
      "dtype: int64\n",
      "\n",
      " La cantidad de datos en la variable h15 por valor de etiqueta \n",
      " h15\n",
      "0     2043\n",
      "1    12604\n",
      "2       51\n",
      "dtype: int64\n",
      "\n",
      " La cantidad de datos en la variable mas_500 por valor de etiqueta \n",
      " mas_500\n",
      "0    14698\n",
      "dtype: int64\n",
      "\n",
      " La cantidad de datos en la variable aglomerado por valor de etiqueta \n",
      " aglomerado\n",
      "32     3258\n",
      "33    11440\n",
      "dtype: int64\n",
      "\n",
      " La cantidad de datos en la variable ch03 por valor de etiqueta \n",
      " ch03\n",
      "1     4896\n",
      "2     2801\n",
      "3     5614\n",
      "4      144\n",
      "5      562\n",
      "6      180\n",
      "7       57\n",
      "8      174\n",
      "9      196\n",
      "10      74\n",
      "dtype: int64\n"
     ]
    },
    {
     "name": "stderr",
     "output_type": "stream",
     "text": [
      "/var/folders/9r/73xgxgj17t7btpfss2pdczcr0000gn/T/ipykernel_89850/47215766.py:6: FutureWarning: Downcasting behavior in `replace` is deprecated and will be removed in a future version. To retain the old behavior, explicitly call `result.infer_objects(copy=False)`. To opt-in to the future behavior, set `pd.set_option('future.no_silent_downcasting', True)`\n",
      "  base_prelimpieza['ch04'] = base_prelimpieza['ch04'].replace({\n",
      "/var/folders/9r/73xgxgj17t7btpfss2pdczcr0000gn/T/ipykernel_89850/47215766.py:10: FutureWarning: Downcasting behavior in `replace` is deprecated and will be removed in a future version. To retain the old behavior, explicitly call `result.infer_objects(copy=False)`. To opt-in to the future behavior, set `pd.set_option('future.no_silent_downcasting', True)`\n",
      "  base_prelimpieza['ch06'] = base_prelimpieza['ch06'].replace({\n",
      "/var/folders/9r/73xgxgj17t7btpfss2pdczcr0000gn/T/ipykernel_89850/47215766.py:16: FutureWarning: Downcasting behavior in `replace` is deprecated and will be removed in a future version. To retain the old behavior, explicitly call `result.infer_objects(copy=False)`. To opt-in to the future behavior, set `pd.set_option('future.no_silent_downcasting', True)`\n",
      "  base_prelimpieza['ch07'] = base_prelimpieza['ch07'].replace({\n",
      "/var/folders/9r/73xgxgj17t7btpfss2pdczcr0000gn/T/ipykernel_89850/47215766.py:23: FutureWarning: Downcasting behavior in `replace` is deprecated and will be removed in a future version. To retain the old behavior, explicitly call `result.infer_objects(copy=False)`. To opt-in to the future behavior, set `pd.set_option('future.no_silent_downcasting', True)`\n",
      "  base_prelimpieza['ch08'] = base_prelimpieza['ch08'].replace({\n",
      "/var/folders/9r/73xgxgj17t7btpfss2pdczcr0000gn/T/ipykernel_89850/47215766.py:34: FutureWarning: Downcasting behavior in `replace` is deprecated and will be removed in a future version. To retain the old behavior, explicitly call `result.infer_objects(copy=False)`. To opt-in to the future behavior, set `pd.set_option('future.no_silent_downcasting', True)`\n",
      "  base_prelimpieza['nivel_ed'] = base_prelimpieza['nivel_ed'].replace({\n",
      "/var/folders/9r/73xgxgj17t7btpfss2pdczcr0000gn/T/ipykernel_89850/47215766.py:44: FutureWarning: Downcasting behavior in `replace` is deprecated and will be removed in a future version. To retain the old behavior, explicitly call `result.infer_objects(copy=False)`. To opt-in to the future behavior, set `pd.set_option('future.no_silent_downcasting', True)`\n",
      "  base_prelimpieza['estado'] = base_prelimpieza['estado'].replace({\n",
      "/var/folders/9r/73xgxgj17t7btpfss2pdczcr0000gn/T/ipykernel_89850/47215766.py:51: FutureWarning: Downcasting behavior in `replace` is deprecated and will be removed in a future version. To retain the old behavior, explicitly call `result.infer_objects(copy=False)`. To opt-in to the future behavior, set `pd.set_option('future.no_silent_downcasting', True)`\n",
      "  base_prelimpieza['cat_inac'] = base_prelimpieza['cat_inac'].replace({\n",
      "/var/folders/9r/73xgxgj17t7btpfss2pdczcr0000gn/T/ipykernel_89850/47215766.py:61: FutureWarning: Downcasting behavior in `replace` is deprecated and will be removed in a future version. To retain the old behavior, explicitly call `result.infer_objects(copy=False)`. To opt-in to the future behavior, set `pd.set_option('future.no_silent_downcasting', True)`\n",
      "  base_prelimpieza['componente'] = base_prelimpieza['componente'].replace({\n",
      "/var/folders/9r/73xgxgj17t7btpfss2pdczcr0000gn/T/ipykernel_89850/47215766.py:65: FutureWarning: Downcasting behavior in `replace` is deprecated and will be removed in a future version. To retain the old behavior, explicitly call `result.infer_objects(copy=False)`. To opt-in to the future behavior, set `pd.set_option('future.no_silent_downcasting', True)`\n",
      "  base_prelimpieza['h15'] = base_prelimpieza['h15'].replace({\n",
      "/var/folders/9r/73xgxgj17t7btpfss2pdczcr0000gn/T/ipykernel_89850/47215766.py:70: FutureWarning: Downcasting behavior in `replace` is deprecated and will be removed in a future version. To retain the old behavior, explicitly call `result.infer_objects(copy=False)`. To opt-in to the future behavior, set `pd.set_option('future.no_silent_downcasting', True)`\n",
      "  base_prelimpieza['mas_500'] = base_prelimpieza['mas_500'].replace({\n",
      "/var/folders/9r/73xgxgj17t7btpfss2pdczcr0000gn/T/ipykernel_89850/47215766.py:74: FutureWarning: Downcasting behavior in `replace` is deprecated and will be removed in a future version. To retain the old behavior, explicitly call `result.infer_objects(copy=False)`. To opt-in to the future behavior, set `pd.set_option('future.no_silent_downcasting', True)`\n",
      "  base_prelimpieza['aglomerado'] = base_prelimpieza['aglomerado'].replace({\n",
      "/var/folders/9r/73xgxgj17t7btpfss2pdczcr0000gn/T/ipykernel_89850/47215766.py:78: FutureWarning: Downcasting behavior in `replace` is deprecated and will be removed in a future version. To retain the old behavior, explicitly call `result.infer_objects(copy=False)`. To opt-in to the future behavior, set `pd.set_option('future.no_silent_downcasting', True)`\n",
      "  base_prelimpieza['ch03'] = base_prelimpieza['ch03'].replace({\n"
     ]
    }
   ],
   "source": [
    "# como hay datos que tienen distintas etiquetas en las dos bases que concatenamos, tenemos que  renombrar las etiquetas de una de las bases asi se pueden tener todos los datos con el mismo valor\n",
    "variables_interes = base_prelimpieza[[\"ch04\", \"ch06\", \"ch07\", \"ch08\", \"nivel_ed\", \"estado\", \"cat_inac\", \"componente\", \"h15\", \"mas_500\", \"aglomerado\", \"ch03\"]]\n",
    "\n",
    "for i in variables_interes:\n",
    "    if i == \"ch04\": \n",
    "        base_prelimpieza['ch04'] = base_prelimpieza['ch04'].replace({\n",
    "            'Mujer': 2,\n",
    "            'Varón': 1})\n",
    "    elif i == \"ch06\":\n",
    "        base_prelimpieza['ch06'] = base_prelimpieza['ch06'].replace({\n",
    "            '98 y más años' : 98, \n",
    "            'Menos de 1 año' : 0})\n",
    "        # cambio el formato de los valores de esta columna porque la mitad estaba en float y la mitas en int\n",
    "        base_prelimpieza['ch06'] = base_prelimpieza['ch06'].astype(int)\n",
    "    elif i == \"ch07\":\n",
    "        base_prelimpieza['ch07'] = base_prelimpieza['ch07'].replace({\n",
    "            'Unido': 1, \n",
    "            'Casado': 2, \n",
    "            'Separado o divorciado': 3, \n",
    "            'Viudo': 4, \n",
    "            'Soltero': 5})\n",
    "    elif i == \"ch08\":\n",
    "        base_prelimpieza['ch08'] = base_prelimpieza['ch08'].replace({\n",
    "            'Obra social (incluye PAMI)': 1,  \n",
    "            'Mutual/Prepaga/Servicio de emergencia': 2,  \n",
    "            'Planes y seguros públicos': 3,  \n",
    "            'No paga ni le descuentan': 4,  \n",
    "            'Ns./Nr.': 9,  \n",
    "            'Obra social y mutual/prepaga/servicio de emergencia': 12,  \n",
    "            'Obra social y planes y seguros públicos': 13,  \n",
    "            'Mutual/prepaga/servicio de emergencia/planes y seguros públi': 23,\n",
    "            'Obra Social, mutual/prepaga/servicio de emergencia y planes y seguros públicos': 123})\n",
    "    elif i == \"nivel_ed\":\n",
    "        base_prelimpieza['nivel_ed'] = base_prelimpieza['nivel_ed'].replace({\n",
    "            'Primaria Incompleta (incluye educación especial)': 1,  \n",
    "            'Primaria Completa': 2,  \n",
    "            'Secundaria Incompleta': 3,  \n",
    "            'Secundaria Completa': 4,  \n",
    "            'Superior Universitaria Incompleta': 5,  \n",
    "            'Superior Universitaria Completa': 6, \n",
    "            'Sin instrucción': 7,  \n",
    "            'Ns./Nr.': 9})\n",
    "    elif i == \"estado\":\n",
    "        base_prelimpieza['estado'] = base_prelimpieza['estado'].replace({\n",
    "            'Ocupado': 1,  \n",
    "            'Desocupado': 2,  \n",
    "            'Inactivo': 3,  \n",
    "            'Menor de 10 años': 4,  \n",
    "            'Entrevista individual no realizada (no respuesta al cuestion': 0})\n",
    "    elif i == \"cat_inac\":\n",
    "        base_prelimpieza['cat_inac'] = base_prelimpieza['cat_inac'].replace({\n",
    "            0.0 : 0,\n",
    "            'Jubilado/pensionado': 1,  \n",
    "            'Rentista': 2,  \n",
    "            'Estudiante': 3,  \n",
    "            'Ama de casa': 4,  \n",
    "            'Menor de 6 años': 5,  \n",
    "            'Discapacitado': 6,  \n",
    "            'Otros': 7})\n",
    "    elif i == \"componente\":\n",
    "        base_prelimpieza['componente'] = base_prelimpieza['componente'].replace({\n",
    "            'Servicio doméstico en hogares': 51})\n",
    "        base_prelimpieza['componente'] = base_prelimpieza['componente'].astype(int)\n",
    "    elif i == \"h15\":\n",
    "        base_prelimpieza['h15'] = base_prelimpieza['h15'].replace({\n",
    "            \"Sí\": 1,\n",
    "            \"No\": 2})\n",
    "        base_prelimpieza['h15'] = base_prelimpieza['h15'].astype(int)\n",
    "    elif i == \"mas_500\":\n",
    "        base_prelimpieza['mas_500'] = base_prelimpieza['mas_500'].replace({\n",
    "            'N' : 1,\n",
    "            'S' : 0})\n",
    "    elif i == \"aglomerado\":\n",
    "        base_prelimpieza['aglomerado'] = base_prelimpieza['aglomerado'].replace({\n",
    "            'Ciudad de Buenos Aires' : 32,\n",
    "            'Partidos del GBA' : 33})\n",
    "    elif i == \"ch03\":\n",
    "        base_prelimpieza['ch03'] = base_prelimpieza['ch03'].replace({\n",
    "            'Jefe' : 1,\n",
    "            'Cónyuge/Pareja' : 2,\n",
    "            'Hijo/Hijastro' : 3,\n",
    "            'Yerno/Nuera' : 4,\n",
    "            'Nieto' : 5,\n",
    "            'Madre/Padre' : 6,\n",
    "            'Suegro' : 7,\n",
    "            'Hermano' : 8,\n",
    "            'Otros familiares' : 9,\n",
    "            'No familiares' : 10})\n",
    "    conteo = base_prelimpieza.groupby(i).size()\n",
    "    print(\"\\n\", \"La cantidad de datos en la variable\", i, \"por valor de etiqueta\", \"\\n\", conteo)"
   ]
  },
  {
   "cell_type": "code",
   "execution_count": 8,
   "id": "bc884a47-9a5b-4166-9cab-80604e790024",
   "metadata": {},
   "outputs": [
    {
     "name": "stdout",
     "output_type": "stream",
     "text": [
      "      ch04  ch06  ch07  ch08  nivel_ed  estado  cat_inac  componente  h15  \\\n",
      "245      2    85     4     1         2       1         0           1    1   \n",
      "246      1    59     2     1         6       1         0           2    1   \n",
      "247      2    57     2     1         6       1         0           3    1   \n",
      "255      1    26     5     1         6       1         0           1    1   \n",
      "256      2    88     4     1         1       3         1           1    1   \n",
      "...    ...   ...   ...   ...       ...     ...       ...         ...  ...   \n",
      "7642     2     1     5     2         7       4         5           3    0   \n",
      "7643     1    51     2     1         2       1         0           1    1   \n",
      "7644     2    55     2     1         2       1         0           2    1   \n",
      "7645     2    12     5     1         1       3         3           3    1   \n",
      "7646     1    22     5     1         4       1         0           4    1   \n",
      "\n",
      "      mas_500  aglomerado  ch03  \n",
      "245         0          33     1  \n",
      "246         0          33     3  \n",
      "247         0          33     4  \n",
      "255         0          33     1  \n",
      "256         0          33     1  \n",
      "...       ...         ...   ...  \n",
      "7642        0          33     3  \n",
      "7643        0          33     1  \n",
      "7644        0          33     2  \n",
      "7645        0          33     3  \n",
      "7646        0          33     3  \n",
      "\n",
      "[14698 rows x 12 columns]\n"
     ]
    }
   ],
   "source": [
    "#sneak peek de como queda la base toda con datos numericos\n",
    "print(base_prelimpieza[[\"ch04\", \"ch06\", \"ch07\", \"ch08\", \"nivel_ed\", \"estado\", \"cat_inac\", \"componente\", \"h15\", \"mas_500\", \"aglomerado\", \"ch03\"]])"
   ]
  },
  {
   "cell_type": "markdown",
   "id": "9990f342-624d-4a6a-a0a5-61cc82558178",
   "metadata": {},
   "source": [
    "#### PUNTO 2.B\n",
    "Si hay observaciones con valores que no tienen sentido,\n",
    "descártenlas (por ejemplo, ingresos y edades negativos). Expliquen\n",
    "las decisiones tomadas."
   ]
  },
  {
   "cell_type": "code",
   "execution_count": 9,
   "id": "a6234b68",
   "metadata": {},
   "outputs": [
    {
     "name": "stdout",
     "output_type": "stream",
     "text": [
      "Cantidad de valores negativos en variable edad: 51\n",
      "Cantidad: 14647\n",
      "Media: 35.79\n",
      "Desviacion estandar: 22.82\n",
      "Minimo: 0.00\n",
      "Maximo: 98.00\n"
     ]
    }
   ],
   "source": [
    "# VALORES NEGATIVOS EN EDAD\n",
    "\n",
    "valores_negativos_edad = base_prelimpieza['ch06'] < 0\n",
    "# Cantidad de datos negativos\n",
    "cantidad_negativos_edad = valores_negativos_edad.sum()\n",
    "print(\"Cantidad de valores negativos en variable edad:\", cantidad_negativos_edad)\n",
    "\n",
    "# Me quedo con los valores mayores o iguales a 0 de edad\n",
    "base_limpia = base_prelimpieza[base_prelimpieza['ch06'] >= 0]\n",
    "\n",
    "# Calcular cada estadística por separado\n",
    "count_ch06 = base_limpia['ch06'].count()\n",
    "mean_ch06 = base_limpia['ch06'].mean()\n",
    "std_ch06 = base_limpia['ch06'].std()\n",
    "min_ch06 = base_limpia['ch06'].min()\n",
    "max_ch06 = base_limpia['ch06'].max()\n",
    "\n",
    "# Mostrar las estadísticas\n",
    "print(f\"Cantidad: {count_ch06}\")\n",
    "print(f\"Media: {mean_ch06:.2f}\")\n",
    "print(f\"Desviacion estandar: {std_ch06:.2f}\")\n",
    "print(f\"Minimo: {min_ch06:.2f}\")\n",
    "print(f\"Maximo: {max_ch06:.2f}\")"
   ]
  },
  {
   "cell_type": "code",
   "execution_count": 10,
   "id": "5b8e9c93",
   "metadata": {},
   "outputs": [
    {
     "name": "stdout",
     "output_type": "stream",
     "text": [
      "Cantidad de valores negativos en variable ipcf: 0\n"
     ]
    }
   ],
   "source": [
    "# VALORES NEGATIVOS EN INGRESO POR CIRCULO FAMILIAR\n",
    "valores_negativos_ipcf = base_limpia[base_limpia['ipcf'] < 0]\n",
    "\n",
    "# Cantidad de datos negativos\n",
    "cantidad_negativos_ipcf = len(valores_negativos_ipcf)\n",
    "\n",
    "# Mostrar resultados\n",
    "print(\"Cantidad de valores negativos en variable ipcf:\", cantidad_negativos_ipcf)\n",
    "\n",
    "# Me quedo con los valores mayores o iguales a 0. Como no hay valores negativos, no saca ninguno\n",
    "base_limpia = base_prelimpieza[base_prelimpieza['ipcf'] >= 0]"
   ]
  },
  {
   "cell_type": "markdown",
   "id": "5d4dd1c8-db33-4c3f-b20f-9328f911b386",
   "metadata": {},
   "source": [
    "#### PUNTO 2.C\n",
    "Una vez hecha esa limpieza, realicen un gráfico de barras mostrando la composición por sexo para 2004 y 2024. Comenten los resultados"
   ]
  },
  {
   "cell_type": "code",
   "execution_count": 14,
   "id": "db3eccb3",
   "metadata": {},
   "outputs": [
    {
     "data": {
      "image/png": "[encoded data removed]",
      "text/plain": [
       "<Figure size 640x480 with 1 Axes>"
      ]
     },
     "metadata": {},
     "output_type": "display_data"
    }
   ],
   "source": [
    "# Grafico de cantidad de hombres y mujeres por año\n",
    "composicion = base_limpia.groupby(['ano4', 'ch04']).size().unstack(fill_value=0)\n",
    "composicion.plot(kind ='bar', color=['lightblue', 'pink'])\n",
    "plt.title('Composición por género en 2004 y 2024')\n",
    "plt.xlabel('Año')\n",
    "plt.ylabel('Cantidad de personas')\n",
    "plt.xticks(rotation = 0)  # Para tener las etiquetas en horizontal\n",
    "plt.legend(title = 'Género', labels=['Hombre', 'Mujer'])\n",
    "plt.show()"
   ]
  },
  {
   "cell_type": "markdown",
   "id": "4595cfb3-350f-493c-950c-9e2ce4d5dcc6",
   "metadata": {},
   "source": [
    "#### PUNTO 2.D\n",
    "Realicen una matriz de correlación para 2004 y 2024 con las siguientes variables: CH04, CH06, CH07, CH08, NIVEL ED, ESTADO, CAT_INAC, IPCF. Utilicen alguno de los comandos disponibles en este link o este link para graficar la matriz de correlación. Comenten los resultados"
   ]
  },
  {
   "cell_type": "code",
   "execution_count": 15,
   "id": "f039e2b2-a70b-49c3-a83c-860805d0cb0b",
   "metadata": {},
   "outputs": [],
   "source": [
    "# Lista de variables para al correlacion: no uso las categoricas per se, sino las modificadas\n",
    "variables_corr =  base_limpia[['ch04', 'ch06', 'ch07', 'ch08', 'nivel_ed', 'estado', 'cat_inac', 'ipcf']]"
   ]
  },
  {
   "cell_type": "code",
   "execution_count": 16,
   "id": "9ea59093-af3f-401f-ac78-b064431f3d8c",
   "metadata": {},
   "outputs": [
    {
     "data": {
      "text/plain": [
       "<Axes: >"
      ]
     },
     "execution_count": 16,
     "metadata": {},
     "output_type": "execute_result"
    },
    {
     "data": {
      "image/png": "[encoded data removed]",
      "text/plain": [
       "<Figure size 640x480 with 2 Axes>"
      ]
     },
     "metadata": {},
     "output_type": "display_data"
    }
   ],
   "source": [
    "# lo saque del segundo link\n",
    "matriz_corr = variables_corr.corr()\n",
    "upp_mat = np.triu(matriz_corr.corr())\n",
    "sns.heatmap(matriz_corr.corr(), vmin=-1, vmax=+1, annot=True, cmap=\"magma\", mask=upp_mat)"
   ]
  },
  {
   "cell_type": "code",
   "execution_count": 17,
   "id": "bfe478a1-3b94-4a17-ae8e-f32aaf5ec6d1",
   "metadata": {},
   "outputs": [
    {
     "data": {
      "image/png": "[encoded data removed]",
      "text/plain": [
       "<Figure size 640x480 with 2 Axes>"
      ]
     },
     "metadata": {},
     "output_type": "display_data"
    }
   ],
   "source": [
    "# lo saque del primer link\n",
    "def heatmap(x, y, size, color):\n",
    "    fig, ax = plt.subplots()\n",
    "    # Mapping from column names to integer coordinates\n",
    "    x_labels = [v for v in sorted(x.unique())]\n",
    "    y_labels = [v for v in sorted(y.unique())]\n",
    "    x_to_num = {p[1]: p[0] for p in enumerate(x_labels)} \n",
    "    y_to_num = {p[1]: p[0] for p in enumerate(y_labels)} \n",
    "    \n",
    "    size_scale = 500\n",
    "    scatter = ax.scatter(\n",
    "        x=x.map(x_to_num), # Use mapping for x\n",
    "        y=y.map(y_to_num), # Use mapping for y\n",
    "        s=size * size_scale, # Vector of square sizes, proportional to size parameter\n",
    "        c=color,  # Colores de los puntos\n",
    "        cmap='coolwarm',  # Mapa de colores\n",
    "        marker='h' # Usamos hexágonos\n",
    "    )\n",
    "    plt.colorbar(scatter, ax=ax)\n",
    "    \n",
    "    # Mostrar etiquetas de columnas en los ejes\n",
    "    ax.set_xticks(list(x_to_num.values()))\n",
    "    ax.set_xticklabels(x_labels, rotation=45, horizontalalignment='right')\n",
    "    ax.set_yticks(list(y_to_num.values()))\n",
    "    ax.set_yticklabels(y_labels)\n",
    "\n",
    "        # Agregar los valores de correlación en cada hexágono\n",
    "    for i in range(len(x)):\n",
    "        ax.text(\n",
    "            x=x.map(x_to_num)[i],\n",
    "            y=y.map(y_to_num)[i],\n",
    "            s=f\"{color[i]:.2f}\",  # Mostrar el valor de la correlación con 2 decimales\n",
    "            color=\"black\",       # Color del texto\n",
    "            ha='center', va='center')\n",
    "\n",
    "# Hacer el gráfico\n",
    "variables_corr = base_limpia[['ch04', 'ch06', 'ch07', 'ch08', 'nivel_ed', 'estado', 'cat_inac', 'ipcf']]\n",
    "corr = variables_corr.corr()\n",
    "corr = pd.melt(corr.reset_index(), id_vars='index') # Unpivot the dataframe, so we can get pair of arrays for x and y\n",
    "corr.columns = ['x', 'y', 'value']\n",
    "heatmap(x=corr['x'], y=corr['y'], size=corr['value'].abs(), color=corr['value'])  # Cambiar aquí color=corr['value']"
   ]
  },
  {
   "cell_type": "markdown",
   "id": "3777395b-d636-4dc3-a03b-58acd2b0fbe8",
   "metadata": {},
   "source": [
    "#### PUNTO 2.E\n",
    "¿Cuántos desocupados hay en la muestra? ¿Cuántos inactivos? ¿Cuál es la media de ingreso per cápita familiar (IPCF) según estado (ocupado, desocupado, inactivo)?"
   ]
  },
  {
   "cell_type": "code",
   "execution_count": 18,
   "id": "b78daf31-71d5-4b03-af09-9508ca828106",
   "metadata": {},
   "outputs": [
    {
     "name": "stdout",
     "output_type": "stream",
     "text": [
      "\n",
      "Cantidad de desocupados: 839\n",
      "Cantidad de inactivos: 5462\n",
      "\n",
      "Media de ingreso per capita familiar general: 76978.86\n",
      "\n",
      "Media de ingreso per capita familiar según año (2004 y 2005):\n",
      "ano4\n",
      "2004.0       362.51\n",
      "2024.0    160071.35\n",
      "Name: ipcf, dtype: float64\n"
     ]
    }
   ],
   "source": [
    "# Cantidad de desocupados\n",
    "count_desocup = base_limpia[base_limpia['estado'] == 2].shape[0]\n",
    "print(f\"\\nCantidad de desocupados: {count_desocup}\")\n",
    "\n",
    "# Cantidad de inactivos\n",
    "count_inact = base_limpia[base_limpia['estado'] == 3].shape[0]\n",
    "print(f\"Cantidad de inactivos: {count_inact}\")\n",
    "\n",
    "mean_ipcf = base_limpia['ipcf'].mean().round(2)\n",
    "print(f\"\\nMedia de ingreso per capita familiar general: {mean_ipcf}\")\n",
    "\n",
    "# Media de ingreso per capita por año\n",
    "mean_ipcf_ano = base_limpia.groupby('ano4')['ipcf'].mean().round(2)\n",
    "print(\"\\nMedia de ingreso per capita familiar según año (2004 y 2005):\")\n",
    "print(mean_ipcf_ano)"
   ]
  },
  {
   "cell_type": "code",
   "execution_count": 19,
   "id": "ef288463",
   "metadata": {},
   "outputs": [
    {
     "name": "stdout",
     "output_type": "stream",
     "text": [
      "\n",
      "Media de ingreso per capita familiar segun estado:\n",
      "estado\n",
      "Desocupado                  31655.96\n",
      "Entrevista no realizada        10.30\n",
      "Inactivo                    63863.08\n",
      "Menor de 10 años            41675.20\n",
      "Ocupado                    106443.40\n",
      "Name: ipcf, dtype: float64\n",
      "\n",
      "Media de ingreso per capita familiar según estado por año:\n",
      "estado                   ano4  \n",
      "Desocupado               2004.0       224.23\n",
      "                         2024.0     85019.15\n",
      "Entrevista no realizada  2004.0        52.53\n",
      "                         2024.0         0.00\n",
      "Inactivo                 2004.0       315.89\n",
      "                         2024.0    130704.60\n",
      "Menor de 10 años         2004.0       246.26\n",
      "                         2024.0    104353.66\n",
      "Ocupado                  2004.0       476.06\n",
      "                         2024.0    207644.84\n",
      "Name: ipcf, dtype: float64\n"
     ]
    }
   ],
   "source": [
    "# Crear un diccionario para mapear los valores numéricos a nombres de estado\n",
    "estado_mapping = {\n",
    "    1: 'Ocupado',\n",
    "    2: 'Desocupado',\n",
    "    3: 'Inactivo',\n",
    "    4: 'Menor de 10 años',\n",
    "    0: 'Entrevista no realizada'\n",
    "}\n",
    "\n",
    "mean_ipcf_estado = base_limpia.groupby(base_limpia['estado'].map(estado_mapping))['ipcf'].mean().round(2)\n",
    "print(\"\\nMedia de ingreso per capita familiar segun estado:\")\n",
    "print(mean_ipcf_estado)\n",
    "\n",
    "mean_ipcf_estado_ano = base_limpia.groupby([base_limpia['estado'].map(estado_mapping), 'ano4'])['ipcf'].mean().round(2)\n",
    "print(\"\\nMedia de ingreso per capita familiar según estado por año:\")\n",
    "print(mean_ipcf_estado_ano)"
   ]
  },
  {
   "cell_type": "code",
   "execution_count": 20,
   "id": "37af7c70",
   "metadata": {},
   "outputs": [
    {
     "name": "stdout",
     "output_type": "stream",
     "text": [
      "2004\n",
      "'Menor de 10 años': 1230\n",
      "Ingreso promedio: 246.26\n",
      "\n",
      "2024\n",
      "'Menor de 10 años': 813\n",
      "Ingreso promedio: 104353.66\n"
     ]
    }
   ],
   "source": [
    "# Filtrar por estado 'Menor de 10 años' y año 2004\n",
    "menor_10_anos_2004 = base_limpia[(base_limpia['estado'] == 4) & (base_limpia['ano4'] == 2004)]\n",
    "cantidad_menor_10_2004 = menor_10_anos_2004.shape[0]\n",
    "ingreso_promedio_menor_10_2004 = menor_10_anos_2004['ipcf'].mean().round(2)\n",
    "\n",
    "# Filtrar por estado 'Menor de 10 años' y año 2024\n",
    "menor_10_anos_2024 = base_limpia[(base_limpia['estado'] == 4) & (base_limpia['ano4'] == 2024)]\n",
    "cantidad_menor_10_2024 = menor_10_anos_2024.shape[0]\n",
    "ingreso_promedio_menor_10_2024 = menor_10_anos_2024['ipcf'].mean().round(2)\n",
    "\n",
    "print(\"2004\")\n",
    "print(f\"'Menor de 10 años': {cantidad_menor_10_2004}\")\n",
    "print(f\"Ingreso promedio: {ingreso_promedio_menor_10_2004}\")\n",
    "\n",
    "print(\"\\n2024\")\n",
    "print(f\"'Menor de 10 años': {cantidad_menor_10_2024}\")\n",
    "print(f\"Ingreso promedio: {ingreso_promedio_menor_10_2024}\")\n"
   ]
  },
  {
   "cell_type": "markdown",
   "id": "adeb5206-409b-46b9-8000-6dfe5094119e",
   "metadata": {},
   "source": [
    "#### PUNTO 3.A\n",
    "Uno de los grandes problemas de la EPH es la creciente cantidad de hogares que no reportan sus ingresos (ver por ejemplo el siguiente informe). ¿Cuántas personas no respondieron? ¿Cuál es su condición de actividad? "
   ]
  },
  {
   "cell_type": "code",
   "execution_count": 21,
   "id": "e14f310e-fa9d-4111-be03-effdd03872d8",
   "metadata": {},
   "outputs": [
    {
     "name": "stdout",
     "output_type": "stream",
     "text": [
      "Cantidad de personas que no respondieron: 51\n",
      "\n",
      "Su condición de actividad de las personas que no respondieron: estado\n",
      "0    51\n",
      "Name: count, dtype: int64\n"
     ]
    }
   ],
   "source": [
    "# Filtrar las personas que no respondieron (h15 == 2)\n",
    "no_respondieron = base_limpia[base_limpia['h15'] == 2]\n",
    "\n",
    "# Contar cuántas personas no respondieron\n",
    "cantidad_no_respondieron = no_respondieron.shape[0]\n",
    "\n",
    "# Agrupar por 'estado' y contar las personas en cada condición de actividad\n",
    "condicion_actividad_no_respondieron = no_respondieron['estado'].value_counts()\n",
    "\n",
    "# Imprimir los resultados\n",
    "print(f\"Cantidad de personas que no respondieron: {cantidad_no_respondieron}\")\n",
    "print(f\"\\nSu condición de actividad de las personas que no respondieron: {condicion_actividad_no_respondieron}\")\n",
    "\n",
    "# ACA HABRIA QUE PONER QUE 0 == entrevista individual no realizada/no respuesta al cuestionario individual"
   ]
  },
  {
   "cell_type": "markdown",
   "id": "869307af-87de-414b-8e6f-d2fb6f0582f7",
   "metadata": {},
   "source": [
    "#### PUNTO 3.B\n",
    "Guarden como una base distinta llamada respondieron las observaciones donde respondieron la pregunta sobre su condición de actividad (ESTADO). \n",
    "\n",
    "Las observaciones con ESTADO=0 guárdenlas en una base bajo el nombre norespondieron."
   ]
  },
  {
   "cell_type": "code",
   "execution_count": 13,
   "id": "82cdc441-3648-4ad5-bb83-029aced8f15c",
   "metadata": {},
   "outputs": [
    {
     "name": "stdout",
     "output_type": "stream",
     "text": [
      "La cantidad de personas que respondieron a la pregunta de condicion de actividad son: 14647\n",
      "La cantidad de personas que no respondieron a la pregunta de condicion de actividad son: 51\n"
     ]
    }
   ],
   "source": [
    "# base con datos que si respondieron a la condicion de actividad\n",
    "resp_observaciones = base_limpia[base_limpia['estado'] != 0]\n",
    "resp_observaciones_cant = base_limpia[base_limpia['estado'] != 0].shape[0]\n",
    "\n",
    "print(\"La cantidad de personas que respondieron a la pregunta de condicion de actividad son:\", resp_observaciones_cant)\n",
    "\n",
    "# base con datos que no respondieron a la condicion de actividad\n",
    "no_resp = base_limpia[base_limpia['estado'] == 0]\n",
    "no_resp_cant = base_limpia[base_limpia['estado'] == 0].shape[0]\n",
    "print(\"La cantidad de personas que no respondieron a la pregunta de condicion de actividad son:\", no_resp_cant)"
   ]
  },
  {
   "cell_type": "markdown",
   "id": "376fc58d-b34e-4165-a125-8809574db689",
   "metadata": {},
   "source": [
    "#### PUNTO 4.A\n",
    "Agreguen a la base respondieron una columna llamada PEA (Población Económicamente Activa) que tome 1 si están ocupados o desocupados en ESTADO. "
   ]
  },
  {
   "cell_type": "code",
   "execution_count": 23,
   "id": "0da36b0e-1b2e-4697-8ec9-ab105618563b",
   "metadata": {},
   "outputs": [
    {
     "data": {
      "text/html": [
       "<div>\n",
       "<style scoped>\n",
       "    .dataframe tbody tr th:only-of-type {\n",
       "        vertical-align: middle;\n",
       "    }\n",
       "\n",
       "    .dataframe tbody tr th {\n",
       "        vertical-align: top;\n",
       "    }\n",
       "\n",
       "    .dataframe thead th {\n",
       "        text-align: right;\n",
       "    }\n",
       "</style>\n",
       "<table border=\"1\" class=\"dataframe\">\n",
       "  <thead>\n",
       "    <tr style=\"text-align: right;\">\n",
       "      <th></th>\n",
       "      <th>codusu</th>\n",
       "      <th>ano4</th>\n",
       "      <th>trimestre</th>\n",
       "      <th>nro_hogar</th>\n",
       "      <th>componente</th>\n",
       "      <th>h15</th>\n",
       "      <th>region</th>\n",
       "      <th>mas_500</th>\n",
       "      <th>aglomerado</th>\n",
       "      <th>pondera</th>\n",
       "      <th>...</th>\n",
       "      <th>rdeccfr</th>\n",
       "      <th>gdeccfr</th>\n",
       "      <th>pdeccfr</th>\n",
       "      <th>adeccfr</th>\n",
       "      <th>pondih</th>\n",
       "      <th>pj1_1</th>\n",
       "      <th>pj2_1</th>\n",
       "      <th>pj3_1</th>\n",
       "      <th>idimpp</th>\n",
       "      <th>PEA</th>\n",
       "    </tr>\n",
       "  </thead>\n",
       "  <tbody>\n",
       "    <tr>\n",
       "      <th>245</th>\n",
       "      <td>TQRMNOSUWHLKMUCDEIJAH00855260</td>\n",
       "      <td>2024.0</td>\n",
       "      <td>1</td>\n",
       "      <td>1.0</td>\n",
       "      <td>1</td>\n",
       "      <td>1</td>\n",
       "      <td>1</td>\n",
       "      <td>0</td>\n",
       "      <td>33</td>\n",
       "      <td>1810.0</td>\n",
       "      <td>...</td>\n",
       "      <td>12</td>\n",
       "      <td>12.0</td>\n",
       "      <td>NaN</td>\n",
       "      <td>12</td>\n",
       "      <td>0.0</td>\n",
       "      <td>NaN</td>\n",
       "      <td>NaN</td>\n",
       "      <td>NaN</td>\n",
       "      <td>NaN</td>\n",
       "      <td>1</td>\n",
       "    </tr>\n",
       "    <tr>\n",
       "      <th>246</th>\n",
       "      <td>TQRMNOSUWHLKMUCDEIJAH00855260</td>\n",
       "      <td>2024.0</td>\n",
       "      <td>1</td>\n",
       "      <td>1.0</td>\n",
       "      <td>2</td>\n",
       "      <td>1</td>\n",
       "      <td>1</td>\n",
       "      <td>0</td>\n",
       "      <td>33</td>\n",
       "      <td>1810.0</td>\n",
       "      <td>...</td>\n",
       "      <td>12</td>\n",
       "      <td>12.0</td>\n",
       "      <td>NaN</td>\n",
       "      <td>12</td>\n",
       "      <td>0.0</td>\n",
       "      <td>NaN</td>\n",
       "      <td>NaN</td>\n",
       "      <td>NaN</td>\n",
       "      <td>NaN</td>\n",
       "      <td>1</td>\n",
       "    </tr>\n",
       "    <tr>\n",
       "      <th>247</th>\n",
       "      <td>TQRMNOSUWHLKMUCDEIJAH00855260</td>\n",
       "      <td>2024.0</td>\n",
       "      <td>1</td>\n",
       "      <td>1.0</td>\n",
       "      <td>3</td>\n",
       "      <td>1</td>\n",
       "      <td>1</td>\n",
       "      <td>0</td>\n",
       "      <td>33</td>\n",
       "      <td>1810.0</td>\n",
       "      <td>...</td>\n",
       "      <td>12</td>\n",
       "      <td>12.0</td>\n",
       "      <td>NaN</td>\n",
       "      <td>12</td>\n",
       "      <td>0.0</td>\n",
       "      <td>NaN</td>\n",
       "      <td>NaN</td>\n",
       "      <td>NaN</td>\n",
       "      <td>NaN</td>\n",
       "      <td>1</td>\n",
       "    </tr>\n",
       "    <tr>\n",
       "      <th>255</th>\n",
       "      <td>TQSMNORWVHLLKQCDEIJAH00856914</td>\n",
       "      <td>2024.0</td>\n",
       "      <td>1</td>\n",
       "      <td>1.0</td>\n",
       "      <td>1</td>\n",
       "      <td>1</td>\n",
       "      <td>1</td>\n",
       "      <td>0</td>\n",
       "      <td>33</td>\n",
       "      <td>2368.0</td>\n",
       "      <td>...</td>\n",
       "      <td>9</td>\n",
       "      <td>9.0</td>\n",
       "      <td>NaN</td>\n",
       "      <td>9</td>\n",
       "      <td>3324.0</td>\n",
       "      <td>NaN</td>\n",
       "      <td>NaN</td>\n",
       "      <td>NaN</td>\n",
       "      <td>NaN</td>\n",
       "      <td>1</td>\n",
       "    </tr>\n",
       "    <tr>\n",
       "      <th>256</th>\n",
       "      <td>TQRMNOPQQHLOLRCDEIJAH00855133</td>\n",
       "      <td>2024.0</td>\n",
       "      <td>1</td>\n",
       "      <td>1.0</td>\n",
       "      <td>1</td>\n",
       "      <td>1</td>\n",
       "      <td>1</td>\n",
       "      <td>0</td>\n",
       "      <td>33</td>\n",
       "      <td>1223.0</td>\n",
       "      <td>...</td>\n",
       "      <td>12</td>\n",
       "      <td>12.0</td>\n",
       "      <td>NaN</td>\n",
       "      <td>12</td>\n",
       "      <td>0.0</td>\n",
       "      <td>NaN</td>\n",
       "      <td>NaN</td>\n",
       "      <td>NaN</td>\n",
       "      <td>NaN</td>\n",
       "      <td>0</td>\n",
       "    </tr>\n",
       "    <tr>\n",
       "      <th>...</th>\n",
       "      <td>...</td>\n",
       "      <td>...</td>\n",
       "      <td>...</td>\n",
       "      <td>...</td>\n",
       "      <td>...</td>\n",
       "      <td>...</td>\n",
       "      <td>...</td>\n",
       "      <td>...</td>\n",
       "      <td>...</td>\n",
       "      <td>...</td>\n",
       "      <td>...</td>\n",
       "      <td>...</td>\n",
       "      <td>...</td>\n",
       "      <td>...</td>\n",
       "      <td>...</td>\n",
       "      <td>...</td>\n",
       "      <td>...</td>\n",
       "      <td>...</td>\n",
       "      <td>...</td>\n",
       "      <td>...</td>\n",
       "      <td>...</td>\n",
       "    </tr>\n",
       "    <tr>\n",
       "      <th>7642</th>\n",
       "      <td>288171</td>\n",
       "      <td>2004.0</td>\n",
       "      <td>1er. Trimestre</td>\n",
       "      <td>1.0</td>\n",
       "      <td>3</td>\n",
       "      <td>0</td>\n",
       "      <td>Gran Buenos Aires</td>\n",
       "      <td>0</td>\n",
       "      <td>33</td>\n",
       "      <td>1454.0</td>\n",
       "      <td>...</td>\n",
       "      <td>08</td>\n",
       "      <td>08</td>\n",
       "      <td></td>\n",
       "      <td>09</td>\n",
       "      <td>NaN</td>\n",
       "      <td>0.0</td>\n",
       "      <td>0.0</td>\n",
       "      <td>0.0</td>\n",
       "      <td>00000</td>\n",
       "      <td>0</td>\n",
       "    </tr>\n",
       "    <tr>\n",
       "      <th>7643</th>\n",
       "      <td>288405</td>\n",
       "      <td>2004.0</td>\n",
       "      <td>1er. Trimestre</td>\n",
       "      <td>1.0</td>\n",
       "      <td>1</td>\n",
       "      <td>1</td>\n",
       "      <td>Gran Buenos Aires</td>\n",
       "      <td>0</td>\n",
       "      <td>33</td>\n",
       "      <td>1673.0</td>\n",
       "      <td>...</td>\n",
       "      <td>02</td>\n",
       "      <td>02</td>\n",
       "      <td></td>\n",
       "      <td>02</td>\n",
       "      <td>NaN</td>\n",
       "      <td>0.0</td>\n",
       "      <td>0.0</td>\n",
       "      <td>0.0</td>\n",
       "      <td>00000</td>\n",
       "      <td>1</td>\n",
       "    </tr>\n",
       "    <tr>\n",
       "      <th>7644</th>\n",
       "      <td>288405</td>\n",
       "      <td>2004.0</td>\n",
       "      <td>1er. Trimestre</td>\n",
       "      <td>1.0</td>\n",
       "      <td>2</td>\n",
       "      <td>1</td>\n",
       "      <td>Gran Buenos Aires</td>\n",
       "      <td>0</td>\n",
       "      <td>33</td>\n",
       "      <td>1673.0</td>\n",
       "      <td>...</td>\n",
       "      <td>02</td>\n",
       "      <td>02</td>\n",
       "      <td></td>\n",
       "      <td>02</td>\n",
       "      <td>NaN</td>\n",
       "      <td>0.0</td>\n",
       "      <td>0.0</td>\n",
       "      <td>0.0</td>\n",
       "      <td>00000</td>\n",
       "      <td>1</td>\n",
       "    </tr>\n",
       "    <tr>\n",
       "      <th>7645</th>\n",
       "      <td>288405</td>\n",
       "      <td>2004.0</td>\n",
       "      <td>1er. Trimestre</td>\n",
       "      <td>1.0</td>\n",
       "      <td>3</td>\n",
       "      <td>1</td>\n",
       "      <td>Gran Buenos Aires</td>\n",
       "      <td>0</td>\n",
       "      <td>33</td>\n",
       "      <td>1673.0</td>\n",
       "      <td>...</td>\n",
       "      <td>02</td>\n",
       "      <td>02</td>\n",
       "      <td></td>\n",
       "      <td>02</td>\n",
       "      <td>NaN</td>\n",
       "      <td>0.0</td>\n",
       "      <td>0.0</td>\n",
       "      <td>0.0</td>\n",
       "      <td>00000</td>\n",
       "      <td>0</td>\n",
       "    </tr>\n",
       "    <tr>\n",
       "      <th>7646</th>\n",
       "      <td>288405</td>\n",
       "      <td>2004.0</td>\n",
       "      <td>1er. Trimestre</td>\n",
       "      <td>1.0</td>\n",
       "      <td>4</td>\n",
       "      <td>1</td>\n",
       "      <td>Gran Buenos Aires</td>\n",
       "      <td>0</td>\n",
       "      <td>33</td>\n",
       "      <td>1673.0</td>\n",
       "      <td>...</td>\n",
       "      <td>02</td>\n",
       "      <td>02</td>\n",
       "      <td></td>\n",
       "      <td>02</td>\n",
       "      <td>NaN</td>\n",
       "      <td>0.0</td>\n",
       "      <td>0.0</td>\n",
       "      <td>0.0</td>\n",
       "      <td>00000</td>\n",
       "      <td>1</td>\n",
       "    </tr>\n",
       "  </tbody>\n",
       "</table>\n",
       "<p>14647 rows × 182 columns</p>\n",
       "</div>"
      ],
      "text/plain": [
       "                             codusu    ano4       trimestre  nro_hogar  \\\n",
       "245   TQRMNOSUWHLKMUCDEIJAH00855260  2024.0               1        1.0   \n",
       "246   TQRMNOSUWHLKMUCDEIJAH00855260  2024.0               1        1.0   \n",
       "247   TQRMNOSUWHLKMUCDEIJAH00855260  2024.0               1        1.0   \n",
       "255   TQSMNORWVHLLKQCDEIJAH00856914  2024.0               1        1.0   \n",
       "256   TQRMNOPQQHLOLRCDEIJAH00855133  2024.0               1        1.0   \n",
       "...                             ...     ...             ...        ...   \n",
       "7642                       288171    2004.0  1er. Trimestre        1.0   \n",
       "7643                       288405    2004.0  1er. Trimestre        1.0   \n",
       "7644                       288405    2004.0  1er. Trimestre        1.0   \n",
       "7645                       288405    2004.0  1er. Trimestre        1.0   \n",
       "7646                       288405    2004.0  1er. Trimestre        1.0   \n",
       "\n",
       "      componente  h15             region  mas_500  aglomerado  pondera  ...  \\\n",
       "245            1    1                  1        0          33   1810.0  ...   \n",
       "246            2    1                  1        0          33   1810.0  ...   \n",
       "247            3    1                  1        0          33   1810.0  ...   \n",
       "255            1    1                  1        0          33   2368.0  ...   \n",
       "256            1    1                  1        0          33   1223.0  ...   \n",
       "...          ...  ...                ...      ...         ...      ...  ...   \n",
       "7642           3    0  Gran Buenos Aires        0          33   1454.0  ...   \n",
       "7643           1    1  Gran Buenos Aires        0          33   1673.0  ...   \n",
       "7644           2    1  Gran Buenos Aires        0          33   1673.0  ...   \n",
       "7645           3    1  Gran Buenos Aires        0          33   1673.0  ...   \n",
       "7646           4    1  Gran Buenos Aires        0          33   1673.0  ...   \n",
       "\n",
       "      rdeccfr  gdeccfr pdeccfr  adeccfr  pondih  pj1_1 pj2_1 pj3_1 idimpp PEA  \n",
       "245        12     12.0     NaN       12     0.0    NaN   NaN   NaN    NaN   1  \n",
       "246        12     12.0     NaN       12     0.0    NaN   NaN   NaN    NaN   1  \n",
       "247        12     12.0     NaN       12     0.0    NaN   NaN   NaN    NaN   1  \n",
       "255         9      9.0     NaN        9  3324.0    NaN   NaN   NaN    NaN   1  \n",
       "256        12     12.0     NaN       12     0.0    NaN   NaN   NaN    NaN   0  \n",
       "...       ...      ...     ...      ...     ...    ...   ...   ...    ...  ..  \n",
       "7642       08       08               09     NaN    0.0   0.0   0.0  00000   0  \n",
       "7643       02       02               02     NaN    0.0   0.0   0.0  00000   1  \n",
       "7644       02       02               02     NaN    0.0   0.0   0.0  00000   1  \n",
       "7645       02       02               02     NaN    0.0   0.0   0.0  00000   0  \n",
       "7646       02       02               02     NaN    0.0   0.0   0.0  00000   1  \n",
       "\n",
       "[14647 rows x 182 columns]"
      ]
     },
     "execution_count": 23,
     "metadata": {},
     "output_type": "execute_result"
    }
   ],
   "source": [
    "resp_observaciones = resp_observaciones.assign(PEA = (resp_observaciones['estado'].isin([1, 2])).astype(int))\n",
    "resp_observaciones"
   ]
  },
  {
   "cell_type": "markdown",
   "id": "e571cc93-132a-4ced-b362-ef38912f2072",
   "metadata": {},
   "source": [
    "#### PUNTO 4.B\n",
    "Realicen un gráfico de barras mostrando la composición por PEA para 2004 y 2024. Comenten los resultados."
   ]
  },
  {
   "cell_type": "code",
   "execution_count": 24,
   "id": "83a919d9-6052-4716-8a75-a52770b19e42",
   "metadata": {},
   "outputs": [
    {
     "name": "stdout",
     "output_type": "stream",
     "text": [
      "la cantidad de personas que se encuentran economicamente activas en 2004 es de 7637\n",
      "el porcentaje de la poblacion total que se encuentra economicamente activa en 2004 es de 0.47230587927196543\n",
      "la cantidad de personas que se encuentran economicamente activas en 2024 es de 7010\n",
      "el porcentaje de la poblacion total que se encuentra economicamente activa en 2024 es de 0.5042796005706134\n"
     ]
    },
    {
     "data": {
      "image/png": "[encoded data removed]",
      "text/plain": [
       "<Figure size 800x600 with 1 Axes>"
      ]
     },
     "metadata": {},
     "output_type": "display_data"
    }
   ],
   "source": [
    "# vemos las medias de PEA para cada año\n",
    "pea_2004_count = resp_observaciones[resp_observaciones['ano4'] == 2004]['PEA'].count()\n",
    "print(\"la cantidad de personas que se encuentran economicamente activas en 2004 es de\", pea_2004_count)\n",
    "pea_2004 = resp_observaciones[resp_observaciones['ano4'] == 2004]['PEA'].mean()\n",
    "print(\"el porcentaje de la poblacion total que se encuentra economicamente activa en 2004 es de\", pea_2004)\n",
    "\n",
    "pea_2024_count = resp_observaciones[resp_observaciones['ano4'] == 2024]['PEA'].count()\n",
    "print(\"la cantidad de personas que se encuentran economicamente activas en 2024 es de\", pea_2024_count)\n",
    "pea_2024 = resp_observaciones[resp_observaciones['ano4'] == 2024]['PEA'].mean()\n",
    "print(\"el porcentaje de la poblacion total que se encuentra economicamente activa en 2024 es de\",pea_2024)\n",
    "\n",
    "# Crear un DataFrame para facilitar la visualización\n",
    "pea_data = pd.DataFrame({\n",
    "    'Año': [2004, 2024],\n",
    "    'Proporción PEA': [pea_2004, pea_2024]})\n",
    "\n",
    "# Crear el gráfico de barras\n",
    "plt.figure(figsize = (8, 6))\n",
    "sns.barplot(data = pea_data, x ='Año', y ='Proporción PEA', hue='Año', palette='Set2', legend=False)\n",
    "plt.title('Población Económicamente Activa en 2004 y 2024')\n",
    "plt.xlabel('Año')\n",
    "plt.ylabel('Proporción de Población Económicamente Activa')\n",
    "plt.show()"
   ]
  },
  {
   "cell_type": "markdown",
   "id": "fd4d3a9a-54d1-48cf-bf74-6522472c1069",
   "metadata": {},
   "source": [
    "#### PUNTO 5.A\n",
    "Agreguen a la base respondieron una columna llamada PET (Población en Edad para Trabajar) que tome 1 si están la persona tiene entre 15 y 65 años cumplidos."
   ]
  },
  {
   "cell_type": "code",
   "execution_count": 25,
   "id": "c35d6441-c3dc-4f24-bf7b-2d976199cdb9",
   "metadata": {},
   "outputs": [
    {
     "name": "stdout",
     "output_type": "stream",
     "text": [
      "                             codusu    ano4       trimestre  nro_hogar  \\\n",
      "245   TQRMNOSUWHLKMUCDEIJAH00855260  2024.0               1        1.0   \n",
      "246   TQRMNOSUWHLKMUCDEIJAH00855260  2024.0               1        1.0   \n",
      "247   TQRMNOSUWHLKMUCDEIJAH00855260  2024.0               1        1.0   \n",
      "255   TQSMNORWVHLLKQCDEIJAH00856914  2024.0               1        1.0   \n",
      "256   TQRMNOPQQHLOLRCDEIJAH00855133  2024.0               1        1.0   \n",
      "...                             ...     ...             ...        ...   \n",
      "7642                       288171    2004.0  1er. Trimestre        1.0   \n",
      "7643                       288405    2004.0  1er. Trimestre        1.0   \n",
      "7644                       288405    2004.0  1er. Trimestre        1.0   \n",
      "7645                       288405    2004.0  1er. Trimestre        1.0   \n",
      "7646                       288405    2004.0  1er. Trimestre        1.0   \n",
      "\n",
      "      componente  h15             region  mas_500  aglomerado  pondera  ...  \\\n",
      "245            1    1                  1        0          33   1810.0  ...   \n",
      "246            2    1                  1        0          33   1810.0  ...   \n",
      "247            3    1                  1        0          33   1810.0  ...   \n",
      "255            1    1                  1        0          33   2368.0  ...   \n",
      "256            1    1                  1        0          33   1223.0  ...   \n",
      "...          ...  ...                ...      ...         ...      ...  ...   \n",
      "7642           3    0  Gran Buenos Aires        0          33   1454.0  ...   \n",
      "7643           1    1  Gran Buenos Aires        0          33   1673.0  ...   \n",
      "7644           2    1  Gran Buenos Aires        0          33   1673.0  ...   \n",
      "7645           3    1  Gran Buenos Aires        0          33   1673.0  ...   \n",
      "7646           4    1  Gran Buenos Aires        0          33   1673.0  ...   \n",
      "\n",
      "      gdeccfr  pdeccfr adeccfr  pondih  pj1_1  pj2_1 pj3_1 idimpp PEA PET  \n",
      "245      12.0      NaN      12     0.0    NaN    NaN   NaN    NaN   1   0  \n",
      "246      12.0      NaN      12     0.0    NaN    NaN   NaN    NaN   1   1  \n",
      "247      12.0      NaN      12     0.0    NaN    NaN   NaN    NaN   1   1  \n",
      "255       9.0      NaN       9  3324.0    NaN    NaN   NaN    NaN   1   1  \n",
      "256      12.0      NaN      12     0.0    NaN    NaN   NaN    NaN   0   0  \n",
      "...       ...      ...     ...     ...    ...    ...   ...    ...  ..  ..  \n",
      "7642       08               09     NaN    0.0    0.0   0.0  00000   0   0  \n",
      "7643       02               02     NaN    0.0    0.0   0.0  00000   1   1  \n",
      "7644       02               02     NaN    0.0    0.0   0.0  00000   1   1  \n",
      "7645       02               02     NaN    0.0    0.0   0.0  00000   0   0  \n",
      "7646       02               02     NaN    0.0    0.0   0.0  00000   1   1  \n",
      "\n",
      "[14647 rows x 183 columns]\n"
     ]
    }
   ],
   "source": [
    "# creo la nueva columna usando la expresion booleana y luego transformandolo a int\n",
    "resp_observaciones = resp_observaciones.assign(PET=((resp_observaciones['ch06'] >= 15) & (resp_observaciones['ch06'] <= 65)).astype(int))\n",
    "print(resp_observaciones)"
   ]
  },
  {
   "cell_type": "markdown",
   "id": "2439d1f3-5e93-4c7e-9de6-111ef0ea9079",
   "metadata": {},
   "source": [
    "#### PUNTO 5.B\n",
    "Realicen un gráfico de barras mostrando la composición por PEA para 2004 y 2024. Comenten los resultados y compare PET con PEA."
   ]
  },
  {
   "cell_type": "code",
   "execution_count": 26,
   "id": "4d2f22ba-d290-429d-a2b2-c8fcd73d1d68",
   "metadata": {},
   "outputs": [
    {
     "name": "stdout",
     "output_type": "stream",
     "text": [
      "el porcentaje de Población en Edad para Trabajara en 2004 es de 0.6406966086159487\n",
      "el porcentaje de Población en Edad para Trabajara en 2004 es de 0.666904422253923\n"
     ]
    },
    {
     "data": {
      "image/png": "[encoded data removed]",
      "text/plain": [
       "<Figure size 640x480 with 1 Axes>"
      ]
     },
     "metadata": {},
     "output_type": "display_data"
    }
   ],
   "source": [
    "# vemos las medias de PET para cada año\n",
    "pet_2004 = resp_observaciones[resp_observaciones['ano4'] == 2004]['PET'].mean()\n",
    "print(\"el porcentaje de Población en Edad para Trabajara en 2004 es de\", pet_2004)\n",
    "pet_2024 = resp_observaciones[resp_observaciones['ano4'] == 2024]['PET'].mean()\n",
    "print(\"el porcentaje de Población en Edad para Trabajara en 2004 es de\", pet_2024)\n",
    "\n",
    "# Crear un DataFrame para facilitar la visualización\n",
    "pet_data = pd.DataFrame({\n",
    "    'Año': [2004, 2024],\n",
    "    'Proporción PET': [pet_2004, pet_2024]})\n",
    "\n",
    "# Crear el gráfico de barras\n",
    "sns.barplot(data = pet_data, x ='Año', y = 'Proporción PET', hue = 'Año', palette = 'Set2', legend = False)\n",
    "plt.title('Población en Edad para Trabajar en 2004 y 2024')\n",
    "plt.xlabel('Año')\n",
    "plt.ylabel('Proporción de Población en Edad para Trabajar')\n",
    "plt.show()"
   ]
  },
  {
   "cell_type": "code",
   "execution_count": 27,
   "id": "d232f4d9-6d1f-4a36-8af1-679ea9f8243d",
   "metadata": {},
   "outputs": [
    {
     "data": {
      "image/png": "[encoded data removed]",
      "text/plain": [
       "<Figure size 640x480 with 1 Axes>"
      ]
     },
     "metadata": {},
     "output_type": "display_data"
    }
   ],
   "source": [
    "# pongo todos los datos que necesito en un df para comparar PET y PEA\n",
    "data_long = pd.melt(resp_observaciones, \n",
    "                    id_vars='ano4', \n",
    "                    value_vars=['PET', 'PEA'],\n",
    "                    var_name='Población', \n",
    "                    value_name='Proporción de Población')\n",
    "\n",
    "sns.barplot(data = data_long, x = 'Población', y = 'Proporción de Población', hue ='ano4', palette = 'Set2')\n",
    "plt.title('Población en Edad para Trabajar y Población Económicamente Activa en 2004 y 2024')\n",
    "plt.xlabel('Tipo de Población')\n",
    "plt.ylabel('Proporción de Población')\n",
    "plt.legend(title = 'Año')\n",
    "plt.show()"
   ]
  },
  {
   "cell_type": "markdown",
   "id": "3cdcd5b3-a392-4a35-9174-38c2a34f9d3f",
   "metadata": {},
   "source": [
    "#### PUNTO 6. \n",
    "Por ultimo, agreguen la base respondieron una columna llamada desocupado que tome 1 si esta desocupada. ¿Cuántas personas están desocupadas en 2004 vs 2024?"
   ]
  },
  {
   "cell_type": "code",
   "execution_count": 28,
   "id": "34654536-8f65-4d2b-9597-44f21502ac46",
   "metadata": {},
   "outputs": [
    {
     "data": {
      "text/html": [
       "<div>\n",
       "<style scoped>\n",
       "    .dataframe tbody tr th:only-of-type {\n",
       "        vertical-align: middle;\n",
       "    }\n",
       "\n",
       "    .dataframe tbody tr th {\n",
       "        vertical-align: top;\n",
       "    }\n",
       "\n",
       "    .dataframe thead th {\n",
       "        text-align: right;\n",
       "    }\n",
       "</style>\n",
       "<table border=\"1\" class=\"dataframe\">\n",
       "  <thead>\n",
       "    <tr style=\"text-align: right;\">\n",
       "      <th></th>\n",
       "      <th>codusu</th>\n",
       "      <th>ano4</th>\n",
       "      <th>trimestre</th>\n",
       "      <th>nro_hogar</th>\n",
       "      <th>componente</th>\n",
       "      <th>h15</th>\n",
       "      <th>region</th>\n",
       "      <th>mas_500</th>\n",
       "      <th>aglomerado</th>\n",
       "      <th>pondera</th>\n",
       "      <th>...</th>\n",
       "      <th>pdeccfr</th>\n",
       "      <th>adeccfr</th>\n",
       "      <th>pondih</th>\n",
       "      <th>pj1_1</th>\n",
       "      <th>pj2_1</th>\n",
       "      <th>pj3_1</th>\n",
       "      <th>idimpp</th>\n",
       "      <th>PEA</th>\n",
       "      <th>PET</th>\n",
       "      <th>desocupado</th>\n",
       "    </tr>\n",
       "  </thead>\n",
       "  <tbody>\n",
       "    <tr>\n",
       "      <th>245</th>\n",
       "      <td>TQRMNOSUWHLKMUCDEIJAH00855260</td>\n",
       "      <td>2024.0</td>\n",
       "      <td>1</td>\n",
       "      <td>1.0</td>\n",
       "      <td>1</td>\n",
       "      <td>1</td>\n",
       "      <td>1</td>\n",
       "      <td>0</td>\n",
       "      <td>33</td>\n",
       "      <td>1810.0</td>\n",
       "      <td>...</td>\n",
       "      <td>NaN</td>\n",
       "      <td>12</td>\n",
       "      <td>0.0</td>\n",
       "      <td>NaN</td>\n",
       "      <td>NaN</td>\n",
       "      <td>NaN</td>\n",
       "      <td>NaN</td>\n",
       "      <td>1</td>\n",
       "      <td>0</td>\n",
       "      <td>0</td>\n",
       "    </tr>\n",
       "    <tr>\n",
       "      <th>246</th>\n",
       "      <td>TQRMNOSUWHLKMUCDEIJAH00855260</td>\n",
       "      <td>2024.0</td>\n",
       "      <td>1</td>\n",
       "      <td>1.0</td>\n",
       "      <td>2</td>\n",
       "      <td>1</td>\n",
       "      <td>1</td>\n",
       "      <td>0</td>\n",
       "      <td>33</td>\n",
       "      <td>1810.0</td>\n",
       "      <td>...</td>\n",
       "      <td>NaN</td>\n",
       "      <td>12</td>\n",
       "      <td>0.0</td>\n",
       "      <td>NaN</td>\n",
       "      <td>NaN</td>\n",
       "      <td>NaN</td>\n",
       "      <td>NaN</td>\n",
       "      <td>1</td>\n",
       "      <td>1</td>\n",
       "      <td>0</td>\n",
       "    </tr>\n",
       "    <tr>\n",
       "      <th>247</th>\n",
       "      <td>TQRMNOSUWHLKMUCDEIJAH00855260</td>\n",
       "      <td>2024.0</td>\n",
       "      <td>1</td>\n",
       "      <td>1.0</td>\n",
       "      <td>3</td>\n",
       "      <td>1</td>\n",
       "      <td>1</td>\n",
       "      <td>0</td>\n",
       "      <td>33</td>\n",
       "      <td>1810.0</td>\n",
       "      <td>...</td>\n",
       "      <td>NaN</td>\n",
       "      <td>12</td>\n",
       "      <td>0.0</td>\n",
       "      <td>NaN</td>\n",
       "      <td>NaN</td>\n",
       "      <td>NaN</td>\n",
       "      <td>NaN</td>\n",
       "      <td>1</td>\n",
       "      <td>1</td>\n",
       "      <td>0</td>\n",
       "    </tr>\n",
       "    <tr>\n",
       "      <th>255</th>\n",
       "      <td>TQSMNORWVHLLKQCDEIJAH00856914</td>\n",
       "      <td>2024.0</td>\n",
       "      <td>1</td>\n",
       "      <td>1.0</td>\n",
       "      <td>1</td>\n",
       "      <td>1</td>\n",
       "      <td>1</td>\n",
       "      <td>0</td>\n",
       "      <td>33</td>\n",
       "      <td>2368.0</td>\n",
       "      <td>...</td>\n",
       "      <td>NaN</td>\n",
       "      <td>9</td>\n",
       "      <td>3324.0</td>\n",
       "      <td>NaN</td>\n",
       "      <td>NaN</td>\n",
       "      <td>NaN</td>\n",
       "      <td>NaN</td>\n",
       "      <td>1</td>\n",
       "      <td>1</td>\n",
       "      <td>0</td>\n",
       "    </tr>\n",
       "    <tr>\n",
       "      <th>256</th>\n",
       "      <td>TQRMNOPQQHLOLRCDEIJAH00855133</td>\n",
       "      <td>2024.0</td>\n",
       "      <td>1</td>\n",
       "      <td>1.0</td>\n",
       "      <td>1</td>\n",
       "      <td>1</td>\n",
       "      <td>1</td>\n",
       "      <td>0</td>\n",
       "      <td>33</td>\n",
       "      <td>1223.0</td>\n",
       "      <td>...</td>\n",
       "      <td>NaN</td>\n",
       "      <td>12</td>\n",
       "      <td>0.0</td>\n",
       "      <td>NaN</td>\n",
       "      <td>NaN</td>\n",
       "      <td>NaN</td>\n",
       "      <td>NaN</td>\n",
       "      <td>0</td>\n",
       "      <td>0</td>\n",
       "      <td>0</td>\n",
       "    </tr>\n",
       "    <tr>\n",
       "      <th>...</th>\n",
       "      <td>...</td>\n",
       "      <td>...</td>\n",
       "      <td>...</td>\n",
       "      <td>...</td>\n",
       "      <td>...</td>\n",
       "      <td>...</td>\n",
       "      <td>...</td>\n",
       "      <td>...</td>\n",
       "      <td>...</td>\n",
       "      <td>...</td>\n",
       "      <td>...</td>\n",
       "      <td>...</td>\n",
       "      <td>...</td>\n",
       "      <td>...</td>\n",
       "      <td>...</td>\n",
       "      <td>...</td>\n",
       "      <td>...</td>\n",
       "      <td>...</td>\n",
       "      <td>...</td>\n",
       "      <td>...</td>\n",
       "      <td>...</td>\n",
       "    </tr>\n",
       "    <tr>\n",
       "      <th>7642</th>\n",
       "      <td>288171</td>\n",
       "      <td>2004.0</td>\n",
       "      <td>1er. Trimestre</td>\n",
       "      <td>1.0</td>\n",
       "      <td>3</td>\n",
       "      <td>0</td>\n",
       "      <td>Gran Buenos Aires</td>\n",
       "      <td>0</td>\n",
       "      <td>33</td>\n",
       "      <td>1454.0</td>\n",
       "      <td>...</td>\n",
       "      <td></td>\n",
       "      <td>09</td>\n",
       "      <td>NaN</td>\n",
       "      <td>0.0</td>\n",
       "      <td>0.0</td>\n",
       "      <td>0.0</td>\n",
       "      <td>00000</td>\n",
       "      <td>0</td>\n",
       "      <td>0</td>\n",
       "      <td>0</td>\n",
       "    </tr>\n",
       "    <tr>\n",
       "      <th>7643</th>\n",
       "      <td>288405</td>\n",
       "      <td>2004.0</td>\n",
       "      <td>1er. Trimestre</td>\n",
       "      <td>1.0</td>\n",
       "      <td>1</td>\n",
       "      <td>1</td>\n",
       "      <td>Gran Buenos Aires</td>\n",
       "      <td>0</td>\n",
       "      <td>33</td>\n",
       "      <td>1673.0</td>\n",
       "      <td>...</td>\n",
       "      <td></td>\n",
       "      <td>02</td>\n",
       "      <td>NaN</td>\n",
       "      <td>0.0</td>\n",
       "      <td>0.0</td>\n",
       "      <td>0.0</td>\n",
       "      <td>00000</td>\n",
       "      <td>1</td>\n",
       "      <td>1</td>\n",
       "      <td>0</td>\n",
       "    </tr>\n",
       "    <tr>\n",
       "      <th>7644</th>\n",
       "      <td>288405</td>\n",
       "      <td>2004.0</td>\n",
       "      <td>1er. Trimestre</td>\n",
       "      <td>1.0</td>\n",
       "      <td>2</td>\n",
       "      <td>1</td>\n",
       "      <td>Gran Buenos Aires</td>\n",
       "      <td>0</td>\n",
       "      <td>33</td>\n",
       "      <td>1673.0</td>\n",
       "      <td>...</td>\n",
       "      <td></td>\n",
       "      <td>02</td>\n",
       "      <td>NaN</td>\n",
       "      <td>0.0</td>\n",
       "      <td>0.0</td>\n",
       "      <td>0.0</td>\n",
       "      <td>00000</td>\n",
       "      <td>1</td>\n",
       "      <td>1</td>\n",
       "      <td>0</td>\n",
       "    </tr>\n",
       "    <tr>\n",
       "      <th>7645</th>\n",
       "      <td>288405</td>\n",
       "      <td>2004.0</td>\n",
       "      <td>1er. Trimestre</td>\n",
       "      <td>1.0</td>\n",
       "      <td>3</td>\n",
       "      <td>1</td>\n",
       "      <td>Gran Buenos Aires</td>\n",
       "      <td>0</td>\n",
       "      <td>33</td>\n",
       "      <td>1673.0</td>\n",
       "      <td>...</td>\n",
       "      <td></td>\n",
       "      <td>02</td>\n",
       "      <td>NaN</td>\n",
       "      <td>0.0</td>\n",
       "      <td>0.0</td>\n",
       "      <td>0.0</td>\n",
       "      <td>00000</td>\n",
       "      <td>0</td>\n",
       "      <td>0</td>\n",
       "      <td>0</td>\n",
       "    </tr>\n",
       "    <tr>\n",
       "      <th>7646</th>\n",
       "      <td>288405</td>\n",
       "      <td>2004.0</td>\n",
       "      <td>1er. Trimestre</td>\n",
       "      <td>1.0</td>\n",
       "      <td>4</td>\n",
       "      <td>1</td>\n",
       "      <td>Gran Buenos Aires</td>\n",
       "      <td>0</td>\n",
       "      <td>33</td>\n",
       "      <td>1673.0</td>\n",
       "      <td>...</td>\n",
       "      <td></td>\n",
       "      <td>02</td>\n",
       "      <td>NaN</td>\n",
       "      <td>0.0</td>\n",
       "      <td>0.0</td>\n",
       "      <td>0.0</td>\n",
       "      <td>00000</td>\n",
       "      <td>1</td>\n",
       "      <td>1</td>\n",
       "      <td>0</td>\n",
       "    </tr>\n",
       "  </tbody>\n",
       "</table>\n",
       "<p>14647 rows × 184 columns</p>\n",
       "</div>"
      ],
      "text/plain": [
       "                             codusu    ano4       trimestre  nro_hogar  \\\n",
       "245   TQRMNOSUWHLKMUCDEIJAH00855260  2024.0               1        1.0   \n",
       "246   TQRMNOSUWHLKMUCDEIJAH00855260  2024.0               1        1.0   \n",
       "247   TQRMNOSUWHLKMUCDEIJAH00855260  2024.0               1        1.0   \n",
       "255   TQSMNORWVHLLKQCDEIJAH00856914  2024.0               1        1.0   \n",
       "256   TQRMNOPQQHLOLRCDEIJAH00855133  2024.0               1        1.0   \n",
       "...                             ...     ...             ...        ...   \n",
       "7642                       288171    2004.0  1er. Trimestre        1.0   \n",
       "7643                       288405    2004.0  1er. Trimestre        1.0   \n",
       "7644                       288405    2004.0  1er. Trimestre        1.0   \n",
       "7645                       288405    2004.0  1er. Trimestre        1.0   \n",
       "7646                       288405    2004.0  1er. Trimestre        1.0   \n",
       "\n",
       "      componente  h15             region  mas_500  aglomerado  pondera  ...  \\\n",
       "245            1    1                  1        0          33   1810.0  ...   \n",
       "246            2    1                  1        0          33   1810.0  ...   \n",
       "247            3    1                  1        0          33   1810.0  ...   \n",
       "255            1    1                  1        0          33   2368.0  ...   \n",
       "256            1    1                  1        0          33   1223.0  ...   \n",
       "...          ...  ...                ...      ...         ...      ...  ...   \n",
       "7642           3    0  Gran Buenos Aires        0          33   1454.0  ...   \n",
       "7643           1    1  Gran Buenos Aires        0          33   1673.0  ...   \n",
       "7644           2    1  Gran Buenos Aires        0          33   1673.0  ...   \n",
       "7645           3    1  Gran Buenos Aires        0          33   1673.0  ...   \n",
       "7646           4    1  Gran Buenos Aires        0          33   1673.0  ...   \n",
       "\n",
       "      pdeccfr  adeccfr  pondih  pj1_1  pj2_1  pj3_1 idimpp PEA PET desocupado  \n",
       "245       NaN       12     0.0    NaN    NaN    NaN    NaN   1   0          0  \n",
       "246       NaN       12     0.0    NaN    NaN    NaN    NaN   1   1          0  \n",
       "247       NaN       12     0.0    NaN    NaN    NaN    NaN   1   1          0  \n",
       "255       NaN        9  3324.0    NaN    NaN    NaN    NaN   1   1          0  \n",
       "256       NaN       12     0.0    NaN    NaN    NaN    NaN   0   0          0  \n",
       "...       ...      ...     ...    ...    ...    ...    ...  ..  ..        ...  \n",
       "7642                09     NaN    0.0    0.0    0.0  00000   0   0          0  \n",
       "7643                02     NaN    0.0    0.0    0.0  00000   1   1          0  \n",
       "7644                02     NaN    0.0    0.0    0.0  00000   1   1          0  \n",
       "7645                02     NaN    0.0    0.0    0.0  00000   0   0          0  \n",
       "7646                02     NaN    0.0    0.0    0.0  00000   1   1          0  \n",
       "\n",
       "[14647 rows x 184 columns]"
      ]
     },
     "execution_count": 28,
     "metadata": {},
     "output_type": "execute_result"
    }
   ],
   "source": [
    "resp_observaciones = resp_observaciones.assign(desocupado = (resp_observaciones['estado'].isin([2])).astype(int))\n",
    "resp_observaciones"
   ]
  },
  {
   "cell_type": "code",
   "execution_count": 29,
   "id": "75b7d188-2b84-4ad4-80a9-8450aed9089b",
   "metadata": {},
   "outputs": [
    {
     "name": "stdout",
     "output_type": "stream",
     "text": [
      "cantidad de desocupados en 2004 es de 7637\n",
      "cantidad de desocupados en 2024 es de 7010\n"
     ]
    },
    {
     "data": {
      "image/png": "[encoded data removed]",
      "text/plain": [
       "<Figure size 640x480 with 1 Axes>"
      ]
     },
     "metadata": {},
     "output_type": "display_data"
    }
   ],
   "source": [
    "# vemos cuantas personas estan desocupacion para cada año\n",
    "desocupado_2004 = resp_observaciones[resp_observaciones['ano4'] == 2004]['desocupado'].count()\n",
    "print(\"cantidad de desocupados en 2004 es de\", desocupado_2004)\n",
    "desocupado_2024 = resp_observaciones[resp_observaciones['ano4'] == 2024]['desocupado'].count()\n",
    "print(\"cantidad de desocupados en 2024 es de\", desocupado_2024)\n",
    "\n",
    "# Crear un DataFrame para facilitar la visualización\n",
    "desocupado_data = pd.DataFrame({\n",
    "    'Año': [2004, 2024],\n",
    "    'Proporción Desocupado': [desocupado_2004, desocupado_2024]})\n",
    "\n",
    "# Crear el gráfico de barras\n",
    "sns.barplot(data = desocupado_data, x ='Año', y = 'Proporción Desocupado', hue = 'Año', palette = 'Set2', legend = False)\n",
    "plt.title('Población desocupada en 2004 y 2024')\n",
    "plt.xlabel('Año')\n",
    "plt.ylabel('Cantidad de desocupacion')\n",
    "plt.show()"
   ]
  },
  {
   "cell_type": "markdown",
   "id": "8c9582c7-95c6-4ed4-82c3-1f5ce25c0d01",
   "metadata": {},
   "source": [
    "#### PUNTO 6.A (Opcional) \n",
    "Muestre la proporción de desocupados por nivel educativo comparando 2004 vs 2024. ¿Hubo cambios de desocupados por nivel educativo?"
   ]
  },
  {
   "cell_type": "code",
   "execution_count": 30,
   "id": "ac3ee9de-1fa0-43e9-8dee-cf072fb58e7b",
   "metadata": {},
   "outputs": [
    {
     "name": "stdout",
     "output_type": "stream",
     "text": [
      "   Nivel Educativo  Proporción 2004  Proporción 2024\n",
      "0                1         8.143939         0.643087\n",
      "1                2        20.265152        11.254019\n",
      "2                3        20.265152        17.684887\n",
      "3                4        25.946970        41.800643\n",
      "4                5        17.992424        19.614148\n",
      "5                6         6.818182         9.003215\n",
      "6                7         0.568182         0.000000\n"
     ]
    },
    {
     "data": {
      "image/png": "[encoded data removed]",
      "text/plain": [
       "<Figure size 640x480 with 1 Axes>"
      ]
     },
     "metadata": {},
     "output_type": "display_data"
    }
   ],
   "source": [
    "# Filtrar los datos para los años 2004 y 2024\n",
    "resp_observaciones_2004 = resp_observaciones[resp_observaciones['ano4'] == 2004]\n",
    "resp_observaciones_2024 = resp_observaciones[resp_observaciones['ano4'] == 2024]\n",
    "\n",
    "# Calcular la proporción de desocupados por nivel educativo\n",
    "proporciones_2004 = (resp_observaciones_2004[resp_observaciones_2004['estado'] == 2]['nivel_ed'].value_counts(normalize=True) * 100).reset_index()\n",
    "proporciones_2024 = (resp_observaciones_2024[resp_observaciones_2024['estado'] == 2]['nivel_ed'].value_counts(normalize=True) * 100).reset_index()\n",
    "\n",
    "# Renombrar columnas\n",
    "proporciones_2004.columns = ['Nivel Educativo', 'Proporción 2004']\n",
    "proporciones_2024.columns = ['Nivel Educativo', 'Proporción 2024']\n",
    "\n",
    "# Unir las dos proporciones en un solo DataFrame\n",
    "proporciones = pd.merge(proporciones_2004, proporciones_2024, on='Nivel Educativo', how='outer').fillna(0)\n",
    "print(proporciones)\n",
    "\n",
    "# Configurar el estilo de seaborn\n",
    "sns.set(style=\"whitegrid\")\n",
    "\n",
    "# Transformar el DataFrame a formato largo para la visualización\n",
    "proporciones_long = pd.melt(proporciones, id_vars='Nivel Educativo', \n",
    "                             value_vars=['Proporción 2004', 'Proporción 2024'],\n",
    "                             var_name = 'Año', value_name='Proporción de Desocupados')\n",
    "\n",
    "# Crear el gráfico de barras\n",
    "sns.barplot(data=proporciones_long, x = 'Nivel Educativo', y='Proporción de Desocupados', hue='Año', palette='Set2')\n",
    "\n",
    "# Añadir etiquetas y título\n",
    "plt.title('Proporción de desocupados por nivel educativo por año')\n",
    "plt.xlabel('Nivel Educativo')\n",
    "plt.ylabel('Proporción de Desocupados')\n",
    "plt.legend(title = 'Año')\n",
    "plt.show()"
   ]
  },
  {
   "cell_type": "markdown",
   "id": "c8c44b3b-e3b5-433f-b229-9fb6a55695b6",
   "metadata": {},
   "source": [
    "#### PUNTO 6.B (Opcional)\n",
    "Cree una variable categórica de años cumplidos (CH06) agrupada de a 10 años. Muestre proporción de desocupados por edad agrupada comparando 2004 vs 2024. ¿Hubo cambios de desocupados por edad?"
   ]
  },
  {
   "cell_type": "code",
   "execution_count": 31,
   "id": "29b74522-93e8-4929-8b98-38fd4342eea2",
   "metadata": {},
   "outputs": [
    {
     "name": "stdout",
     "output_type": "stream",
     "text": [
      "  Edad agrupada  Proporción 2004  Proporción 2024\n",
      "0         10-19        17.234848        11.575563\n",
      "1         20-29        35.984848        36.655949\n",
      "2         30-39        16.287879        13.826367\n",
      "3         40-49        10.037879        19.292605\n",
      "4         50-59        12.500000        10.610932\n",
      "5         60-69         6.250000         6.752412\n",
      "6         70-79         1.515152         1.286174\n",
      "7         80-89         0.189394         0.000000\n"
     ]
    },
    {
     "data": {
      "image/png": "[encoded data removed]",
      "text/plain": [
       "<Figure size 640x480 with 1 Axes>"
      ]
     },
     "metadata": {},
     "output_type": "display_data"
    }
   ],
   "source": [
    "# Definir la función para clasificar la edad en intervalos de 10 años\n",
    "def clasificar_edad(edad):\n",
    "    if edad < 10:\n",
    "        return '0-9'\n",
    "    elif edad < 20:\n",
    "        return '10-19'\n",
    "    elif edad < 30:\n",
    "        return '20-29'\n",
    "    elif edad < 40:\n",
    "        return '30-39'\n",
    "    elif edad < 50:\n",
    "        return '40-49'\n",
    "    elif edad < 60:\n",
    "        return '50-59'\n",
    "    elif edad < 70:\n",
    "        return '60-69'\n",
    "    elif edad < 80:\n",
    "        return '70-79'\n",
    "    elif edad < 90:\n",
    "        return '80-89'\n",
    "    elif edad < 100:\n",
    "        return '90-99'\n",
    "    else:\n",
    "        return '100+'\n",
    "\n",
    "# Aplico la función a la columna de edad\n",
    "resp_observaciones['edad_agrupada'] = resp_observaciones['ch06'].apply(clasificar_edad)\n",
    "\n",
    "# Filtrar los datos para los años 2004 y 2024\n",
    "resp_observaciones_2004 = resp_observaciones[resp_observaciones['ano4'] == 2004]\n",
    "resp_observaciones_2024 = resp_observaciones[resp_observaciones['ano4'] == 2024]\n",
    "# Calcular la proporción de desocupados por nivel educativo\n",
    "proporciones_2004 = (resp_observaciones_2004[resp_observaciones_2004['estado'] == 2]['edad_agrupada'].value_counts(normalize=True) * 100).reset_index()\n",
    "proporciones_2024 = (resp_observaciones_2024[resp_observaciones_2024['estado'] == 2]['edad_agrupada'].value_counts(normalize=True) * 100).reset_index()\n",
    "# Renombrar columnas\n",
    "proporciones_2004.columns = ['Edad agrupada', 'Proporción 2004']\n",
    "proporciones_2024.columns = ['Edad agrupada', 'Proporción 2024']\n",
    "# Unir las dos proporciones en un solo DataFrame\n",
    "proporciones = pd.merge(proporciones_2004, proporciones_2024, on='Edad agrupada', how='outer').fillna(0)\n",
    "print(proporciones)\n",
    "\n",
    "# Transformar el DataFrame a formato largo para la visualización\n",
    "proporciones_long = pd.melt(proporciones, id_vars='Edad agrupada', \n",
    "                             value_vars=['Proporción 2004', 'Proporción 2024'],\n",
    "                             var_name = 'Año', value_name='Proporción de Desocupados')\n",
    "\n",
    "# Crear el gráfico de barras\n",
    "sns.barplot(data=proporciones_long, x = 'Edad agrupada', y='Proporción de Desocupados', hue='Año', palette='Set2')\n",
    "plt.title('Proporción de desocupados por edad agrupada por año')\n",
    "plt.xlabel('edad agrupada')\n",
    "plt.ylabel('Proporción de Desocupados')\n",
    "plt.legend(title = 'Año')\n",
    "plt.show()"
   ]
  },
  {
   "cell_type": "markdown",
   "id": "bfaf5378-8e2d-4fa6-8450-6fb20dd1b2fd",
   "metadata": {},
   "source": [
    "#### PUNTO 7 (Opcional) \n",
    "Dos tasas de desocupación: calcule la tasa de desocupación para Tucumán en 2004 y 2024 siguiendo la definición del INDEC. En economía laboral, muchas veces se argumenta que participar del mercado laboral (PEA=1) es una decisión endógena de los individuos y no quisiéramos que el indicador de la tasa de desocupación varíe por dicha decisión. Calcule la tasa de desocupación alternativa como el porcentaje de desocupados respecto de la PET. Presente en una tabla o gráfico la tasa de desocupación del INDEC y de economía laboral para 2004 y 2024 y comente los resultados. ¿Cuáles son las ventajas y desventajas de dichas mediciones?"
   ]
  },
  {
   "cell_type": "markdown",
   "id": "44502d68-6eca-48f6-8969-5cef8a39f1a0",
   "metadata": {},
   "source": [
    "## PARTE 2: CLASIFICACION\n",
    "El objetivo de esta parte del trabajo es intentar predecir si una persona está desocupada o no utilizando distintas variables de características individuales"
   ]
  },
  {
   "cell_type": "markdown",
   "id": "8a7579f1-ad80-4cb0-9604-eaa4a324ad25",
   "metadata": {},
   "source": [
    "#### PUNTO 1\n",
    "Para cada año, partan la base respondieron en una base de prueba (test) y una de entrenamiento (train) utilizando el comando train_test_split. La base de entrenamiento debe comprender el 70% de los datos, y la semilla a utilizar (random state instance) debe ser 101. Establezca a desocupado como su variable dependiente en la base de entrenamiento (vector y). El resto de las variables serán las variables independientes (matriz X). Recuerden agregar la columna de unos (1)."
   ]
  },
  {
   "cell_type": "code",
   "execution_count": 14,
   "id": "8ff23846-6905-41c2-a8be-20b4ffbbb490",
   "metadata": {},
   "outputs": [],
   "source": [
    "base_clasificacion = resp_observaciones[['ano4',\"ch04\", \"ch06\", \"ch07\", \"ch08\", \"nivel_ed\", \"estado\", \"cat_inac\", \"componente\", \"h15\", \"mas_500\", \"aglomerado\", \"ch03\"]]"
   ]
  },
  {
   "cell_type": "code",
   "execution_count": 15,
   "id": "a6c79fae",
   "metadata": {},
   "outputs": [],
   "source": [
    "import pandas as pd\n",
    "from sklearn.model_selection import train_test_split\n",
    "\n",
    "def preparar_datos(base, ano):\n",
    "    \"\"\"\n",
    "    Prepara los conjuntos de entrenamiento y prueba para un año específico.\n",
    "    \n",
    "    Args:\n",
    "        base: DataFrame original.\n",
    "        ano: Año para filtrar los datos.\n",
    "\n",
    "    Returns:\n",
    "        X_train, y_train, X_test, y_test: Conjuntos de datos preparados.\n",
    "    \"\"\"\n",
    "    # Filtrar los datos por año\n",
    "    datos_ano = base[base['ano4'] == ano]\n",
    "    \n",
    "    # Dividir los datos en conjuntos de entrenamiento y prueba\n",
    "    train, test = train_test_split(datos_ano, test_size=0.3, random_state=101)\n",
    "\n",
    "    # Separar características y variable objetivo para entrenamiento\n",
    "    X_train = train.drop(columns=['estado', 'ano4'])\n",
    "    y_train = (train['estado'] == 2).astype(int)\n",
    "\n",
    "    # Agregar columna de intercepto\n",
    "    X_train = X_train.assign(intercept=1)\n",
    "\n",
    "    # Separar características y variable objetivo para prueba\n",
    "    X_test = test.drop(columns=['estado', 'ano4'])\n",
    "    y_test = (test['estado'] == 2).astype(int)\n",
    "\n",
    "    # Agregar columna de intercepto\n",
    "    X_test = X_test.assign(intercept=1)\n",
    "\n",
    "    return X_train, y_train, X_test, y_test\n",
    "\n",
    "# Preparar datos para 2004 y 2024\n",
    "X_train_2004, y_train_2004, X_test_2004, y_test_2004 = preparar_datos(base_clasificacion, 2004)\n",
    "X_train_2024, y_train_2024, X_test_2024, y_test_2024 = preparar_datos(base_clasificacion, 2024)\n",
    "\n",
    "\n"
   ]
  },
  {
   "cell_type": "markdown",
   "id": "b904c4c3-dcc2-49ec-80ae-18769afe59fd",
   "metadata": {},
   "source": [
    "#### PUNTO 2. \n",
    "Implementen los siguientes métodos reportando luego la matriz de confusión, la curva ROC, los valores de AUC y de Accuracy de cada uno:"
   ]
  },
  {
   "cell_type": "markdown",
   "id": "f3aad054",
   "metadata": {},
   "source": [
    "2024"
   ]
  },
  {
   "cell_type": "markdown",
   "id": "ea8e1bd4",
   "metadata": {},
   "source": [
    "### REGRESIÓN LOGISTICA "
   ]
  },
  {
   "cell_type": "code",
   "execution_count": 49,
   "id": "0a7e4ee5-a4f3-4b17-87c1-3df32166f84d",
   "metadata": {},
   "outputs": [
    {
     "name": "stdout",
     "output_type": "stream",
     "text": [
      "       ch04  ch06  ch07  ch08  nivel_ed  cat_inac  componente  h15  mas_500  \\\n",
      "44440     2    49     2     1         3         7           2    1        0   \n",
      "11460     1    43     2     1         5         0           2    1        0   \n",
      "25963     2    17     5     1         3         3           3    1        0   \n",
      "41010     1    28     5     1         3         0           1    1        0   \n",
      "5636      2    42     1     4         4         0           3    1        0   \n",
      "...     ...   ...   ...   ...       ...       ...         ...  ...      ...   \n",
      "3506      2     3     5     4         7         5           6    0        0   \n",
      "39388     2    82     4     1         6         1           1    1        0   \n",
      "9772      2    18     5     2         5         3           3    1        0   \n",
      "10950     1    25     5     4         4         7           3    1        0   \n",
      "35686     2    75     1     1         2         4           2    1        0   \n",
      "\n",
      "       aglomerado  ch03  intercept  \n",
      "44440          33     2          1  \n",
      "11460          33     2          1  \n",
      "25963          33     3          1  \n",
      "41010          33     1          1  \n",
      "5636           33     2          1  \n",
      "...           ...   ...        ...  \n",
      "3506           33     3          1  \n",
      "39388          33     1          1  \n",
      "9772           32     3          1  \n",
      "10950          33     3          1  \n",
      "35686          33     2          1  \n",
      "\n",
      "[4907 rows x 12 columns]\n"
     ]
    }
   ],
   "source": [
    "print(X_train_2024)"
   ]
  },
  {
   "cell_type": "code",
   "execution_count": 50,
   "id": "5006b821",
   "metadata": {},
   "outputs": [],
   "source": [
    "from sklearn.linear_model import LogisticRegression\n",
    "\n",
    "model = LogisticRegression(max_iter=200)  # Increase this value as needed"
   ]
  },
  {
   "cell_type": "code",
   "execution_count": 56,
   "id": "6f257fe8",
   "metadata": {},
   "outputs": [
    {
     "name": "stderr",
     "output_type": "stream",
     "text": [
      "/opt/anaconda3/envs/datos/lib/python3.9/site-packages/sklearn/linear_model/_logistic.py:469: ConvergenceWarning: lbfgs failed to converge (status=1):\n",
      "STOP: TOTAL NO. of ITERATIONS REACHED LIMIT.\n",
      "\n",
      "Increase the number of iterations (max_iter) or scale the data as shown in:\n",
      "    https://scikit-learn.org/stable/modules/preprocessing.html\n",
      "Please also refer to the documentation for alternative solver options:\n",
      "    https://scikit-learn.org/stable/modules/linear_model.html#logistic-regression\n",
      "  n_iter_i = _check_optimize_result(\n"
     ]
    }
   ],
   "source": [
    "# Ajustamos el clasificador con el metodo fit() \n",
    "log_reg = LogisticRegression(penalty = None).fit(X_train_2024, y_train_2024)\n"
   ]
  },
  {
   "cell_type": "code",
   "execution_count": 1,
   "id": "dde82bf8",
   "metadata": {},
   "outputs": [
    {
     "ename": "NameError",
     "evalue": "name 'log_reg' is not defined",
     "output_type": "error",
     "traceback": [
      "\u001b[0;31m---------------------------------------------------------------------------\u001b[0m",
      "\u001b[0;31mNameError\u001b[0m                                 Traceback (most recent call last)",
      "Cell \u001b[0;32mIn[1], line 1\u001b[0m\n\u001b[0;32m----> 1\u001b[0m y_test_pred_score \u001b[38;5;241m=\u001b[39m \u001b[43mlog_reg\u001b[49m\u001b[38;5;241m.\u001b[39mpredict_proba(X_test_2024_sc)[:,\u001b[38;5;241m1\u001b[39m]\n\u001b[1;32m      2\u001b[0m y_test_pred \u001b[38;5;241m=\u001b[39m log_reg\u001b[38;5;241m.\u001b[39mpredict(X_test_2024_sc)\n",
      "\u001b[0;31mNameError\u001b[0m: name 'log_reg' is not defined"
     ]
    }
   ],
   "source": [
    "y_test_pred_score = log_reg.predict_proba(X_test_2024_sc)[:,1]\n",
    "y_test_pred = log_reg.predict(X_test_2024_sc)"
   ]
  },
  {
   "cell_type": "code",
   "execution_count": 53,
   "id": "dddd7b8f",
   "metadata": {},
   "outputs": [
    {
     "name": "stdout",
     "output_type": "stream",
     "text": [
      "AUC: 0.8172\n",
      "Thresholds: [           inf 2.87106582e-08 2.12025262e-08 ... 4.25667381e-63\n",
      " 3.31689170e-64 6.25593955e-66]\n",
      "FPR: [0.00000000e+00 5.01002004e-04 1.00200401e-03 ... 9.98997996e-01\n",
      " 9.99498998e-01 1.00000000e+00]\n",
      "TPR: [0. 0. 0. ... 1. 1. 1.]\n"
     ]
    }
   ],
   "source": [
    "# AUC y ROC\n",
    "auc = roc_auc_score(y_test, y_test_pred_score)\n",
    "print('AUC: %.4f' % auc)\n",
    "fpr, tpr, thresholds = roc_curve(y_test, y_test_pred_score, drop_intermediate=False)  # drop_intermediate=False nos da mas thresholds ('c') para probar\n",
    "print('Thresholds:', thresholds)\n",
    "print('FPR:', fpr)\n",
    "print('TPR:', tpr)"
   ]
  },
  {
   "cell_type": "markdown",
   "id": "4704dd8d",
   "metadata": {},
   "source": [
    "- Matriz de confusión "
   ]
  },
  {
   "cell_type": "code",
   "execution_count": 54,
   "id": "6d7b61ad",
   "metadata": {},
   "outputs": [
    {
     "ename": "ValueError",
     "evalue": "Found input variables with inconsistent numbers of samples: [4907, 2103]",
     "output_type": "error",
     "traceback": [
      "\u001b[0;31m---------------------------------------------------------------------------\u001b[0m",
      "\u001b[0;31mValueError\u001b[0m                                Traceback (most recent call last)",
      "Cell \u001b[0;32mIn[54], line 1\u001b[0m\n\u001b[0;32m----> 1\u001b[0m matriz_confusion \u001b[38;5;241m=\u001b[39m \u001b[43mconfusion_matrix\u001b[49m\u001b[43m(\u001b[49m\u001b[43my_train_2024\u001b[49m\u001b[43m,\u001b[49m\u001b[43m \u001b[49m\u001b[43my_test_pred\u001b[49m\u001b[43m)\u001b[49m\n\u001b[1;32m      3\u001b[0m \u001b[38;5;28mprint\u001b[39m(\u001b[38;5;124m'\u001b[39m\u001b[38;5;124mConfusion Matrix:\u001b[39m\u001b[38;5;124m'\u001b[39m)\n\u001b[1;32m      4\u001b[0m \u001b[38;5;28mprint\u001b[39m(matriz_confusion) \n",
      "File \u001b[0;32m/opt/anaconda3/envs/datos/lib/python3.9/site-packages/sklearn/utils/_param_validation.py:213\u001b[0m, in \u001b[0;36mvalidate_params.<locals>.decorator.<locals>.wrapper\u001b[0;34m(*args, **kwargs)\u001b[0m\n\u001b[1;32m    207\u001b[0m \u001b[38;5;28;01mtry\u001b[39;00m:\n\u001b[1;32m    208\u001b[0m     \u001b[38;5;28;01mwith\u001b[39;00m config_context(\n\u001b[1;32m    209\u001b[0m         skip_parameter_validation\u001b[38;5;241m=\u001b[39m(\n\u001b[1;32m    210\u001b[0m             prefer_skip_nested_validation \u001b[38;5;129;01mor\u001b[39;00m global_skip_validation\n\u001b[1;32m    211\u001b[0m         )\n\u001b[1;32m    212\u001b[0m     ):\n\u001b[0;32m--> 213\u001b[0m         \u001b[38;5;28;01mreturn\u001b[39;00m \u001b[43mfunc\u001b[49m\u001b[43m(\u001b[49m\u001b[38;5;241;43m*\u001b[39;49m\u001b[43margs\u001b[49m\u001b[43m,\u001b[49m\u001b[43m \u001b[49m\u001b[38;5;241;43m*\u001b[39;49m\u001b[38;5;241;43m*\u001b[39;49m\u001b[43mkwargs\u001b[49m\u001b[43m)\u001b[49m\n\u001b[1;32m    214\u001b[0m \u001b[38;5;28;01mexcept\u001b[39;00m InvalidParameterError \u001b[38;5;28;01mas\u001b[39;00m e:\n\u001b[1;32m    215\u001b[0m     \u001b[38;5;66;03m# When the function is just a wrapper around an estimator, we allow\u001b[39;00m\n\u001b[1;32m    216\u001b[0m     \u001b[38;5;66;03m# the function to delegate validation to the estimator, but we replace\u001b[39;00m\n\u001b[1;32m    217\u001b[0m     \u001b[38;5;66;03m# the name of the estimator by the name of the function in the error\u001b[39;00m\n\u001b[1;32m    218\u001b[0m     \u001b[38;5;66;03m# message to avoid confusion.\u001b[39;00m\n\u001b[1;32m    219\u001b[0m     msg \u001b[38;5;241m=\u001b[39m re\u001b[38;5;241m.\u001b[39msub(\n\u001b[1;32m    220\u001b[0m         \u001b[38;5;124mr\u001b[39m\u001b[38;5;124m\"\u001b[39m\u001b[38;5;124mparameter of \u001b[39m\u001b[38;5;124m\\\u001b[39m\u001b[38;5;124mw+ must be\u001b[39m\u001b[38;5;124m\"\u001b[39m,\n\u001b[1;32m    221\u001b[0m         \u001b[38;5;124mf\u001b[39m\u001b[38;5;124m\"\u001b[39m\u001b[38;5;124mparameter of \u001b[39m\u001b[38;5;132;01m{\u001b[39;00mfunc\u001b[38;5;241m.\u001b[39m\u001b[38;5;18m__qualname__\u001b[39m\u001b[38;5;132;01m}\u001b[39;00m\u001b[38;5;124m must be\u001b[39m\u001b[38;5;124m\"\u001b[39m,\n\u001b[1;32m    222\u001b[0m         \u001b[38;5;28mstr\u001b[39m(e),\n\u001b[1;32m    223\u001b[0m     )\n",
      "File \u001b[0;32m/opt/anaconda3/envs/datos/lib/python3.9/site-packages/sklearn/metrics/_classification.py:342\u001b[0m, in \u001b[0;36mconfusion_matrix\u001b[0;34m(y_true, y_pred, labels, sample_weight, normalize)\u001b[0m\n\u001b[1;32m    247\u001b[0m \u001b[38;5;129m@validate_params\u001b[39m(\n\u001b[1;32m    248\u001b[0m     {\n\u001b[1;32m    249\u001b[0m         \u001b[38;5;124m\"\u001b[39m\u001b[38;5;124my_true\u001b[39m\u001b[38;5;124m\"\u001b[39m: [\u001b[38;5;124m\"\u001b[39m\u001b[38;5;124marray-like\u001b[39m\u001b[38;5;124m\"\u001b[39m],\n\u001b[0;32m   (...)\u001b[0m\n\u001b[1;32m    258\u001b[0m     y_true, y_pred, \u001b[38;5;241m*\u001b[39m, labels\u001b[38;5;241m=\u001b[39m\u001b[38;5;28;01mNone\u001b[39;00m, sample_weight\u001b[38;5;241m=\u001b[39m\u001b[38;5;28;01mNone\u001b[39;00m, normalize\u001b[38;5;241m=\u001b[39m\u001b[38;5;28;01mNone\u001b[39;00m\n\u001b[1;32m    259\u001b[0m ):\n\u001b[1;32m    260\u001b[0m \u001b[38;5;250m    \u001b[39m\u001b[38;5;124;03m\"\"\"Compute confusion matrix to evaluate the accuracy of a classification.\u001b[39;00m\n\u001b[1;32m    261\u001b[0m \n\u001b[1;32m    262\u001b[0m \u001b[38;5;124;03m    By definition a confusion matrix :math:`C` is such that :math:`C_{i, j}`\u001b[39;00m\n\u001b[0;32m   (...)\u001b[0m\n\u001b[1;32m    340\u001b[0m \u001b[38;5;124;03m    (0, 2, 1, 1)\u001b[39;00m\n\u001b[1;32m    341\u001b[0m \u001b[38;5;124;03m    \"\"\"\u001b[39;00m\n\u001b[0;32m--> 342\u001b[0m     y_type, y_true, y_pred \u001b[38;5;241m=\u001b[39m \u001b[43m_check_targets\u001b[49m\u001b[43m(\u001b[49m\u001b[43my_true\u001b[49m\u001b[43m,\u001b[49m\u001b[43m \u001b[49m\u001b[43my_pred\u001b[49m\u001b[43m)\u001b[49m\n\u001b[1;32m    343\u001b[0m     \u001b[38;5;28;01mif\u001b[39;00m y_type \u001b[38;5;129;01mnot\u001b[39;00m \u001b[38;5;129;01min\u001b[39;00m (\u001b[38;5;124m\"\u001b[39m\u001b[38;5;124mbinary\u001b[39m\u001b[38;5;124m\"\u001b[39m, \u001b[38;5;124m\"\u001b[39m\u001b[38;5;124mmulticlass\u001b[39m\u001b[38;5;124m\"\u001b[39m):\n\u001b[1;32m    344\u001b[0m         \u001b[38;5;28;01mraise\u001b[39;00m \u001b[38;5;167;01mValueError\u001b[39;00m(\u001b[38;5;124m\"\u001b[39m\u001b[38;5;132;01m%s\u001b[39;00m\u001b[38;5;124m is not supported\u001b[39m\u001b[38;5;124m\"\u001b[39m \u001b[38;5;241m%\u001b[39m y_type)\n",
      "File \u001b[0;32m/opt/anaconda3/envs/datos/lib/python3.9/site-packages/sklearn/metrics/_classification.py:103\u001b[0m, in \u001b[0;36m_check_targets\u001b[0;34m(y_true, y_pred)\u001b[0m\n\u001b[1;32m     76\u001b[0m \u001b[38;5;250m\u001b[39m\u001b[38;5;124;03m\"\"\"Check that y_true and y_pred belong to the same classification task.\u001b[39;00m\n\u001b[1;32m     77\u001b[0m \n\u001b[1;32m     78\u001b[0m \u001b[38;5;124;03mThis converts multiclass or binary types to a common shape, and raises a\u001b[39;00m\n\u001b[0;32m   (...)\u001b[0m\n\u001b[1;32m    100\u001b[0m \u001b[38;5;124;03my_pred : array or indicator matrix\u001b[39;00m\n\u001b[1;32m    101\u001b[0m \u001b[38;5;124;03m\"\"\"\u001b[39;00m\n\u001b[1;32m    102\u001b[0m xp, _ \u001b[38;5;241m=\u001b[39m get_namespace(y_true, y_pred)\n\u001b[0;32m--> 103\u001b[0m \u001b[43mcheck_consistent_length\u001b[49m\u001b[43m(\u001b[49m\u001b[43my_true\u001b[49m\u001b[43m,\u001b[49m\u001b[43m \u001b[49m\u001b[43my_pred\u001b[49m\u001b[43m)\u001b[49m\n\u001b[1;32m    104\u001b[0m type_true \u001b[38;5;241m=\u001b[39m type_of_target(y_true, input_name\u001b[38;5;241m=\u001b[39m\u001b[38;5;124m\"\u001b[39m\u001b[38;5;124my_true\u001b[39m\u001b[38;5;124m\"\u001b[39m)\n\u001b[1;32m    105\u001b[0m type_pred \u001b[38;5;241m=\u001b[39m type_of_target(y_pred, input_name\u001b[38;5;241m=\u001b[39m\u001b[38;5;124m\"\u001b[39m\u001b[38;5;124my_pred\u001b[39m\u001b[38;5;124m\"\u001b[39m)\n",
      "File \u001b[0;32m/opt/anaconda3/envs/datos/lib/python3.9/site-packages/sklearn/utils/validation.py:457\u001b[0m, in \u001b[0;36mcheck_consistent_length\u001b[0;34m(*arrays)\u001b[0m\n\u001b[1;32m    455\u001b[0m uniques \u001b[38;5;241m=\u001b[39m np\u001b[38;5;241m.\u001b[39munique(lengths)\n\u001b[1;32m    456\u001b[0m \u001b[38;5;28;01mif\u001b[39;00m \u001b[38;5;28mlen\u001b[39m(uniques) \u001b[38;5;241m>\u001b[39m \u001b[38;5;241m1\u001b[39m:\n\u001b[0;32m--> 457\u001b[0m     \u001b[38;5;28;01mraise\u001b[39;00m \u001b[38;5;167;01mValueError\u001b[39;00m(\n\u001b[1;32m    458\u001b[0m         \u001b[38;5;124m\"\u001b[39m\u001b[38;5;124mFound input variables with inconsistent numbers of samples: \u001b[39m\u001b[38;5;132;01m%r\u001b[39;00m\u001b[38;5;124m\"\u001b[39m\n\u001b[1;32m    459\u001b[0m         \u001b[38;5;241m%\u001b[39m [\u001b[38;5;28mint\u001b[39m(l) \u001b[38;5;28;01mfor\u001b[39;00m l \u001b[38;5;129;01min\u001b[39;00m lengths]\n\u001b[1;32m    460\u001b[0m     )\n",
      "\u001b[0;31mValueError\u001b[0m: Found input variables with inconsistent numbers of samples: [4907, 2103]"
     ]
    }
   ],
   "source": [
    "matriz_confusion = confusion_matrix(y_train_2024, y_test_pred)\n",
    "\n",
    "print('Confusion Matrix:')\n",
    "print(matriz_confusion) "
   ]
  },
  {
   "cell_type": "markdown",
   "id": "e6ee9869",
   "metadata": {},
   "source": [
    "- Curva ROC"
   ]
  },
  {
   "cell_type": "code",
   "execution_count": 88,
   "id": "886dc998",
   "metadata": {},
   "outputs": [
    {
     "name": "stdout",
     "output_type": "stream",
     "text": [
      "Thresholds: [           inf 5.65240795e-01 5.42857336e-01 ... 1.34134894e-20\n",
      " 1.06368939e-20 1.03265595e-20]\n",
      "FPR: [0.         0.         0.         ... 0.99959225 0.99979613 1.        ]\n",
      "TPR: [0.  0.5 1.  ... 1.  1.  1. ]\n"
     ]
    }
   ],
   "source": [
    "fpr, tpr, thresholds = roc_curve(y_test_pred, y_test_pred_score, drop_intermediate=False)  # drop_intermediate=False nos da mas thresholds ('c') para probar\n",
    "print('Thresholds:', thresholds)\n",
    "print('FPR:', fpr)\n",
    "print('TPR:', tpr)\n"
   ]
  },
  {
   "cell_type": "code",
   "execution_count": 89,
   "id": "1c27acfb",
   "metadata": {},
   "outputs": [
    {
     "data": {
      "image/png": "[encoded data removed]",
      "text/plain": [
       "<Figure size 640x480 with 1 Axes>"
      ]
     },
     "metadata": {},
     "output_type": "display_data"
    }
   ],
   "source": [
    "display = RocCurveDisplay(fpr=fpr, tpr=tpr, roc_auc=auc, estimator_name='Reg_log')\n",
    "display.plot()  \n",
    "plt.plot([0, 1], [0, 1], color='red', linestyle='--')\n",
    "plt.show()"
   ]
  },
  {
   "cell_type": "markdown",
   "id": "6596aa0a",
   "metadata": {},
   "source": [
    "- Los valores de AUC y Accuracy"
   ]
  },
  {
   "cell_type": "code",
   "execution_count": 90,
   "id": "7e56017b",
   "metadata": {},
   "outputs": [
    {
     "name": "stdout",
     "output_type": "stream",
     "text": [
      "AUC: 1.0000\n",
      "Accuracy: 0.958019\n"
     ]
    }
   ],
   "source": [
    "auc = roc_auc_score(y_test_pred, y_test_pred_score)\n",
    "print('AUC: %.4f' % auc)\n",
    "# accuracy: (tp + tn) / (p + n)\n",
    "accuracy = accuracy_score(y_train_2024, y_test_pred)\n",
    "print('Accuracy: %f' % accuracy)"
   ]
  },
  {
   "cell_type": "markdown",
   "id": "d54b1a1b",
   "metadata": {},
   "source": [
    "### ANALISIS DISCRIMINANTE LINEAL"
   ]
  },
  {
   "cell_type": "code",
   "execution_count": 57,
   "id": "e5890b3f",
   "metadata": {},
   "outputs": [
    {
     "name": "stdout",
     "output_type": "stream",
     "text": [
      "Número de características: 12\n",
      "Número de clases: 2\n"
     ]
    }
   ],
   "source": [
    "n_features = X_train_2024.shape[1]\n",
    "n_classes = len(set(y_train_2024))\n",
    "\n",
    "print(\"Número de características:\", n_features)\n",
    "print(\"Número de clases:\", n_classes)"
   ]
  },
  {
   "cell_type": "code",
   "execution_count": 58,
   "id": "b25a2f04",
   "metadata": {},
   "outputs": [],
   "source": [
    "lda = LinearDiscriminantAnalysis(n_components=1) # Number of components (<= min(n_classes - 1, n_features)) for dimensionality reduction.\n",
    "lda = lda.fit(X_train_2024, y_train_2024)"
   ]
  },
  {
   "cell_type": "code",
   "execution_count": 59,
   "id": "14cfd5bc",
   "metadata": {},
   "outputs": [
    {
     "data": {
      "text/plain": [
       "array([[ 1.52562194, 38.08356368,  3.43397831,  2.11609611,  3.81054646,\n",
       "         1.67850308,  2.39464172,  0.87646183,  0.        , 32.79800128,\n",
       "         2.40250904,  1.        ],\n",
       "       [ 1.56862745, 34.59803922,  3.69117647,  2.99509804,  4.02941176,\n",
       "         0.        ,  2.25490196,  1.        ,  0.        , 32.83333333,\n",
       "         2.47058824,  1.        ]])"
      ]
     },
     "execution_count": 59,
     "metadata": {},
     "output_type": "execute_result"
    }
   ],
   "source": [
    "lda.means_"
   ]
  },
  {
   "cell_type": "code",
   "execution_count": 60,
   "id": "b87338fb",
   "metadata": {},
   "outputs": [
    {
     "data": {
      "text/plain": [
       "array([0, 1])"
      ]
     },
     "execution_count": 60,
     "metadata": {},
     "output_type": "execute_result"
    }
   ],
   "source": [
    "lda.classes_ # las clases"
   ]
  },
  {
   "cell_type": "code",
   "execution_count": 61,
   "id": "4fc31648",
   "metadata": {},
   "outputs": [
    {
     "data": {
      "text/plain": [
       "array([0.95842674, 0.04157326])"
      ]
     },
     "execution_count": 61,
     "metadata": {},
     "output_type": "execute_result"
    }
   ],
   "source": [
    "lda.priors_ # proporciones de Y de cada clase, prob(Y=k) prior"
   ]
  },
  {
   "cell_type": "code",
   "execution_count": 62,
   "id": "85b429b5",
   "metadata": {},
   "outputs": [
    {
     "data": {
      "text/plain": [
       "array([[-2.96728515],\n",
       "       [ 0.17508434],\n",
       "       [ 0.04851789],\n",
       "       ...,\n",
       "       [-0.11113613],\n",
       "       [-1.70793368],\n",
       "       [-2.12840454]])"
      ]
     },
     "execution_count": 62,
     "metadata": {},
     "output_type": "execute_result"
    }
   ],
   "source": [
    "X_r = lda.transform(X_train_2024) \n",
    "X_r"
   ]
  },
  {
   "cell_type": "code",
   "execution_count": 65,
   "id": "ec1b7e8e",
   "metadata": {},
   "outputs": [],
   "source": [
    "y_test_pred_lda = lda.predict(X_test_2024)\n",
    "y_test_pred_score_lda=lda.predict_proba(X_test_2024)[:, 1]\n"
   ]
  },
  {
   "cell_type": "markdown",
   "id": "72fc49cd",
   "metadata": {},
   "source": [
    "- Matriz de confusión "
   ]
  },
  {
   "cell_type": "code",
   "execution_count": 68,
   "id": "ff164f72",
   "metadata": {},
   "outputs": [
    {
     "data": {
      "text/plain": [
       "array([[1994,    2],\n",
       "       [ 107,    0]])"
      ]
     },
     "execution_count": 68,
     "metadata": {},
     "output_type": "execute_result"
    }
   ],
   "source": [
    "\n",
    "# Calcular la matriz de confusión\n",
    "confusion_matrix(y_test_2024, y_test_pred_lda)\n"
   ]
  },
  {
   "cell_type": "markdown",
   "id": "2b2031f8",
   "metadata": {},
   "source": [
    "- Curva ROC"
   ]
  },
  {
   "cell_type": "code",
   "execution_count": null,
   "id": "c6f682e3",
   "metadata": {},
   "outputs": [
    {
     "data": {
      "image/png": "[encoded data removed]",
      "text/plain": [
       "<Figure size 640x480 with 1 Axes>"
      ]
     },
     "metadata": {},
     "output_type": "display_data"
    }
   ],
   "source": [
    "fpr, tpr, thresholds = roc_curve(y_test_2024, y_test_pred_score_lda, drop_intermediate=False)\n",
    "roc_auc_lda = auc(fpr, tpr)\n",
    "\n",
    "# Grafico\n",
    "plt.figure()\n",
    "plt.plot(fpr, tpr, color='blue', label='Curva ROC (Área = %0.2f)' % roc_auc_lda)\n",
    "plt.plot([0, 1], [0, 1], color='red', linestyle='--')\n",
    "plt.xlim([0.0, 1.0])\n",
    "plt.ylim([0.0, 1.05])\n",
    "plt.xlabel('Tasa de Falsos Positivos')\n",
    "plt.ylabel('Tasa de Verdaderos Positivos')\n",
    "plt.title('Curva ROC')\n",
    "plt.legend(loc='lower right')\n",
    "plt.show()"
   ]
  },
  {
   "cell_type": "markdown",
   "id": "2e700657",
   "metadata": {},
   "source": [
    "- Los valores de AUC y Accuracy"
   ]
  },
  {
   "cell_type": "code",
   "execution_count": null,
   "id": "1735b262",
   "metadata": {},
   "outputs": [
    {
     "name": "stdout",
     "output_type": "stream",
     "text": [
      "La accuracy del modelo es: 0.96\n"
     ]
    }
   ],
   "source": [
    "accuracy_lda = accuracy_score(y_train_2024, y_test_pred_lda)\n",
    "print(\"La accuracy del modelo es: %.2f\" %accuracy_lda)"
   ]
  },
  {
   "cell_type": "markdown",
   "id": "ae19529f",
   "metadata": {},
   "source": [
    "### KNN con k=3"
   ]
  },
  {
   "cell_type": "code",
   "execution_count": 16,
   "id": "98b757e9",
   "metadata": {},
   "outputs": [
    {
     "data": {
      "text/html": [
       "<style>#sk-container-id-1 {\n",
       "  /* Definition of color scheme common for light and dark mode */\n",
       "  --sklearn-color-text: black;\n",
       "  --sklearn-color-line: gray;\n",
       "  /* Definition of color scheme for unfitted estimators */\n",
       "  --sklearn-color-unfitted-level-0: #fff5e6;\n",
       "  --sklearn-color-unfitted-level-1: #f6e4d2;\n",
       "  --sklearn-color-unfitted-level-2: #ffe0b3;\n",
       "  --sklearn-color-unfitted-level-3: chocolate;\n",
       "  /* Definition of color scheme for fitted estimators */\n",
       "  --sklearn-color-fitted-level-0: #f0f8ff;\n",
       "  --sklearn-color-fitted-level-1: #d4ebff;\n",
       "  --sklearn-color-fitted-level-2: #b3dbfd;\n",
       "  --sklearn-color-fitted-level-3: cornflowerblue;\n",
       "\n",
       "  /* Specific color for light theme */\n",
       "  --sklearn-color-text-on-default-background: var(--sg-text-color, var(--theme-code-foreground, var(--jp-content-font-color1, black)));\n",
       "  --sklearn-color-background: var(--sg-background-color, var(--theme-background, var(--jp-layout-color0, white)));\n",
       "  --sklearn-color-border-box: var(--sg-text-color, var(--theme-code-foreground, var(--jp-content-font-color1, black)));\n",
       "  --sklearn-color-icon: #696969;\n",
       "\n",
       "  @media (prefers-color-scheme: dark) {\n",
       "    /* Redefinition of color scheme for dark theme */\n",
       "    --sklearn-color-text-on-default-background: var(--sg-text-color, var(--theme-code-foreground, var(--jp-content-font-color1, white)));\n",
       "    --sklearn-color-background: var(--sg-background-color, var(--theme-background, var(--jp-layout-color0, #111)));\n",
       "    --sklearn-color-border-box: var(--sg-text-color, var(--theme-code-foreground, var(--jp-content-font-color1, white)));\n",
       "    --sklearn-color-icon: #878787;\n",
       "  }\n",
       "}\n",
       "\n",
       "#sk-container-id-1 {\n",
       "  color: var(--sklearn-color-text);\n",
       "}\n",
       "\n",
       "#sk-container-id-1 pre {\n",
       "  padding: 0;\n",
       "}\n",
       "\n",
       "#sk-container-id-1 input.sk-hidden--visually {\n",
       "  border: 0;\n",
       "  clip: rect(1px 1px 1px 1px);\n",
       "  clip: rect(1px, 1px, 1px, 1px);\n",
       "  height: 1px;\n",
       "  margin: -1px;\n",
       "  overflow: hidden;\n",
       "  padding: 0;\n",
       "  position: absolute;\n",
       "  width: 1px;\n",
       "}\n",
       "\n",
       "#sk-container-id-1 div.sk-dashed-wrapped {\n",
       "  border: 1px dashed var(--sklearn-color-line);\n",
       "  margin: 0 0.4em 0.5em 0.4em;\n",
       "  box-sizing: border-box;\n",
       "  padding-bottom: 0.4em;\n",
       "  background-color: var(--sklearn-color-background);\n",
       "}\n",
       "\n",
       "#sk-container-id-1 div.sk-container {\n",
       "  /* jupyter's `normalize.less` sets `[hidden] { display: none; }`\n",
       "     but bootstrap.min.css set `[hidden] { display: none !important; }`\n",
       "     so we also need the `!important` here to be able to override the\n",
       "     default hidden behavior on the sphinx rendered scikit-learn.org.\n",
       "     See: https://github.com/scikit-learn/scikit-learn/issues/21755 */\n",
       "  display: inline-block !important;\n",
       "  position: relative;\n",
       "}\n",
       "\n",
       "#sk-container-id-1 div.sk-text-repr-fallback {\n",
       "  display: none;\n",
       "}\n",
       "\n",
       "div.sk-parallel-item,\n",
       "div.sk-serial,\n",
       "div.sk-item {\n",
       "  /* draw centered vertical line to link estimators */\n",
       "  background-image: linear-gradient(var(--sklearn-color-text-on-default-background), var(--sklearn-color-text-on-default-background));\n",
       "  background-size: 2px 100%;\n",
       "  background-repeat: no-repeat;\n",
       "  background-position: center center;\n",
       "}\n",
       "\n",
       "/* Parallel-specific style estimator block */\n",
       "\n",
       "#sk-container-id-1 div.sk-parallel-item::after {\n",
       "  content: \"\";\n",
       "  width: 100%;\n",
       "  border-bottom: 2px solid var(--sklearn-color-text-on-default-background);\n",
       "  flex-grow: 1;\n",
       "}\n",
       "\n",
       "#sk-container-id-1 div.sk-parallel {\n",
       "  display: flex;\n",
       "  align-items: stretch;\n",
       "  justify-content: center;\n",
       "  background-color: var(--sklearn-color-background);\n",
       "  position: relative;\n",
       "}\n",
       "\n",
       "#sk-container-id-1 div.sk-parallel-item {\n",
       "  display: flex;\n",
       "  flex-direction: column;\n",
       "}\n",
       "\n",
       "#sk-container-id-1 div.sk-parallel-item:first-child::after {\n",
       "  align-self: flex-end;\n",
       "  width: 50%;\n",
       "}\n",
       "\n",
       "#sk-container-id-1 div.sk-parallel-item:last-child::after {\n",
       "  align-self: flex-start;\n",
       "  width: 50%;\n",
       "}\n",
       "\n",
       "#sk-container-id-1 div.sk-parallel-item:only-child::after {\n",
       "  width: 0;\n",
       "}\n",
       "\n",
       "/* Serial-specific style estimator block */\n",
       "\n",
       "#sk-container-id-1 div.sk-serial {\n",
       "  display: flex;\n",
       "  flex-direction: column;\n",
       "  align-items: center;\n",
       "  background-color: var(--sklearn-color-background);\n",
       "  padding-right: 1em;\n",
       "  padding-left: 1em;\n",
       "}\n",
       "\n",
       "\n",
       "/* Toggleable style: style used for estimator/Pipeline/ColumnTransformer box that is\n",
       "clickable and can be expanded/collapsed.\n",
       "- Pipeline and ColumnTransformer use this feature and define the default style\n",
       "- Estimators will overwrite some part of the style using the `sk-estimator` class\n",
       "*/\n",
       "\n",
       "/* Pipeline and ColumnTransformer style (default) */\n",
       "\n",
       "#sk-container-id-1 div.sk-toggleable {\n",
       "  /* Default theme specific background. It is overwritten whether we have a\n",
       "  specific estimator or a Pipeline/ColumnTransformer */\n",
       "  background-color: var(--sklearn-color-background);\n",
       "}\n",
       "\n",
       "/* Toggleable label */\n",
       "#sk-container-id-1 label.sk-toggleable__label {\n",
       "  cursor: pointer;\n",
       "  display: block;\n",
       "  width: 100%;\n",
       "  margin-bottom: 0;\n",
       "  padding: 0.5em;\n",
       "  box-sizing: border-box;\n",
       "  text-align: center;\n",
       "}\n",
       "\n",
       "#sk-container-id-1 label.sk-toggleable__label-arrow:before {\n",
       "  /* Arrow on the left of the label */\n",
       "  content: \"▸\";\n",
       "  float: left;\n",
       "  margin-right: 0.25em;\n",
       "  color: var(--sklearn-color-icon);\n",
       "}\n",
       "\n",
       "#sk-container-id-1 label.sk-toggleable__label-arrow:hover:before {\n",
       "  color: var(--sklearn-color-text);\n",
       "}\n",
       "\n",
       "/* Toggleable content - dropdown */\n",
       "\n",
       "#sk-container-id-1 div.sk-toggleable__content {\n",
       "  max-height: 0;\n",
       "  max-width: 0;\n",
       "  overflow: hidden;\n",
       "  text-align: left;\n",
       "  /* unfitted */\n",
       "  background-color: var(--sklearn-color-unfitted-level-0);\n",
       "}\n",
       "\n",
       "#sk-container-id-1 div.sk-toggleable__content.fitted {\n",
       "  /* fitted */\n",
       "  background-color: var(--sklearn-color-fitted-level-0);\n",
       "}\n",
       "\n",
       "#sk-container-id-1 div.sk-toggleable__content pre {\n",
       "  margin: 0.2em;\n",
       "  border-radius: 0.25em;\n",
       "  color: var(--sklearn-color-text);\n",
       "  /* unfitted */\n",
       "  background-color: var(--sklearn-color-unfitted-level-0);\n",
       "}\n",
       "\n",
       "#sk-container-id-1 div.sk-toggleable__content.fitted pre {\n",
       "  /* unfitted */\n",
       "  background-color: var(--sklearn-color-fitted-level-0);\n",
       "}\n",
       "\n",
       "#sk-container-id-1 input.sk-toggleable__control:checked~div.sk-toggleable__content {\n",
       "  /* Expand drop-down */\n",
       "  max-height: 200px;\n",
       "  max-width: 100%;\n",
       "  overflow: auto;\n",
       "}\n",
       "\n",
       "#sk-container-id-1 input.sk-toggleable__control:checked~label.sk-toggleable__label-arrow:before {\n",
       "  content: \"▾\";\n",
       "}\n",
       "\n",
       "/* Pipeline/ColumnTransformer-specific style */\n",
       "\n",
       "#sk-container-id-1 div.sk-label input.sk-toggleable__control:checked~label.sk-toggleable__label {\n",
       "  color: var(--sklearn-color-text);\n",
       "  background-color: var(--sklearn-color-unfitted-level-2);\n",
       "}\n",
       "\n",
       "#sk-container-id-1 div.sk-label.fitted input.sk-toggleable__control:checked~label.sk-toggleable__label {\n",
       "  background-color: var(--sklearn-color-fitted-level-2);\n",
       "}\n",
       "\n",
       "/* Estimator-specific style */\n",
       "\n",
       "/* Colorize estimator box */\n",
       "#sk-container-id-1 div.sk-estimator input.sk-toggleable__control:checked~label.sk-toggleable__label {\n",
       "  /* unfitted */\n",
       "  background-color: var(--sklearn-color-unfitted-level-2);\n",
       "}\n",
       "\n",
       "#sk-container-id-1 div.sk-estimator.fitted input.sk-toggleable__control:checked~label.sk-toggleable__label {\n",
       "  /* fitted */\n",
       "  background-color: var(--sklearn-color-fitted-level-2);\n",
       "}\n",
       "\n",
       "#sk-container-id-1 div.sk-label label.sk-toggleable__label,\n",
       "#sk-container-id-1 div.sk-label label {\n",
       "  /* The background is the default theme color */\n",
       "  color: var(--sklearn-color-text-on-default-background);\n",
       "}\n",
       "\n",
       "/* On hover, darken the color of the background */\n",
       "#sk-container-id-1 div.sk-label:hover label.sk-toggleable__label {\n",
       "  color: var(--sklearn-color-text);\n",
       "  background-color: var(--sklearn-color-unfitted-level-2);\n",
       "}\n",
       "\n",
       "/* Label box, darken color on hover, fitted */\n",
       "#sk-container-id-1 div.sk-label.fitted:hover label.sk-toggleable__label.fitted {\n",
       "  color: var(--sklearn-color-text);\n",
       "  background-color: var(--sklearn-color-fitted-level-2);\n",
       "}\n",
       "\n",
       "/* Estimator label */\n",
       "\n",
       "#sk-container-id-1 div.sk-label label {\n",
       "  font-family: monospace;\n",
       "  font-weight: bold;\n",
       "  display: inline-block;\n",
       "  line-height: 1.2em;\n",
       "}\n",
       "\n",
       "#sk-container-id-1 div.sk-label-container {\n",
       "  text-align: center;\n",
       "}\n",
       "\n",
       "/* Estimator-specific */\n",
       "#sk-container-id-1 div.sk-estimator {\n",
       "  font-family: monospace;\n",
       "  border: 1px dotted var(--sklearn-color-border-box);\n",
       "  border-radius: 0.25em;\n",
       "  box-sizing: border-box;\n",
       "  margin-bottom: 0.5em;\n",
       "  /* unfitted */\n",
       "  background-color: var(--sklearn-color-unfitted-level-0);\n",
       "}\n",
       "\n",
       "#sk-container-id-1 div.sk-estimator.fitted {\n",
       "  /* fitted */\n",
       "  background-color: var(--sklearn-color-fitted-level-0);\n",
       "}\n",
       "\n",
       "/* on hover */\n",
       "#sk-container-id-1 div.sk-estimator:hover {\n",
       "  /* unfitted */\n",
       "  background-color: var(--sklearn-color-unfitted-level-2);\n",
       "}\n",
       "\n",
       "#sk-container-id-1 div.sk-estimator.fitted:hover {\n",
       "  /* fitted */\n",
       "  background-color: var(--sklearn-color-fitted-level-2);\n",
       "}\n",
       "\n",
       "/* Specification for estimator info (e.g. \"i\" and \"?\") */\n",
       "\n",
       "/* Common style for \"i\" and \"?\" */\n",
       "\n",
       ".sk-estimator-doc-link,\n",
       "a:link.sk-estimator-doc-link,\n",
       "a:visited.sk-estimator-doc-link {\n",
       "  float: right;\n",
       "  font-size: smaller;\n",
       "  line-height: 1em;\n",
       "  font-family: monospace;\n",
       "  background-color: var(--sklearn-color-background);\n",
       "  border-radius: 1em;\n",
       "  height: 1em;\n",
       "  width: 1em;\n",
       "  text-decoration: none !important;\n",
       "  margin-left: 1ex;\n",
       "  /* unfitted */\n",
       "  border: var(--sklearn-color-unfitted-level-1) 1pt solid;\n",
       "  color: var(--sklearn-color-unfitted-level-1);\n",
       "}\n",
       "\n",
       ".sk-estimator-doc-link.fitted,\n",
       "a:link.sk-estimator-doc-link.fitted,\n",
       "a:visited.sk-estimator-doc-link.fitted {\n",
       "  /* fitted */\n",
       "  border: var(--sklearn-color-fitted-level-1) 1pt solid;\n",
       "  color: var(--sklearn-color-fitted-level-1);\n",
       "}\n",
       "\n",
       "/* On hover */\n",
       "div.sk-estimator:hover .sk-estimator-doc-link:hover,\n",
       ".sk-estimator-doc-link:hover,\n",
       "div.sk-label-container:hover .sk-estimator-doc-link:hover,\n",
       ".sk-estimator-doc-link:hover {\n",
       "  /* unfitted */\n",
       "  background-color: var(--sklearn-color-unfitted-level-3);\n",
       "  color: var(--sklearn-color-background);\n",
       "  text-decoration: none;\n",
       "}\n",
       "\n",
       "div.sk-estimator.fitted:hover .sk-estimator-doc-link.fitted:hover,\n",
       ".sk-estimator-doc-link.fitted:hover,\n",
       "div.sk-label-container:hover .sk-estimator-doc-link.fitted:hover,\n",
       ".sk-estimator-doc-link.fitted:hover {\n",
       "  /* fitted */\n",
       "  background-color: var(--sklearn-color-fitted-level-3);\n",
       "  color: var(--sklearn-color-background);\n",
       "  text-decoration: none;\n",
       "}\n",
       "\n",
       "/* Span, style for the box shown on hovering the info icon */\n",
       ".sk-estimator-doc-link span {\n",
       "  display: none;\n",
       "  z-index: 9999;\n",
       "  position: relative;\n",
       "  font-weight: normal;\n",
       "  right: .2ex;\n",
       "  padding: .5ex;\n",
       "  margin: .5ex;\n",
       "  width: min-content;\n",
       "  min-width: 20ex;\n",
       "  max-width: 50ex;\n",
       "  color: var(--sklearn-color-text);\n",
       "  box-shadow: 2pt 2pt 4pt #999;\n",
       "  /* unfitted */\n",
       "  background: var(--sklearn-color-unfitted-level-0);\n",
       "  border: .5pt solid var(--sklearn-color-unfitted-level-3);\n",
       "}\n",
       "\n",
       ".sk-estimator-doc-link.fitted span {\n",
       "  /* fitted */\n",
       "  background: var(--sklearn-color-fitted-level-0);\n",
       "  border: var(--sklearn-color-fitted-level-3);\n",
       "}\n",
       "\n",
       ".sk-estimator-doc-link:hover span {\n",
       "  display: block;\n",
       "}\n",
       "\n",
       "/* \"?\"-specific style due to the `<a>` HTML tag */\n",
       "\n",
       "#sk-container-id-1 a.estimator_doc_link {\n",
       "  float: right;\n",
       "  font-size: 1rem;\n",
       "  line-height: 1em;\n",
       "  font-family: monospace;\n",
       "  background-color: var(--sklearn-color-background);\n",
       "  border-radius: 1rem;\n",
       "  height: 1rem;\n",
       "  width: 1rem;\n",
       "  text-decoration: none;\n",
       "  /* unfitted */\n",
       "  color: var(--sklearn-color-unfitted-level-1);\n",
       "  border: var(--sklearn-color-unfitted-level-1) 1pt solid;\n",
       "}\n",
       "\n",
       "#sk-container-id-1 a.estimator_doc_link.fitted {\n",
       "  /* fitted */\n",
       "  border: var(--sklearn-color-fitted-level-1) 1pt solid;\n",
       "  color: var(--sklearn-color-fitted-level-1);\n",
       "}\n",
       "\n",
       "/* On hover */\n",
       "#sk-container-id-1 a.estimator_doc_link:hover {\n",
       "  /* unfitted */\n",
       "  background-color: var(--sklearn-color-unfitted-level-3);\n",
       "  color: var(--sklearn-color-background);\n",
       "  text-decoration: none;\n",
       "}\n",
       "\n",
       "#sk-container-id-1 a.estimator_doc_link.fitted:hover {\n",
       "  /* fitted */\n",
       "  background-color: var(--sklearn-color-fitted-level-3);\n",
       "}\n",
       "</style><div id=\"sk-container-id-1\" class=\"sk-top-container\"><div class=\"sk-text-repr-fallback\"><pre>KNeighborsClassifier(n_neighbors=3)</pre><b>In a Jupyter environment, please rerun this cell to show the HTML representation or trust the notebook. <br />On GitHub, the HTML representation is unable to render, please try loading this page with nbviewer.org.</b></div><div class=\"sk-container\" hidden><div class=\"sk-item\"><div class=\"sk-estimator fitted sk-toggleable\"><input class=\"sk-toggleable__control sk-hidden--visually\" id=\"sk-estimator-id-1\" type=\"checkbox\" checked><label for=\"sk-estimator-id-1\" class=\"sk-toggleable__label fitted sk-toggleable__label-arrow fitted\">&nbsp;&nbsp;KNeighborsClassifier<a class=\"sk-estimator-doc-link fitted\" rel=\"noreferrer\" target=\"_blank\" href=\"https://scikit-learn.org/1.5/modules/generated/sklearn.neighbors.KNeighborsClassifier.html\">?<span>Documentation for KNeighborsClassifier</span></a><span class=\"sk-estimator-doc-link fitted\">i<span>Fitted</span></span></label><div class=\"sk-toggleable__content fitted\"><pre>KNeighborsClassifier(n_neighbors=3)</pre></div> </div></div></div></div>"
      ],
      "text/plain": [
       "KNeighborsClassifier(n_neighbors=3)"
      ]
     },
     "execution_count": 16,
     "metadata": {},
     "output_type": "execute_result"
    }
   ],
   "source": [
    "knn = KNeighborsClassifier(n_neighbors=3)\n",
    "knn.fit(X_train_2024, y_train_2024)\n"
   ]
  },
  {
   "cell_type": "markdown",
   "id": "6e2917b8",
   "metadata": {},
   "source": [
    "- Los valores de AUC y Accuracy"
   ]
  },
  {
   "cell_type": "code",
   "execution_count": 19,
   "id": "3fb756ac",
   "metadata": {},
   "outputs": [
    {
     "name": "stdout",
     "output_type": "stream",
     "text": [
      "La accuracy del modelo es: 0.967\n"
     ]
    }
   ],
   "source": [
    "y_test_pred_knn = knn.predict(X_train_2024)\n",
    "accuracy_knn = accuracy_score(y_train_2024, y_test_pred_knn)\n",
    "print(\"La accuracy del modelo es: %.3f\" %accuracy_knn)   "
   ]
  },
  {
   "cell_type": "markdown",
   "id": "65eb4547",
   "metadata": {},
   "source": [
    "- Matriz de confusión "
   ]
  },
  {
   "cell_type": "code",
   "execution_count": 27,
   "id": "f0632277",
   "metadata": {},
   "outputs": [
    {
     "data": {
      "text/plain": [
       "array([[1969,   27],\n",
       "       [  98,    9]])"
      ]
     },
     "execution_count": 27,
     "metadata": {},
     "output_type": "execute_result"
    }
   ],
   "source": [
    "# Predecir las etiquetas de la clase para el conjunto de prueba\n",
    "y_test_pred_knn = knn.predict(X_test_2024) \n",
    "\n",
    "# Calcular la matriz de confusión\n",
    "confusion_matrix(y_test_2024, y_test_pred_knn)"
   ]
  },
  {
   "cell_type": "markdown",
   "id": "0be07066",
   "metadata": {},
   "source": [
    "- Curva ROC"
   ]
  },
  {
   "cell_type": "code",
   "execution_count": 23,
   "id": "355fe51c",
   "metadata": {},
   "outputs": [
    {
     "data": {
      "image/png": "[encoded data removed]",
      "text/plain": [
       "<Figure size 640x480 with 1 Axes>"
      ]
     },
     "metadata": {},
     "output_type": "display_data"
    }
   ],
   "source": [
    "# Calcular las probabilidades de pertenencia a la clase positiva\n",
    "y_scores_2024_knn = knn.predict_proba(X_test_2024)[:, 1]\n",
    "\n",
    "# Calcular la curva ROC\n",
    "fpr, tpr, thresholds = roc_curve(y_test_2024, y_scores_2024_knn)\n",
    "roc_auc_knn = auc(fpr, tpr)\n",
    "\n",
    "# Graficar la curva ROC\n",
    "display = RocCurveDisplay(fpr=fpr, tpr=tpr, roc_auc=roc_auc_knn, estimator_name='KNeighborsClassifier')\n",
    "display.plot()\n",
    "plt.plot([0, 1], [0, 1], color='red', linestyle='--')  # Línea diagonal\n",
    "plt.title('Curva ROC para KNeighborsClassifier')\n",
    "plt.xlabel('Tasa de Falsos Positivos')\n",
    "plt.ylabel('Tasa de Verdaderos Positivos')\n",
    "plt.show()"
   ]
  },
  {
   "cell_type": "markdown",
   "id": "da8d3428",
   "metadata": {},
   "source": [
    "### NAIVE BAYES"
   ]
  },
  {
   "cell_type": "code",
   "execution_count": 91,
   "id": "d03989f4",
   "metadata": {},
   "outputs": [],
   "source": [
    "from sklearn.naive_bayes import GaussianNB"
   ]
  },
  {
   "cell_type": "code",
   "execution_count": 92,
   "id": "3a91cfbe",
   "metadata": {},
   "outputs": [
    {
     "data": {
      "text/html": [
       "<style>#sk-container-id-2 {\n",
       "  /* Definition of color scheme common for light and dark mode */\n",
       "  --sklearn-color-text: black;\n",
       "  --sklearn-color-line: gray;\n",
       "  /* Definition of color scheme for unfitted estimators */\n",
       "  --sklearn-color-unfitted-level-0: #fff5e6;\n",
       "  --sklearn-color-unfitted-level-1: #f6e4d2;\n",
       "  --sklearn-color-unfitted-level-2: #ffe0b3;\n",
       "  --sklearn-color-unfitted-level-3: chocolate;\n",
       "  /* Definition of color scheme for fitted estimators */\n",
       "  --sklearn-color-fitted-level-0: #f0f8ff;\n",
       "  --sklearn-color-fitted-level-1: #d4ebff;\n",
       "  --sklearn-color-fitted-level-2: #b3dbfd;\n",
       "  --sklearn-color-fitted-level-3: cornflowerblue;\n",
       "\n",
       "  /* Specific color for light theme */\n",
       "  --sklearn-color-text-on-default-background: var(--sg-text-color, var(--theme-code-foreground, var(--jp-content-font-color1, black)));\n",
       "  --sklearn-color-background: var(--sg-background-color, var(--theme-background, var(--jp-layout-color0, white)));\n",
       "  --sklearn-color-border-box: var(--sg-text-color, var(--theme-code-foreground, var(--jp-content-font-color1, black)));\n",
       "  --sklearn-color-icon: #696969;\n",
       "\n",
       "  @media (prefers-color-scheme: dark) {\n",
       "    /* Redefinition of color scheme for dark theme */\n",
       "    --sklearn-color-text-on-default-background: var(--sg-text-color, var(--theme-code-foreground, var(--jp-content-font-color1, white)));\n",
       "    --sklearn-color-background: var(--sg-background-color, var(--theme-background, var(--jp-layout-color0, #111)));\n",
       "    --sklearn-color-border-box: var(--sg-text-color, var(--theme-code-foreground, var(--jp-content-font-color1, white)));\n",
       "    --sklearn-color-icon: #878787;\n",
       "  }\n",
       "}\n",
       "\n",
       "#sk-container-id-2 {\n",
       "  color: var(--sklearn-color-text);\n",
       "}\n",
       "\n",
       "#sk-container-id-2 pre {\n",
       "  padding: 0;\n",
       "}\n",
       "\n",
       "#sk-container-id-2 input.sk-hidden--visually {\n",
       "  border: 0;\n",
       "  clip: rect(1px 1px 1px 1px);\n",
       "  clip: rect(1px, 1px, 1px, 1px);\n",
       "  height: 1px;\n",
       "  margin: -1px;\n",
       "  overflow: hidden;\n",
       "  padding: 0;\n",
       "  position: absolute;\n",
       "  width: 1px;\n",
       "}\n",
       "\n",
       "#sk-container-id-2 div.sk-dashed-wrapped {\n",
       "  border: 1px dashed var(--sklearn-color-line);\n",
       "  margin: 0 0.4em 0.5em 0.4em;\n",
       "  box-sizing: border-box;\n",
       "  padding-bottom: 0.4em;\n",
       "  background-color: var(--sklearn-color-background);\n",
       "}\n",
       "\n",
       "#sk-container-id-2 div.sk-container {\n",
       "  /* jupyter's `normalize.less` sets `[hidden] { display: none; }`\n",
       "     but bootstrap.min.css set `[hidden] { display: none !important; }`\n",
       "     so we also need the `!important` here to be able to override the\n",
       "     default hidden behavior on the sphinx rendered scikit-learn.org.\n",
       "     See: https://github.com/scikit-learn/scikit-learn/issues/21755 */\n",
       "  display: inline-block !important;\n",
       "  position: relative;\n",
       "}\n",
       "\n",
       "#sk-container-id-2 div.sk-text-repr-fallback {\n",
       "  display: none;\n",
       "}\n",
       "\n",
       "div.sk-parallel-item,\n",
       "div.sk-serial,\n",
       "div.sk-item {\n",
       "  /* draw centered vertical line to link estimators */\n",
       "  background-image: linear-gradient(var(--sklearn-color-text-on-default-background), var(--sklearn-color-text-on-default-background));\n",
       "  background-size: 2px 100%;\n",
       "  background-repeat: no-repeat;\n",
       "  background-position: center center;\n",
       "}\n",
       "\n",
       "/* Parallel-specific style estimator block */\n",
       "\n",
       "#sk-container-id-2 div.sk-parallel-item::after {\n",
       "  content: \"\";\n",
       "  width: 100%;\n",
       "  border-bottom: 2px solid var(--sklearn-color-text-on-default-background);\n",
       "  flex-grow: 1;\n",
       "}\n",
       "\n",
       "#sk-container-id-2 div.sk-parallel {\n",
       "  display: flex;\n",
       "  align-items: stretch;\n",
       "  justify-content: center;\n",
       "  background-color: var(--sklearn-color-background);\n",
       "  position: relative;\n",
       "}\n",
       "\n",
       "#sk-container-id-2 div.sk-parallel-item {\n",
       "  display: flex;\n",
       "  flex-direction: column;\n",
       "}\n",
       "\n",
       "#sk-container-id-2 div.sk-parallel-item:first-child::after {\n",
       "  align-self: flex-end;\n",
       "  width: 50%;\n",
       "}\n",
       "\n",
       "#sk-container-id-2 div.sk-parallel-item:last-child::after {\n",
       "  align-self: flex-start;\n",
       "  width: 50%;\n",
       "}\n",
       "\n",
       "#sk-container-id-2 div.sk-parallel-item:only-child::after {\n",
       "  width: 0;\n",
       "}\n",
       "\n",
       "/* Serial-specific style estimator block */\n",
       "\n",
       "#sk-container-id-2 div.sk-serial {\n",
       "  display: flex;\n",
       "  flex-direction: column;\n",
       "  align-items: center;\n",
       "  background-color: var(--sklearn-color-background);\n",
       "  padding-right: 1em;\n",
       "  padding-left: 1em;\n",
       "}\n",
       "\n",
       "\n",
       "/* Toggleable style: style used for estimator/Pipeline/ColumnTransformer box that is\n",
       "clickable and can be expanded/collapsed.\n",
       "- Pipeline and ColumnTransformer use this feature and define the default style\n",
       "- Estimators will overwrite some part of the style using the `sk-estimator` class\n",
       "*/\n",
       "\n",
       "/* Pipeline and ColumnTransformer style (default) */\n",
       "\n",
       "#sk-container-id-2 div.sk-toggleable {\n",
       "  /* Default theme specific background. It is overwritten whether we have a\n",
       "  specific estimator or a Pipeline/ColumnTransformer */\n",
       "  background-color: var(--sklearn-color-background);\n",
       "}\n",
       "\n",
       "/* Toggleable label */\n",
       "#sk-container-id-2 label.sk-toggleable__label {\n",
       "  cursor: pointer;\n",
       "  display: block;\n",
       "  width: 100%;\n",
       "  margin-bottom: 0;\n",
       "  padding: 0.5em;\n",
       "  box-sizing: border-box;\n",
       "  text-align: center;\n",
       "}\n",
       "\n",
       "#sk-container-id-2 label.sk-toggleable__label-arrow:before {\n",
       "  /* Arrow on the left of the label */\n",
       "  content: \"▸\";\n",
       "  float: left;\n",
       "  margin-right: 0.25em;\n",
       "  color: var(--sklearn-color-icon);\n",
       "}\n",
       "\n",
       "#sk-container-id-2 label.sk-toggleable__label-arrow:hover:before {\n",
       "  color: var(--sklearn-color-text);\n",
       "}\n",
       "\n",
       "/* Toggleable content - dropdown */\n",
       "\n",
       "#sk-container-id-2 div.sk-toggleable__content {\n",
       "  max-height: 0;\n",
       "  max-width: 0;\n",
       "  overflow: hidden;\n",
       "  text-align: left;\n",
       "  /* unfitted */\n",
       "  background-color: var(--sklearn-color-unfitted-level-0);\n",
       "}\n",
       "\n",
       "#sk-container-id-2 div.sk-toggleable__content.fitted {\n",
       "  /* fitted */\n",
       "  background-color: var(--sklearn-color-fitted-level-0);\n",
       "}\n",
       "\n",
       "#sk-container-id-2 div.sk-toggleable__content pre {\n",
       "  margin: 0.2em;\n",
       "  border-radius: 0.25em;\n",
       "  color: var(--sklearn-color-text);\n",
       "  /* unfitted */\n",
       "  background-color: var(--sklearn-color-unfitted-level-0);\n",
       "}\n",
       "\n",
       "#sk-container-id-2 div.sk-toggleable__content.fitted pre {\n",
       "  /* unfitted */\n",
       "  background-color: var(--sklearn-color-fitted-level-0);\n",
       "}\n",
       "\n",
       "#sk-container-id-2 input.sk-toggleable__control:checked~div.sk-toggleable__content {\n",
       "  /* Expand drop-down */\n",
       "  max-height: 200px;\n",
       "  max-width: 100%;\n",
       "  overflow: auto;\n",
       "}\n",
       "\n",
       "#sk-container-id-2 input.sk-toggleable__control:checked~label.sk-toggleable__label-arrow:before {\n",
       "  content: \"▾\";\n",
       "}\n",
       "\n",
       "/* Pipeline/ColumnTransformer-specific style */\n",
       "\n",
       "#sk-container-id-2 div.sk-label input.sk-toggleable__control:checked~label.sk-toggleable__label {\n",
       "  color: var(--sklearn-color-text);\n",
       "  background-color: var(--sklearn-color-unfitted-level-2);\n",
       "}\n",
       "\n",
       "#sk-container-id-2 div.sk-label.fitted input.sk-toggleable__control:checked~label.sk-toggleable__label {\n",
       "  background-color: var(--sklearn-color-fitted-level-2);\n",
       "}\n",
       "\n",
       "/* Estimator-specific style */\n",
       "\n",
       "/* Colorize estimator box */\n",
       "#sk-container-id-2 div.sk-estimator input.sk-toggleable__control:checked~label.sk-toggleable__label {\n",
       "  /* unfitted */\n",
       "  background-color: var(--sklearn-color-unfitted-level-2);\n",
       "}\n",
       "\n",
       "#sk-container-id-2 div.sk-estimator.fitted input.sk-toggleable__control:checked~label.sk-toggleable__label {\n",
       "  /* fitted */\n",
       "  background-color: var(--sklearn-color-fitted-level-2);\n",
       "}\n",
       "\n",
       "#sk-container-id-2 div.sk-label label.sk-toggleable__label,\n",
       "#sk-container-id-2 div.sk-label label {\n",
       "  /* The background is the default theme color */\n",
       "  color: var(--sklearn-color-text-on-default-background);\n",
       "}\n",
       "\n",
       "/* On hover, darken the color of the background */\n",
       "#sk-container-id-2 div.sk-label:hover label.sk-toggleable__label {\n",
       "  color: var(--sklearn-color-text);\n",
       "  background-color: var(--sklearn-color-unfitted-level-2);\n",
       "}\n",
       "\n",
       "/* Label box, darken color on hover, fitted */\n",
       "#sk-container-id-2 div.sk-label.fitted:hover label.sk-toggleable__label.fitted {\n",
       "  color: var(--sklearn-color-text);\n",
       "  background-color: var(--sklearn-color-fitted-level-2);\n",
       "}\n",
       "\n",
       "/* Estimator label */\n",
       "\n",
       "#sk-container-id-2 div.sk-label label {\n",
       "  font-family: monospace;\n",
       "  font-weight: bold;\n",
       "  display: inline-block;\n",
       "  line-height: 1.2em;\n",
       "}\n",
       "\n",
       "#sk-container-id-2 div.sk-label-container {\n",
       "  text-align: center;\n",
       "}\n",
       "\n",
       "/* Estimator-specific */\n",
       "#sk-container-id-2 div.sk-estimator {\n",
       "  font-family: monospace;\n",
       "  border: 1px dotted var(--sklearn-color-border-box);\n",
       "  border-radius: 0.25em;\n",
       "  box-sizing: border-box;\n",
       "  margin-bottom: 0.5em;\n",
       "  /* unfitted */\n",
       "  background-color: var(--sklearn-color-unfitted-level-0);\n",
       "}\n",
       "\n",
       "#sk-container-id-2 div.sk-estimator.fitted {\n",
       "  /* fitted */\n",
       "  background-color: var(--sklearn-color-fitted-level-0);\n",
       "}\n",
       "\n",
       "/* on hover */\n",
       "#sk-container-id-2 div.sk-estimator:hover {\n",
       "  /* unfitted */\n",
       "  background-color: var(--sklearn-color-unfitted-level-2);\n",
       "}\n",
       "\n",
       "#sk-container-id-2 div.sk-estimator.fitted:hover {\n",
       "  /* fitted */\n",
       "  background-color: var(--sklearn-color-fitted-level-2);\n",
       "}\n",
       "\n",
       "/* Specification for estimator info (e.g. \"i\" and \"?\") */\n",
       "\n",
       "/* Common style for \"i\" and \"?\" */\n",
       "\n",
       ".sk-estimator-doc-link,\n",
       "a:link.sk-estimator-doc-link,\n",
       "a:visited.sk-estimator-doc-link {\n",
       "  float: right;\n",
       "  font-size: smaller;\n",
       "  line-height: 1em;\n",
       "  font-family: monospace;\n",
       "  background-color: var(--sklearn-color-background);\n",
       "  border-radius: 1em;\n",
       "  height: 1em;\n",
       "  width: 1em;\n",
       "  text-decoration: none !important;\n",
       "  margin-left: 1ex;\n",
       "  /* unfitted */\n",
       "  border: var(--sklearn-color-unfitted-level-1) 1pt solid;\n",
       "  color: var(--sklearn-color-unfitted-level-1);\n",
       "}\n",
       "\n",
       ".sk-estimator-doc-link.fitted,\n",
       "a:link.sk-estimator-doc-link.fitted,\n",
       "a:visited.sk-estimator-doc-link.fitted {\n",
       "  /* fitted */\n",
       "  border: var(--sklearn-color-fitted-level-1) 1pt solid;\n",
       "  color: var(--sklearn-color-fitted-level-1);\n",
       "}\n",
       "\n",
       "/* On hover */\n",
       "div.sk-estimator:hover .sk-estimator-doc-link:hover,\n",
       ".sk-estimator-doc-link:hover,\n",
       "div.sk-label-container:hover .sk-estimator-doc-link:hover,\n",
       ".sk-estimator-doc-link:hover {\n",
       "  /* unfitted */\n",
       "  background-color: var(--sklearn-color-unfitted-level-3);\n",
       "  color: var(--sklearn-color-background);\n",
       "  text-decoration: none;\n",
       "}\n",
       "\n",
       "div.sk-estimator.fitted:hover .sk-estimator-doc-link.fitted:hover,\n",
       ".sk-estimator-doc-link.fitted:hover,\n",
       "div.sk-label-container:hover .sk-estimator-doc-link.fitted:hover,\n",
       ".sk-estimator-doc-link.fitted:hover {\n",
       "  /* fitted */\n",
       "  background-color: var(--sklearn-color-fitted-level-3);\n",
       "  color: var(--sklearn-color-background);\n",
       "  text-decoration: none;\n",
       "}\n",
       "\n",
       "/* Span, style for the box shown on hovering the info icon */\n",
       ".sk-estimator-doc-link span {\n",
       "  display: none;\n",
       "  z-index: 9999;\n",
       "  position: relative;\n",
       "  font-weight: normal;\n",
       "  right: .2ex;\n",
       "  padding: .5ex;\n",
       "  margin: .5ex;\n",
       "  width: min-content;\n",
       "  min-width: 20ex;\n",
       "  max-width: 50ex;\n",
       "  color: var(--sklearn-color-text);\n",
       "  box-shadow: 2pt 2pt 4pt #999;\n",
       "  /* unfitted */\n",
       "  background: var(--sklearn-color-unfitted-level-0);\n",
       "  border: .5pt solid var(--sklearn-color-unfitted-level-3);\n",
       "}\n",
       "\n",
       ".sk-estimator-doc-link.fitted span {\n",
       "  /* fitted */\n",
       "  background: var(--sklearn-color-fitted-level-0);\n",
       "  border: var(--sklearn-color-fitted-level-3);\n",
       "}\n",
       "\n",
       ".sk-estimator-doc-link:hover span {\n",
       "  display: block;\n",
       "}\n",
       "\n",
       "/* \"?\"-specific style due to the `<a>` HTML tag */\n",
       "\n",
       "#sk-container-id-2 a.estimator_doc_link {\n",
       "  float: right;\n",
       "  font-size: 1rem;\n",
       "  line-height: 1em;\n",
       "  font-family: monospace;\n",
       "  background-color: var(--sklearn-color-background);\n",
       "  border-radius: 1rem;\n",
       "  height: 1rem;\n",
       "  width: 1rem;\n",
       "  text-decoration: none;\n",
       "  /* unfitted */\n",
       "  color: var(--sklearn-color-unfitted-level-1);\n",
       "  border: var(--sklearn-color-unfitted-level-1) 1pt solid;\n",
       "}\n",
       "\n",
       "#sk-container-id-2 a.estimator_doc_link.fitted {\n",
       "  /* fitted */\n",
       "  border: var(--sklearn-color-fitted-level-1) 1pt solid;\n",
       "  color: var(--sklearn-color-fitted-level-1);\n",
       "}\n",
       "\n",
       "/* On hover */\n",
       "#sk-container-id-2 a.estimator_doc_link:hover {\n",
       "  /* unfitted */\n",
       "  background-color: var(--sklearn-color-unfitted-level-3);\n",
       "  color: var(--sklearn-color-background);\n",
       "  text-decoration: none;\n",
       "}\n",
       "\n",
       "#sk-container-id-2 a.estimator_doc_link.fitted:hover {\n",
       "  /* fitted */\n",
       "  background-color: var(--sklearn-color-fitted-level-3);\n",
       "}\n",
       "</style><div id=\"sk-container-id-2\" class=\"sk-top-container\"><div class=\"sk-text-repr-fallback\"><pre>GaussianNB()</pre><b>In a Jupyter environment, please rerun this cell to show the HTML representation or trust the notebook. <br />On GitHub, the HTML representation is unable to render, please try loading this page with nbviewer.org.</b></div><div class=\"sk-container\" hidden><div class=\"sk-item\"><div class=\"sk-estimator fitted sk-toggleable\"><input class=\"sk-toggleable__control sk-hidden--visually\" id=\"sk-estimator-id-2\" type=\"checkbox\" checked><label for=\"sk-estimator-id-2\" class=\"sk-toggleable__label fitted sk-toggleable__label-arrow fitted\">&nbsp;&nbsp;GaussianNB<a class=\"sk-estimator-doc-link fitted\" rel=\"noreferrer\" target=\"_blank\" href=\"https://scikit-learn.org/1.5/modules/generated/sklearn.naive_bayes.GaussianNB.html\">?<span>Documentation for GaussianNB</span></a><span class=\"sk-estimator-doc-link fitted\">i<span>Fitted</span></span></label><div class=\"sk-toggleable__content fitted\"><pre>GaussianNB()</pre></div> </div></div></div></div>"
      ],
      "text/plain": [
       "GaussianNB()"
      ]
     },
     "execution_count": 92,
     "metadata": {},
     "output_type": "execute_result"
    }
   ],
   "source": [
    "NB = GaussianNB() \n",
    "NB.fit(X_train_2024, y_train_2024)"
   ]
  },
  {
   "cell_type": "code",
   "execution_count": 94,
   "id": "cb68d50a",
   "metadata": {},
   "outputs": [
    {
     "name": "stdout",
     "output_type": "stream",
     "text": [
      "[[1039  957]\n",
      " [   0  107]]\n"
     ]
    }
   ],
   "source": [
    "y_pred_nb_2024= NB.predict(X_test_2024) \n",
    "# Matriz de resultados\n",
    "conf_mat4 = confusion_matrix(y_test_2024, y_pred_nb_2024)\n",
    "print(conf_mat4) "
   ]
  },
  {
   "cell_type": "code",
   "execution_count": 95,
   "id": "88cc7e9c",
   "metadata": {},
   "outputs": [
    {
     "name": "stdout",
     "output_type": "stream",
     "text": [
      "AUC QDA: 0.76\n"
     ]
    },
    {
     "data": {
      "image/png": "[encoded data removed]",
      "text/plain": [
       "<Figure size 640x480 with 1 Axes>"
      ]
     },
     "metadata": {},
     "output_type": "display_data"
    }
   ],
   "source": [
    "# AUC y ROC\n",
    "auc = roc_auc_score(y_test_2024, y_pred_nb_2024)\n",
    "print('AUC QDA: %.2f' % auc)\n",
    "fpr, tpr, thresholds = roc_curve(y_test_2024, y_pred_nb_2024)\n",
    "\n",
    "display = RocCurveDisplay(fpr=fpr, tpr=tpr, roc_auc=auc, estimator_name='Naive Bayes')\n",
    "display.plot()  \n",
    "plt.plot([0, 1], [0, 1], color='red', linestyle='--')\n",
    "plt.show() "
   ]
  },
  {
   "cell_type": "markdown",
   "id": "9bc3aac5",
   "metadata": {},
   "source": [
    "## 2004"
   ]
  },
  {
   "cell_type": "markdown",
   "id": "a5e94d91",
   "metadata": {},
   "source": [
    "REGRESIÓN LOGISTICA "
   ]
  },
  {
   "cell_type": "code",
   "execution_count": null,
   "id": "8db13893",
   "metadata": {},
   "outputs": [],
   "source": [
    "# Ajustamos el clasificador con el metodo fit() \n",
    "log_reg = LogisticRegression(penalty=None).fit(X_train_2004, y_train_2004)\n",
    "y_test_pred_score = log_reg.predict_proba(X_train_2004)[:,1]\n",
    "y_test_pred = log_reg.predict(X_train_2004)"
   ]
  },
  {
   "cell_type": "markdown",
   "id": "f08abb5d",
   "metadata": {},
   "source": [
    "- Matriz de confusión "
   ]
  },
  {
   "cell_type": "code",
   "execution_count": null,
   "id": "bcbef75f",
   "metadata": {},
   "outputs": [],
   "source": [
    "matriz_confusion = confusion_matrix(y_train_2004, y_test_pred)\n",
    "\n",
    "print('Confusion Matrix:')\n",
    "print(matriz_confusion) "
   ]
  },
  {
   "cell_type": "markdown",
   "id": "7fcbfec8",
   "metadata": {},
   "source": [
    "- Curva ROC"
   ]
  },
  {
   "cell_type": "code",
   "execution_count": null,
   "id": "22d94380",
   "metadata": {},
   "outputs": [],
   "source": [
    "fpr, tpr, thresholds = roc_curve(y_test_pred, y_test_pred_score, drop_intermediate=False)  # drop_intermediate=False nos da mas thresholds ('c') para probar\n",
    "print('Thresholds:', thresholds)\n",
    "print('FPR:', fpr)\n",
    "print('TPR:', tpr)\n"
   ]
  },
  {
   "cell_type": "code",
   "execution_count": null,
   "id": "53e7739c",
   "metadata": {},
   "outputs": [],
   "source": [
    "display = RocCurveDisplay(fpr=fpr, tpr=tpr, roc_auc=auc, estimator_name='Reg_log')\n",
    "display.plot()  \n",
    "plt.plot([0, 1], [0, 1], color='red', linestyle='--')\n",
    "plt.show()"
   ]
  },
  {
   "cell_type": "markdown",
   "id": "2356c18b",
   "metadata": {},
   "source": [
    "- Los valores de AUC y Accuracy"
   ]
  },
  {
   "cell_type": "code",
   "execution_count": null,
   "id": "2c20db0d",
   "metadata": {},
   "outputs": [],
   "source": [
    "auc = roc_auc_score(y_test_pred, y_test_pred_score)\n",
    "print('AUC: %.4f' % auc)\n",
    "# accuracy: (tp + tn) / (p + n)\n",
    "accuracy = accuracy_score(y_train_2004, y_test_pred)\n",
    "print('Accuracy: %f' % accuracy)"
   ]
  },
  {
   "cell_type": "markdown",
   "id": "468e9291",
   "metadata": {},
   "source": [
    "ANALISIS DISCRIMINANTE LINEAL"
   ]
  },
  {
   "cell_type": "code",
   "execution_count": null,
   "id": "907e9830",
   "metadata": {},
   "outputs": [],
   "source": [
    "lda = LinearDiscriminantAnalysis(n_components=2) # Number of components (<= min(n_classes - 1, n_features)) for dimensionality reduction.\n",
    "lda = lda.fit(X_train_2004, y_train_2004)"
   ]
  },
  {
   "cell_type": "code",
   "execution_count": null,
   "id": "6eac1dc9",
   "metadata": {},
   "outputs": [],
   "source": [
    "lda.means_"
   ]
  },
  {
   "cell_type": "code",
   "execution_count": null,
   "id": "5311fcdf",
   "metadata": {},
   "outputs": [],
   "source": [
    "lda.classes_ # las clases"
   ]
  },
  {
   "cell_type": "code",
   "execution_count": null,
   "id": "3a52dd28",
   "metadata": {},
   "outputs": [],
   "source": [
    "lda.priors_ # proporciones de Y de cada clase, prob(Y=k) prior"
   ]
  },
  {
   "cell_type": "code",
   "execution_count": null,
   "id": "5171594a",
   "metadata": {},
   "outputs": [],
   "source": [
    "X_r = lda.transform(X_train_2004) \n",
    "X_r"
   ]
  },
  {
   "cell_type": "code",
   "execution_count": null,
   "id": "8d32a00f",
   "metadata": {},
   "outputs": [],
   "source": [
    "plt.figure()\n",
    "# Graficar los puntos de cada clase. \n",
    "#Se toman las coordenadas de la primera y segunda columna de X_r, indexando los valores según y, la clase.  \n",
    "plt.scatter(X_r[y_train_2004 == 0, 0], X_r[y_train_2004 == 0, 1], alpha=.8, color='navy', label='setosa')\n",
    "plt.scatter(X_r[y_train_2004 == 1, 0], X_r[y_train_2004 == 1, 1], alpha=.8, color='turquoise', label='versicolor')\n",
    "plt.scatter(X_r[y_train_2004 == 2, 0], X_r[y_train_2004 == 2, 1], alpha=.8, color='darkorange', label='virginica')\n",
    "plt.legend(loc='best', shadow=False, scatterpoints=1)\n",
    "plt.title('LDA of IRIS dataset')\n",
    "\n",
    "plt.show()"
   ]
  },
  {
   "cell_type": "code",
   "execution_count": null,
   "id": "573b9683",
   "metadata": {},
   "outputs": [],
   "source": [
    "y_test_pred_lda = lda.predict(X_train_2024)"
   ]
  },
  {
   "cell_type": "markdown",
   "id": "a7a32eec",
   "metadata": {},
   "source": [
    "- Matriz de confusión "
   ]
  },
  {
   "cell_type": "code",
   "execution_count": null,
   "id": "e90f9077",
   "metadata": {},
   "outputs": [],
   "source": [
    "confusion_matrix(y_test_pred_lda,y_train_2024)"
   ]
  },
  {
   "cell_type": "markdown",
   "id": "4371e9c4",
   "metadata": {},
   "source": [
    "- Curva ROC"
   ]
  },
  {
   "cell_type": "code",
   "execution_count": null,
   "id": "5602bcc6",
   "metadata": {},
   "outputs": [],
   "source": [
    "#ESTO ES RARO\n",
    "fpr, tpr, thresholds = roc_curve(y_test_pred_lda, y_test_pred_score, drop_intermediate=False)  # drop_intermediate=False nos da mas thresholds ('c') para probar\n",
    "print('Thresholds:', thresholds)\n",
    "print('FPR:', fpr)\n",
    "print('TPR:', tpr)\n",
    "\n",
    "display = RocCurveDisplay(fpr=fpr, tpr=tpr, roc_auc=auc, estimator_name='Reg_log')\n",
    "display.plot()  \n",
    "plt.plot([0, 1], [0, 1], color='red', linestyle='--')\n",
    "plt.show()"
   ]
  },
  {
   "cell_type": "markdown",
   "id": "1b8f3973",
   "metadata": {},
   "source": [
    "- Los valores de AUC y Accuracy"
   ]
  },
  {
   "cell_type": "code",
   "execution_count": null,
   "id": "ac9b9163",
   "metadata": {},
   "outputs": [],
   "source": [
    "accuracy_lda = accuracy_score(y_train_2004, y_test_pred_lda)\n",
    "print(\"La accuracy del modelo es: %.2f\" %accuracy_lda)"
   ]
  },
  {
   "cell_type": "markdown",
   "id": "eec02bda",
   "metadata": {},
   "source": [
    "KNN con k=3"
   ]
  },
  {
   "cell_type": "code",
   "execution_count": null,
   "id": "14b6b8a2",
   "metadata": {},
   "outputs": [],
   "source": [
    "knn = KNeighborsClassifier(n_neighbors=3)\n",
    "knn.fit(X_train_2004, y_train_2004)\n"
   ]
  },
  {
   "cell_type": "markdown",
   "id": "f379e2b9",
   "metadata": {},
   "source": [
    "- Matriz de confusión "
   ]
  },
  {
   "cell_type": "markdown",
   "id": "e6fc22dc",
   "metadata": {},
   "source": [
    "- Curva ROC"
   ]
  },
  {
   "cell_type": "markdown",
   "id": "cef898aa",
   "metadata": {},
   "source": [
    "- Los valores de AUC y Accuracy"
   ]
  },
  {
   "cell_type": "code",
   "execution_count": null,
   "id": "854d875d",
   "metadata": {},
   "outputs": [],
   "source": [
    "y_test_pred_knn = knn.predict(X_train_2004)\n",
    "accuracy_knn = accuracy_score(y_train_2004, y_test_pred_knn)\n",
    "print(\"La accuracy del modelo es: %.3f\" %accuracy_knn)   "
   ]
  },
  {
   "cell_type": "markdown",
   "id": "dbcc930c",
   "metadata": {},
   "source": [
    "NAIVE BAYES"
   ]
  },
  {
   "cell_type": "code",
   "execution_count": null,
   "id": "8bde067e",
   "metadata": {},
   "outputs": [],
   "source": [
    "from sklearn.naive_bayes import GaussianNB"
   ]
  },
  {
   "cell_type": "code",
   "execution_count": null,
   "id": "90d5ce54",
   "metadata": {},
   "outputs": [],
   "source": [
    "NB = GaussianNB() \n",
    "NB.fit(X_train_2004, y_train_2004)"
   ]
  },
  {
   "cell_type": "code",
   "execution_count": null,
   "id": "a0166227",
   "metadata": {},
   "outputs": [],
   "source": [
    "y_pred_nb= NB.predict(xtest) \n"
   ]
  },
  {
   "cell_type": "markdown",
   "id": "3c249acb",
   "metadata": {},
   "source": [
    "- Matriz de confusión "
   ]
  },
  {
   "cell_type": "code",
   "execution_count": null,
   "id": "523fa897",
   "metadata": {},
   "outputs": [],
   "source": [
    "# Matriz de resultados\n",
    "conf_mat4 = confusion_matrix(y_test, y_pred_nb)\n",
    "print(conf_mat4)  "
   ]
  },
  {
   "cell_type": "markdown",
   "id": "87e5f5b6",
   "metadata": {},
   "source": [
    "- Curva ROC"
   ]
  },
  {
   "cell_type": "markdown",
   "id": "49c1eb91",
   "metadata": {},
   "source": [
    "- Los valores de AUC y Accuracy"
   ]
  },
  {
   "cell_type": "code",
   "execution_count": null,
   "id": "19f1df90",
   "metadata": {},
   "outputs": [],
   "source": [
    "# AUC y ROC\n",
    "auc = roc_auc_score(ytest, y_pred_nb)\n",
    "print('AUC QDA: %.2f' % auc)\n",
    "fpr, tpr, thresholds = roc_curve(ytest, y_pred_nb)\n",
    "\n",
    "display = RocCurveDisplay(fpr=fpr, tpr=tpr, roc_auc=auc, estimator_name='Naive Bayes')\n",
    "display.plot()  \n",
    "plt.plot([0, 1], [0, 1], color='red', linestyle='--')\n",
    "plt.show() "
   ]
  },
  {
   "cell_type": "markdown",
   "id": "52fc5d92-5882-4d0e-9ad9-7f81240ae184",
   "metadata": {},
   "source": [
    "#### PUNTO 3\n",
    "Compare los resultados de 2004 versus 2024. ¿Cuál de los métodos predice mejor en cada año? Justifiquen detalladamente utilizando las medidas de precisión que conocen."
   ]
  },
  {
   "cell_type": "markdown",
   "id": "e7a9cec7-45b3-40fe-9b33-07e8908a7574",
   "metadata": {},
   "source": [
    "#### PUNTO 4\n",
    "Con el método que seleccionaron, predigan qué personas son desocupadas dentro de la base norespondieron. ¿Qué proporción de las personas que no respondieron pudieron identificar como desocupadas?"
   ]
  }
 ],
 "metadata": {
  "kernelspec": {
   "display_name": "Python 3 (ipykernel)",
   "language": "python",
   "name": "python3"
  },
  "language_info": {
   "codemirror_mode": {
    "name": "ipython",
    "version": 3
   },
   "file_extension": ".py",
   "mimetype": "text/x-python",
   "name": "python",
   "nbconvert_exporter": "python",
   "pygments_lexer": "ipython3",
   "version": "3.9.19"
  }
 },
 "nbformat": 4,
 "nbformat_minor": 5
}
