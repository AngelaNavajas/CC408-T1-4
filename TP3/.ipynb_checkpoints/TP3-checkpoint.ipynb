{
 "cells": [
  {
   "cell_type": "code",
   "execution_count": 320,
   "id": "fa902ca5-3ffb-4261-8029-012d0d98bde1",
   "metadata": {},
   "outputs": [],
   "source": [
    "# estamos"
   ]
  },
  {
   "cell_type": "markdown",
   "id": "fa8697d4",
   "metadata": {},
   "source": [
    "## PARTE I: ANALIZANDO LA BASE"
   ]
  },
  {
   "cell_type": "code",
   "execution_count": 1,
   "id": "41adacdf",
   "metadata": {
    "collapsed": true,
    "jupyter": {
     "outputs_hidden": true
    }
   },
   "outputs": [],
   "source": [
    "import pandas as pd\n",
    "import matplotlib.pyplot as plt\n",
    "from sklearn.linear_model import LinearRegression\n",
    "import seaborn as sns\n",
    "from sklearn.model_selection import train_test_split"
   ]
  },
  {
   "cell_type": "code",
   "execution_count": 2,
   "id": "b1edd07f-983e-4036-9841-7720910d475c",
   "metadata": {
    "collapsed": true,
    "jupyter": {
     "outputs_hidden": true
    }
   },
   "outputs": [],
   "source": [
    "#Bases Tizi\n",
    "base_04_sucia = pd.read_stata(r\"C:\\Users\\rolan\\OneDrive\\Tizi UdeSA\\8- Ciencia de datos\\Compu Casa\\CC408-T1-4\\TP3\\Individual_t104.dta\")\n",
    "base_24_sucia = pd.read_excel(r\"C:\\Users\\rolan\\OneDrive\\Tizi UdeSA\\8- Ciencia de datos\\Compu Casa\\CC408-T1-4\\TP3\\usu_individual_T124.xlsx\")"
   ]
  },
  {
   "cell_type": "code",
   "execution_count": 4,
   "id": "ac2492ac",
   "metadata": {
    "collapsed": true,
    "jupyter": {
     "outputs_hidden": true
    }
   },
   "outputs": [],
   "source": [
    "# Base Angie\n",
    "#base_04_sucia = pd.read_stata(r'/Users/angelanavajas/Desktop/Ciencia de datos/CC408-T1-4/TP3/Individual_t104.dta')\n",
    "#base_24_sucia = pd.read_excel(r'/Users/angelanavajas/Desktop/Ciencia de datos/CC408-T1-4/TP3/usu_individual_T124.xlsx')"
   ]
  },
  {
   "cell_type": "markdown",
   "id": "45a1a0bb-bcb4-4491-8985-cecada83f942",
   "metadata": {},
   "source": [
    "#### PUNTO A. \n",
    "Eliminen todas las observaciones que no corresponden a los aglomerados de Ciudad Autónoma de Buenos Aires o Gran Buenos Aires, y unan ambos trimestres en una sola base."
   ]
  },
  {
   "cell_type": "code",
   "execution_count": 140,
   "id": "50cb5e04",
   "metadata": {},
   "outputs": [],
   "source": [
    "# me quedo solo con los valores de CABA y GBA\n",
    "base_04_filtrada = base_04_sucia.loc[base_04_sucia['aglomerado'].isin(['Ciudad de Buenos Aires', 'Partidos del GBA'])]\n",
    "base_24_filtrada = base_24_sucia.loc[base_24_sucia['AGLOMERADO'].isin([32, 33])]"
   ]
  },
  {
   "cell_type": "code",
   "execution_count": 141,
   "id": "85bed69b",
   "metadata": {
    "collapsed": true,
    "jupyter": {
     "outputs_hidden": true
    }
   },
   "outputs": [
    {
     "name": "stdout",
     "output_type": "stream",
     "text": [
      "['CODUSU', 'nro_hogar', 'componente', 'h15', 'ano4', 'trimestre', 'region', 'mas_500', 'aglomerado', 'pondera', 'ch03', 'ch04', 'ch06', 'ch07', 'ch08', 'ch09', 'ch10', 'ch11', 'ch12', 'ch13', 'ch14', 'ch15', 'ch15_cod', 'ch16', 'ch16_cod', 'nivel_ed', 'estado', 'cat_ocup', 'cat_inac', 'pp02c1', 'pp02c2', 'pp02c3', 'pp02c4', 'pp02c5', 'pp02c6', 'pp02c7', 'pp02c8', 'pp02e', 'pp02h', 'pp02i', 'pp03c', 'pp03d', 'pp3e_tot', 'pp3f_tot', 'pp03g', 'pp03h', 'pp03i', 'pp03j', 'intensi', 'pp04a', 'pp04b_cod', 'pp04b1', 'pp04b2', 'pp04b3_mes', 'pp04b3_ano', 'pp04b3_dia', 'pp04c', 'pp04c99', 'pp04d_cod', 'pp04g', 'pp05b2_mes', 'pp05b2_ano', 'pp05b2_dia', 'pp05c_1', 'pp05c_2', 'pp05c_3', 'pp05e', 'pp05f', 'pp05h', 'pp06a', 'pp06c', 'pp06d', 'pp06e', 'pp06h', 'pp07a', 'pp07c', 'pp07d', 'pp07e', 'pp07f1', 'pp07f2', 'pp07f3', 'pp07f4', 'pp07f5', 'pp07g1', 'pp07g2', 'pp07g3', 'pp07g4', 'pp07g_59', 'pp07h', 'pp07i', 'pp07j', 'pp07k', 'pp08d1', 'pp08d4', 'pp08f1', 'pp08f2', 'pp08j1', 'pp08j2', 'pp08j3', 'pp09a', 'pp09a_esp', 'pp09b', 'pp09c', 'pp09c_esp', 'pp10a', 'pp10c', 'pp10d', 'pp10e', 'pp11a', 'pp11b_cod', 'pp11b1', 'pp11b2_mes', 'pp11b2_ano', 'pp11b2_dia', 'pp11c', 'pp11c99', 'pp11d_cod', 'pp11g_ano', 'pp11g_mes', 'pp11g_dia', 'pp11l', 'pp11l1', 'pp11m', 'pp11n', 'pp11o', 'pp11p', 'pp11q', 'pp11r', 'pp11s', 'pp11t', 'p21', 'decocur', 'idecocur', 'rdecocur', 'gdecocur', 'pdecocur', 'adecocur', 'tot_p12', 'p47t', 'decindr', 'idecindr', 'rdecindr', 'gdecindr', 'pdecindr', 'adecindr', 'v2_m', 'v3_m', 'v4_m', 'v5_m', 'v8_m', 'v9_m', 'v10_m', 'v11_m', 'v12_m', 'v18_m', 'v19_am', 'v21_m', 't_vi', 'itf', 'decifr', 'idecifr', 'rdecifr', 'gdecifr', 'pdecifr', 'adecifr', 'ipcf', 'deccfr', 'ideccfr', 'rdeccfr', 'gdeccfr', 'pdeccfr', 'adeccfr', 'pj1_1', 'pj2_1', 'pj3_1', 'idimpp']\n",
      "['CODUSU', 'ANO4', 'TRIMESTRE', 'NRO_HOGAR', 'COMPONENTE', 'H15', 'REGION', 'MAS_500', 'AGLOMERADO', 'PONDERA', 'CH03', 'CH04', 'CH05', 'CH06', 'CH07', 'CH08', 'CH09', 'CH10', 'CH11', 'CH12', 'CH13', 'CH14', 'CH15', 'CH15_COD', 'CH16', 'CH16_COD', 'NIVEL_ED', 'ESTADO', 'CAT_OCUP', 'CAT_INAC', 'IMPUTA', 'PP02C1', 'PP02C2', 'PP02C3', 'PP02C4', 'PP02C5', 'PP02C6', 'PP02C7', 'PP02C8', 'PP02E', 'PP02H', 'PP02I', 'PP03C', 'PP03D', 'PP3E_TOT', 'PP3F_TOT', 'PP03G', 'PP03H', 'PP03I', 'PP03J', 'INTENSI', 'PP04A', 'PP04B_COD', 'PP04B1', 'PP04B2', 'PP04B3_MES', 'PP04B3_ANO', 'PP04B3_DIA', 'PP04C', 'PP04C99', 'PP04D_COD', 'PP04G', 'PP05B2_MES', 'PP05B2_ANO', 'PP05B2_DIA', 'PP05C_1', 'PP05C_2', 'PP05C_3', 'PP05E', 'PP05F', 'PP05H', 'PP06A', 'PP06C', 'PP06D', 'PP06E', 'PP06H', 'PP07A', 'PP07C', 'PP07D', 'PP07E', 'PP07F1', 'PP07F2', 'PP07F3', 'PP07F4', 'PP07F5', 'PP07G1', 'PP07G2', 'PP07G3', 'PP07G4', 'PP07G_59', 'PP07H', 'PP07I', 'PP07J', 'PP07K', 'PP08D1', 'PP08D4', 'PP08F1', 'PP08F2', 'PP08J1', 'PP08J2', 'PP08J3', 'PP09A', 'PP09A_ESP', 'PP09B', 'PP09C', 'PP09C_ESP', 'PP10A', 'PP10C', 'PP10D', 'PP10E', 'PP11A', 'PP11B_COD', 'PP11B1', 'PP11B2_MES', 'PP11B2_ANO', 'PP11B2_DIA', 'PP11C', 'PP11C99', 'PP11D_COD', 'PP11G_ANO', 'PP11G_MES', 'PP11G_DIA', 'PP11L', 'PP11L1', 'PP11M', 'PP11N', 'PP11O', 'PP11P', 'PP11Q', 'PP11R', 'PP11S', 'PP11T', 'P21', 'DECOCUR', 'IDECOCUR', 'RDECOCUR', 'GDECOCUR', 'PDECOCUR', 'ADECOCUR', 'PONDIIO', 'TOT_P12', 'P47T', 'DECINDR', 'IDECINDR', 'RDECINDR', 'GDECINDR', 'PDECINDR', 'ADECINDR', 'PONDII', 'V2_M', 'V3_M', 'V4_M', 'V5_M', 'V8_M', 'V9_M', 'V10_M', 'V11_M', 'V12_M', 'V18_M', 'V19_AM', 'V21_M', 'T_VI', 'ITF', 'DECIFR', 'IDECIFR', 'RDECIFR', 'GDECIFR', 'PDECIFR', 'ADECIFR', 'IPCF', 'DECCFR', 'IDECCFR', 'RDECCFR', 'GDECCFR', 'PDECCFR', 'ADECCFR', 'PONDIH']\n",
      "['codusu', 'ano4', 'trimestre', 'nro_hogar', 'componente', 'h15', 'region', 'mas_500', 'aglomerado', 'pondera', 'ch03', 'ch04', 'ch05', 'ch06', 'ch07', 'ch08', 'ch09', 'ch10', 'ch11', 'ch12', 'ch13', 'ch14', 'ch15', 'ch15_cod', 'ch16', 'ch16_cod', 'nivel_ed', 'estado', 'cat_ocup', 'cat_inac', 'imputa', 'pp02c1', 'pp02c2', 'pp02c3', 'pp02c4', 'pp02c5', 'pp02c6', 'pp02c7', 'pp02c8', 'pp02e', 'pp02h', 'pp02i', 'pp03c', 'pp03d', 'pp3e_tot', 'pp3f_tot', 'pp03g', 'pp03h', 'pp03i', 'pp03j', 'intensi', 'pp04a', 'pp04b_cod', 'pp04b1', 'pp04b2', 'pp04b3_mes', 'pp04b3_ano', 'pp04b3_dia', 'pp04c', 'pp04c99', 'pp04d_cod', 'pp04g', 'pp05b2_mes', 'pp05b2_ano', 'pp05b2_dia', 'pp05c_1', 'pp05c_2', 'pp05c_3', 'pp05e', 'pp05f', 'pp05h', 'pp06a', 'pp06c', 'pp06d', 'pp06e', 'pp06h', 'pp07a', 'pp07c', 'pp07d', 'pp07e', 'pp07f1', 'pp07f2', 'pp07f3', 'pp07f4', 'pp07f5', 'pp07g1', 'pp07g2', 'pp07g3', 'pp07g4', 'pp07g_59', 'pp07h', 'pp07i', 'pp07j', 'pp07k', 'pp08d1', 'pp08d4', 'pp08f1', 'pp08f2', 'pp08j1', 'pp08j2', 'pp08j3', 'pp09a', 'pp09a_esp', 'pp09b', 'pp09c', 'pp09c_esp', 'pp10a', 'pp10c', 'pp10d', 'pp10e', 'pp11a', 'pp11b_cod', 'pp11b1', 'pp11b2_mes', 'pp11b2_ano', 'pp11b2_dia', 'pp11c', 'pp11c99', 'pp11d_cod', 'pp11g_ano', 'pp11g_mes', 'pp11g_dia', 'pp11l', 'pp11l1', 'pp11m', 'pp11n', 'pp11o', 'pp11p', 'pp11q', 'pp11r', 'pp11s', 'pp11t', 'p21', 'decocur', 'idecocur', 'rdecocur', 'gdecocur', 'pdecocur', 'adecocur', 'pondiio', 'tot_p12', 'p47t', 'decindr', 'idecindr', 'rdecindr', 'gdecindr', 'pdecindr', 'adecindr', 'pondii', 'v2_m', 'v3_m', 'v4_m', 'v5_m', 'v8_m', 'v9_m', 'v10_m', 'v11_m', 'v12_m', 'v18_m', 'v19_am', 'v21_m', 't_vi', 'itf', 'decifr', 'idecifr', 'rdecifr', 'gdecifr', 'pdecifr', 'adecifr', 'ipcf', 'deccfr', 'ideccfr', 'rdeccfr', 'gdeccfr', 'pdeccfr', 'adeccfr', 'pondih']\n"
     ]
    }
   ],
   "source": [
    "# Obtener los nombres de las variables\n",
    "nombres_variables04 = base_04_sucia.columns.tolist()\n",
    "print(nombres_variables04)\n",
    "\n",
    "# Obtener los nombres de las variables\n",
    "nombres_variables24 = base_24_filtrada.columns.tolist()\n",
    "print(nombres_variables24)\n",
    "\n",
    "#Para poder unir sin problema, me aseguro que als variables esten en el mismo formato\n",
    "base_04_filtrada.columns = base_04_filtrada.columns.str.lower()\n",
    "base_24_filtrada.columns = base_24_filtrada.columns.str.lower()\n",
    "\n",
    "# veo si cambio\n",
    "nombres_variables24 = base_24_filtrada.columns.tolist()\n",
    "print(nombres_variables24)"
   ]
  },
  {
   "cell_type": "code",
   "execution_count": 142,
   "id": "be4c2386",
   "metadata": {
    "collapsed": true,
    "jupyter": {
     "outputs_hidden": true
    }
   },
   "outputs": [
    {
     "name": "stdout",
     "output_type": "stream",
     "text": [
      "                             codusu    ano4       trimestre  nro_hogar  \\\n",
      "245   TQRMNOSUWHLKMUCDEIJAH00855260  2024.0               1        1.0   \n",
      "246   TQRMNOSUWHLKMUCDEIJAH00855260  2024.0               1        1.0   \n",
      "247   TQRMNOSUWHLKMUCDEIJAH00855260  2024.0               1        1.0   \n",
      "255   TQSMNORWVHLLKQCDEIJAH00856914  2024.0               1        1.0   \n",
      "256   TQRMNOPQQHLOLRCDEIJAH00855133  2024.0               1        1.0   \n",
      "...                             ...     ...             ...        ...   \n",
      "7642                       288171    2004.0  1er. Trimestre        1.0   \n",
      "7643                       288405    2004.0  1er. Trimestre        1.0   \n",
      "7644                       288405    2004.0  1er. Trimestre        1.0   \n",
      "7645                       288405    2004.0  1er. Trimestre        1.0   \n",
      "7646                       288405    2004.0  1er. Trimestre        1.0   \n",
      "\n",
      "     componente  h15             region mas_500        aglomerado  pondera  \\\n",
      "245           1    1                  1       S                33   1810.0   \n",
      "246           2    1                  1       S                33   1810.0   \n",
      "247           3    1                  1       S                33   1810.0   \n",
      "255           1    1                  1       S                33   2368.0   \n",
      "256           1    1                  1       S                33   1223.0   \n",
      "...         ...  ...                ...     ...               ...      ...   \n",
      "7642        3.0  0.0  Gran Buenos Aires       S  Partidos del GBA   1454.0   \n",
      "7643        1.0   Sí  Gran Buenos Aires       S  Partidos del GBA   1673.0   \n",
      "7644        2.0   Sí  Gran Buenos Aires       S  Partidos del GBA   1673.0   \n",
      "7645        3.0   Sí  Gran Buenos Aires       S  Partidos del GBA   1673.0   \n",
      "7646        4.0   Sí  Gran Buenos Aires       S  Partidos del GBA   1673.0   \n",
      "\n",
      "      ... ideccfr rdeccfr gdeccfr pdeccfr adeccfr  pondih pj1_1 pj2_1 pj3_1  \\\n",
      "245   ...     NaN      12    12.0     NaN      12     0.0   NaN   NaN   NaN   \n",
      "246   ...     NaN      12    12.0     NaN      12     0.0   NaN   NaN   NaN   \n",
      "247   ...     NaN      12    12.0     NaN      12     0.0   NaN   NaN   NaN   \n",
      "255   ...     NaN       9     9.0     NaN       9  3324.0   NaN   NaN   NaN   \n",
      "256   ...     NaN      12    12.0     NaN      12     0.0   NaN   NaN   NaN   \n",
      "...   ...     ...     ...     ...     ...     ...     ...   ...   ...   ...   \n",
      "7642  ...              08      08              09     NaN   0.0   0.0   0.0   \n",
      "7643  ...              02      02              02     NaN   0.0   0.0   0.0   \n",
      "7644  ...              02      02              02     NaN   0.0   0.0   0.0   \n",
      "7645  ...              02      02              02     NaN   0.0   0.0   0.0   \n",
      "7646  ...              02      02              02     NaN   0.0   0.0   0.0   \n",
      "\n",
      "     idimpp  \n",
      "245     NaN  \n",
      "246     NaN  \n",
      "247     NaN  \n",
      "255     NaN  \n",
      "256     NaN  \n",
      "...     ...  \n",
      "7642  00000  \n",
      "7643  00000  \n",
      "7644  00000  \n",
      "7645  00000  \n",
      "7646  00000  \n",
      "\n",
      "[14698 rows x 181 columns]\n"
     ]
    }
   ],
   "source": [
    "# concateno las bases\n",
    "base_prelimpieza = pd.concat([base_24_filtrada, base_04_filtrada])\n",
    "print(base_prelimpieza)"
   ]
  },
  {
   "cell_type": "markdown",
   "id": "6975245f",
   "metadata": {},
   "source": [
    "Las variables que vamos a usar son:\n",
    "- CH04: Sexo\n",
    "- CH06: Años\n",
    "- CH07: Estado civil \n",
    "- CH08: Estado cobertura médica\n",
    "- NIVEL_ED: Nivel educativo \n",
    "- ESTADO: Condicion de actividad\n",
    "- CAT_INAC: Categoria de inactividad\n",
    "- IPCF: Monto de ingreso per cápita familiar percibido en el mes de referencia"
   ]
  },
  {
   "cell_type": "code",
   "execution_count": 159,
   "id": "a66dd092-82c1-4500-8fbe-ad101a8ac05b",
   "metadata": {
    "collapsed": true,
    "jupyter": {
     "outputs_hidden": true
    }
   },
   "outputs": [
    {
     "name": "stdout",
     "output_type": "stream",
     "text": [
      "\n",
      " La cantidad de datos en la variable ch04 por valor de etiqueta \n",
      " ch04\n",
      "1    6973\n",
      "2    7725\n",
      "dtype: int64\n",
      "\n",
      " La cantidad de datos en la variable ch06 por valor de etiqueta \n",
      " ch06\n",
      "0     182\n",
      "1     180\n",
      "2     198\n",
      "3     191\n",
      "4     199\n",
      "     ... \n",
      "94      4\n",
      "95      2\n",
      "96      4\n",
      "97      1\n",
      "98      4\n",
      "Length: 99, dtype: int64\n",
      "\n",
      " La cantidad de datos en la variable ch07 por valor de etiqueta \n",
      " ch07\n",
      "1    2118\n",
      "2    3879\n",
      "3     797\n",
      "4     829\n",
      "5    7062\n",
      "9      13\n",
      "dtype: int64\n",
      "\n",
      " La cantidad de datos en la variable ch08 por valor de etiqueta \n",
      " ch08\n",
      "1                                                               7876\n",
      "2                                                                566\n",
      "3                                                                 49\n",
      "4                                                               5321\n",
      "9                                                                 36\n",
      "12                                                               232\n",
      "13                                                                 3\n",
      "23                                                               611\n",
      "Mutual/prepaga/servicio de emergencia/planes y seguros públi       4\n",
      "dtype: int64\n",
      "\n",
      " La cantidad de datos en la variable nivel_ed por valor de etiqueta \n",
      " nivel_ed\n",
      "1    2273\n",
      "2    2374\n",
      "3    2790\n",
      "4    2696\n",
      "5    1583\n",
      "6    1755\n",
      "7    1227\n",
      "dtype: int64\n",
      "\n",
      " La cantidad de datos en la variable estado por valor de etiqueta \n",
      " estado\n",
      "0      51\n",
      "1    6303\n",
      "2     839\n",
      "3    5462\n",
      "4    2043\n",
      "dtype: int64\n",
      "\n",
      " La cantidad de datos en la variable cat_inac por valor de etiqueta \n",
      " cat_inac\n",
      "0    7193\n",
      "1    1385\n",
      "2      32\n",
      "3    3034\n",
      "4    1469\n",
      "5    1165\n",
      "6     100\n",
      "7     320\n",
      "dtype: int64\n"
     ]
    }
   ],
   "source": [
    "# como hay datos que tienen distintas etiquetas en las dos bases que concatenamos, tenemos que unificar renombrar las etiquetas de una de las bases asi se pueden tener todos los datos con el mismo valor\n",
    "\n",
    "############ FALTA EL VALOR DE UNA ETIQUETA DE LA COLUMNA CH08 PARA REEMPLAZARLO\n",
    "\n",
    "variables_interes = base_prelimpieza[[\"ch04\", \"ch06\", \"ch07\", \"ch08\", \"nivel_ed\", \"estado\", \"cat_inac\"]]\n",
    "\n",
    "for i in variables_interes:\n",
    "    if i == \"ch04\": \n",
    "        base_prelimpieza['ch04'] = base_prelimpieza['ch04'].replace({\n",
    "            'Mujer': 2,\n",
    "            'Varón': 1})\n",
    "    elif i == \"ch06\":\n",
    "        base_prelimpieza['ch06'] = base_prelimpieza['ch06'].replace({\n",
    "            '98 y más años' : 98, \n",
    "            'Menos de 1 año' : 0,\n",
    "            -1 : 0})\n",
    "        # cambio el formato de los valores de esta columna porque la mitad estaba en float y la mitas en int\n",
    "        base_prelimpieza['ch06'] = base_prelimpieza['ch06'].astype(int)\n",
    "    elif i == \"ch07\":\n",
    "        base_prelimpieza['ch07'] = base_prelimpieza['ch07'].replace({\n",
    "            'Unido': 1, \n",
    "            'Casado': 2, \n",
    "            'Separado o divorciado': 3, \n",
    "            'Viudo': 4, \n",
    "            'Soltero': 5})\n",
    "    elif i == \"ch08\":\n",
    "        base_prelimpieza['ch08'] = base_prelimpieza['ch08'].replace({\n",
    "            'Obra social (incluye PAMI)': 1,  \n",
    "            'Mutual/Prepaga/Servicio de emergencia': 2,  \n",
    "            'Planes y seguros públicos': 3,  \n",
    "            'No paga ni le descuentan': 4,  \n",
    "            'Ns./Nr.': 9,  \n",
    "            'Obra social y mutual/prepaga/servicio de emergencia': 12,  \n",
    "            'Obra social y planes y seguros públicos': 13,  \n",
    "            'Mutual/Prepaga/Servicio de emergencia': 23,\n",
    "            'Obra Social': 123\n",
    "        # FALTA EL CODIGO DE \"Mutual/prepaga/servicio de emergencia/planes y seguros públi\" :\n",
    "        })\n",
    "    elif i == \"nivel_ed\":\n",
    "        base_prelimpieza['nivel_ed'] = base_prelimpieza['nivel_ed'].replace({\n",
    "            'Primaria Incompleta (incluye educación especial)': 1,  \n",
    "            'Primaria Completa': 2,  \n",
    "            'Secundaria Incompleta': 3,  \n",
    "            'Secundaria Completa': 4,  \n",
    "            'Superior Universitaria Incompleta': 5,  \n",
    "            'Superior Universitaria Completa': 6, \n",
    "            'Sin instrucción': 7,  \n",
    "            'Ns./Nr.': 9})\n",
    "    elif i == \"estado\":\n",
    "        base_prelimpieza['estado'] = base_prelimpieza['estado'].replace({\n",
    "            'Ocupado': 1,  \n",
    "            'Desocupado': 2,  \n",
    "            'Inactivo': 3,  \n",
    "            'Menor de 10 años': 4,  \n",
    "            'Entrevista individual no realizada (no respuesta al cuestion': 0})\n",
    "    elif i == \"cat_inac\":\n",
    "        base_prelimpieza['cat_inac'] = base_prelimpieza['cat_inac'].replace({\n",
    "            0.0 : 0,\n",
    "            'Jubilado/pensionado': 1,  \n",
    "            'Rentista': 2,  \n",
    "            'Estudiante': 3,  \n",
    "            'Ama de casa': 4,  \n",
    "            'Menor de 6 años': 5,  \n",
    "            'Discapacitado': 6,  \n",
    "            'Otros': 7})\n",
    "    conteo = base_prelimpieza.groupby(i).size()\n",
    "    print(\"\\n\", \"La cantidad de datos en la variable\", i, \"por valor de etiqueta\", \"\\n\", conteo)"
   ]
  },
  {
   "cell_type": "code",
   "execution_count": 147,
   "id": "bc884a47-9a5b-4166-9cab-80604e790024",
   "metadata": {
    "collapsed": true,
    "jupyter": {
     "outputs_hidden": true
    }
   },
   "outputs": [
    {
     "name": "stdout",
     "output_type": "stream",
     "text": [
      "      ch04  ch06  ch07 ch08  nivel_ed estado  cat_inac\n",
      "245      2    85     4    1         2      1         0\n",
      "246      1    59     2    1         6      1         0\n",
      "247      2    57     2    1         6      1         0\n",
      "255      1    26     5    1         6      1         0\n",
      "256      2    88     4    1         1      3         1\n",
      "...    ...   ...   ...  ...       ...    ...       ...\n",
      "7642     2     1     5   23         7      4         5\n",
      "7643     1    51     2    1         2      1         0\n",
      "7644     2    55     2    1         2      1         0\n",
      "7645     2    12     5    1         1      3         3\n",
      "7646     1    22     5    1         4      1         0\n",
      "\n",
      "[14698 rows x 7 columns]\n"
     ]
    }
   ],
   "source": [
    "#sneak peek de como queda la base toda con datos numericos\n",
    "print(base_prelimpieza[[\"ch04\", \"ch06\", \"ch07\", \"ch08\", \"nivel_ed\", \"estado\", \"cat_inac\"]])"
   ]
  },
  {
   "cell_type": "markdown",
   "id": "9990f342-624d-4a6a-a0a5-61cc82558178",
   "metadata": {},
   "source": [
    "#### PUNTO B \n",
    "Si hay observaciones con valores que no tienen sentido,\n",
    "descártenlas (por ejemplo, ingresos y edades negativos). Expliquen\n",
    "las decisiones tomadas."
   ]
  },
  {
   "cell_type": "code",
   "execution_count": 346,
   "id": "a6234b68",
   "metadata": {
    "collapsed": true,
    "jupyter": {
     "outputs_hidden": true
    }
   },
   "outputs": [],
   "source": [
    "base_prelimpieza['ch06'] = pd.to_numeric(base_prelimpieza['ch06'], errors='coerce')\n",
    "#Saco las edades negativas\n",
    "base_prelimpieza1 = base_prelimpieza[base_prelimpieza['ch06'] >= 0]"
   ]
  },
  {
   "cell_type": "code",
   "execution_count": 347,
   "id": "5b8e9c93",
   "metadata": {
    "collapsed": true,
    "jupyter": {
     "outputs_hidden": true
    }
   },
   "outputs": [
    {
     "name": "stdout",
     "output_type": "stream",
     "text": [
      "Cantidad de valores negativos en \"ipcf\": 0\n",
      "No se encontraron valores negativos en \"ipcf\".\n"
     ]
    }
   ],
   "source": [
    "valores_negativos = base_prelimpieza1[base_prelimpieza1['ipcf'] < 0]\n",
    "cantidad_negativos = len(valores_negativos)\n",
    "# Mostrar resultados\n",
    "print(f'Cantidad de valores negativos en \"ipcf\": {cantidad_negativos}')\n",
    "if cantidad_negativos > 0:\n",
    "    print('Valores negativos encontrados:')\n",
    "    print(valores_negativos['ipcf'])\n",
    "else:\n",
    "    print('No se encontraron valores negativos en \"ipcf\".')"
   ]
  },
  {
   "cell_type": "code",
   "execution_count": 360,
   "id": "51005b46",
   "metadata": {
    "collapsed": true,
    "jupyter": {
     "outputs_hidden": true
    }
   },
   "outputs": [
    {
     "name": "stdout",
     "output_type": "stream",
     "text": [
      "count: 14698\n",
      "mean: 76978.86\n",
      "std: 278296.61\n",
      "min: 0.00\n",
      "max: 11312333.33\n"
     ]
    }
   ],
   "source": [
    "# Calcular cada estadística por separado\n",
    "count_ipcf = base_prelimpieza['ipcf'].count()\n",
    "mean_ipcf = base_prelimpieza['ipcf'].mean()\n",
    "std_ipcf = base_prelimpieza['ipcf'].std()\n",
    "min_ipcf = base_prelimpieza['ipcf'].min()\n",
    "max_ipcf = base_prelimpieza['ipcf'].max()\n",
    "\n",
    "# Mostrar las estadísticas\n",
    "print(f\"count: {count_ipcf}\")\n",
    "print(f\"mean: {mean_ipcf:.2f}\")\n",
    "print(f\"std: {std_ipcf:.2f}\")\n",
    "print(f\"min: {min_ipcf:.2f}\")\n",
    "print(f\"max: {max_ipcf:.2f}\")"
   ]
  },
  {
   "cell_type": "code",
   "execution_count": null,
   "id": "18e89ee6",
   "metadata": {
    "collapsed": true,
    "jupyter": {
     "outputs_hidden": true
    }
   },
   "outputs": [],
   "source": []
  },
  {
   "cell_type": "code",
   "execution_count": 351,
   "id": "beaae2cf",
   "metadata": {
    "collapsed": true,
    "jupyter": {
     "outputs_hidden": true
    }
   },
   "outputs": [
    {
     "name": "stdout",
     "output_type": "stream",
     "text": [
      "      h15   ch04  ch06 ch07 ch08 nivel_ed estado cat_inac  ipcf\n",
      "399     2  mujer  49.0    2    4        2      0        0   0.0\n",
      "400     2  mujer  25.0    5    4        6      0        0   0.0\n",
      "401     2  varón  20.0    5    4        5      0        0   0.0\n",
      "409     2  varón  74.0    5    2        5      0        0   0.0\n",
      "410     2  varón  21.0    9    9        5      0        0   0.0\n",
      "411     2  varón  21.0    9    9        5      0        0   0.0\n",
      "5564    2  varón  77.0    1    1        3      0        0   0.0\n",
      "15241   2  varón  45.0    1    4        4      0        0   0.0\n",
      "17096   2  varón  45.0    2    2        6      0        0   0.0\n",
      "19483   2  varón  15.0    9    9        3      0        0   0.0\n",
      "19484   2  varón  53.0    9    9        2      0        0   0.0\n",
      "19485   2  varón  15.0    9    9        3      0        0   0.0\n",
      "19486   2  varón  15.0    9    9        3      0        0   0.0\n",
      "19597   2  mujer  38.0    9    9        4      0        0   0.0\n",
      "19598   2  varón  40.0    9    9        4      0        0   0.0\n",
      "26078   2  varón  16.0    5    1        3      0        0   0.0\n",
      "26079   2  varón  16.0    5    1        3      0        0   0.0\n",
      "26204   2  varón  68.0    2    1        6      0        0   0.0\n",
      "26205   2  mujer  66.0    2    1        6      0        0   0.0\n",
      "26206   2  varón  24.0    5    1        6      0        0   0.0\n",
      "26395   2  mujer  45.0    9    9        2      0        0   0.0\n",
      "26398   2  varón  33.0    9    9        2      0        0   0.0\n",
      "26399   2  varón  26.0    9    9        4      0        0   0.0\n",
      "26400   2  varón  26.0    9    9        3      0        0   0.0\n",
      "27317   2  mujer  28.0    5    1        6      0        0   0.0\n",
      "30607   2  varón  20.0    5    4        1      0        0   0.0\n",
      "31470   2  varón  36.0    5    9        4      0        0   0.0\n",
      "34212   2  mujer  22.0    5    1        5      0        0   0.0\n",
      "35434   2  mujer  69.0    1    2        4      0        0   0.0\n",
      "40946   2  varón  63.0    2    1        3      0        0   0.0\n",
      "40947   2  mujer  59.0    2    1        4      0        0   0.0\n",
      "41593   2  varón  27.0    5    4        4      0        0   0.0\n",
      "41594   2  varón  27.0    5    4        4      0        0   0.0\n",
      "43006   2  varón  28.0    1    4        2      0        0   0.0\n",
      "43007   2  mujer  25.0    1    4        2      0        0   0.0\n",
      "44940   2  varón  34.0    9    4        5      0        0   0.0\n",
      "45571   2  mujer  29.0    1    4        3      0        0   0.0\n",
      "46046   2  varón  21.0    5    1        3      0        0   0.0\n",
      "46047   2  varón  20.0    5    1        3      0        0   0.0\n",
      "46048   2  varón  11.0    5    1        3      0        0   0.0\n",
      "46049   2  mujer  24.0    5    1        5      0        0   0.0\n"
     ]
    }
   ],
   "source": [
    "# Dice que no se hizo la entrevista (h15 == 2)\n",
    "h15_no = base_prelimpieza[base_prelimpieza['h15'] == 2]\n",
    "respuestas = h15_no[['h15','ch04', 'ch06', 'ch07', 'ch08', 'nivel_ed', 'estado', 'cat_inac', 'ipcf']]\n",
    "print(respuestas)"
   ]
  },
  {
   "cell_type": "code",
   "execution_count": 395,
   "id": "db3eccb3",
   "metadata": {
    "collapsed": true,
    "jupyter": {
     "outputs_hidden": true
    }
   },
   "outputs": [
    {
     "data": {
      "image/png": "[encoded data removed]",
      "text/plain": [
       "<Figure size 640x480 with 1 Axes>"
      ]
     },
     "metadata": {},
     "output_type": "display_data"
    }
   ],
   "source": [
    "# Contar la cantidad de hombres y mujeres por año\n",
    "composicion = base_prelimpieza.groupby(['ano4', 'ch04']).size().unstack(fill_value=0)\n",
    "composicion.plot(kind='bar', color=['pink', 'lightblue'])\n",
    "\n",
    "# Gráfico\n",
    "plt.title('Composición por Género en 2004 y 2024')\n",
    "plt.xlabel('Año')\n",
    "plt.ylabel('Cantidad')\n",
    "plt.xticks(rotation=0)  # Para tener las etiquetas en horizontal\n",
    "plt.legend(title='Género')\n",
    "plt.tight_layout()  # Ajustar el layout\n",
    "plt.show()\n",
    "\n",
    "#AGREGAR ETIQUETA QUE PONGA QUE 2 ES MUJER"
   ]
  },
  {
   "cell_type": "code",
   "execution_count": 396,
   "id": "cf00fa76",
   "metadata": {
    "collapsed": true,
    "jupyter": {
     "outputs_hidden": true
    }
   },
   "outputs": [],
   "source": [
    "#Matriz de correlacion\n",
    "# Step 1 - Make a scatter plot with square markers, set column names as labels\n",
    "\n",
    "def heatmap(x, y, size):\n",
    "    fig, ax = plt.subplots()\n",
    "    \n",
    "    # Mapping from column names to integer coordinates\n",
    "    x_labels = [v for v in sorted(x.unique())]\n",
    "    y_labels = [v for v in sorted(y.unique())]\n",
    "    x_to_num = {p[1]:p[0] for p in enumerate(x_labels)} \n",
    "    y_to_num = {p[1]:p[0] for p in enumerate(y_labels)} \n",
    "    \n",
    "    size_scale = 500\n",
    "    ax.scatter(\n",
    "        x=x.map(x_to_num), # Use mapping for x\n",
    "        y=y.map(y_to_num), # Use mapping for y\n",
    "        s=size * size_scale, # Vector of square sizes, proportional to size parameter\n",
    "        marker='s' # Use square as scatterplot marker\n",
    "    )\n",
    "    \n",
    "    # Show column labels on the axes\n",
    "    ax.set_xticks([x_to_num[v] for v in x_labels])\n",
    "    ax.set_xticklabels(x_labels, rotation=45, horizontalalignment='right')\n",
    "    ax.set_yticks([y_to_num[v] for v in y_labels])\n",
    "    ax.set_yticklabels(y_labels)"
   ]
  },
  {
   "cell_type": "code",
   "execution_count": 399,
   "id": "ab845066",
   "metadata": {
    "collapsed": true,
    "jupyter": {
     "outputs_hidden": true
    }
   },
   "outputs": [
    {
     "name": "stdout",
     "output_type": "stream",
     "text": [
      "     ch04  ch06 ch07 ch08 nivel_ed estado cat_inac           ipcf\n",
      "245     2    85    4    1        2      1        0       0.000000\n",
      "246     1    59    2    1        6      1        0       0.000000\n",
      "247     2    57    2    1        6      1        0       0.000000\n",
      "255     1    26    5    1        6      1        0  500000.000000\n",
      "256     2    88    4    1        1      3        1       0.000000\n",
      "...   ...   ...  ...  ...      ...    ...      ...            ...\n",
      "7642    2   1.0    5    2        7      4        5     533.333333\n",
      "7643    1  51.0    2    1        2      1      0.0     100.000000\n",
      "7644    2  55.0    2    1        2      1      0.0     100.000000\n",
      "7645    2  12.0    5    1        1      3        3     100.000000\n",
      "7646    1  22.0    5    1        4      1      0.0     100.000000\n",
      "\n",
      "[14698 rows x 8 columns]\n"
     ]
    }
   ],
   "source": [
    "variable_matriz = ['ch04', 'ch06', 'ch07', 'ch08', 'nivel_ed', 'estado', 'cat_inac', 'ipcf']\n",
    "base_variables = base_prelimpieza[variable_matriz]\n",
    "\n",
    "# Mostrar la nueva base de datos\n",
    "print(base_variables)"
   ]
  },
  {
   "cell_type": "code",
   "execution_count": 404,
   "id": "d71973b9",
   "metadata": {
    "collapsed": true,
    "jupyter": {
     "outputs_hidden": true
    }
   },
   "outputs": [
    {
     "name": "stdout",
     "output_type": "stream",
     "text": [
      "Index(['ch04', 'ch06', 'ch07', 'ch08', 'nivel_ed', 'estado', 'cat_inac'], dtype='object')\n"
     ]
    }
   ],
   "source": [
    "# Filtra las columnas no numéricas\n",
    "non_numeric_cols = base_variables.select_dtypes(include=['object']).columns\n",
    "print(non_numeric_cols)"
   ]
  },
  {
   "cell_type": "code",
   "execution_count": 403,
   "id": "f79494ef",
   "metadata": {
    "collapsed": true,
    "jupyter": {
     "outputs_hidden": true
    }
   },
   "outputs": [
    {
     "ename": "ValueError",
     "evalue": "could not convert string to float: 'Menos de 1 año'",
     "output_type": "error",
     "traceback": [
      "\u001b[0;31m---------------------------------------------------------------------------\u001b[0m",
      "\u001b[0;31mValueError\u001b[0m                                Traceback (most recent call last)",
      "Cell \u001b[0;32mIn[403], line 1\u001b[0m\n\u001b[0;32m----> 1\u001b[0m matriz \u001b[38;5;241m=\u001b[39m \u001b[43mbase_variables\u001b[49m\u001b[43m[\u001b[49m\u001b[43mvariable_matriz\u001b[49m\u001b[43m]\u001b[49m\u001b[38;5;241;43m.\u001b[39;49m\u001b[43mcorr\u001b[49m\u001b[43m(\u001b[49m\u001b[43m)\u001b[49m\n\u001b[1;32m      2\u001b[0m matriz \u001b[38;5;241m=\u001b[39m pd\u001b[38;5;241m.\u001b[39mmelt(matriz\u001b[38;5;241m.\u001b[39mreset_index(), id_vars\u001b[38;5;241m=\u001b[39m\u001b[38;5;124m'\u001b[39m\u001b[38;5;124mindex\u001b[39m\u001b[38;5;124m'\u001b[39m) \u001b[38;5;66;03m# Unpivot the dataframe, so we can get pair of arrays for x and y\u001b[39;00m\n\u001b[1;32m      3\u001b[0m matriz\u001b[38;5;241m.\u001b[39mcolumns \u001b[38;5;241m=\u001b[39m [\u001b[38;5;124m'\u001b[39m\u001b[38;5;124mx\u001b[39m\u001b[38;5;124m'\u001b[39m, \u001b[38;5;124m'\u001b[39m\u001b[38;5;124my\u001b[39m\u001b[38;5;124m'\u001b[39m, \u001b[38;5;124m'\u001b[39m\u001b[38;5;124mvalue\u001b[39m\u001b[38;5;124m'\u001b[39m]\n",
      "File \u001b[0;32m/opt/anaconda3/envs/datos/lib/python3.9/site-packages/pandas/core/frame.py:11049\u001b[0m, in \u001b[0;36mDataFrame.corr\u001b[0;34m(self, method, min_periods, numeric_only)\u001b[0m\n\u001b[1;32m  11047\u001b[0m cols \u001b[38;5;241m=\u001b[39m data\u001b[38;5;241m.\u001b[39mcolumns\n\u001b[1;32m  11048\u001b[0m idx \u001b[38;5;241m=\u001b[39m cols\u001b[38;5;241m.\u001b[39mcopy()\n\u001b[0;32m> 11049\u001b[0m mat \u001b[38;5;241m=\u001b[39m \u001b[43mdata\u001b[49m\u001b[38;5;241;43m.\u001b[39;49m\u001b[43mto_numpy\u001b[49m\u001b[43m(\u001b[49m\u001b[43mdtype\u001b[49m\u001b[38;5;241;43m=\u001b[39;49m\u001b[38;5;28;43mfloat\u001b[39;49m\u001b[43m,\u001b[49m\u001b[43m \u001b[49m\u001b[43mna_value\u001b[49m\u001b[38;5;241;43m=\u001b[39;49m\u001b[43mnp\u001b[49m\u001b[38;5;241;43m.\u001b[39;49m\u001b[43mnan\u001b[49m\u001b[43m,\u001b[49m\u001b[43m \u001b[49m\u001b[43mcopy\u001b[49m\u001b[38;5;241;43m=\u001b[39;49m\u001b[38;5;28;43;01mFalse\u001b[39;49;00m\u001b[43m)\u001b[49m\n\u001b[1;32m  11051\u001b[0m \u001b[38;5;28;01mif\u001b[39;00m method \u001b[38;5;241m==\u001b[39m \u001b[38;5;124m\"\u001b[39m\u001b[38;5;124mpearson\u001b[39m\u001b[38;5;124m\"\u001b[39m:\n\u001b[1;32m  11052\u001b[0m     correl \u001b[38;5;241m=\u001b[39m libalgos\u001b[38;5;241m.\u001b[39mnancorr(mat, minp\u001b[38;5;241m=\u001b[39mmin_periods)\n",
      "File \u001b[0;32m/opt/anaconda3/envs/datos/lib/python3.9/site-packages/pandas/core/frame.py:1993\u001b[0m, in \u001b[0;36mDataFrame.to_numpy\u001b[0;34m(self, dtype, copy, na_value)\u001b[0m\n\u001b[1;32m   1991\u001b[0m \u001b[38;5;28;01mif\u001b[39;00m dtype \u001b[38;5;129;01mis\u001b[39;00m \u001b[38;5;129;01mnot\u001b[39;00m \u001b[38;5;28;01mNone\u001b[39;00m:\n\u001b[1;32m   1992\u001b[0m     dtype \u001b[38;5;241m=\u001b[39m np\u001b[38;5;241m.\u001b[39mdtype(dtype)\n\u001b[0;32m-> 1993\u001b[0m result \u001b[38;5;241m=\u001b[39m \u001b[38;5;28;43mself\u001b[39;49m\u001b[38;5;241;43m.\u001b[39;49m\u001b[43m_mgr\u001b[49m\u001b[38;5;241;43m.\u001b[39;49m\u001b[43mas_array\u001b[49m\u001b[43m(\u001b[49m\u001b[43mdtype\u001b[49m\u001b[38;5;241;43m=\u001b[39;49m\u001b[43mdtype\u001b[49m\u001b[43m,\u001b[49m\u001b[43m \u001b[49m\u001b[43mcopy\u001b[49m\u001b[38;5;241;43m=\u001b[39;49m\u001b[43mcopy\u001b[49m\u001b[43m,\u001b[49m\u001b[43m \u001b[49m\u001b[43mna_value\u001b[49m\u001b[38;5;241;43m=\u001b[39;49m\u001b[43mna_value\u001b[49m\u001b[43m)\u001b[49m\n\u001b[1;32m   1994\u001b[0m \u001b[38;5;28;01mif\u001b[39;00m result\u001b[38;5;241m.\u001b[39mdtype \u001b[38;5;129;01mis\u001b[39;00m \u001b[38;5;129;01mnot\u001b[39;00m dtype:\n\u001b[1;32m   1995\u001b[0m     result \u001b[38;5;241m=\u001b[39m np\u001b[38;5;241m.\u001b[39masarray(result, dtype\u001b[38;5;241m=\u001b[39mdtype)\n",
      "File \u001b[0;32m/opt/anaconda3/envs/datos/lib/python3.9/site-packages/pandas/core/internals/managers.py:1694\u001b[0m, in \u001b[0;36mBlockManager.as_array\u001b[0;34m(self, dtype, copy, na_value)\u001b[0m\n\u001b[1;32m   1692\u001b[0m         arr\u001b[38;5;241m.\u001b[39mflags\u001b[38;5;241m.\u001b[39mwriteable \u001b[38;5;241m=\u001b[39m \u001b[38;5;28;01mFalse\u001b[39;00m\n\u001b[1;32m   1693\u001b[0m \u001b[38;5;28;01melse\u001b[39;00m:\n\u001b[0;32m-> 1694\u001b[0m     arr \u001b[38;5;241m=\u001b[39m \u001b[38;5;28;43mself\u001b[39;49m\u001b[38;5;241;43m.\u001b[39;49m\u001b[43m_interleave\u001b[49m\u001b[43m(\u001b[49m\u001b[43mdtype\u001b[49m\u001b[38;5;241;43m=\u001b[39;49m\u001b[43mdtype\u001b[49m\u001b[43m,\u001b[49m\u001b[43m \u001b[49m\u001b[43mna_value\u001b[49m\u001b[38;5;241;43m=\u001b[39;49m\u001b[43mna_value\u001b[49m\u001b[43m)\u001b[49m\n\u001b[1;32m   1695\u001b[0m     \u001b[38;5;66;03m# The underlying data was copied within _interleave, so no need\u001b[39;00m\n\u001b[1;32m   1696\u001b[0m     \u001b[38;5;66;03m# to further copy if copy=True or setting na_value\u001b[39;00m\n\u001b[1;32m   1698\u001b[0m \u001b[38;5;28;01mif\u001b[39;00m na_value \u001b[38;5;129;01mis\u001b[39;00m lib\u001b[38;5;241m.\u001b[39mno_default:\n",
      "File \u001b[0;32m/opt/anaconda3/envs/datos/lib/python3.9/site-packages/pandas/core/internals/managers.py:1753\u001b[0m, in \u001b[0;36mBlockManager._interleave\u001b[0;34m(self, dtype, na_value)\u001b[0m\n\u001b[1;32m   1751\u001b[0m     \u001b[38;5;28;01melse\u001b[39;00m:\n\u001b[1;32m   1752\u001b[0m         arr \u001b[38;5;241m=\u001b[39m blk\u001b[38;5;241m.\u001b[39mget_values(dtype)\n\u001b[0;32m-> 1753\u001b[0m     \u001b[43mresult\u001b[49m\u001b[43m[\u001b[49m\u001b[43mrl\u001b[49m\u001b[38;5;241;43m.\u001b[39;49m\u001b[43mindexer\u001b[49m\u001b[43m]\u001b[49m \u001b[38;5;241m=\u001b[39m arr\n\u001b[1;32m   1754\u001b[0m     itemmask[rl\u001b[38;5;241m.\u001b[39mindexer] \u001b[38;5;241m=\u001b[39m \u001b[38;5;241m1\u001b[39m\n\u001b[1;32m   1756\u001b[0m \u001b[38;5;28;01mif\u001b[39;00m \u001b[38;5;129;01mnot\u001b[39;00m itemmask\u001b[38;5;241m.\u001b[39mall():\n",
      "\u001b[0;31mValueError\u001b[0m: could not convert string to float: 'Menos de 1 año'"
     ]
    }
   ],
   "source": [
    "matriz = base_variables.corr()\n",
    "matriz = pd.melt(matriz.reset_index(), id_vars='index') # Unpivot the dataframe, so we can get pair of arrays for x and y\n",
    "matriz.columns = ['x', 'y', 'value']\n",
    "heatmap(\n",
    "    x=matriz['x'],\n",
    "    y=matriz['y'],\n",
    "    size=matriz['value'].abs()\n",
    ")"
   ]
  }
 ],
 "metadata": {
  "kernelspec": {
   "display_name": "Python 3 (ipykernel)",
   "language": "python",
   "name": "python3"
  },
  "language_info": {
   "codemirror_mode": {
    "name": "ipython",
    "version": 3
   },
   "file_extension": ".py",
   "mimetype": "text/x-python",
   "name": "python",
   "nbconvert_exporter": "python",
   "pygments_lexer": "ipython3",
   "version": "3.12.7"
  }
 },
 "nbformat": 4,
 "nbformat_minor": 5
}
