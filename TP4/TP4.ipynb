{
 "cells": [
  {
   "cell_type": "markdown",
   "id": "370ed31d-cfba-4ea8-a3ae-ad372d2c3527",
   "metadata": {},
   "source": [
    "##  Parte I: Análisis de la base de hogares y tipo de ocupación\n",
    " Ahora que ya están familiarizados con la Encuesta Permanente de Hogares\n",
    " (EPH) y la desocupación, vamos a complejizar un poco la construcción de las\n",
    " tasas del desempleo. Relacionaremos la información a nivel hogar"
   ]
  },
  {
   "cell_type": "markdown",
   "id": "58e3d604-56cb-463a-9bac-36b8674cc2e1",
   "metadata": {},
   "source": [
    "### PUNTO 1\n",
    "Exploren el diseño de registro de la base de hogar: a priori, ¿qué variables creen pueden ser predictivas de la desocupación y seria útil incluir para perfeccionar el ejercicio del TP3? Mencionen estas variables y justifiquen su elección."
   ]
  },
  {
   "cell_type": "code",
   "execution_count": null,
   "id": "c3ae225c-cdb4-4737-824a-363f122ba317",
   "metadata": {},
   "outputs": [],
   "source": []
  },
  {
   "cell_type": "markdown",
   "id": "908092ec-4393-45f9-8a75-51f1b6b3b377",
   "metadata": {},
   "source": [
    "### PUNTO 2\n",
    "Descarguen la base de microdatos de la EPH correspondiente al primer trimestre de 2004 y 2024 en formato .dta y .xls, respectivamente. La base de hogares se llama Hogar_t104.dta y usu_hogar_T124.xls, respectivamente. Eliminen todas las observaciones que no corresponden a los aglomerados de Ciudad Autónoma de Buenos Aires o Gran Buenos Aires y unan ambos trimestres en una sola base. Esto es, a la base de la encuesta individual de cada año (que usaron en el TP3) unan la base de la encuesta de hogar. Asegúrese de estar usando las variables CODUSUyNRO_Hogarparaelmerge."
   ]
  },
  {
   "cell_type": "code",
   "execution_count": null,
   "id": "3e1db488-3626-40b9-bc97-c6a57d019eb4",
   "metadata": {},
   "outputs": [],
   "source": []
  },
  {
   "cell_type": "markdown",
   "id": "45837c45-19c6-451f-a706-c10980353a66",
   "metadata": {},
   "source": [
    "### PUNTO 3\n",
    "Limpien la base de datos tomando criterios que hagan sentido. Explicar cualquier decisión como el tratamiento de valores faltantes (missing values), extremos (outliers), o variables categóricas. Justifique sus decisiones."
   ]
  },
  {
   "cell_type": "code",
   "execution_count": null,
   "id": "060d7c60-5047-4f9c-877b-a16d65cf3eb8",
   "metadata": {},
   "outputs": [],
   "source": []
  },
  {
   "cell_type": "markdown",
   "id": "f75173cc-ed4d-42c6-a3c8-730d33bd0883",
   "metadata": {},
   "source": [
    "### PUNTO 4\n",
    "Construya variables (mínimo 3) que no estén en la base pero que sean relevantes para predecir individuos desocupados (por ejemplo, la proporción de personas que trabajan en el hogar)."
   ]
  },
  {
   "cell_type": "code",
   "execution_count": null,
   "id": "b017d8fd-71e7-4269-80d3-c413749259ce",
   "metadata": {},
   "outputs": [],
   "source": []
  },
  {
   "cell_type": "markdown",
   "id": "2048b3df-14e4-4c93-b677-89b012e4eda2",
   "metadata": {},
   "source": [
    "### PUNTO 5\n",
    "Presenten estadísticas descriptivas de tres variables de la encuesta de hogar que ustedes creen que pueden ser relevantes para predecir la desocupación. Comenten las estadísticas obtenidas."
   ]
  },
  {
   "cell_type": "code",
   "execution_count": null,
   "id": "a4ce242a-ed2c-42ff-a18f-c9bfa8810e2b",
   "metadata": {},
   "outputs": [],
   "source": []
  },
  {
   "cell_type": "markdown",
   "id": "ce745a86-6f30-42b4-8d56-45d2b3f3b6a4",
   "metadata": {},
   "source": [
    "## Parte II: Clasificación y regularización\n",
    "El objetivo de esta parte del trabajo es nuevamente intentar predecir si una persona está desocupada o no. Esta vez utilizando distintas variables de características individuales y del hogar del encuestado. A su vez, incluiremos ejercicios de regularización y de validación cruzada."
   ]
  },
  {
   "cell_type": "markdown",
   "id": "7cbee8e0-e96e-4aa4-bf97-4075f747939e",
   "metadata": {},
   "source": [
    "### PUNTO 1\n",
    "Para cada año, partan la base respondieron en una base de prueba y una de entrenamiento (X_train, y_train, X_test, y_test) utilizando el comando train_test_split. La base de entrenamiento debe comprender el 70% de los datos, y la semilla a utilizar (random state instance) debe ser 101. Establezca a desocupado como su variable dependiente en la base de entrenamiento (vector y). El resto de las variables serán las variables independientes (matriz X). Recuerden agregar la columna de unos (1)."
   ]
  },
  {
   "cell_type": "code",
   "execution_count": null,
   "id": "e2e14bbf-aac7-4783-b6db-316e84a30600",
   "metadata": {},
   "outputs": [],
   "source": []
  },
  {
   "cell_type": "markdown",
   "id": "e021f301-4300-465c-8d72-5cedcd2b0ea8",
   "metadata": {},
   "source": [
    "### PUNTO 2\n",
    "Expliquen brevemente cómo elegirían λ por validación cruzada (en Python es alpha). Detallen por qué no usarían el conjunto de prueba(test) para su elección."
   ]
  },
  {
   "cell_type": "code",
   "execution_count": null,
   "id": "63229baf-a192-4f9e-b6a6-f04377cba752",
   "metadata": {},
   "outputs": [],
   "source": []
  },
  {
   "cell_type": "markdown",
   "id": "bc38cd07-0ef9-4907-864f-0764398e94a6",
   "metadata": {},
   "source": [
    "### PUNTO 3\n",
    "En validación cruzada, ¿cuáles son las implicancias de usar un k muy pequeño o uno muy grande? Cuando k = n (con n el número de muestras), ¿cuántas veces se estima el modelo?"
   ]
  },
  {
   "cell_type": "code",
   "execution_count": null,
   "id": "06bd1926-828b-4fa0-8775-8aa1c6d5496e",
   "metadata": {},
   "outputs": [],
   "source": []
  },
  {
   "cell_type": "markdown",
   "id": "9a0cac67-43fb-4924-8d5f-7b63593b6683",
   "metadata": {},
   "source": [
    "### PUNTO 4\n",
    "Para regresión logística, implementen la penalidad, L1 como la de LASSO y L2 comola de Ridge con (como en la Tutorial 10), usando λ = 1 la opción penalty y reporten la matriz de confusión, la curva ROC, los valores de AUC y de Accuracy para cada año (En la clase magistral 9, vimos el método de regularización en regresión lineal donde la variable dependiente es numérica. En este caso, nuestra variable dependiente es binaria (ocupado, desocupado), por lo que usamos la regresión logística y aprovechamos la opción de penalidad para aplicar los métodos de regularización vistos en clase.) ¿Cómo cambiaron los resultados con respecto al TP3? ¿La performance de regresión logística con regularización es mejor o peor?"
   ]
  },
  {
   "cell_type": "code",
   "execution_count": null,
   "id": "55b42ee5-37f9-45bc-a6f0-d364e6cb0c91",
   "metadata": {},
   "outputs": [],
   "source": []
  },
  {
   "cell_type": "markdown",
   "id": "e10515bf-5586-4603-ad1c-a9f86f9f6c14",
   "metadata": {},
   "source": [
    "### PUNTO 5\n",
    "Realicen un barrido en = 10n con n ∈ {−5, −4, −3 ..., +4, +5} y utilicen 10-fold CV para elegir el óptimo en regresión logística con Ridge y con λ LASSO. ¿Qué seleccionó en cada caso? Usando la librería de seaborn, generen box plot mostrando la distribución del error de predicción para cada . Cada box debe corresponder a un valor de y contener como λ observaciones el error medio de validación (MSE) para cada partición. Además, para la regularización LASSO, generen un line plot del promedio de la proporción de variables ignoradas por el modelo en función de (como vieron en el tutorial 10), es decir la proporción de λ variables para las cuales el coeficiente asociado es cero (Hint: a mayor penalidad, esperamos que más coeficientes sean 0, por lo tanto, esta figura debe tener una forma de “S”)"
   ]
  },
  {
   "cell_type": "code",
   "execution_count": null,
   "id": "96dc9cd9-b4be-4881-9308-82635b94d48e",
   "metadata": {},
   "outputs": [],
   "source": []
  },
  {
   "cell_type": "markdown",
   "id": "18084909-4bde-46ce-828f-15b93858cb32",
   "metadata": {},
   "source": [
    "### PUNTO 6\n",
    "En el caso del valor óptimo de para LASSO encontrado en el inciso λ anterior, ¿qué variables fueron descartadas? ¿Son las que hubieran esperado? ¿Tiene relación con lo que respondieron en el inciso 1 de la Parte I?"
   ]
  },
  {
   "cell_type": "code",
   "execution_count": null,
   "id": "586e1eb6-034f-40b4-b388-3526beb452e3",
   "metadata": {},
   "outputs": [],
   "source": []
  },
  {
   "cell_type": "markdown",
   "id": "d1266b28-4de9-45cd-8106-3f4da4cba74c",
   "metadata": {},
   "source": [
    "### PUNTO 7\n",
    "Elijan alguno de los modelos de regresión logística donde hayan probado distintos parámetros de regularización y comenten: Compare los resultados de 2004 versus 2024, ¿qué método de regularización funcionó mejor: Ridge o LASSO? ¿LASSO hizo una selección distinta de predictores en 2004 versus 2024? Comenten mencionando el error cuadrático medio (MSE)"
   ]
  },
  {
   "cell_type": "code",
   "execution_count": null,
   "id": "e969f0a2-1c23-4aef-bf51-c87a0a6d31f0",
   "metadata": {},
   "outputs": [],
   "source": []
  }
 ],
 "metadata": {
  "kernelspec": {
   "display_name": "Python 3 (ipykernel)",
   "language": "python",
   "name": "python3"
  },
  "language_info": {
   "codemirror_mode": {
    "name": "ipython",
    "version": 3
   },
   "file_extension": ".py",
   "mimetype": "text/x-python",
   "name": "python",
   "nbconvert_exporter": "python",
   "pygments_lexer": "ipython3",
   "version": "3.12.7"
  }
 },
 "nbformat": 4,
 "nbformat_minor": 5
}
