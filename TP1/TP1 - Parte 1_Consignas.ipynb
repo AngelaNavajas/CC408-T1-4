{
 "cells": [
  {
   "cell_type": "markdown",
   "metadata": {
    "collapsed": true,
    "id": "Dh8MkXaG-c9Y",
    "jupyter": {
     "outputs_hidden": true
    }
   },
   "source": [
    "# Ciencia de datos (CC408) - Primavera 2024\n",
    "\n",
    "## Trabajo Práctico 1 - Parte 1 "
   ]
  },
  {
   "cell_type": "markdown",
   "metadata": {
    "id": "RhBlm6mZ-c9e"
   },
   "source": [
    "### Reglas de formato y presentación\n",
    "- El trabajo debe estar debidamente documentado comentado (utilizando #) para que tanto los docentes como sus compañeros puedan comprender el código fácilmente.\n",
    "\n",
    "- El mismo debe ser completado en este Jupyter Notebook y entregado como tal, es decir en un archivo .ipynb\n"
   ]
  },
  {
   "cell_type": "markdown",
   "metadata": {
    "id": "ZEjGaa4U-c9g"
   },
   "source": [
    "### Fecha de entrega:\n",
    "Domingo 8 de septiembre a las 23:59hs"
   ]
  },
  {
   "cell_type": "markdown",
   "metadata": {
    "id": "N9TU2y7E-c9h"
   },
   "source": [
    "### Modalidad de entrega\n",
    "- Al finalizar el trabajo práctico deben hacer un último <i>commit</i> en su repositorio de GitHub llamado “Entrega final del tp”. \n",
    "- Asegurense de haber creado una carpeta llamada TP1. Este Jupyter Notebook y el correspondiente al TP1 - Parte 1 deben estar dentro de esa carpeta.\n",
    "- También deben enviar el link de su repositorio -para que pueda ser clonado y corregido- al siguiente email: ispiousas@udesa.edu.ar\n",
    "- La última versión en el repositorio es la que será evaluada. Por lo que es importante que: \n",
    "    - No envien el correo hasta no haber terminado y estar seguros de que han hecho el <i>commit y push</i> a la versión final que quieren entregar. Debido a que se pueden tomar hasta 3 días de extensión a lo largo del curso, no se corregirán sus tareas hasta no recibir el correo.\n",
    "    - No hagan nuevos <i>push</i> despues de haber entregado su versión final. Esto generaría confusión acerca de que versión es la que quieren que se les corrija. "
   ]
  },
  {
   "cell_type": "markdown",
   "metadata": {
    "id": "ZXbrPraa-c9i"
   },
   "source": [
    "#### Ejercicio 1\n",
    "Este ejercicio simplemente busca repasar lo que aprendimos sobre definición de variables. Definir dos variables con un nombre combinado (al menos dos palabras), una que se pueda crear y otra que tenga un nombre inaceptable (genera error). Explicar por qué ocurre el error."
   ]
  },
  {
   "cell_type": "code",
   "execution_count": 1,
   "metadata": {
    "id": "mb7PkXfN-c9j"
   },
   "outputs": [
    {
     "ename": "SyntaxError",
     "evalue": "cannot assign to expression here. Maybe you meant '==' instead of '='? (2936770930.py, line 5)",
     "output_type": "error",
     "traceback": [
      "\u001b[1;36m  Cell \u001b[1;32mIn[1], line 5\u001b[1;36m\u001b[0m\n\u001b[1;33m    variable-ejemplo = []\u001b[0m\n\u001b[1;37m    ^\u001b[0m\n\u001b[1;31mSyntaxError\u001b[0m\u001b[1;31m:\u001b[0m cannot assign to expression here. Maybe you meant '==' instead of '='?\n"
     ]
    }
   ],
   "source": [
    "# Caso A\n",
    "variable_ejemplo = []\n",
    "\n",
    "# Caso B (acá debería saltar un error)\n",
    "variable-ejemplo = [] \n",
    "# salta error porque las variables no pueden tener caracteres especiales que son operadores."
   ]
  },
  {
   "cell_type": "markdown",
   "metadata": {},
   "source": [
    "#### Ejercicio 2\n",
    "Importar módulos. Usando el módulo math impriman la tangente de 1. ¿Cuál es el resultado?\n",
    "Hagan este cálculo de dos formas: primero importando el módulo math y usando la función correspondiente y luego solo importando la función específica que precisan para el cálculo."
   ]
  },
  {
   "cell_type": "code",
   "execution_count": 2,
   "metadata": {},
   "outputs": [
    {
     "name": "stdout",
     "output_type": "stream",
     "text": [
      "1.5574077246549023\n",
      "1.5574077246549023\n"
     ]
    }
   ],
   "source": [
    "# Caso A\n",
    "import math\n",
    "tangente_a = math.tan(1)\n",
    "print(tangente_a)\n",
    "# Caso B\n",
    "from math import tan\n",
    "tangente_b = tan(1)\n",
    "print(tangente_b)"
   ]
  },
  {
   "cell_type": "markdown",
   "metadata": {
    "id": "GlNh0fyv-c9l"
   },
   "source": [
    "#### Ejercicio 3 \n",
    "Este ejercicio trata sobre lograr el intercambio de valores entre dos variables utilizando una variable temporal para hacerlo. Las variables temporales y la sustitución de valores termina siendo útil en algunos loops. Los pasos a seguir son: (a) definir variables A y B (cuyos valores buscaremos invertir); (b) definir una variable temporal que resguarde el valor de B; (c) sustitución (asignar B igual a A y también A igual al valor original de B); (d) imprimir valores para verificar."
   ]
  },
  {
   "cell_type": "code",
   "execution_count": 3,
   "metadata": {
    "id": "uWalSYFC-c9m"
   },
   "outputs": [
    {
     "name": "stdout",
     "output_type": "stream",
     "text": [
      "a = 1\n",
      "b = 2\n",
      "tmp toma el valor de b\n",
      "b = 2\n",
      "b toma el valor de a --> b = 1\n",
      "a toma el valor de b --> a = 1\n",
      "a = 1\n",
      "b = 1\n",
      "2\n"
     ]
    }
   ],
   "source": [
    "# a) Definir variables A y B, \n",
    "a = 1\n",
    "print(\"a =\", a) \n",
    "b = 2\n",
    "print(\"b =\", b)\n",
    "\n",
    "# b) Definir variable temporal \"tmp\" igual a B (la variable, no el valor)\n",
    "tmp = b\n",
    "print(\"tmp toma el valor de b\")\n",
    "print(\"b =\", tmp)\n",
    "\n",
    "# c) Ahora sustituir variables: variable B igual a variable A (la variable, no el\n",
    "# valor) y viceversa.\n",
    "b = a\n",
    "print(\"b toma el valor de a --> b =\", b)\n",
    "\n",
    "a = b\n",
    "print(\"a toma el valor de b --> a =\", a)\n",
    "\n",
    "# d) Verifiquemos resultados: imprimir variables A y B\n",
    "print(\"a =\", a)\n",
    "print(\"b =\", b)\n",
    "print(tmp)"
   ]
  },
  {
   "cell_type": "markdown",
   "metadata": {
    "id": "wXhAaRyN-c9p"
   },
   "source": [
    "#### Ejercicio 4\n",
    "En este ejercicio se busca poner en práctica el uso de range() en un for loop. \n",
    "\n",
    "Construir un for loop usando un range(). El range debe ser entre los valores que quieran (con una diferencia mínima de 15 entre start y stop), en incrementos de 3 unidades. Dentro del loop, implementar una sentencia condicional que imprima una leyenda indicando si el input es par o impar."
   ]
  },
  {
   "cell_type": "code",
   "execution_count": 4,
   "metadata": {
    "id": "_oE5sG0c-c9q"
   },
   "outputs": [
    {
     "name": "stdout",
     "output_type": "stream",
     "text": [
      "1\n",
      "El número 1 es impar\n",
      "4\n",
      "El número 4 es par\n",
      "7\n",
      "El número 7 es impar\n",
      "10\n",
      "El número 10 es par\n",
      "13\n",
      "El número 13 es impar\n",
      "16\n",
      "El número 16 es par\n",
      "19\n",
      "El número 19 es impar\n",
      "22\n",
      "El número 22 es par\n",
      "25\n",
      "El número 25 es impar\n",
      "28\n",
      "El número 28 es par\n",
      "31\n",
      "El número 31 es impar\n"
     ]
    }
   ],
   "source": [
    "# Resolver acá\n",
    "for i in range(1,33, 3): # El 33 es el numero de la suerte de Angela\n",
    "    print(i)\n",
    "    if i % 2 == 0:\n",
    "        print(\"El número\", i, \"es par\")\n",
    "    else: \n",
    "        print(\"El número\", i, \"es impar\")"
   ]
  },
  {
   "cell_type": "markdown",
   "metadata": {
    "id": "h3g5bXUB-c9u"
   },
   "source": [
    "#### Ejercicio 5\n",
    "Para practicar el uso de condiciones lógicas y la definición de funciones, construir una función con una sentencia condicional que verifique si un año es bisiesto o no. Para que un año sea bisiesto debe cumplir una de dos condiciones:\n",
    "\n",
    "(a) que sea divisible por 400; o\n",
    "\n",
    "(b) que sea divisible por 4 y no sea divisible por 100\n",
    "\n",
    "Notar que son dos condiciones, donde la segunda condición tiene dos componentes. Prueben la función con 3 valores para verificar que funcione."
   ]
  },
  {
   "cell_type": "code",
   "execution_count": 12,
   "metadata": {
    "id": "7_MnILdz-c9v"
   },
   "outputs": [
    {
     "name": "stdout",
     "output_type": "stream",
     "text": [
      "El año 2028 es bisiesto\n"
     ]
    }
   ],
   "source": [
    "# Resolver acá\n",
    "def bisiesto (año):\n",
    "    if año % 400 == 0:\n",
    "        print(\"El año:\",año, \"es año bisiesto\")\n",
    "    elif (año % 4 == 0) and (año % 100 != 0):\n",
    "        print(\"El año\",año, \"es bisiesto\")\n",
    "    else:\n",
    "        print(\"El año\",año, \"no es bisiesto\")\n",
    "\n",
    "bisiesto(2028)"
   ]
  },
  {
   "cell_type": "markdown",
   "metadata": {
    "collapsed": true,
    "id": "P3a7bJkd-c9w",
    "jupyter": {
     "outputs_hidden": true
    }
   },
   "source": [
    "#### Ejercicio 6 \n",
    "Pongamos en práctica identificar el type() de cada variable. A continuación tenemos una lista con elementos de diferentes tipos. Construyan un for loop que itere sobre la lista e imprima un cartel indicando el tipo de dato u objeto que hay en cada caso."
   ]
  },
  {
   "cell_type": "code",
   "execution_count": 2,
   "metadata": {
    "id": "jDf4d_Wr-c9w"
   },
   "outputs": [],
   "source": [
    "mi_lista = [10, 34.5, 99999, 'abc', [1,2,3], ('ARG', 1810), {'pob': 45}, True]"
   ]
  },
  {
   "cell_type": "code",
   "execution_count": 13,
   "metadata": {
    "id": "SAJgEiNEFQAS"
   },
   "outputs": [
    {
     "name": "stdout",
     "output_type": "stream",
     "text": [
      "item: 10 tipo: <class 'int'>\n",
      "item: 34.5 tipo: <class 'float'>\n",
      "item: 99999 tipo: <class 'int'>\n",
      "item: abc tipo: <class 'str'>\n",
      "item: [1, 2, 3] tipo: <class 'list'>\n",
      "item: ('ARG', 1810) tipo: <class 'tuple'>\n",
      "item: {'pob': 45} tipo: <class 'dict'>\n",
      "item: True tipo: <class 'bool'>\n"
     ]
    }
   ],
   "source": [
    "# Resolver aca\n",
    "for i in mi_lista: \n",
    "    print('item:', i, 'tipo:', type(i))"
   ]
  },
  {
   "cell_type": "markdown",
   "metadata": {
    "id": "y1lncitl-c9x"
   },
   "source": [
    "#### Ejercicio 7\n",
    "Ahora definan ustedes una nueva lista, en la que los primeros cuatro elementos sean palabras (strings), el quinto elemento no sea string, y el sexto sea string. Construyan un for loop que corra por la lista y que imprima la palabra y la longitud de la misma. Que el loop contenga una sentencia condicional que imprima un cartel \"Elemento no es un string: < el elemento > | < class del elemento >\" para los casos dónde el elemento evaluado no sea string."
   ]
  },
  {
   "cell_type": "code",
   "execution_count": 24,
   "metadata": {
    "id": "bFOk9Os0-c9x"
   },
   "outputs": [
    {
     "name": "stdout",
     "output_type": "stream",
     "text": [
      "perfume tiene 7 letras\n",
      "aritos tiene 6 letras\n",
      "flores tiene 6 letras\n",
      "primavera tiene 9 letras\n",
      "Elemento no es un string: 333 <class 'int'>\n",
      "rosa tiene 4 letras\n"
     ]
    }
   ],
   "source": [
    "# Resolver acá\n",
    "\n",
    "nuestra_lista=['perfume','aritos','flores','primavera',333,'rosa']\n",
    "for i in nuestra_lista:\n",
    "    if isinstance(i, str):\n",
    "        print(i,'tiene', len(i), 'letras')    \n",
    "    else:\n",
    "        print('Elemento no es un string:', i, type(i))\n"
   ]
  },
  {
   "cell_type": "markdown",
   "metadata": {},
   "source": [
    "#### Ejercicio 8"
   ]
  },
  {
   "cell_type": "markdown",
   "metadata": {},
   "source": [
    "Construyan una función llamada 'suma' que tome una cantidad variable de parámetros y devuelva el resultado de la suma."
   ]
  },
  {
   "cell_type": "code",
   "execution_count": 5,
   "metadata": {},
   "outputs": [
    {
     "name": "stdout",
     "output_type": "stream",
     "text": [
      "el resultado de la suma de es:  9\n"
     ]
    }
   ],
   "source": [
    "# Resolver \n",
    "# defino funcion que contenga las acciones para tomar los numeros, hacer la suma y tirar el resultado.\n",
    "def suma(*numeros): # el * permite que una cantidad variable de parametros en una funcion\n",
    "    resultado = sum(numeros)\n",
    "    print(\"El resultado de la suma de es: \", resultado)\n",
    "\n",
    "suma(3,3,3)"
   ]
  },
  {
   "cell_type": "markdown",
   "metadata": {
    "id": "PUpxDz72-c9x"
   },
   "source": [
    "#### Ejercicio 9\n",
    "Argentina tiene una representación legislativa proporcional en la cual la cantidad de diputados se debería ajustar según el tamaño de población de cada provincia. Otra característica de la representación legislativa del país es que hay una cantidad mínima de diputados por provincia (5). Esto genera un desbalance en la cantidad de ciudadanos por cada representante en el Congreso entre provincias.\n",
    "\n",
    "A continuación preparamos algunos ejemplos, dividiendo la población de cada provincia (según estimación para el 2022) por la cantidad de representantes en el Congreso para esa misma jurisdicción. También armamos el equivalente para el total país y una lista con los valores provinciales.\n",
    "\n",
    "En este ejercicio les pedimos que construyan un for loop que itere sobre el diccionario definido y compare cada valor provincial contra el valor de proporcionalidad directa (la variable argentina). El loop debe imprimir una leyenda que indique si la provincia está sobrerepresentada, subrepresentada o con representación proporcional. Además, queremos que el mismo loop compare los valores de las provincias sobrerepresentadas y que guarde el valor de la provincia con mayor sobrerepresentación. Luego del loop impriman este valor así podemos ver que haya funcionado.\n",
    "\n",
    "Fuente para población: https://es.wikipedia.org/wiki/Demograf%C3%ADa_de_Argentina\n",
    "\n",
    "Fuente para representantes: https://es.wikipedia.org/wiki/C%C3%A1mara_de_Diputados_de_la_Naci%C3%B3n_Argentina"
   ]
  },
  {
   "cell_type": "code",
   "execution_count": 115,
   "metadata": {
    "id": "hd8Z5AHs-c9y"
   },
   "outputs": [],
   "source": [
    "# Valor de referencia: proporcionalidad\n",
    "argentina = int(46044703 / 257)\n",
    "\n",
    "# Creamos variables para una selección de jurisdicciones\n",
    "cordoba = int(3978984 / 18)\n",
    "santa_fe = int(3556522 / 19)\n",
    "mendoza = int(2014533 / 10)\n",
    "buenos_aires = int(17569053 / 70)\n",
    "entre_rios =  int(1426426 / 9)\n",
    "santa_cruz = int(333473 / 5)\n",
    "formosa = int(606041 / 5)\n",
    "\n",
    "# Definimos el diccionario para iterar\n",
    "dict_provincias = {\n",
    "    \"Córdoba\": cordoba,\n",
    "    \"Santa Fe\": santa_fe,\n",
    "    \"Mendoza\": mendoza,\n",
    "    \"Buenos Aires\": buenos_aires,\n",
    "    \"Entre Ríos\": entre_rios,\n",
    "    \"Santa Cruz\": santa_cruz,\n",
    "    \"Formosa\": formosa}"
   ]
  },
  {
   "cell_type": "code",
   "execution_count": 116,
   "metadata": {
    "id": "fsEHnxiY-c9y"
   },
   "outputs": [
    {
     "name": "stdout",
     "output_type": "stream",
     "text": [
      "Córdoba : representacion proporcional. Tiene 1 representante cada 221054 ciudadanos. (Tiene que haber 1 cada 179162 ciudadanos)\n",
      "Santa Fe : representacion proporcional. Tiene 1 representante cada 187185 ciudadanos. (Tiene que haber 1 cada 179162 ciudadanos)\n",
      "Mendoza : representacion proporcional. Tiene 1 representante cada 201453 ciudadanos. (Tiene que haber 1 cada 179162 ciudadanos)\n",
      "Buenos Aires : representacion proporcional. Tiene 1 representante cada 250986 ciudadanos. (Tiene que haber 1 cada 179162 ciudadanos)\n",
      "Entre Ríos : sobrerepresentada. Tiene 1 representante cada 158491 ciudadanos. (Tiene que haber 1 cada 179162 ciudadanos)\n",
      "Santa Cruz : sobrerepresentada. Tiene 1 representante cada 66694 ciudadanos. (Tiene que haber 1 cada 179162 ciudadanos)\n",
      "Formosa : sobrerepresentada. Tiene 1 representante cada 121208 ciudadanos. (Tiene que haber 1 cada 179162 ciudadanos)\n",
      "[['Entre Ríos', 158491], ['Santa Cruz', 66694], ['Formosa', 121208]]\n",
      "['Santa Cruz', 66694]\n"
     ]
    }
   ],
   "source": [
    "# Resolver acá\n",
    "sobrerepresentados = []\n",
    "\n",
    "for provincia, representados in dict_provincias.items():      \n",
    "    if representados/argentina < 1: # si hay mas proporcion de representados en la provincia que la proporcion total de representados por legislador, van a estar sobrerepresentados\n",
    "        print(provincia, \": sobrerepresentada. Tiene 1 representante cada\", representados, \"ciudadanos. (Tiene que haber 1 cada\", argentina, \"ciudadanos)\")\n",
    "        sobrerepresentados.append([provincia, representados])\n",
    "        \n",
    "    elif representados/argentina >1 and representados/argentina <2: # si la proporcion entre representados provincial y la proporcion a nivel nacional esta bien, la division de estas va a dar entre 1 y 2. \n",
    "        print(provincia, \": representacion proporcional. Tiene 1 representante cada\", representados, \"ciudadanos. (Tiene que haber 1 cada\", argentina, \"ciudadanos)\")\n",
    "        \n",
    "    elif representados / argentina >2: # si hay menos representados que los que deberian a nivel nacional, estan subrepresentados\n",
    "        print(provincia, \": subrepresentada. Tiene 1 representante cada\", representados, \"ciudadanos. (Tiene que haber 1 cada\", argentina, \"ciudadanos)\")\n",
    "\n",
    "print(sobrerepresentados)\n",
    "print(max(sobrerepresentados))"
   ]
  },
  {
   "cell_type": "code",
   "execution_count": 117,
   "metadata": {
    "id": "fsEHnxiY-c9y"
   },
   "outputs": [
    {
     "name": "stdout",
     "output_type": "stream",
     "text": [
      "Córdoba : subrepresentada. Tiene 1 representante cada 221054 ciudadanos. (Tiene que haber 1 cada 179162 ciudadanos)\n",
      "Santa Fe : subrepresentada. Tiene 1 representante cada 187185 ciudadanos. (Tiene que haber 1 cada 179162 ciudadanos)\n",
      "Mendoza : subrepresentada. Tiene 1 representante cada 201453 ciudadanos. (Tiene que haber 1 cada 179162 ciudadanos)\n",
      "Buenos Aires : subrepresentada. Tiene 1 representante cada 250986 ciudadanos. (Tiene que haber 1 cada 179162 ciudadanos)\n",
      "Entre Ríos : sobrerepresentada. Tiene 1 representante cada 158491 ciudadanos. (Tiene que haber 1 cada 179162 ciudadanos)\n",
      "Santa Cruz : sobrerepresentada. Tiene 1 representante cada 66694 ciudadanos. (Tiene que haber 1 cada 179162 ciudadanos)\n",
      "Formosa : sobrerepresentada. Tiene 1 representante cada 121208 ciudadanos. (Tiene que haber 1 cada 179162 ciudadanos)\n",
      "[['Entre Ríos', 158491], ['Santa Cruz', 66694], ['Formosa', 121208]]\n",
      "['Santa Cruz', 66694]\n"
     ]
    }
   ],
   "source": [
    "# Resolver acá\n",
    "argentina = int(argentina)\n",
    "sobrerepresentados = []\n",
    "\n",
    "for provincia, representados in dict_provincias.items():      \n",
    "    if representados < argentina:\n",
    "        print(provincia, \": sobrerepresentada. Tiene 1 representante cada\", representados, \"ciudadanos. (Tiene que haber 1 cada\", argentina, \"ciudadanos)\")\n",
    "        sobrerepresentados.append([provincia, representados])\n",
    "        \n",
    "    elif representados == argentina:\n",
    "        print(provincia, \": representacion proporcional. Tiene 1 representante cada\", representados, \"ciudadanos. (Tiene que haber 1 cada\", argentina, \"ciudadanos)\")\n",
    "        \n",
    "    elif representados > argentina:\n",
    "        print(provincia, \": subrepresentada. Tiene 1 representante cada\", representados, \"ciudadanos. (Tiene que haber 1 cada\", argentina, \"ciudadanos)\")\n",
    "\n",
    "print(sobrerepresentados)\n",
    "print(max(sobrerepresentados))"
   ]
  },
  {
   "cell_type": "markdown",
   "metadata": {
    "id": "GokZe5tV-c9z"
   },
   "source": [
    "#### Ejercicio 10\n",
    "Si buscáramos minimizar la subrepresentación de la provincia de Buenos Aires, ¿cuántos representantes debería tener según el Censo 2022? Usemos el mismo criterio de sub/sobrerepresentacion que en el ejercicio anterior: población sobre cantidad de representantes.\n",
    "\n",
    "Para responder esta pregunta construyan un while loop que incremente de a uno la cantidad de representantes de la Provincia hasta minimizar la subrepresentación. En cada iteración impriman un cartel que diga: \"Se agregó un representante, el total ahora es X\" dónde X es el número de representantes simulado."
   ]
  },
  {
   "cell_type": "code",
   "execution_count": 165,
   "metadata": {
    "id": "x9DvuXa_-c9z"
   },
   "outputs": [],
   "source": [
    "# Estos son los valores de la provincia\n",
    "representantes_pba = 70\n",
    "poblacion2010_pba = 17594428\n",
    "\n",
    "# Y el valor de referencia nacional\n",
    "argentina = 46044703 / 257"
   ]
  },
  {
   "cell_type": "code",
   "execution_count": 164,
   "metadata": {
    "scrolled": true
   },
   "outputs": [
    {
     "name": "stdout",
     "output_type": "stream",
     "text": [
      "Se agregó un representante, el total ahora es:  1\n",
      "Se agregó un representante, el total ahora es:  2\n",
      "Se agregó un representante, el total ahora es:  3\n",
      "Se agregó un representante, el total ahora es:  4\n",
      "Se agregó un representante, el total ahora es:  5\n",
      "Se agregó un representante, el total ahora es:  6\n",
      "Se agregó un representante, el total ahora es:  7\n",
      "Se agregó un representante, el total ahora es:  8\n",
      "Se agregó un representante, el total ahora es:  9\n",
      "Se agregó un representante, el total ahora es:  10\n",
      "Se agregó un representante, el total ahora es:  11\n",
      "Se agregó un representante, el total ahora es:  12\n",
      "Se agregó un representante, el total ahora es:  13\n",
      "Se agregó un representante, el total ahora es:  14\n",
      "Se agregó un representante, el total ahora es:  15\n",
      "Se agregó un representante, el total ahora es:  16\n",
      "Se agregó un representante, el total ahora es:  17\n",
      "Se agregó un representante, el total ahora es:  18\n",
      "Se agregó un representante, el total ahora es:  19\n",
      "Se agregó un representante, el total ahora es:  20\n",
      "Se agregó un representante, el total ahora es:  21\n",
      "Se agregó un representante, el total ahora es:  22\n",
      "Se agregó un representante, el total ahora es:  23\n",
      "Se agregó un representante, el total ahora es:  24\n",
      "Se agregó un representante, el total ahora es:  25\n",
      "Se agregó un representante, el total ahora es:  26\n",
      "Se agregó un representante, el total ahora es:  27\n",
      "Se agregó un representante, el total ahora es:  28\n",
      "Se agregó un representante, el total ahora es:  29\n",
      "Se agregó un representante, el total ahora es:  30\n",
      "Se agregó un representante, el total ahora es:  31\n",
      "Se agregó un representante, el total ahora es:  32\n",
      "Se agregó un representante, el total ahora es:  33\n",
      "Se agregó un representante, el total ahora es:  34\n",
      "Se agregó un representante, el total ahora es:  35\n",
      "Se agregó un representante, el total ahora es:  36\n",
      "Se agregó un representante, el total ahora es:  37\n",
      "Se agregó un representante, el total ahora es:  38\n",
      "Se agregó un representante, el total ahora es:  39\n",
      "Se agregó un representante, el total ahora es:  40\n",
      "Se agregó un representante, el total ahora es:  41\n",
      "Se agregó un representante, el total ahora es:  42\n",
      "Se agregó un representante, el total ahora es:  43\n",
      "Se agregó un representante, el total ahora es:  44\n",
      "Se agregó un representante, el total ahora es:  45\n",
      "Se agregó un representante, el total ahora es:  46\n",
      "Se agregó un representante, el total ahora es:  47\n",
      "Se agregó un representante, el total ahora es:  48\n",
      "Se agregó un representante, el total ahora es:  49\n",
      "Se agregó un representante, el total ahora es:  50\n",
      "Se agregó un representante, el total ahora es:  51\n",
      "Se agregó un representante, el total ahora es:  52\n",
      "Se agregó un representante, el total ahora es:  53\n",
      "Se agregó un representante, el total ahora es:  54\n",
      "Se agregó un representante, el total ahora es:  55\n",
      "Se agregó un representante, el total ahora es:  56\n",
      "Se agregó un representante, el total ahora es:  57\n",
      "Se agregó un representante, el total ahora es:  58\n",
      "Se agregó un representante, el total ahora es:  59\n",
      "Se agregó un representante, el total ahora es:  60\n",
      "Se agregó un representante, el total ahora es:  61\n",
      "Se agregó un representante, el total ahora es:  62\n",
      "Se agregó un representante, el total ahora es:  63\n",
      "Se agregó un representante, el total ahora es:  64\n",
      "Se agregó un representante, el total ahora es:  65\n",
      "Se agregó un representante, el total ahora es:  66\n",
      "Se agregó un representante, el total ahora es:  67\n",
      "Se agregó un representante, el total ahora es:  68\n",
      "Se agregó un representante, el total ahora es:  69\n",
      "Se agregó un representante, el total ahora es:  70\n",
      "Se agregó un representante, el total ahora es:  71\n",
      "Se agregó un representante, el total ahora es:  72\n",
      "Se agregó un representante, el total ahora es:  73\n",
      "Se agregó un representante, el total ahora es:  74\n",
      "Se agregó un representante, el total ahora es:  75\n",
      "Se agregó un representante, el total ahora es:  76\n",
      "Se agregó un representante, el total ahora es:  77\n",
      "Se agregó un representante, el total ahora es:  78\n",
      "Se agregó un representante, el total ahora es:  79\n",
      "Se agregó un representante, el total ahora es:  80\n",
      "Se agregó un representante, el total ahora es:  81\n",
      "Se agregó un representante, el total ahora es:  82\n",
      "Se agregó un representante, el total ahora es:  83\n",
      "Se agregó un representante, el total ahora es:  84\n",
      "Se agregó un representante, el total ahora es:  85\n",
      "Se agregó un representante, el total ahora es:  86\n",
      "Se agregó un representante, el total ahora es:  87\n",
      "Se agregó un representante, el total ahora es:  88\n",
      "Se agregó un representante, el total ahora es:  89\n",
      "Se agregó un representante, el total ahora es:  90\n",
      "Se agregó un representante, el total ahora es:  91\n",
      "Se agregó un representante, el total ahora es:  92\n",
      "Se agregó un representante, el total ahora es:  93\n",
      "Se agregó un representante, el total ahora es:  94\n",
      "Se agregó un representante, el total ahora es:  95\n",
      "Se agregó un representante, el total ahora es:  96\n",
      "Se agregó un representante, el total ahora es:  97\n",
      "Se agregó un representante, el total ahora es:  98\n"
     ]
    }
   ],
   "source": [
    "# Resolver acá\n",
    "representantes = 0\n",
    "while poblacion2010_pba > argentina: # hasta que la canridad de habitantes sea menor que la proporcion de representados por legislador\n",
    "    poblacion2010_pba = poblacion2010_pba - argentina # le saco una proporcion de reprepresentados a la totalidad de la poblacion de pba\n",
    "    representantes += 1 # le agrego un representado por cada proporcion de representados sacados de la poblacion\n",
    "    print(\"Se agregó un representante, el total ahora es: \", representantes)"
   ]
  }
 ],
 "metadata": {
  "anaconda-cloud": {},
  "colab": {
   "name": "TP1 - Parte 1.ipynb",
   "provenance": []
  },
  "kernelspec": {
   "display_name": "Python 3 (ipykernel)",
   "language": "python",
   "name": "python3"
  },
  "language_info": {
   "codemirror_mode": {
    "name": "ipython",
    "version": 3
   },
   "file_extension": ".py",
   "mimetype": "text/x-python",
   "name": "python",
   "nbconvert_exporter": "python",
   "pygments_lexer": "ipython3",
   "version": "3.12.4"
  }
 },
 "nbformat": 4,
 "nbformat_minor": 4
}
